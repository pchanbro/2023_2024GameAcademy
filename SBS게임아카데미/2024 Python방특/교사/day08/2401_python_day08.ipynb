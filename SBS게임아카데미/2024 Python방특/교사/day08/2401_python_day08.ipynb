{
  "nbformat": 4,
  "nbformat_minor": 0,
  "metadata": {
    "colab": {
      "provenance": []
    },
    "kernelspec": {
      "name": "python3",
      "display_name": "Python 3"
    },
    "language_info": {
      "name": "python"
    }
  },
  "cells": [
    {
      "cell_type": "code",
      "execution_count": null,
      "metadata": {
        "colab": {
          "base_uri": "https://localhost:8080/"
        },
        "id": "SCYDUFTzYDDB",
        "outputId": "bf8bbc7a-55d7-4049-e2bf-c976cad6d31b"
      },
      "outputs": [
        {
          "output_type": "stream",
          "name": "stdout",
          "text": [
            "Hello World!\n"
          ]
        }
      ],
      "source": [
        "f = open('hello.txt', 'r')\n",
        "s = f.read()\n",
        "print(s)\n",
        "f.close()"
      ]
    },
    {
      "cell_type": "code",
      "source": [
        "f = open('python.txt', 'w')\n",
        "f.write('Hello Python!')\n",
        "f.close()"
      ],
      "metadata": {
        "id": "DSyo538FYh67"
      },
      "execution_count": null,
      "outputs": []
    },
    {
      "cell_type": "code",
      "source": [
        "with open('hello.txt', 'r') as f:\n",
        "  s = f.read()\n",
        "  print(s)"
      ],
      "metadata": {
        "colab": {
          "base_uri": "https://localhost:8080/"
        },
        "id": "sHAOxOQpZWER",
        "outputId": "a7dd39bb-f8d0-42f7-d976-d7bf80b820f4"
      },
      "execution_count": null,
      "outputs": [
        {
          "output_type": "stream",
          "name": "stdout",
          "text": [
            "Hello World!\n"
          ]
        }
      ]
    },
    {
      "cell_type": "code",
      "source": [
        "with open('python2.txt', 'w') as f:\n",
        "  f.write('Hello Python2!')"
      ],
      "metadata": {
        "id": "UEW_umiLaXXc"
      },
      "execution_count": null,
      "outputs": []
    },
    {
      "cell_type": "code",
      "source": [
        "f = open('level.txt', 'w')\n",
        "f.write('99')\n",
        "f.close()"
      ],
      "metadata": {
        "id": "b0mqkcOpalZq"
      },
      "execution_count": null,
      "outputs": []
    },
    {
      "cell_type": "code",
      "source": [
        "level = 0\n",
        "with open('level.txt', 'r') as f:\n",
        "  level = f.read()\n",
        "\n",
        "level = int(level)\n",
        "level += 1\n",
        "\n",
        "with open('level2.txt', 'w') as f:\n",
        "  f.write(str(level)+\"\\n\")\n",
        "  f.write(str(level))"
      ],
      "metadata": {
        "id": "6BzB46sGcjFj"
      },
      "execution_count": null,
      "outputs": []
    },
    {
      "cell_type": "code",
      "source": [
        "fruit = ['apple\\n', 'orange\\n', 'banana\\n']\n",
        "\n",
        "with open('fruit.txt', 'w') as f:\n",
        "  f.writelines(fruit)"
      ],
      "metadata": {
        "id": "TZJ4Mz72ct0a"
      },
      "execution_count": null,
      "outputs": []
    },
    {
      "cell_type": "code",
      "source": [
        "with open('fruit.txt', 'r') as f:\n",
        "  lines = f.readlines()\n",
        "  print(lines)"
      ],
      "metadata": {
        "colab": {
          "base_uri": "https://localhost:8080/"
        },
        "id": "1I27j1R4du9f",
        "outputId": "d08a4955-215b-4b9c-8a0a-39936655fe4c"
      },
      "execution_count": null,
      "outputs": [
        {
          "output_type": "stream",
          "name": "stdout",
          "text": [
            "['apple\\n', 'orange\\n', 'banana\\n']\n"
          ]
        }
      ]
    },
    {
      "cell_type": "code",
      "source": [
        "with open('fruit.txt', 'r') as f:\n",
        "  line = None\n",
        "  while line != '':\n",
        "    line = f.readline()\n",
        "    print(line.rstrip('\\n'))"
      ],
      "metadata": {
        "colab": {
          "base_uri": "https://localhost:8080/"
        },
        "id": "VFgacoyneIiv",
        "outputId": "58860ee4-cb4c-42ff-d291-290cbf24665f"
      },
      "execution_count": null,
      "outputs": [
        {
          "output_type": "stream",
          "name": "stdout",
          "text": [
            "apple\n",
            "orange\n",
            "banana\n",
            "\n"
          ]
        }
      ]
    },
    {
      "cell_type": "code",
      "source": [
        "with open('fruit.txt', 'r') as f:\n",
        "  for line in f:\n",
        "    print(line.rstrip('\\n'))"
      ],
      "metadata": {
        "colab": {
          "base_uri": "https://localhost:8080/"
        },
        "id": "fFhmI9A6etjF",
        "outputId": "d1b7a90d-a107-4a30-c019-ce3600694445"
      },
      "execution_count": null,
      "outputs": [
        {
          "output_type": "stream",
          "name": "stdout",
          "text": [
            "apple\n",
            "orange\n",
            "banana\n"
          ]
        }
      ]
    },
    {
      "cell_type": "code",
      "source": [
        "with open('fruit.txt', 'r') as f:\n",
        "  g = list(map(lambda x: x.rstrip('\\n'), list(f)))\n",
        "  print(g)"
      ],
      "metadata": {
        "colab": {
          "base_uri": "https://localhost:8080/"
        },
        "id": "6DzOYvTjfcuc",
        "outputId": "09b58e78-020f-40c3-b7ab-5c94b72372f9"
      },
      "execution_count": null,
      "outputs": [
        {
          "output_type": "stream",
          "name": "stdout",
          "text": [
            "['apple', 'orange', 'banana']\n"
          ]
        }
      ]
    },
    {
      "cell_type": "code",
      "source": [
        "import pickle\n",
        "\n",
        "name = 'James'\n",
        "age = 20\n",
        "address = '서울 강남구'\n",
        "score = {'python': 90, 'java': 80, 'ai': 70}\n",
        "\n",
        "with open('james.p', 'wb') as f:\n",
        "  pickle.dump(name, f)\n",
        "  pickle.dump(age, f)\n",
        "  pickle.dump(address, f)\n",
        "  pickle.dump(score, f)\n"
      ],
      "metadata": {
        "id": "2qTGSlxgfu9k"
      },
      "execution_count": null,
      "outputs": []
    },
    {
      "cell_type": "code",
      "source": [
        "import pickle\n",
        "\n",
        "with open('james.p', 'rb') as f:\n",
        "  name = pickle.load(f)\n",
        "  age = pickle.load(f)\n",
        "  address = pickle.load(f)\n",
        "  score = pickle.load(f)\n",
        "  print(name)\n",
        "  print(age)\n",
        "  print(address)\n",
        "  print(score)"
      ],
      "metadata": {
        "colab": {
          "base_uri": "https://localhost:8080/"
        },
        "id": "cHkVWdU3j390",
        "outputId": "1fcd8179-e12b-4fd0-ac0b-caf97f2fb4ae"
      },
      "execution_count": null,
      "outputs": [
        {
          "output_type": "stream",
          "name": "stdout",
          "text": [
            "James\n",
            "20\n",
            "서울 강남구\n",
            "{'python': 90, 'java': 80, 'ai': 70}\n"
          ]
        }
      ]
    },
    {
      "cell_type": "code",
      "source": [
        "fruit = ['apple', 'banana', 'orange', 'mango', 'grape', 'blackberry']\n",
        "with open('fruits.txt', 'w') as f:\n",
        "  f.writelines(list(map(lambda x: x+'\\n', fruit)))"
      ],
      "metadata": {
        "id": "A-nHGX3DkmuR"
      },
      "execution_count": null,
      "outputs": []
    },
    {
      "cell_type": "code",
      "source": [
        "a = []\n",
        "with open('fruits.txt', 'r') as f:\n",
        "  a = [i.rstrip('\\n') for i in f if len(i) == 6]\n",
        "  # for i in f:\n",
        "  #   if len(i) == 6:\n",
        "  #     a.append(i.rstrip('\\n'))\n",
        "a.sort(reverse=True)\n",
        "print(*a, sep='\\n')"
      ],
      "metadata": {
        "colab": {
          "base_uri": "https://localhost:8080/"
        },
        "id": "bAC-hPrsofTu",
        "outputId": "5e842da5-31d6-4b59-bb64-f5e625f7c9ee"
      },
      "execution_count": null,
      "outputs": [
        {
          "output_type": "stream",
          "name": "stdout",
          "text": [
            "mango\n",
            "grape\n",
            "apple\n"
          ]
        }
      ]
    },
    {
      "cell_type": "code",
      "source": [
        "import pickle\n",
        "with open('account.p', 'wb') as f:\n",
        "  pickle.dump({}, f)"
      ],
      "metadata": {
        "id": "HcJ56gZBo1QQ"
      },
      "execution_count": null,
      "outputs": []
    },
    {
      "cell_type": "code",
      "source": [
        "while True:\n",
        "  mode = input(\"모드를 입력하세요 >>> \")\n",
        "  if mode == \"회원가입\":\n",
        "    id1 = input(\"아이디 >>> \")\n",
        "    pw1 = input(\"비밀번호 >>> \")\n",
        "\n",
        "    account = {}\n",
        "    with open('account.p', 'rb') as f:\n",
        "      account = pickle.load(f)\n",
        "    if id1 in account:\n",
        "      print('존재하는 아이디입니다.')\n",
        "      continue\n",
        "    account[id1] = pw1\n",
        "\n",
        "    with open('account.p', 'wb') as f:\n",
        "      pickle.dump(account, f)\n",
        "\n",
        "  else:\n",
        "    id1 = input(\"아이디 >>> \")\n",
        "    pw1 = input(\"비밀번호 >>> \")\n",
        "\n",
        "    account = {}\n",
        "    with open('account.p', 'rb') as f:\n",
        "      account = pickle.load(f)\n",
        "\n",
        "    if id1 not in account:\n",
        "      print('존재하지 않는 아이디입니다.')\n",
        "    elif account[id1] == pw1:\n",
        "      print(f\"{id1}님 환영합니다.\")\n",
        "    else:\n",
        "      print('비밀번호가 틀렸습니다.')"
      ],
      "metadata": {
        "colab": {
          "base_uri": "https://localhost:8080/",
          "height": 687
        },
        "id": "6CVKPUBGp7zv",
        "outputId": "6e8361e2-d982-4356-dc88-6e16136926b6"
      },
      "execution_count": null,
      "outputs": [
        {
          "output_type": "stream",
          "name": "stdout",
          "text": [
            "모드를 입력하세요 >>> 회원가입\n",
            "아이디 >>> id1\n",
            "비밀번호 >>> pw1\n",
            "모드를 입력하세요 >>> 로그인\n",
            "아이디 >>> id2\n",
            "비밀번호 >>> pw2\n",
            "존재하지 않는 아이디입니다.\n",
            "모드를 입력하세요 >>> 로그인\n",
            "아이디 >>> id1\n",
            "비밀번호 >>> pw1\n",
            "id1님 환영합니다.\n",
            "모드를 입력하세요 >>> 로그인\n",
            "아이디 >>> id1\n",
            "비밀번호 >>> pw2\n",
            "비밀번호가 틀렸습니다.\n"
          ]
        },
        {
          "output_type": "error",
          "ename": "KeyboardInterrupt",
          "evalue": "Interrupted by user",
          "traceback": [
            "\u001b[0;31m---------------------------------------------------------------------------\u001b[0m",
            "\u001b[0;31mKeyboardInterrupt\u001b[0m                         Traceback (most recent call last)",
            "\u001b[0;32m<ipython-input-42-63aae87f93fc>\u001b[0m in \u001b[0;36m<cell line: 1>\u001b[0;34m()\u001b[0m\n\u001b[1;32m      1\u001b[0m \u001b[0;32mwhile\u001b[0m \u001b[0;32mTrue\u001b[0m\u001b[0;34m:\u001b[0m\u001b[0;34m\u001b[0m\u001b[0;34m\u001b[0m\u001b[0m\n\u001b[0;32m----> 2\u001b[0;31m   \u001b[0mmode\u001b[0m \u001b[0;34m=\u001b[0m \u001b[0minput\u001b[0m\u001b[0;34m(\u001b[0m\u001b[0;34m\"모드를 입력하세요 >>> \"\u001b[0m\u001b[0;34m)\u001b[0m\u001b[0;34m\u001b[0m\u001b[0;34m\u001b[0m\u001b[0m\n\u001b[0m\u001b[1;32m      3\u001b[0m   \u001b[0;32mif\u001b[0m \u001b[0mmode\u001b[0m \u001b[0;34m==\u001b[0m \u001b[0;34m\"회원가입\"\u001b[0m\u001b[0;34m:\u001b[0m\u001b[0;34m\u001b[0m\u001b[0;34m\u001b[0m\u001b[0m\n\u001b[1;32m      4\u001b[0m     \u001b[0mid1\u001b[0m \u001b[0;34m=\u001b[0m \u001b[0minput\u001b[0m\u001b[0;34m(\u001b[0m\u001b[0;34m\"아이디 >>> \"\u001b[0m\u001b[0;34m)\u001b[0m\u001b[0;34m\u001b[0m\u001b[0;34m\u001b[0m\u001b[0m\n\u001b[1;32m      5\u001b[0m     \u001b[0mpw1\u001b[0m \u001b[0;34m=\u001b[0m \u001b[0minput\u001b[0m\u001b[0;34m(\u001b[0m\u001b[0;34m\"비밀번호 >>> \"\u001b[0m\u001b[0;34m)\u001b[0m\u001b[0;34m\u001b[0m\u001b[0;34m\u001b[0m\u001b[0m\n",
            "\u001b[0;32m/usr/local/lib/python3.10/dist-packages/ipykernel/kernelbase.py\u001b[0m in \u001b[0;36mraw_input\u001b[0;34m(self, prompt)\u001b[0m\n\u001b[1;32m    849\u001b[0m                 \u001b[0;34m\"raw_input was called, but this frontend does not support input requests.\"\u001b[0m\u001b[0;34m\u001b[0m\u001b[0;34m\u001b[0m\u001b[0m\n\u001b[1;32m    850\u001b[0m             )\n\u001b[0;32m--> 851\u001b[0;31m         return self._input_request(str(prompt),\n\u001b[0m\u001b[1;32m    852\u001b[0m             \u001b[0mself\u001b[0m\u001b[0;34m.\u001b[0m\u001b[0m_parent_ident\u001b[0m\u001b[0;34m,\u001b[0m\u001b[0;34m\u001b[0m\u001b[0;34m\u001b[0m\u001b[0m\n\u001b[1;32m    853\u001b[0m             \u001b[0mself\u001b[0m\u001b[0;34m.\u001b[0m\u001b[0m_parent_header\u001b[0m\u001b[0;34m,\u001b[0m\u001b[0;34m\u001b[0m\u001b[0;34m\u001b[0m\u001b[0m\n",
            "\u001b[0;32m/usr/local/lib/python3.10/dist-packages/ipykernel/kernelbase.py\u001b[0m in \u001b[0;36m_input_request\u001b[0;34m(self, prompt, ident, parent, password)\u001b[0m\n\u001b[1;32m    893\u001b[0m             \u001b[0;32mexcept\u001b[0m \u001b[0mKeyboardInterrupt\u001b[0m\u001b[0;34m:\u001b[0m\u001b[0;34m\u001b[0m\u001b[0;34m\u001b[0m\u001b[0m\n\u001b[1;32m    894\u001b[0m                 \u001b[0;31m# re-raise KeyboardInterrupt, to truncate traceback\u001b[0m\u001b[0;34m\u001b[0m\u001b[0;34m\u001b[0m\u001b[0m\n\u001b[0;32m--> 895\u001b[0;31m                 \u001b[0;32mraise\u001b[0m \u001b[0mKeyboardInterrupt\u001b[0m\u001b[0;34m(\u001b[0m\u001b[0;34m\"Interrupted by user\"\u001b[0m\u001b[0;34m)\u001b[0m \u001b[0;32mfrom\u001b[0m \u001b[0;32mNone\u001b[0m\u001b[0;34m\u001b[0m\u001b[0;34m\u001b[0m\u001b[0m\n\u001b[0m\u001b[1;32m    896\u001b[0m             \u001b[0;32mexcept\u001b[0m \u001b[0mException\u001b[0m \u001b[0;32mas\u001b[0m \u001b[0me\u001b[0m\u001b[0;34m:\u001b[0m\u001b[0;34m\u001b[0m\u001b[0;34m\u001b[0m\u001b[0m\n\u001b[1;32m    897\u001b[0m                 \u001b[0mself\u001b[0m\u001b[0;34m.\u001b[0m\u001b[0mlog\u001b[0m\u001b[0;34m.\u001b[0m\u001b[0mwarning\u001b[0m\u001b[0;34m(\u001b[0m\u001b[0;34m\"Invalid Message:\"\u001b[0m\u001b[0;34m,\u001b[0m \u001b[0mexc_info\u001b[0m\u001b[0;34m=\u001b[0m\u001b[0;32mTrue\u001b[0m\u001b[0;34m)\u001b[0m\u001b[0;34m\u001b[0m\u001b[0;34m\u001b[0m\u001b[0m\n",
            "\u001b[0;31mKeyboardInterrupt\u001b[0m: Interrupted by user"
          ]
        }
      ]
    },
    {
      "cell_type": "code",
      "source": [
        "def hello():\n",
        "  print('Hello World!')\n",
        "  print('Hello Python!')\n",
        "\n",
        "hello()\n",
        "hello()"
      ],
      "metadata": {
        "colab": {
          "base_uri": "https://localhost:8080/"
        },
        "id": "nM0hBArIuU04",
        "outputId": "d88c1f7a-de8a-4c8c-a389-8d322afb0c93"
      },
      "execution_count": null,
      "outputs": [
        {
          "output_type": "stream",
          "name": "stdout",
          "text": [
            "Hello World!\n",
            "Hello Python!\n",
            "Hello World!\n",
            "Hello Python!\n"
          ]
        }
      ]
    },
    {
      "cell_type": "code",
      "source": [
        "hello2()\n",
        "\n",
        "def hello2():\n",
        "  print('Hello 2!')"
      ],
      "metadata": {
        "colab": {
          "base_uri": "https://localhost:8080/"
        },
        "id": "Ezk0Do0MzBCV",
        "outputId": "cd008d35-54b4-40ac-e295-5af70eab1011"
      },
      "execution_count": null,
      "outputs": [
        {
          "output_type": "stream",
          "name": "stdout",
          "text": [
            "Hello 2!\n"
          ]
        }
      ]
    },
    {
      "cell_type": "code",
      "source": [
        "def hello3():\n",
        "  print('Hello')\n",
        "  pass\n",
        "  print('Hello2')\n",
        "\n",
        "hello3()"
      ],
      "metadata": {
        "colab": {
          "base_uri": "https://localhost:8080/"
        },
        "id": "pT0cdD4TzTlF",
        "outputId": "2a0eccbc-7a7c-42b5-c13f-79393c0bf7dc"
      },
      "execution_count": null,
      "outputs": [
        {
          "output_type": "stream",
          "name": "stdout",
          "text": [
            "Hello\n",
            "Hello2\n"
          ]
        }
      ]
    },
    {
      "cell_type": "code",
      "source": [
        "def 합(num1, num2):\n",
        "  print(num1 + num2)\n",
        "\n",
        "합(3, 4)"
      ],
      "metadata": {
        "colab": {
          "base_uri": "https://localhost:8080/"
        },
        "id": "-HHR1t0Azya2",
        "outputId": "5e5acdcc-cb60-4f94-f4c8-9a4cacaba3b1"
      },
      "execution_count": null,
      "outputs": [
        {
          "output_type": "stream",
          "name": "stdout",
          "text": [
            "7\n"
          ]
        }
      ]
    },
    {
      "cell_type": "code",
      "source": [
        "def function1(num1, num2):\n",
        "  \"\"\"이 함수는 num1과 num2의 곱을 출력\"\"\"\n",
        "  print(num1 * num2)\n",
        "\n",
        "function1(3, 4)\n",
        "print(function1.__doc__)\n",
        "print(help(function1))\n",
        "\n",
        "a = function1(3, 4)\n",
        "print(a)"
      ],
      "metadata": {
        "colab": {
          "base_uri": "https://localhost:8080/"
        },
        "id": "K8mWY-qn0f1d",
        "outputId": "dddfa75b-0615-48b2-a0d6-de86197ac19b"
      },
      "execution_count": null,
      "outputs": [
        {
          "output_type": "stream",
          "name": "stdout",
          "text": [
            "12\n",
            "이 함수는 num1과 num2의 곱을 출력\n",
            "Help on function function1 in module __main__:\n",
            "\n",
            "function1(num1, num2)\n",
            "    이 함수는 num1과 num2의 곱을 출력\n",
            "\n",
            "None\n",
            "12\n",
            "None\n"
          ]
        }
      ]
    },
    {
      "cell_type": "code",
      "source": [
        "a = input(\"입력하세요 >>> \")\n",
        "print(a)"
      ],
      "metadata": {
        "colab": {
          "base_uri": "https://localhost:8080/"
        },
        "id": "tAEgxczs0sqN",
        "outputId": "574071d6-39ca-46e2-a3e4-7fb623532690"
      },
      "execution_count": null,
      "outputs": [
        {
          "output_type": "stream",
          "name": "stdout",
          "text": [
            "입력하세요 >>> hello\n",
            "hello\n"
          ]
        }
      ]
    },
    {
      "cell_type": "code",
      "source": [
        "def 곱(num1, num2):\n",
        "  합 = 0\n",
        "  for i in range(num2):\n",
        "    for j in range(num1):\n",
        "      합 += 1\n",
        "  return 합\n",
        "\n",
        "b = 곱(5, 7)\n",
        "print(b)"
      ],
      "metadata": {
        "colab": {
          "base_uri": "https://localhost:8080/"
        },
        "id": "QwB3ZSyS1CAm",
        "outputId": "44876335-7cdd-4b06-882b-00efc098acd7"
      },
      "execution_count": null,
      "outputs": [
        {
          "output_type": "stream",
          "name": "stdout",
          "text": [
            "35\n"
          ]
        }
      ]
    },
    {
      "cell_type": "code",
      "source": [
        "def function2(num1, num2):\n",
        "  \"\"\"\n",
        "  함수 이름: function2\n",
        "  함수 요약: 두 수의 연산 수행\n",
        "\n",
        "  매개변수\n",
        "  - num1: 정수 값, 첫 번째 수\n",
        "  - num2: 정수 값, 두 번째 수\n",
        "\n",
        "  반환 값\n",
        "  - 정수를 반환, 두 매개변수를 연산하여 반환\n",
        "\n",
        "  상세 설명\n",
        "  - 두 수를 곱하고, 첫 번째 매개변수를 더한다\n",
        "  \"\"\"\n",
        "  return num1 + num2 * num1\n",
        "\n",
        "print(function2(5, 7))\n",
        "print(function2.__doc__)"
      ],
      "metadata": {
        "colab": {
          "base_uri": "https://localhost:8080/"
        },
        "id": "pjOgLKHW2YFc",
        "outputId": "2d63333f-70fe-4cb1-ff19-66ce1ab7c0f8"
      },
      "execution_count": null,
      "outputs": [
        {
          "output_type": "stream",
          "name": "stdout",
          "text": [
            "40\n",
            "\n",
            "  함수 이름: function2\n",
            "  함수 요약: 두 수의 연산 수행\n",
            "\n",
            "  매개변수\n",
            "  - num1: 정수 값, 첫 번째 수\n",
            "  - num2: 정수 값, 두 번째 수\n",
            "\n",
            "  반환 값\n",
            "  - 정수를 반환, 두 매개변수를 연산하여 반환\n",
            "\n",
            "  상세 설명\n",
            "  - 두 수를 곱하고, 첫 번째 매개변수를 더한다\n",
            "  \n"
          ]
        }
      ]
    },
    {
      "cell_type": "code",
      "source": [
        "def repeatString(str1, num):\n",
        "  s = \"\"\n",
        "  for i in str1:\n",
        "    s += i * num\n",
        "    # for j in range(num):\n",
        "    #   s += i\n",
        "  return s\n",
        "\n",
        "a = input(\"문자열을 입력하세요 >>> \")\n",
        "b = int(input(\"횟수를 입력하세요 >>> \"))\n",
        "c = repeatString(a, b)\n",
        "print(c)"
      ],
      "metadata": {
        "colab": {
          "base_uri": "https://localhost:8080/"
        },
        "id": "D22g9R963T8r",
        "outputId": "89d54122-cf94-44eb-f5a2-fac74234c51b"
      },
      "execution_count": null,
      "outputs": [
        {
          "output_type": "stream",
          "name": "stdout",
          "text": [
            "문자열을 입력하세요 >>> cafe\n",
            "횟수를 입력하세요 >>> 3\n",
            "cccaaafffeee\n"
          ]
        }
      ]
    },
    {
      "cell_type": "code",
      "source": [],
      "metadata": {
        "id": "wVLEYITs6548"
      },
      "execution_count": null,
      "outputs": []
    }
  ]
}
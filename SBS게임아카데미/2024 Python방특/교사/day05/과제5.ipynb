{
  "nbformat": 4,
  "nbformat_minor": 0,
  "metadata": {
    "colab": {
      "provenance": []
    },
    "kernelspec": {
      "name": "python3",
      "display_name": "Python 3"
    },
    "language_info": {
      "name": "python"
    }
  },
  "cells": [
    {
      "cell_type": "markdown",
      "source": [
        "1. 1부터 30 사이의 3의 배수와 5의 배수를 각각 저장하고 있는 집합을 2개 만들어주세요. (반드시 range 사용) 두 집합을 이용해 15의 배수가 저장된 집합을 만들어 출력해주세요."
      ],
      "metadata": {
        "id": "c4qJ7mrmu8LO"
      }
    },
    {
      "cell_type": "code",
      "source": [
        "a = set(range(3, 31, 3))\n",
        "b = set(range(5, 31, 5))\n",
        "print(a)\n",
        "print(b)\n",
        "print(set.intersection(a, b))\n",
        "print(a & b)"
      ],
      "metadata": {
        "colab": {
          "base_uri": "https://localhost:8080/"
        },
        "id": "KtNm9nU0u8zu",
        "outputId": "616a1a95-3688-4c7e-ab72-95d1a241a7c2"
      },
      "execution_count": null,
      "outputs": [
        {
          "output_type": "stream",
          "name": "stdout",
          "text": [
            "{3, 6, 9, 12, 15, 18, 21, 24, 27, 30}\n",
            "{5, 10, 15, 20, 25, 30}\n",
            "{30, 15}\n",
            "{30, 15}\n"
          ]
        }
      ]
    },
    {
      "cell_type": "markdown",
      "source": [
        "2. 두 정수를 입력받아 각각 좌표 평면 위의 x 좌표, y 좌표라 할 때, 해당 좌표가 1, 2, 3, 4 사분면 또는 축 위에 있는지 출력하는 프로그램을 작성해주세요."
      ],
      "metadata": {
        "id": "5JJSSwdGvUWP"
      }
    },
    {
      "cell_type": "code",
      "source": [
        "x = int(input(\"x좌표 입력 >>> \"))\n",
        "y = int(input(\"y좌표 입력 >>> \"))\n",
        "# 1사분면: + +, 2사분면: - +, 3사분면: - -, 4사분면: + -\n",
        "if x > 0:\n",
        "  if y > 0:\n",
        "    print('1사분면')\n",
        "  elif y < 0:\n",
        "    print('4사분면')\n",
        "  else:\n",
        "    print('축 위')\n",
        "elif x < 0:\n",
        "  if y > 0:\n",
        "    print('2사분면')\n",
        "  elif y < 0:\n",
        "    print('3사분면')\n",
        "  else:\n",
        "    print('축 위')\n",
        "else:\n",
        "  print('축 위')"
      ],
      "metadata": {
        "colab": {
          "base_uri": "https://localhost:8080/"
        },
        "id": "4DfFeKuwvIVN",
        "outputId": "770a8af8-0e77-4743-f87c-06fde35ebef8"
      },
      "execution_count": null,
      "outputs": [
        {
          "output_type": "stream",
          "name": "stdout",
          "text": [
            "x좌표 입력 >>> 5\n",
            "y좌표 입력 >>> -9\n",
            "4사분면\n"
          ]
        }
      ]
    },
    {
      "cell_type": "code",
      "source": [
        "x = int(input(\"x좌표 입력 >>> \"))\n",
        "y = int(input(\"y좌표 입력 >>> \"))\n",
        "\n",
        "if x == 0 or y == 0:\n",
        "  print('축 위')\n",
        "elif x > 0 and y > 0:\n",
        "  print('1사분면')\n",
        "elif x < 0 and y > 0:\n",
        "  print('2사분면')\n",
        "elif x < 0 and y < 0:\n",
        "  print('3사분면')\n",
        "else:\n",
        "  print('4사분면')"
      ],
      "metadata": {
        "colab": {
          "base_uri": "https://localhost:8080/"
        },
        "id": "q2rxq5M4v9j1",
        "outputId": "1fdd66a0-786f-4948-87d6-a7b9de9a1acb"
      },
      "execution_count": null,
      "outputs": [
        {
          "output_type": "stream",
          "name": "stdout",
          "text": [
            "x좌표 입력 >>> -8\n",
            "y좌표 입력 >>> 5\n",
            "2사분면\n"
          ]
        }
      ]
    },
    {
      "cell_type": "code",
      "source": [],
      "metadata": {
        "id": "RB_wor9cwNsl"
      },
      "execution_count": null,
      "outputs": []
    }
  ]
}
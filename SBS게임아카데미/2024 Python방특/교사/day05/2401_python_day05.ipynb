{
  "nbformat": 4,
  "nbformat_minor": 0,
  "metadata": {
    "colab": {
      "provenance": []
    },
    "kernelspec": {
      "name": "python3",
      "display_name": "Python 3"
    },
    "language_info": {
      "name": "python"
    }
  },
  "cells": [
    {
      "cell_type": "code",
      "execution_count": 2,
      "metadata": {
        "colab": {
          "base_uri": "https://localhost:8080/"
        },
        "id": "h1NOqwLxmfSt",
        "outputId": "f8b3e10d-af35-45b6-a1ab-3e8a25596bf3"
      },
      "outputs": [
        {
          "output_type": "stream",
          "name": "stdout",
          "text": [
            "{'java', 'html', 'python'}\n"
          ]
        }
      ],
      "source": [
        "language = {'python', 'java', 'html'}\n",
        "print(language)"
      ]
    },
    {
      "cell_type": "code",
      "source": [
        "lang = {'python', 'java', 'java'}\n",
        "print(lang)\n",
        "print('java' in lang)\n",
        "print('html' in lang)\n",
        "print('java' not in lang)\n",
        "print('html' not in lang)"
      ],
      "metadata": {
        "colab": {
          "base_uri": "https://localhost:8080/"
        },
        "id": "0VzK0bEcmvPT",
        "outputId": "30b620ce-66f1-45d2-da50-946fd1598144"
      },
      "execution_count": 8,
      "outputs": [
        {
          "output_type": "stream",
          "name": "stdout",
          "text": [
            "{'java', 'python'}\n",
            "True\n",
            "False\n",
            "False\n",
            "True\n"
          ]
        }
      ]
    },
    {
      "cell_type": "code",
      "source": [
        "a = set()\n",
        "print(a)\n",
        "print(type(a))\n",
        "b = {}\n",
        "print(b)\n",
        "print(type(b))"
      ],
      "metadata": {
        "colab": {
          "base_uri": "https://localhost:8080/"
        },
        "id": "6B7WaOqznIRS",
        "outputId": "ff51abdd-839e-4fa1-99e3-a487be145241"
      },
      "execution_count": 11,
      "outputs": [
        {
          "output_type": "stream",
          "name": "stdout",
          "text": [
            "set()\n",
            "<class 'set'>\n",
            "{}\n",
            "<class 'dict'>\n"
          ]
        }
      ]
    },
    {
      "cell_type": "code",
      "source": [
        "a = set([10, 30, 50])\n",
        "print(a)\n",
        "\n",
        "b = set((10, 20, 30, 20))\n",
        "print(b)\n",
        "\n",
        "c = set('안녕하세요')\n",
        "print(c)\n",
        "\n",
        "d = set(range(5, 30, 5))\n",
        "print(d)"
      ],
      "metadata": {
        "colab": {
          "base_uri": "https://localhost:8080/"
        },
        "id": "81Xe1L3AoAWh",
        "outputId": "89e738ab-c966-420b-fb69-b1bd9f92027a"
      },
      "execution_count": 16,
      "outputs": [
        {
          "output_type": "stream",
          "name": "stdout",
          "text": [
            "{10, 50, 30}\n",
            "{10, 20, 30}\n",
            "{'안', '녕', '세', '요', '하'}\n",
            "{5, 10, 15, 20, 25}\n"
          ]
        }
      ]
    },
    {
      "cell_type": "code",
      "source": [
        "a = {'ab', 'cd'}\n",
        "print(a)"
      ],
      "metadata": {
        "colab": {
          "base_uri": "https://localhost:8080/"
        },
        "id": "cVq8zPmyoaRY",
        "outputId": "ee35be74-93ed-4656-f39d-42fe56e57df9"
      },
      "execution_count": 19,
      "outputs": [
        {
          "output_type": "stream",
          "name": "stdout",
          "text": [
            "{'cd', 'ab'}\n"
          ]
        }
      ]
    },
    {
      "cell_type": "code",
      "source": [
        "a = frozenset(range(10))\n",
        "print(a)\n",
        "print(set(a))\n",
        "\n",
        "b = set(range(10))\n",
        "print(b)\n",
        "print(frozenset(b))"
      ],
      "metadata": {
        "colab": {
          "base_uri": "https://localhost:8080/"
        },
        "id": "_s7QoSBmo3GQ",
        "outputId": "fb8fde97-aba3-4efc-ad6b-1f0705d41fd5"
      },
      "execution_count": 22,
      "outputs": [
        {
          "output_type": "stream",
          "name": "stdout",
          "text": [
            "frozenset({0, 1, 2, 3, 4, 5, 6, 7, 8, 9})\n",
            "{0, 1, 2, 3, 4, 5, 6, 7, 8, 9}\n",
            "{0, 1, 2, 3, 4, 5, 6, 7, 8, 9}\n",
            "frozenset({0, 1, 2, 3, 4, 5, 6, 7, 8, 9})\n"
          ]
        }
      ]
    },
    {
      "cell_type": "code",
      "source": [
        "a = frozenset({frozenset({1, 2}),\n",
        "               frozenset({3, 4})})\n",
        "print(a)\n",
        "\n",
        "b = frozenset({frozenset({1, 2}),\n",
        "               frozenset({1, 2})})\n",
        "print(b)"
      ],
      "metadata": {
        "colab": {
          "base_uri": "https://localhost:8080/"
        },
        "id": "DwIPM2cxpWF4",
        "outputId": "02516963-e46e-4a58-f0fb-b8d4a6d274fd"
      },
      "execution_count": 24,
      "outputs": [
        {
          "output_type": "stream",
          "name": "stdout",
          "text": [
            "frozenset({frozenset({3, 4}), frozenset({1, 2})})\n",
            "frozenset({frozenset({1, 2})})\n"
          ]
        }
      ]
    },
    {
      "cell_type": "code",
      "source": [
        "a = {1, 2, 3, 4}\n",
        "b = {3, 4, 5, 6}\n",
        "print(a, b)\n",
        "print(set.union(a, b))\n",
        "c = a | b\n",
        "print(c)\n",
        "\n",
        "print(set.intersection(a, b))\n",
        "c = a & b\n",
        "print(c)\n",
        "\n",
        "print(set.difference(a, b))\n",
        "print(set.difference(b, a))\n",
        "c = a - b\n",
        "print(c)\n",
        "\n",
        "print(set.symmetric_difference(a, b))\n",
        "c = a ^ b\n",
        "print(c)"
      ],
      "metadata": {
        "colab": {
          "base_uri": "https://localhost:8080/"
        },
        "id": "QphN_OR9pzfI",
        "outputId": "29e38091-3504-48a9-ec46-5eb424b5b00c"
      },
      "execution_count": 33,
      "outputs": [
        {
          "output_type": "stream",
          "name": "stdout",
          "text": [
            "{1, 2, 3, 4} {3, 4, 5, 6}\n",
            "{1, 2, 3, 4, 5, 6}\n",
            "{1, 2, 3, 4, 5, 6}\n",
            "{3, 4}\n",
            "{3, 4}\n",
            "{1, 2}\n",
            "{5, 6}\n",
            "{1, 2}\n",
            "{1, 2, 5, 6}\n",
            "{1, 2, 5, 6}\n"
          ]
        }
      ]
    },
    {
      "cell_type": "code",
      "source": [
        "a = {1, 2, 3, 4}\n",
        "print(a)\n",
        "a |= {5}\n",
        "print(a)\n",
        "a.update({6})\n",
        "print(a)\n",
        "a &= {3, 4, 5, 6, 7, 8}\n",
        "print(a)\n",
        "a -= {4, 5}\n",
        "print(a)\n",
        "a ^= {5, 6}\n",
        "print(a)"
      ],
      "metadata": {
        "colab": {
          "base_uri": "https://localhost:8080/"
        },
        "id": "SnFvMtHGqV7Y",
        "outputId": "9ea3a8cc-acc2-4d64-9300-090cf0b0e0cb"
      },
      "execution_count": 38,
      "outputs": [
        {
          "output_type": "stream",
          "name": "stdout",
          "text": [
            "{1, 2, 3, 4}\n",
            "{1, 2, 3, 4, 5}\n",
            "{1, 2, 3, 4, 5, 6}\n",
            "{3, 4, 5, 6}\n",
            "{3, 6}\n",
            "{3, 5}\n"
          ]
        }
      ]
    },
    {
      "cell_type": "code",
      "source": [
        "a = {3, 4, 5}\n",
        "b = {1, 2, 3, 4, 5, 6}\n",
        "print(a <= b)\n",
        "print(a.issubset(b))\n",
        "print(a < b)\n",
        "print(a >= b)\n",
        "print(a.issuperset(b))\n",
        "print(a > b)"
      ],
      "metadata": {
        "colab": {
          "base_uri": "https://localhost:8080/"
        },
        "id": "Tz_LazUAr2eZ",
        "outputId": "ac3e482e-3f65-4619-8688-d6ce282619b0"
      },
      "execution_count": 44,
      "outputs": [
        {
          "output_type": "stream",
          "name": "stdout",
          "text": [
            "True\n",
            "True\n",
            "True\n",
            "False\n",
            "False\n",
            "False\n"
          ]
        }
      ]
    },
    {
      "cell_type": "code",
      "source": [
        "a = {1, 2, 3}\n",
        "b = {3, 2, 1}\n",
        "print(a == b)\n",
        "print(a != b)"
      ],
      "metadata": {
        "colab": {
          "base_uri": "https://localhost:8080/"
        },
        "id": "VeY2iCOBs97g",
        "outputId": "74338f9c-2337-497b-d906-a8ef08c7f8b3"
      },
      "execution_count": 46,
      "outputs": [
        {
          "output_type": "stream",
          "name": "stdout",
          "text": [
            "True\n",
            "False\n"
          ]
        }
      ]
    },
    {
      "cell_type": "code",
      "source": [
        "a = {1, 2, 3, 4}\n",
        "print(a.isdisjoint({4, 5}))\n",
        "print(a.isdisjoint({6, 5}))"
      ],
      "metadata": {
        "colab": {
          "base_uri": "https://localhost:8080/"
        },
        "id": "ePxtvzdRtr_x",
        "outputId": "df6f9059-ea10-4c6e-a788-c00547b512fc"
      },
      "execution_count": 48,
      "outputs": [
        {
          "output_type": "stream",
          "name": "stdout",
          "text": [
            "False\n",
            "True\n"
          ]
        }
      ]
    },
    {
      "cell_type": "code",
      "source": [
        "a = {1, 2, 3}\n",
        "print(a)\n",
        "a.add(4)\n",
        "print(a)\n",
        "a.add(3)\n",
        "print(a)\n",
        "a.remove(3)\n",
        "print(a)\n",
        "a.discard(2)\n",
        "print(a)\n",
        "a.discard(5)\n",
        "print(a)\n",
        "print(a.pop())\n",
        "print(a)\n",
        "a.clear()\n",
        "print(a)"
      ],
      "metadata": {
        "colab": {
          "base_uri": "https://localhost:8080/"
        },
        "id": "3iQX1e3MuEeR",
        "outputId": "325de527-199a-4af3-a8f1-cdb1cb745b02"
      },
      "execution_count": 61,
      "outputs": [
        {
          "output_type": "stream",
          "name": "stdout",
          "text": [
            "{1, 2, 3}\n",
            "{1, 2, 3, 4}\n",
            "{1, 2, 3, 4}\n",
            "{1, 2, 4}\n",
            "{1, 4}\n",
            "{1, 4}\n",
            "1\n",
            "{4}\n",
            "set()\n"
          ]
        }
      ]
    },
    {
      "cell_type": "code",
      "source": [
        "a = set(range(100))\n",
        "print(len(a))"
      ],
      "metadata": {
        "colab": {
          "base_uri": "https://localhost:8080/"
        },
        "id": "Q2EDPkxFuZF5",
        "outputId": "14771fab-e16a-4579-ee63-4be9c1f2e56e"
      },
      "execution_count": 62,
      "outputs": [
        {
          "output_type": "stream",
          "name": "stdout",
          "text": [
            "100\n"
          ]
        }
      ]
    },
    {
      "cell_type": "code",
      "source": [
        "a = {1, 2, 3, 4}\n",
        "b = a\n",
        "print(a, b)\n",
        "b.add(5)\n",
        "print(a, b)\n",
        "print(a==b, a is b)"
      ],
      "metadata": {
        "colab": {
          "base_uri": "https://localhost:8080/"
        },
        "id": "NttS2Aopvn-R",
        "outputId": "978fcfcb-a933-4402-b1de-6dfb8b256b86"
      },
      "execution_count": 66,
      "outputs": [
        {
          "output_type": "stream",
          "name": "stdout",
          "text": [
            "{1, 2, 3, 4} {1, 2, 3, 4}\n",
            "{1, 2, 3, 4, 5} {1, 2, 3, 4, 5}\n",
            "True True\n"
          ]
        }
      ]
    },
    {
      "cell_type": "code",
      "source": [
        "a = {1, 2, 3, 4}\n",
        "b = a.copy()\n",
        "print(a, b)\n",
        "print(a == b, a is b)\n",
        "b.add(5)\n",
        "print(a, b)"
      ],
      "metadata": {
        "colab": {
          "base_uri": "https://localhost:8080/"
        },
        "id": "Ko-9Uk9Vv1Ja",
        "outputId": "e26bb4a9-cede-4181-f2a4-c19c77728c33"
      },
      "execution_count": 67,
      "outputs": [
        {
          "output_type": "stream",
          "name": "stdout",
          "text": [
            "{1, 2, 3, 4} {1, 2, 3, 4}\n",
            "True False\n",
            "{1, 2, 3, 4} {1, 2, 3, 4, 5}\n"
          ]
        }
      ]
    },
    {
      "cell_type": "code",
      "source": [
        "a = 10\n",
        "if a < 20:\n",
        "  print('Hello')"
      ],
      "metadata": {
        "colab": {
          "base_uri": "https://localhost:8080/",
          "height": 145
        },
        "id": "Msjewe0xv4FB",
        "outputId": "f4ef7b69-ac16-4b46-fb9d-2650cfc02ece"
      },
      "execution_count": 69,
      "outputs": [
        {
          "output_type": "error",
          "ename": "IndentationError",
          "evalue": "expected an indented block after 'if' statement on line 2 (<ipython-input-69-e616e2fa022c>, line 3)",
          "traceback": [
            "\u001b[0;36m  File \u001b[0;32m\"<ipython-input-69-e616e2fa022c>\"\u001b[0;36m, line \u001b[0;32m3\u001b[0m\n\u001b[0;31m    print('Hello')\u001b[0m\n\u001b[0m    ^\u001b[0m\n\u001b[0;31mIndentationError\u001b[0m\u001b[0;31m:\u001b[0m expected an indented block after 'if' statement on line 2\n"
          ]
        }
      ]
    },
    {
      "cell_type": "code",
      "source": [
        "a = 10\n",
        "if a == 10:\n",
        "  print('a가 10이다.')\n",
        "  print('진짜 10이다.')"
      ],
      "metadata": {
        "colab": {
          "base_uri": "https://localhost:8080/"
        },
        "id": "ccKiF9IJzadQ",
        "outputId": "85cec2ee-5771-47ac-cb30-6ec821b750ad"
      },
      "execution_count": 78,
      "outputs": [
        {
          "output_type": "stream",
          "name": "stdout",
          "text": [
            "a가 10이다.\n",
            "진짜 10이다.\n"
          ]
        }
      ]
    },
    {
      "cell_type": "code",
      "source": [
        "a = 15\n",
        "if a >= 10:\n",
        "  print('a는 10 이상이다.')\n",
        "  if a == 15:\n",
        "    print('a는 15다.')\n",
        "\n",
        "if a < 10:\n",
        "  print('a는 10보다 작다.')\n"
      ],
      "metadata": {
        "colab": {
          "base_uri": "https://localhost:8080/"
        },
        "id": "KkmJewlK0DAh",
        "outputId": "c4778b66-5587-4565-eecf-f4ef081ecde6"
      },
      "execution_count": 80,
      "outputs": [
        {
          "output_type": "stream",
          "name": "stdout",
          "text": [
            "a는 10 이상이다.\n",
            "a는 15다.\n"
          ]
        }
      ]
    },
    {
      "cell_type": "code",
      "source": [
        "a = int(input(\"점수를 입력해주세요 >>> \"))\n",
        "if a >= 70:\n",
        "  print('합격입니다')\n",
        "  if a >= 90:\n",
        "    print('축하합니다')\n",
        "if a < 70:\n",
        "  print('불합격입니다')"
      ],
      "metadata": {
        "colab": {
          "base_uri": "https://localhost:8080/"
        },
        "id": "h_L_bAuu0mZa",
        "outputId": "74f37210-cc6b-46f7-a920-5d4952cc66a1"
      },
      "execution_count": 83,
      "outputs": [
        {
          "output_type": "stream",
          "name": "stdout",
          "text": [
            "점수를 입력해주세요 >>> 60\n",
            "불합격입니다\n"
          ]
        }
      ]
    },
    {
      "cell_type": "code",
      "source": [
        "a = int(input(\"점수를 입력해주세요 >>> \"))\n",
        "if a >= 70:\n",
        "  print('합격입니다')\n",
        "  if a >= 90:\n",
        "    print('축하합니다')\n",
        "  else:\n",
        "    print('노력하세요')\n",
        "else:\n",
        "  print('불합격입니다')"
      ],
      "metadata": {
        "colab": {
          "base_uri": "https://localhost:8080/"
        },
        "id": "q7OBOYPG2bMo",
        "outputId": "cdc3fbbe-cb01-45f1-dc56-cf873f6630fd"
      },
      "execution_count": 86,
      "outputs": [
        {
          "output_type": "stream",
          "name": "stdout",
          "text": [
            "점수를 입력해주세요 >>> 85\n",
            "합격입니다\n",
            "노력하세요\n"
          ]
        }
      ]
    },
    {
      "cell_type": "code",
      "source": [
        "a = int(input(\"점수 >>> \"))\n",
        "if a >= 90:\n",
        "  print('A')\n",
        "elif a >= 80: # a < 90\n",
        "  print('B')\n",
        "elif a >= 70: # a < 80\n",
        "  print('C')\n",
        "else: # a < 70\n",
        "  print('F')"
      ],
      "metadata": {
        "colab": {
          "base_uri": "https://localhost:8080/"
        },
        "id": "H3QEwFB520LK",
        "outputId": "37614b75-e687-4949-cbc6-5ac20d867016"
      },
      "execution_count": 89,
      "outputs": [
        {
          "output_type": "stream",
          "name": "stdout",
          "text": [
            "점수 >>> 60\n",
            "F\n"
          ]
        }
      ]
    },
    {
      "cell_type": "code",
      "source": [
        "if {} or 1:\n",
        "  print('True')\n",
        "else:\n",
        "  print('False')"
      ],
      "metadata": {
        "colab": {
          "base_uri": "https://localhost:8080/"
        },
        "id": "M4Wx0FYq36fT",
        "outputId": "c0913de0-e5f2-4d90-de17-c6037767a5bb"
      },
      "execution_count": 110,
      "outputs": [
        {
          "output_type": "stream",
          "name": "stdout",
          "text": [
            "True\n"
          ]
        }
      ]
    },
    {
      "cell_type": "code",
      "source": [
        "a = 30\n",
        "b = True\n",
        "\n",
        "if a >= 50 or b:\n",
        "  print('Yes')\n",
        "else:\n",
        "  print('No')"
      ],
      "metadata": {
        "colab": {
          "base_uri": "https://localhost:8080/"
        },
        "id": "fjXSI-634XsZ",
        "outputId": "eb0ec39c-cb8d-4321-a65c-1010e8f9abc0"
      },
      "execution_count": 111,
      "outputs": [
        {
          "output_type": "stream",
          "name": "stdout",
          "text": [
            "Yes\n"
          ]
        }
      ]
    },
    {
      "cell_type": "code",
      "source": [
        "a = \"Python\"\n",
        "b = 100\n",
        "c = list(range(3, 10, 2))\n",
        "\n",
        "if len(a) >= 5:\n",
        "  if b <= 200:\n",
        "    print('Yes')\n",
        "  elif 5 in c:\n",
        "    print('Yes')\n",
        "  else:\n",
        "    print('No')\n",
        "else:\n",
        "  print('No')\n",
        "\n",
        "if len(a) >= 5 and (b <= 200 or 5 in c):\n",
        "  print('Yes')\n",
        "else:\n",
        "  print('No')"
      ],
      "metadata": {
        "colab": {
          "base_uri": "https://localhost:8080/"
        },
        "id": "Hb6fugjX58OC",
        "outputId": "77b9aa8c-363c-4e70-beac-cc9bedc34bf6"
      },
      "execution_count": 112,
      "outputs": [
        {
          "output_type": "stream",
          "name": "stdout",
          "text": [
            "Yes\n",
            "Yes\n"
          ]
        }
      ]
    },
    {
      "cell_type": "code",
      "source": [
        "# 99페이지 1번\n",
        "# 100~90 A, 89~80 B, 79~70 C, 69~60 D, 59~0 F\n",
        "# 위 범위 없는 숫자면 Error 출력\n",
        "\n",
        "a = int(input(\"성적 >>> \"))\n",
        "# 1) if만 쓰기\n",
        "if 90 <= a <= 100:\n",
        "  print('A')\n",
        "if 80 <= a <= 89:\n",
        "  print('B')\n",
        "if 70 <= a <= 79:\n",
        "  print('C')\n",
        "if 60 <= a <= 69:\n",
        "  print('D')\n",
        "if 0 <= a <= 59:\n",
        "  print('F')\n",
        "if a > 100 or a < 0:\n",
        "  print('Error')\n",
        "\n",
        "# 2) if-elif-else 다 쓰기\n",
        "if a > 100 or a < 0:\n",
        "  print('Error')\n",
        "elif 90 <= a:\n",
        "  print('A')\n",
        "elif 80 <= a:\n",
        "  print('B')\n",
        "elif 70 <= a:\n",
        "  print('C')\n",
        "elif 60 <= a:\n",
        "  print('D')\n",
        "else:\n",
        "  print('F')"
      ],
      "metadata": {
        "colab": {
          "base_uri": "https://localhost:8080/"
        },
        "id": "fg8u13sn6_kq",
        "outputId": "5cbbb434-cd32-4340-91ec-abb2047fabee"
      },
      "execution_count": 118,
      "outputs": [
        {
          "output_type": "stream",
          "name": "stdout",
          "text": [
            "성적 >>> 30\n",
            "F\n",
            "F\n"
          ]
        }
      ]
    },
    {
      "cell_type": "code",
      "source": [
        "# 99페이지 2번\n",
        "# 임의 정수를 입력받고 3의 배수인지 판별\n",
        "n = int(input(\"정수를 입력하세요 >>> \"))\n",
        "if n % 3 == 0:\n",
        "  print(n, \"는 3의 배수입니다.\")\n",
        "else:\n",
        "  print(n, \"는 3의 배수가 아닙니다.\")"
      ],
      "metadata": {
        "colab": {
          "base_uri": "https://localhost:8080/"
        },
        "id": "ZjjDhWE984_s",
        "outputId": "928ead9d-d35c-4c2f-9c01-7ddd8361c186"
      },
      "execution_count": 120,
      "outputs": [
        {
          "output_type": "stream",
          "name": "stdout",
          "text": [
            "정수를 입력하세요 >>> 14\n",
            "14 는 3의 배수가 아닙니다.\n"
          ]
        }
      ]
    },
    {
      "cell_type": "code",
      "source": [
        "# 99페이지 3번\n",
        "# a, b, c 중 큰 수 출력\n",
        "a = int(input(\"정수1 입력 >>> \"))\n",
        "b = int(input(\"정수2 입력 >>> \"))\n",
        "c = int(input(\"정수3 입력 >>> \"))\n",
        "\n",
        "# 1) 중첩 if문\n",
        "if a > b:\n",
        "  if a > c:\n",
        "    print(a)\n",
        "  else:\n",
        "    print(c)\n",
        "else: # b > a\n",
        "  if b > c:\n",
        "    print(b)\n",
        "  else:\n",
        "    print(c)\n",
        "# 2) if문 3개\n",
        "if a > b and a > c:\n",
        "  print(a)\n",
        "if b > a and b > c:\n",
        "  print(b)\n",
        "if c > a and c > b:\n",
        "  print(c)"
      ],
      "metadata": {
        "colab": {
          "base_uri": "https://localhost:8080/"
        },
        "id": "p_QwuSFgAwSz",
        "outputId": "f553fd8f-cba7-41f9-c43f-b694c34d6b35"
      },
      "execution_count": 121,
      "outputs": [
        {
          "output_type": "stream",
          "name": "stdout",
          "text": [
            "정수1 입력 >>> 5\n",
            "정수2 입력 >>> 6\n",
            "정수3 입력 >>> 7\n",
            "7\n",
            "7\n"
          ]
        }
      ]
    },
    {
      "cell_type": "code",
      "source": [
        "# 99페이지 4번\n",
        "# 마지막 차량번호 4자리를 더했을 때\n",
        "# + 기호 사용하지 않고 합 구하기\n",
        "#             짝수로 끝나면 -> 운행가능\n",
        "#             홀수로 끝나면 -> 운행불가\n",
        "# 237가1234 -> 10 -> 운행가능\n",
        "car = input(\"차량 번호를 입력하세요 >>> \")\n",
        "b = list(car[-4:])\n",
        "c = list(map(int, b))\n",
        "d = sum(c)\n",
        "if d % 2 == 0:\n",
        "  print('운행가능')\n",
        "else:\n",
        "  print('운행불가')"
      ],
      "metadata": {
        "colab": {
          "base_uri": "https://localhost:8080/"
        },
        "id": "oRwDF5l4EELE",
        "outputId": "b434d9af-d9cd-4f1c-a017-a8410f652769"
      },
      "execution_count": 130,
      "outputs": [
        {
          "output_type": "stream",
          "name": "stdout",
          "text": [
            "차량 번호를 입력하세요 >>> 237가1234\n",
            "운행가능\n"
          ]
        }
      ]
    },
    {
      "cell_type": "code",
      "source": [
        "print('운행'+'가불능가'[sum(list(map(int,list(input(\"차량 번호를 입력하세요 >>> \")[-4:]))))%2::2])\n",
        "# code-golf"
      ],
      "metadata": {
        "colab": {
          "base_uri": "https://localhost:8080/"
        },
        "id": "zlVHnWWZGMMl",
        "outputId": "e1ae044b-4bc3-4caa-f35d-f8ffee71b7df"
      },
      "execution_count": 135,
      "outputs": [
        {
          "output_type": "stream",
          "name": "stdout",
          "text": [
            "차량 번호를 입력하세요 >>> 237가1235\n",
            "운행불가\n"
          ]
        }
      ]
    },
    {
      "cell_type": "code",
      "source": [
        "# 평어 A+, A0, A-,    B+, B0, B-,    C+, C0, C-,     D+, D0, D-\n",
        "#     4.3 4.0 3.7    3.3 3.0 2.7    2.3 2.0 1.7     1.3 1.0 0.7\n",
        "a = input(\"평어 입력 >>> \")\n",
        "s = 0\n",
        "if a[0] == 'A':\n",
        "  s = 4\n",
        "elif a[0] == 'B':\n",
        "  s = 3\n",
        "elif a[0] == 'C':\n",
        "  s = 2\n",
        "else:\n",
        "  s = 1\n",
        "\n",
        "if a[1] == '+':\n",
        "  s += 0.3\n",
        "elif a[1] == '-':\n",
        "  s -= 0.3\n",
        "\n",
        "print(s)"
      ],
      "metadata": {
        "colab": {
          "base_uri": "https://localhost:8080/"
        },
        "id": "6mCOr_S3HN10",
        "outputId": "8e2a8d14-29b1-42e1-b983-0b45c1fc9f14"
      },
      "execution_count": 137,
      "outputs": [
        {
          "output_type": "stream",
          "name": "stdout",
          "text": [
            "평어 입력 >>> D0\n",
            "1\n"
          ]
        }
      ]
    },
    {
      "cell_type": "code",
      "source": [
        "# 평어 A+, A0, A-,    B+, B0, B-,    C+, C0, C-,     D+, D0, D-\n",
        "#     4.3 4.0 3.7    3.3 3.0 2.7    2.3 2.0 1.7     1.3 1.0 0.7\n",
        "a = input(\"평어 입력 >>> \")\n",
        "\n",
        "dic1 = dict(zip('ABCD', [4, 3, 2, 1]))\n",
        "dic2 = dict(zip('+0-', [0.3, 0, -0.3]))\n",
        "\n",
        "print(dic1[a[0]]+dic2[a[1]])"
      ],
      "metadata": {
        "colab": {
          "base_uri": "https://localhost:8080/"
        },
        "id": "LHG_4E4tJV6c",
        "outputId": "08f4c517-c647-4432-c8dd-aad061e315b3"
      },
      "execution_count": 140,
      "outputs": [
        {
          "output_type": "stream",
          "name": "stdout",
          "text": [
            "평어 입력 >>> B-\n",
            "2.7\n"
          ]
        }
      ]
    },
    {
      "cell_type": "code",
      "source": [
        "# A -> 65, B -> 66, C -> 67, D -> 68\n",
        "# + -> 43, - -> 45\n",
        "a = input(\"평어 입력 >>> \")\n",
        "print(69-ord(a[0])+0.3*(dict(zip('+0-',[0.3,0,-0.3])))[a[1]])"
      ],
      "metadata": {
        "colab": {
          "base_uri": "https://localhost:8080/"
        },
        "id": "WZTEHR9eKSd8",
        "outputId": "09b4f4e9-63a5-414f-8151-7479a197ba92"
      },
      "execution_count": 143,
      "outputs": [
        {
          "output_type": "stream",
          "name": "stdout",
          "text": [
            "평어 입력 >>> A0\n",
            "4.0\n"
          ]
        }
      ]
    },
    {
      "cell_type": "code",
      "source": [],
      "metadata": {
        "id": "9ACUxBd9LE9M"
      },
      "execution_count": null,
      "outputs": []
    }
  ]
}
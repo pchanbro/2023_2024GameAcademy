{
  "nbformat": 4,
  "nbformat_minor": 0,
  "metadata": {
    "colab": {
      "provenance": []
    },
    "kernelspec": {
      "name": "python3",
      "display_name": "Python 3"
    },
    "language_info": {
      "name": "python"
    }
  },
  "cells": [
    {
      "cell_type": "code",
      "execution_count": null,
      "metadata": {
        "colab": {
          "base_uri": "https://localhost:8080/"
        },
        "id": "FNssZKFCe5oy",
        "outputId": "855cbffb-4e05-4067-8725-b9aa5c8acbdf"
      },
      "outputs": [
        {
          "output_type": "stream",
          "name": "stdout",
          "text": [
            "(2, 1)\n"
          ]
        }
      ],
      "source": [
        "print(divmod(7, 3))"
      ]
    },
    {
      "cell_type": "code",
      "source": [
        "def addsub(num1, num2):\n",
        "  return num1+num2, num1-num2\n",
        "\n",
        "a, b = addsub(7, 3)\n",
        "print(a, b)\n",
        "\n",
        "c = addsub(10, 5)\n",
        "print(c)"
      ],
      "metadata": {
        "colab": {
          "base_uri": "https://localhost:8080/"
        },
        "id": "VbwK9ORYfXC7",
        "outputId": "e81fb933-2f3b-4787-8476-491643129602"
      },
      "execution_count": null,
      "outputs": [
        {
          "output_type": "stream",
          "name": "stdout",
          "text": [
            "10 4\n",
            "(15, 5)\n"
          ]
        }
      ]
    },
    {
      "cell_type": "code",
      "source": [
        "def arith(num1, num2):\n",
        "  return [num1+num2, num1-num2, num1*num2, num1//num2]\n",
        "\n",
        "a = arith(7, 3)\n",
        "print(a)\n",
        "\n",
        "b, c, d, e = arith(7, 3)\n",
        "print(b, c, d, e)"
      ],
      "metadata": {
        "colab": {
          "base_uri": "https://localhost:8080/"
        },
        "id": "FJbwc7IwftxF",
        "outputId": "24052433-11f6-4c26-cc20-7189de9dd4a5"
      },
      "execution_count": null,
      "outputs": [
        {
          "output_type": "stream",
          "name": "stdout",
          "text": [
            "[10, 4, 21, 2]\n",
            "10 4 21 2\n"
          ]
        }
      ]
    },
    {
      "cell_type": "code",
      "source": [
        "def print3(a, b, c):\n",
        "  print(a)\n",
        "  print(b)\n",
        "  print(c)\n",
        "\n",
        "print3(10, 20, 30)\n",
        "print3(*[10, 20, 30])\n",
        "d = [5, 10, 15]\n",
        "print3(*d)\n",
        "\n",
        "e = (5, 6, 7)\n",
        "print3(*e)\n",
        "\n",
        "f = [10, 20, 30, 40]\n",
        "print3(*f)"
      ],
      "metadata": {
        "colab": {
          "base_uri": "https://localhost:8080/",
          "height": 431
        },
        "id": "DYGbF90EgPuD",
        "outputId": "0a984a4b-0576-4980-939b-a3032c224f04"
      },
      "execution_count": null,
      "outputs": [
        {
          "output_type": "stream",
          "name": "stdout",
          "text": [
            "10\n",
            "20\n",
            "30\n",
            "10\n",
            "20\n",
            "30\n",
            "5\n",
            "10\n",
            "15\n",
            "5\n",
            "6\n",
            "7\n"
          ]
        },
        {
          "output_type": "error",
          "ename": "TypeError",
          "evalue": "print3() takes 3 positional arguments but 4 were given",
          "traceback": [
            "\u001b[0;31m---------------------------------------------------------------------------\u001b[0m",
            "\u001b[0;31mTypeError\u001b[0m                                 Traceback (most recent call last)",
            "\u001b[0;32m<ipython-input-11-49bbf5c8c2b0>\u001b[0m in \u001b[0;36m<cell line: 15>\u001b[0;34m()\u001b[0m\n\u001b[1;32m     13\u001b[0m \u001b[0;34m\u001b[0m\u001b[0m\n\u001b[1;32m     14\u001b[0m \u001b[0mf\u001b[0m \u001b[0;34m=\u001b[0m \u001b[0;34m[\u001b[0m\u001b[0;36m10\u001b[0m\u001b[0;34m,\u001b[0m \u001b[0;36m20\u001b[0m\u001b[0;34m,\u001b[0m \u001b[0;36m30\u001b[0m\u001b[0;34m,\u001b[0m \u001b[0;36m40\u001b[0m\u001b[0;34m]\u001b[0m\u001b[0;34m\u001b[0m\u001b[0;34m\u001b[0m\u001b[0m\n\u001b[0;32m---> 15\u001b[0;31m \u001b[0mprint3\u001b[0m\u001b[0;34m(\u001b[0m\u001b[0;34m*\u001b[0m\u001b[0mf\u001b[0m\u001b[0;34m)\u001b[0m\u001b[0;34m\u001b[0m\u001b[0;34m\u001b[0m\u001b[0m\n\u001b[0m",
            "\u001b[0;31mTypeError\u001b[0m: print3() takes 3 positional arguments but 4 were given"
          ]
        }
      ]
    },
    {
      "cell_type": "code",
      "source": [
        "def print_num(*args):\n",
        "  for i in args:\n",
        "    print(i, end=' ')\n",
        "  print()\n",
        "\n",
        "print_num(1, 2)\n",
        "print_num(1, 2, 3)\n",
        "print_num(1, 2, 3, 4, 5, 6, 7, 8, 9, 10)\n",
        "\n",
        "print_num([1, 2, 3])\n",
        "print_num(*[1, 2, 3])\n",
        "\n",
        "print_num((4, 5, 6))\n",
        "print_num(*(4, 5, 6))"
      ],
      "metadata": {
        "colab": {
          "base_uri": "https://localhost:8080/"
        },
        "id": "L7Yv04XJgwA7",
        "outputId": "d551f26e-0a18-4af3-a3a8-04324b3cbe01"
      },
      "execution_count": null,
      "outputs": [
        {
          "output_type": "stream",
          "name": "stdout",
          "text": [
            "1 2 \n",
            "1 2 3 \n",
            "1 2 3 4 5 6 7 8 9 10 \n",
            "[1, 2, 3] \n",
            "1 2 3 \n",
            "(4, 5, 6) \n",
            "4 5 6 \n"
          ]
        }
      ]
    },
    {
      "cell_type": "code",
      "source": [
        "def print_num2(a, *args):\n",
        "  print(a)\n",
        "  print(args)\n",
        "\n",
        "print_num2(1)\n",
        "print_num2(1, 2, 3)"
      ],
      "metadata": {
        "colab": {
          "base_uri": "https://localhost:8080/"
        },
        "id": "lrnHUzkjiB49",
        "outputId": "bebc237b-b50a-4f22-bef9-8ab71ee0de88"
      },
      "execution_count": null,
      "outputs": [
        {
          "output_type": "stream",
          "name": "stdout",
          "text": [
            "1\n",
            "()\n",
            "1\n",
            "(2, 3)\n"
          ]
        }
      ]
    },
    {
      "cell_type": "code",
      "source": [
        "def print_num3(a, b, *args):\n",
        "  print(a)\n",
        "  print(b)\n",
        "  print(args)\n",
        "\n",
        "# print_num3(1)\n",
        "print_num3(1, 2)\n",
        "print_num3(1, 2, 3, 4)"
      ],
      "metadata": {
        "colab": {
          "base_uri": "https://localhost:8080/"
        },
        "id": "_bd8o6Aiju_q",
        "outputId": "a77f0227-3f2d-4360-bea4-d82b0c3e086e"
      },
      "execution_count": null,
      "outputs": [
        {
          "output_type": "stream",
          "name": "stdout",
          "text": [
            "1\n",
            "2\n",
            "()\n",
            "1\n",
            "2\n",
            "(3, 4)\n"
          ]
        }
      ]
    },
    {
      "cell_type": "code",
      "source": [
        "def print_num4(a, *args, b):\n",
        "  print(a)\n",
        "  print(b)\n",
        "  print(args)\n"
      ],
      "metadata": {
        "colab": {
          "base_uri": "https://localhost:8080/",
          "height": 216
        },
        "id": "lkpzERh1kQlk",
        "outputId": "8e574993-c947-4f43-a218-356d3f2f7e0e"
      },
      "execution_count": null,
      "outputs": [
        {
          "output_type": "error",
          "ename": "TypeError",
          "evalue": "print_num4() missing 1 required keyword-only argument: 'b'",
          "traceback": [
            "\u001b[0;31m---------------------------------------------------------------------------\u001b[0m",
            "\u001b[0;31mTypeError\u001b[0m                                 Traceback (most recent call last)",
            "\u001b[0;32m<ipython-input-24-c29f0f691d67>\u001b[0m in \u001b[0;36m<cell line: 7>\u001b[0;34m()\u001b[0m\n\u001b[1;32m      5\u001b[0m \u001b[0;34m\u001b[0m\u001b[0m\n\u001b[1;32m      6\u001b[0m \u001b[0;31m# print_num4(1, 2)\u001b[0m\u001b[0;34m\u001b[0m\u001b[0;34m\u001b[0m\u001b[0m\n\u001b[0;32m----> 7\u001b[0;31m \u001b[0mprint_num4\u001b[0m\u001b[0;34m(\u001b[0m\u001b[0;36m1\u001b[0m\u001b[0;34m,\u001b[0m \u001b[0;36m2\u001b[0m\u001b[0;34m,\u001b[0m \u001b[0;36m3\u001b[0m\u001b[0;34m,\u001b[0m \u001b[0;36m4\u001b[0m\u001b[0;34m)\u001b[0m\u001b[0;34m\u001b[0m\u001b[0;34m\u001b[0m\u001b[0m\n\u001b[0m",
            "\u001b[0;31mTypeError\u001b[0m: print_num4() missing 1 required keyword-only argument: 'b'"
          ]
        }
      ]
    },
    {
      "cell_type": "code",
      "source": [
        "def sumMultiply(a, *args):\n",
        "  return sum(args) * a\n",
        "\n",
        "a = sumMultiply(4, 1, 2, 3, 4)\n",
        "print(a)"
      ],
      "metadata": {
        "colab": {
          "base_uri": "https://localhost:8080/"
        },
        "id": "s_xbSdJdkqmq",
        "outputId": "2cfe3c47-3a8c-47ee-faf5-2d26e57ef962"
      },
      "execution_count": null,
      "outputs": [
        {
          "output_type": "stream",
          "name": "stdout",
          "text": [
            "40\n"
          ]
        }
      ]
    },
    {
      "cell_type": "code",
      "source": [
        "def info(name, age, address):\n",
        "  print('이름:', name)\n",
        "  print('나이:', age)\n",
        "  print('주소:', address)\n",
        "\n",
        "info('kim', 30, '서울')\n",
        "info('서울', 'kim', 30)\n",
        "info(name='lee', age=25, address='수원')\n",
        "info(address='수원', name='lee', age=25)"
      ],
      "metadata": {
        "colab": {
          "base_uri": "https://localhost:8080/"
        },
        "id": "GOoBl3g8m0mL",
        "outputId": "e207a4e7-334c-41a7-8dac-c4b1549bfc3d"
      },
      "execution_count": null,
      "outputs": [
        {
          "output_type": "stream",
          "name": "stdout",
          "text": [
            "이름: kim\n",
            "나이: 30\n",
            "주소: 서울\n",
            "이름: 서울\n",
            "나이: kim\n",
            "주소: 30\n",
            "이름: lee\n",
            "나이: 25\n",
            "주소: 수원\n",
            "이름: lee\n",
            "나이: 25\n",
            "주소: 수원\n"
          ]
        }
      ]
    },
    {
      "cell_type": "code",
      "source": [
        "def info2(**kwargs):\n",
        "  print(kwargs)\n",
        "  for k, v in kwargs.items():\n",
        "    print(k, v)\n",
        "\n",
        "d = dict(이름='kim', 나이=30, 주소='서울')\n",
        "info2(**d)\n",
        "info2(이름='lee', 나이=25, 주소='수원')"
      ],
      "metadata": {
        "colab": {
          "base_uri": "https://localhost:8080/"
        },
        "id": "qoR0EW0hnOlj",
        "outputId": "de4db98a-4263-4afa-c46c-91bc522597f3"
      },
      "execution_count": null,
      "outputs": [
        {
          "output_type": "stream",
          "name": "stdout",
          "text": [
            "{'이름': 'kim', '나이': 30, '주소': '서울'}\n",
            "이름 kim\n",
            "나이 30\n",
            "주소 서울\n",
            "{'이름': 'lee', '나이': 25, '주소': '수원'}\n",
            "이름 lee\n",
            "나이 25\n",
            "주소 수원\n"
          ]
        }
      ]
    },
    {
      "cell_type": "code",
      "source": [
        "def info3(a, **kwargs):\n",
        "  print(a)\n",
        "  print(kwargs)\n",
        "\n",
        "info3('hong')\n",
        "info3('hong', age=30)\n",
        "info3('hong', age=30, address='성남')\n",
        "info3('hong', name='kim', age=30, address='성남')\n",
        "\n",
        "info3(**{'name':'kim', 'age':30, 'address':'하남'})\n",
        "\n",
        "def info4(**kwargs, a):\n",
        "  print(a)\n",
        "  print(kwargs)\n",
        "\n",
        "info4(age=30, address='성남', 'hong')"
      ],
      "metadata": {
        "colab": {
          "base_uri": "https://localhost:8080/",
          "height": 145
        },
        "id": "8q3bNkcdoWXz",
        "outputId": "ed662c6b-7a82-4822-bdb7-fd940c94c01c"
      },
      "execution_count": null,
      "outputs": [
        {
          "output_type": "error",
          "ename": "SyntaxError",
          "evalue": "invalid syntax (<ipython-input-45-d22ef84c8296>, line 12)",
          "traceback": [
            "\u001b[0;36m  File \u001b[0;32m\"<ipython-input-45-d22ef84c8296>\"\u001b[0;36m, line \u001b[0;32m12\u001b[0m\n\u001b[0;31m    def info4(**kwargs, a):\u001b[0m\n\u001b[0m                        ^\u001b[0m\n\u001b[0;31mSyntaxError\u001b[0m\u001b[0;31m:\u001b[0m invalid syntax\n"
          ]
        }
      ]
    },
    {
      "cell_type": "code",
      "source": [
        "def print_custom(a, *args, **kwargs):\n",
        "  print(a)\n",
        "  print(args)\n",
        "  print(kwargs)\n",
        "\n",
        "print_custom(1, 2, 3, 4, 5, name='lee', age=30)"
      ],
      "metadata": {
        "colab": {
          "base_uri": "https://localhost:8080/"
        },
        "id": "h77qIDbNpZCD",
        "outputId": "c918bca1-5a00-4017-a0e7-af3543d7bf05"
      },
      "execution_count": null,
      "outputs": [
        {
          "output_type": "stream",
          "name": "stdout",
          "text": [
            "1\n",
            "(2, 3, 4, 5)\n",
            "{'name': 'lee', 'age': 30}\n"
          ]
        }
      ]
    },
    {
      "cell_type": "code",
      "source": [
        "print(1, 2, 3, sep=':', end='!') # 1:2:3!"
      ],
      "metadata": {
        "colab": {
          "base_uri": "https://localhost:8080/"
        },
        "id": "4j5APVW_uA87",
        "outputId": "825cd9dc-0de4-4503-ede5-463d264dfc5d"
      },
      "execution_count": null,
      "outputs": [
        {
          "output_type": "stream",
          "name": "stdout",
          "text": [
            "1:2:3!"
          ]
        }
      ]
    },
    {
      "cell_type": "code",
      "source": [
        "def print_custom2(*args, **kwargs):\n",
        "  print(*args, **kwargs)\n",
        "\n",
        "print_custom2(1, 2, 3, sep=':', end='!')"
      ],
      "metadata": {
        "colab": {
          "base_uri": "https://localhost:8080/"
        },
        "id": "orEYvI6TuLnb",
        "outputId": "c33b25f6-98a5-42c3-f701-084a05ae4881"
      },
      "execution_count": null,
      "outputs": [
        {
          "output_type": "stream",
          "name": "stdout",
          "text": [
            "1:2:3!"
          ]
        }
      ]
    },
    {
      "cell_type": "code",
      "source": [
        "def scoreAdd(n, *args, **kwargs):\n",
        "  d = {}\n",
        "  for name in args:\n",
        "    d[name] = {}\n",
        "  for name in args:\n",
        "    for k, v in kwargs.items():\n",
        "      s = int(input(f\"{name}의 {k} 성적 입력 >>> \"))\n",
        "      d[name][k] = s\n",
        "  return d\n",
        "\n",
        "def getNameScore(name, **kwargs):\n",
        "  if name not in kwargs:\n",
        "    return 0\n",
        "  return sum(kwargs[name].values()) / len(kwargs[name])\n",
        "\n",
        "a = scoreAdd(3, 'James', 'Kim', 'Lee', python=0, java=0, cpp=0, ai=0)\n",
        "print(a)\n",
        "name = input(\"평균을 알고싶은 학생 이름 입력 >>> \")\n",
        "print(getNameScore(name, **a))"
      ],
      "metadata": {
        "colab": {
          "base_uri": "https://localhost:8080/"
        },
        "id": "oqh0doJ4vB4T",
        "outputId": "8b03bdb7-7676-46b1-dfad-3e05f1aa1a55"
      },
      "execution_count": null,
      "outputs": [
        {
          "output_type": "stream",
          "name": "stdout",
          "text": [
            "James의 python 성적 입력 >>> 100\n",
            "James의 java 성적 입력 >>> 90\n",
            "James의 cpp 성적 입력 >>> 80\n",
            "James의 ai 성적 입력 >>> 70\n",
            "Kim의 python 성적 입력 >>> 60\n",
            "Kim의 java 성적 입력 >>> 50\n",
            "Kim의 cpp 성적 입력 >>> 40\n",
            "Kim의 ai 성적 입력 >>> 30\n",
            "Lee의 python 성적 입력 >>> 20\n",
            "Lee의 java 성적 입력 >>> 10\n",
            "Lee의 cpp 성적 입력 >>> 0\n",
            "Lee의 ai 성적 입력 >>> 10\n",
            "{'James': {'python': 100, 'java': 90, 'cpp': 80, 'ai': 70}, 'Kim': {'python': 60, 'java': 50, 'cpp': 40, 'ai': 30}, 'Lee': {'python': 20, 'java': 10, 'cpp': 0, 'ai': 10}}\n",
            "평균을 알고싶은 학생 이름 입력 >>> James\n",
            "85.0\n"
          ]
        }
      ]
    },
    {
      "cell_type": "code",
      "source": [
        "# 200페이지 2번\n",
        "# 키 - 과목명, 값 - 점수인 marks 딕셔너리를 전달하면 해당 딕셔너리에 저장된 점수들의 평균을 반환하는 함수 구현\n",
        "# 함수 정의\n",
        "#  - 반환값: 평균\n",
        "#  - 함수 이름: get_average()\n",
        "#  - 매개변수: 딕셔너리 marks\n",
        "\n",
        "def get_average(marks):\n",
        "  return sum(marks.values()) / len(marks)\n",
        "\n",
        "marks = {'국어': 90, '영어': 80, '수학': 85}\n",
        "average = get_average(marks)\n",
        "print('평균은 {}점입니다'.format(average))"
      ],
      "metadata": {
        "colab": {
          "base_uri": "https://localhost:8080/"
        },
        "id": "0Upos-vU1FJD",
        "outputId": "a263fd75-9ff5-4b73-dfef-b81053da42a0"
      },
      "execution_count": null,
      "outputs": [
        {
          "output_type": "stream",
          "name": "stdout",
          "text": [
            "평균은 85.0점입니다\n"
          ]
        }
      ]
    },
    {
      "cell_type": "code",
      "source": [
        "# 200페이지 3번\n",
        "# 1) 축의금을 낸 사람의 이름과 그 사람이 낸 축의금을 딕셔너리에 저장\n",
        "# 2) 전체 축의금의 합계\n",
        "# gift() 함수\n",
        "# - 반환값: 없음\n",
        "# - 매개변수: 딕셔너리 dic, 사람 who, 축의금 money\n",
        "\n",
        "total = 0\n",
        "def gift(dic, who, money):\n",
        "  global total # 함수 내에서 함수 바깥에 있는 변수를 사용하기 위해서 선언\n",
        "  dic[who] = money\n",
        "  total += money\n",
        "\n",
        "wedding = {}\n",
        "gift(wedding, '영희', 5)\n",
        "gift(wedding, '철수', 3)\n",
        "gift(wedding, '이모', 10)\n",
        "print('축의금 명단: {}'.format(wedding)) # 축의금 명단: {'영희': 5, '철수': 3, '이모': 10}\n",
        "print('전체 축의금: {}'.format(total))   # 전체 축의금: 18"
      ],
      "metadata": {
        "colab": {
          "base_uri": "https://localhost:8080/"
        },
        "id": "Y_EUP5Zv-uRc",
        "outputId": "5c294de8-8f7e-4dce-86be-f278ff459def"
      },
      "execution_count": null,
      "outputs": [
        {
          "output_type": "stream",
          "name": "stdout",
          "text": [
            "축의금 명단: {'영희': 5, '철수': 3, '이모': 10}\n",
            "전체 축의금: 18\n"
          ]
        }
      ]
    },
    {
      "cell_type": "code",
      "source": [
        "# 238페이지 1번\n",
        "# nation 리스트의 내용을 이용하여 nation.txt 파일을 생성하세요\n",
        "nation = ['그리스', '아테네', '독일', '베를린', '러시아', '모스크바', '미국', '워싱턴']\n",
        "\n",
        "with open('nation.txt', 'w') as f:\n",
        "  for i in range(0, 8, 2):\n",
        "    f.write(\"{}-{}\\n\".format(nation[i], nation[i+1]))\n",
        "# <nation.txt 내용>\n",
        "# 그리스-아테네\n",
        "# 독일-베를린\n",
        "# 러시아-모스크바\n",
        "# 미국-워싱턴"
      ],
      "metadata": {
        "id": "-OU4FL3cAy-8"
      },
      "execution_count": null,
      "outputs": []
    },
    {
      "cell_type": "code",
      "source": [
        "# 238페이지 2번\n",
        "# 연락처.txt 파일에서 전화번호가 011로 시작하는 모든 연락처를 010으로 수정해서 연락처2.txt로 저장\n",
        "# <연락처.txt>\n",
        "# 김나라 목포시 010-1111-1111\n",
        "# 이나라 서울시 011-2222-2222\n",
        "# 박나라 부산시 011-3333-3333\n",
        "# 송나라 대전시 010-4444-4444\n",
        "\n",
        "newc = []\n",
        "contact = []\n",
        "\n",
        "with open('연락처.txt', 'r') as f:\n",
        "  contact = f.readlines()\n",
        "print(contact)\n",
        "\n",
        "for info in contact:\n",
        "  infos = info.split()\n",
        "  if infos[2][:3] == '011':\n",
        "    infos[2] = infos[2].replace('011-', '010-')\n",
        "  newc.append(' '.join(infos))\n",
        "\n",
        "print(newc)\n",
        "\n",
        "with open('연락처2.txt', 'w') as f:\n",
        "  for i in newc:\n",
        "    f.write(i+\"\\n\")\n",
        "\n",
        "# <연락처2.txt>\n",
        "# 김나라 목포시 010-1111-1111\n",
        "# 이나라 서울시 010-2222-2222\n",
        "# 박나라 부산시 010-3333-3333\n",
        "# 송나라 대전시 010-4444-4444"
      ],
      "metadata": {
        "colab": {
          "base_uri": "https://localhost:8080/"
        },
        "id": "cgx8RAsJDDEa",
        "outputId": "4f7efd07-4596-4448-8f1a-cc7643eb7b81"
      },
      "execution_count": null,
      "outputs": [
        {
          "output_type": "stream",
          "name": "stdout",
          "text": [
            "['김나라 목포시 010-1111-1111\\n', '이나라 서울시 011-2222-2222\\n', '박나라 부산시 011-3333-3333\\n', '송나라 대전시 010-4444-4444']\n",
            "['김나라 목포시 010-1111-1111', '이나라 서울시 010-2222-2222', '박나라 부산시 010-3333-3333', '송나라 대전시 010-4444-4444']\n"
          ]
        }
      ]
    },
    {
      "cell_type": "code",
      "source": [],
      "metadata": {
        "id": "yDGphwq8EnF8"
      },
      "execution_count": null,
      "outputs": []
    }
  ]
}
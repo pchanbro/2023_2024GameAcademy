{
  "nbformat": 4,
  "nbformat_minor": 0,
  "metadata": {
    "colab": {
      "provenance": []
    },
    "kernelspec": {
      "name": "python3",
      "display_name": "Python 3"
    },
    "language_info": {
      "name": "python"
    }
  },
  "cells": [
    {
      "cell_type": "code",
      "execution_count": null,
      "metadata": {
        "colab": {
          "base_uri": "https://localhost:8080/"
        },
        "id": "txBNZ6Ti500K",
        "outputId": "4d83da0b-21c5-49fe-d4d0-96db11aa98c6"
      },
      "outputs": [
        {
          "output_type": "stream",
          "name": "stdout",
          "text": [
            "0 10\n",
            "1 20\n",
            "2 30\n",
            "3 40\n",
            "1 10\n",
            "2 20\n",
            "3 30\n",
            "4 40\n"
          ]
        }
      ],
      "source": [
        "a = [10, 20, 30, 40]\n",
        "\n",
        "for idx, val in enumerate(a):\n",
        "  print(idx, val)\n",
        "for idx, val in enumerate(a):\n",
        "  print(idx+1, val)"
      ]
    },
    {
      "cell_type": "code",
      "source": [
        "a = [10, 20, 30, 40]\n",
        "for idx, val in enumerate(a, start=100):\n",
        "  print(idx, val)\n",
        "\n",
        "for idx, val in enumerate(a, 100):\n",
        "  print(idx, val)"
      ],
      "metadata": {
        "colab": {
          "base_uri": "https://localhost:8080/"
        },
        "id": "Nv3gKBhq6YoL",
        "outputId": "53378034-9665-47e0-cf6f-7bcc264aea72"
      },
      "execution_count": null,
      "outputs": [
        {
          "output_type": "stream",
          "name": "stdout",
          "text": [
            "100 10\n",
            "101 20\n",
            "102 30\n",
            "103 40\n",
            "100 10\n",
            "101 20\n",
            "102 30\n",
            "103 40\n"
          ]
        }
      ]
    },
    {
      "cell_type": "code",
      "source": [
        "a = [38, 19, 14, 24, 100, 18]\n",
        "minimum = a[0]\n",
        "maximum = a[0]\n",
        "for i in a:\n",
        "  if i < minimum: # 최솟값 변수보다 내가 작다\n",
        "    minimum = i   # 내가 최솟값에 더 가깝다 ->\n",
        "                  # 나를 최솟값으로 저장\n",
        "for i in a:\n",
        "  if i > maximum:\n",
        "    maximum = i\n",
        "\n",
        "print(minimum, maximum)"
      ],
      "metadata": {
        "colab": {
          "base_uri": "https://localhost:8080/"
        },
        "id": "P_9cbV2g695h",
        "outputId": "0d006870-c942-4bcc-a4db-b1e9ea2fbedc"
      },
      "execution_count": null,
      "outputs": [
        {
          "output_type": "stream",
          "name": "stdout",
          "text": [
            "14 100\n"
          ]
        }
      ]
    },
    {
      "cell_type": "code",
      "source": [
        "a = [38, 19, 14, 24, 100, 18]\n",
        "a.sort()\n",
        "print(a[0], a[-1])"
      ],
      "metadata": {
        "colab": {
          "base_uri": "https://localhost:8080/"
        },
        "id": "OdW7rY3H8H0Z",
        "outputId": "26c00223-bf4c-433e-de8d-5d737786213d"
      },
      "execution_count": null,
      "outputs": [
        {
          "output_type": "stream",
          "name": "stdout",
          "text": [
            "14 100\n"
          ]
        }
      ]
    },
    {
      "cell_type": "code",
      "source": [
        "a = [38, 19, 14, 24, 100, 18]\n",
        "print(min(a), max(a))"
      ],
      "metadata": {
        "colab": {
          "base_uri": "https://localhost:8080/"
        },
        "id": "uyAHx6dp8WSg",
        "outputId": "16b8f95f-da5a-46e2-eca8-7f06b5aed850"
      },
      "execution_count": null,
      "outputs": [
        {
          "output_type": "stream",
          "name": "stdout",
          "text": [
            "14 100\n"
          ]
        }
      ]
    },
    {
      "cell_type": "code",
      "source": [
        "a = [i for i in range(10)]\n",
        "b = [0, 1, 2, 3, 4, 5, 6, 7, 8, 9]\n",
        "c = list(range(10))\n",
        "d = list(i for i in range(10))\n",
        "\n",
        "print(a)\n",
        "print(b)\n",
        "print(c)\n",
        "print(d)"
      ],
      "metadata": {
        "colab": {
          "base_uri": "https://localhost:8080/"
        },
        "id": "ZNTB-sme8on5",
        "outputId": "967d6400-71df-4b4f-e8be-f9cd699baefe"
      },
      "execution_count": null,
      "outputs": [
        {
          "output_type": "stream",
          "name": "stdout",
          "text": [
            "[0, 1, 2, 3, 4, 5, 6, 7, 8, 9]\n",
            "[0, 1, 2, 3, 4, 5, 6, 7, 8, 9]\n",
            "[0, 1, 2, 3, 4, 5, 6, 7, 8, 9]\n",
            "[0, 1, 2, 3, 4, 5, 6, 7, 8, 9]\n"
          ]
        }
      ]
    },
    {
      "cell_type": "code",
      "source": [
        "a = [i*2 for i in range(10)]\n",
        "print(a)\n",
        "b = [i+1 for i in range(10)]\n",
        "print(b)"
      ],
      "metadata": {
        "colab": {
          "base_uri": "https://localhost:8080/"
        },
        "id": "MfRuJOML9YiZ",
        "outputId": "57001dc8-2a22-4266-9bdf-391f724ce78f"
      },
      "execution_count": null,
      "outputs": [
        {
          "output_type": "stream",
          "name": "stdout",
          "text": [
            "[0, 2, 4, 6, 8, 10, 12, 14, 16, 18]\n",
            "[1, 2, 3, 4, 5, 6, 7, 8, 9, 10]\n"
          ]
        }
      ]
    },
    {
      "cell_type": "code",
      "source": [
        "a = [0 for i in range(10)]\n",
        "print(a)"
      ],
      "metadata": {
        "colab": {
          "base_uri": "https://localhost:8080/"
        },
        "id": "ec1dW-H-9tbo",
        "outputId": "fc78a4cf-7be6-422f-f2f6-e7bc5f275e6f"
      },
      "execution_count": null,
      "outputs": [
        {
          "output_type": "stream",
          "name": "stdout",
          "text": [
            "[0, 0, 0, 0, 0, 0, 0, 0, 0, 0]\n"
          ]
        }
      ]
    },
    {
      "cell_type": "code",
      "source": [
        "a = [i for i in range(10) if i % 2 == 0]\n",
        "print(a)"
      ],
      "metadata": {
        "colab": {
          "base_uri": "https://localhost:8080/"
        },
        "id": "mGRMDOxZ98q4",
        "outputId": "34bb0ac7-d2c6-4e8d-ff1f-24064461d4fc"
      },
      "execution_count": null,
      "outputs": [
        {
          "output_type": "stream",
          "name": "stdout",
          "text": [
            "[0, 2, 4, 6, 8]\n"
          ]
        }
      ]
    },
    {
      "cell_type": "code",
      "source": [
        "a = [i+100 for i in range(10) if i % 2 == 1]\n",
        "print(a)"
      ],
      "metadata": {
        "colab": {
          "base_uri": "https://localhost:8080/"
        },
        "id": "aZm6Vz7w-MrY",
        "outputId": "554cb383-358d-4a13-be52-22dcb33bb2d1"
      },
      "execution_count": null,
      "outputs": [
        {
          "output_type": "stream",
          "name": "stdout",
          "text": [
            "[101, 103, 105, 107, 109]\n"
          ]
        }
      ]
    },
    {
      "cell_type": "code",
      "source": [
        "a = [str(i) + '!' for i in range(3, 20, 2) if i % 3 == 0]\n",
        "print(a)"
      ],
      "metadata": {
        "colab": {
          "base_uri": "https://localhost:8080/"
        },
        "id": "TtJKpuIK-p-4",
        "outputId": "2347614e-37be-4d6d-a3a0-1278819a1742"
      },
      "execution_count": null,
      "outputs": [
        {
          "output_type": "stream",
          "name": "stdout",
          "text": [
            "['3!', '9!', '15!']\n"
          ]
        }
      ]
    },
    {
      "cell_type": "code",
      "source": [
        "a = []\n",
        "for i in range(2, 10):\n",
        "  for j in range(1, 10):\n",
        "    a.append(i*j)\n",
        "print(a)"
      ],
      "metadata": {
        "colab": {
          "base_uri": "https://localhost:8080/"
        },
        "id": "lYf38QeT-8Kb",
        "outputId": "b201a8aa-24d8-4339-ab4e-4fa0fb56a070"
      },
      "execution_count": null,
      "outputs": [
        {
          "output_type": "stream",
          "name": "stdout",
          "text": [
            "[2, 4, 6, 8, 10, 12, 14, 16, 18, 3, 6, 9, 12, 15, 18, 21, 24, 27, 4, 8, 12, 16, 20, 24, 28, 32, 36, 5, 10, 15, 20, 25, 30, 35, 40, 45, 6, 12, 18, 24, 30, 36, 42, 48, 54, 7, 14, 21, 28, 35, 42, 49, 56, 63, 8, 16, 24, 32, 40, 48, 56, 64, 72, 9, 18, 27, 36, 45, 54, 63, 72, 81]\n"
          ]
        }
      ]
    },
    {
      "cell_type": "code",
      "source": [
        "a = [i*j for i in range(2, 10) for j in range(1, 10)]\n",
        "print(a)"
      ],
      "metadata": {
        "colab": {
          "base_uri": "https://localhost:8080/"
        },
        "id": "hEYOnq0L_b5Y",
        "outputId": "95fbb177-99c6-4900-ae4e-46d74f6c015c"
      },
      "execution_count": null,
      "outputs": [
        {
          "output_type": "stream",
          "name": "stdout",
          "text": [
            "[2, 4, 6, 8, 10, 12, 14, 16, 18, 3, 6, 9, 12, 15, 18, 21, 24, 27, 4, 8, 12, 16, 20, 24, 28, 32, 36, 5, 10, 15, 20, 25, 30, 35, 40, 45, 6, 12, 18, 24, 30, 36, 42, 48, 54, 7, 14, 21, 28, 35, 42, 49, 56, 63, 8, 16, 24, 32, 40, 48, 56, 64, 72, 9, 18, 27, 36, 45, 54, 63, 72, 81]\n"
          ]
        }
      ]
    },
    {
      "cell_type": "code",
      "source": [
        "a = []\n",
        "for i in range(5, 50, 5):\n",
        "  if i % 10 == 0:\n",
        "    a.append(str(i)+'!')\n",
        "print(a)\n",
        "\n",
        "a = [str(i)+'!' for i in range(5, 50, 5) if i % 10 == 0]\n",
        "print(a)"
      ],
      "metadata": {
        "colab": {
          "base_uri": "https://localhost:8080/"
        },
        "id": "UYf0ung-AubY",
        "outputId": "05eca2c4-c10d-43a5-b967-95084016b645"
      },
      "execution_count": null,
      "outputs": [
        {
          "output_type": "stream",
          "name": "stdout",
          "text": [
            "['10!', '20!', '30!', '40!']\n",
            "['10!', '20!', '30!', '40!']\n"
          ]
        }
      ]
    },
    {
      "cell_type": "code",
      "source": [
        "# 2차원 리스트\n",
        "gugudan = []\n",
        "for dan in range(2, 10):\n",
        "  danlist = []\n",
        "  for num in range(1, 10):\n",
        "    danlist.append(dan * num)\n",
        "  gugudan.append(danlist)\n",
        "print(gugudan)"
      ],
      "metadata": {
        "colab": {
          "base_uri": "https://localhost:8080/"
        },
        "id": "W3m0uP8_A2Ip",
        "outputId": "267c1c3d-63cb-4e5a-f0ed-b4bfec17f64a"
      },
      "execution_count": null,
      "outputs": [
        {
          "output_type": "stream",
          "name": "stdout",
          "text": [
            "[[2, 4, 6, 8, 10, 12, 14, 16, 18], [3, 6, 9, 12, 15, 18, 21, 24, 27], [4, 8, 12, 16, 20, 24, 28, 32, 36], [5, 10, 15, 20, 25, 30, 35, 40, 45], [6, 12, 18, 24, 30, 36, 42, 48, 54], [7, 14, 21, 28, 35, 42, 49, 56, 63], [8, 16, 24, 32, 40, 48, 56, 64, 72], [9, 18, 27, 36, 45, 54, 63, 72, 81]]\n"
          ]
        }
      ]
    },
    {
      "cell_type": "code",
      "source": [
        "# 2차원 리스트\n",
        "gugudan = []\n",
        "for dan in range(2, 10):\n",
        "  danlist = [dan * num for num in range(1, 10)]\n",
        "  gugudan.append(danlist)\n",
        "print(gugudan)"
      ],
      "metadata": {
        "colab": {
          "base_uri": "https://localhost:8080/"
        },
        "id": "qAAGijo4B1O-",
        "outputId": "79111f5a-2ac4-41c9-eda4-35503f86da1c"
      },
      "execution_count": null,
      "outputs": [
        {
          "output_type": "stream",
          "name": "stdout",
          "text": [
            "[[2, 4, 6, 8, 10, 12, 14, 16, 18], [3, 6, 9, 12, 15, 18, 21, 24, 27], [4, 8, 12, 16, 20, 24, 28, 32, 36], [5, 10, 15, 20, 25, 30, 35, 40, 45], [6, 12, 18, 24, 30, 36, 42, 48, 54], [7, 14, 21, 28, 35, 42, 49, 56, 63], [8, 16, 24, 32, 40, 48, 56, 64, 72], [9, 18, 27, 36, 45, 54, 63, 72, 81]]\n"
          ]
        }
      ]
    },
    {
      "cell_type": "code",
      "source": [
        "# 2차원 리스트\n",
        "gugudan = [[dan * num for num in range(1, 10)] for dan in range(2, 10)]\n",
        "print(gugudan)"
      ],
      "metadata": {
        "colab": {
          "base_uri": "https://localhost:8080/"
        },
        "id": "q0FxRw5uDGoX",
        "outputId": "49e2ffa5-a6fc-4442-9c96-f772d9dacae0"
      },
      "execution_count": null,
      "outputs": [
        {
          "output_type": "stream",
          "name": "stdout",
          "text": [
            "[[2, 4, 6, 8, 10, 12, 14, 16, 18], [3, 6, 9, 12, 15, 18, 21, 24, 27], [4, 8, 12, 16, 20, 24, 28, 32, 36], [5, 10, 15, 20, 25, 30, 35, 40, 45], [6, 12, 18, 24, 30, 36, 42, 48, 54], [7, 14, 21, 28, 35, 42, 49, 56, 63], [8, 16, 24, 32, 40, 48, 56, 64, 72], [9, 18, 27, 36, 45, 54, 63, 72, 81]]\n"
          ]
        }
      ]
    },
    {
      "cell_type": "code",
      "source": [
        "# [[2*1=2, 2*2=4, ...], [3*1=3, 3*2=6, ...], ... ]\n",
        "print('\\n'.join(['\\t'.join([\"{0}*{1}={2}\".format(dan, num, dan*num) for num in range(1, 10)]) for dan in range(2, 10)]))\n",
        "# 2*1=2 2*2=4 2*3=6 ... 2*9=18\n",
        "# 3*1=3 3*2=6           3*9=18\n",
        "#\n",
        "# 9*1=9 9*2=18          9*9=81"
      ],
      "metadata": {
        "colab": {
          "base_uri": "https://localhost:8080/"
        },
        "id": "SRth0GX_GtJm",
        "outputId": "4b9df243-7f68-4a87-a86d-44928dc03110"
      },
      "execution_count": null,
      "outputs": [
        {
          "output_type": "stream",
          "name": "stdout",
          "text": [
            "2*1=2\t2*2=4\t2*3=6\t2*4=8\t2*5=10\t2*6=12\t2*7=14\t2*8=16\t2*9=18\n",
            "3*1=3\t3*2=6\t3*3=9\t3*4=12\t3*5=15\t3*6=18\t3*7=21\t3*8=24\t3*9=27\n",
            "4*1=4\t4*2=8\t4*3=12\t4*4=16\t4*5=20\t4*6=24\t4*7=28\t4*8=32\t4*9=36\n",
            "5*1=5\t5*2=10\t5*3=15\t5*4=20\t5*5=25\t5*6=30\t5*7=35\t5*8=40\t5*9=45\n",
            "6*1=6\t6*2=12\t6*3=18\t6*4=24\t6*5=30\t6*6=36\t6*7=42\t6*8=48\t6*9=54\n",
            "7*1=7\t7*2=14\t7*3=21\t7*4=28\t7*5=35\t7*6=42\t7*7=49\t7*8=56\t7*9=63\n",
            "8*1=8\t8*2=16\t8*3=24\t8*4=32\t8*5=40\t8*6=48\t8*7=56\t8*8=64\t8*9=72\n",
            "9*1=9\t9*2=18\t9*3=27\t9*4=36\t9*5=45\t9*6=54\t9*7=63\t9*8=72\t9*9=81\n"
          ]
        }
      ]
    },
    {
      "cell_type": "code",
      "source": [
        "a = ['apple', 'banana', 'grape', 'orange', 'mango', 'blackberry']\n",
        "\n",
        "# 이 리스트에서 5글자인 과일 찾아서 대문자로 바꾸어 리스트를 정렬해서 거꾸로 출력\n",
        "# ['MANGO', 'GRAPE', 'APPLE']\n",
        "\n",
        "# list 내포\n",
        "b = [i for i in a if len(i) == 5]\n",
        "print(b)\n",
        "\n",
        "# map\n",
        "f = lambda x: x.upper()\n",
        "b = list(map(f, b))\n",
        "print(sorted(b)[::-1])\n",
        "\n",
        "a = ['apple', 'banana', 'grape', 'orange', 'mango', 'blackberry']\n",
        "print(sorted(list(map(lambda x: x.upper(), [i for i in a if len(i) == 5])))[::-1])"
      ],
      "metadata": {
        "colab": {
          "base_uri": "https://localhost:8080/"
        },
        "id": "L4aQJUzQIFTd",
        "outputId": "e1e641a9-489d-47c7-bc1f-8df5301b1394"
      },
      "execution_count": null,
      "outputs": [
        {
          "output_type": "stream",
          "name": "stdout",
          "text": [
            "['apple', 'grape', 'mango']\n",
            "['MANGO', 'GRAPE', 'APPLE']\n",
            "['MANGO', 'GRAPE', 'APPLE']\n"
          ]
        }
      ]
    },
    {
      "cell_type": "code",
      "source": [
        "d = dict(a=1, b=2, c=3)\n",
        "print(d)\n",
        "\n",
        "for i in d:\n",
        "  print(i)\n",
        "\n",
        "for k, v in d.items():\n",
        "  print(k, v)"
      ],
      "metadata": {
        "colab": {
          "base_uri": "https://localhost:8080/"
        },
        "id": "kAwtZBxhMNq9",
        "outputId": "64d33b22-7253-46fd-d67a-db11bc9dd5ba"
      },
      "execution_count": null,
      "outputs": [
        {
          "output_type": "stream",
          "name": "stdout",
          "text": [
            "{'a': 1, 'b': 2, 'c': 3}\n",
            "a\n",
            "b\n",
            "c\n",
            "a 1\n",
            "b 2\n",
            "c 3\n"
          ]
        }
      ]
    },
    {
      "cell_type": "code",
      "source": [
        "keylist = ['a', 'b', 'c', 'd']\n",
        "x = {k: v for k, v in dict.fromkeys(keylist).items()}\n",
        "print(x)\n",
        "\n",
        "x = {}\n",
        "for k, v in dict.fromkeys(keylist).items():\n",
        "  x[k] = v\n",
        "print(x)"
      ],
      "metadata": {
        "colab": {
          "base_uri": "https://localhost:8080/"
        },
        "id": "fBECypBYNsA8",
        "outputId": "d44ff1b5-885d-4ebd-bf95-d97f248cd57d"
      },
      "execution_count": null,
      "outputs": [
        {
          "output_type": "stream",
          "name": "stdout",
          "text": [
            "{'a': None, 'b': None, 'c': None, 'd': None}\n",
            "{'a': None, 'b': None, 'c': None, 'd': None}\n"
          ]
        }
      ]
    },
    {
      "cell_type": "code",
      "source": [
        "x = dict(a=10, b=20, c=30, d=40, e=50)\n",
        "\n",
        "y = {}\n",
        "for k, v in x.items():\n",
        "  if v <= 30:\n",
        "    y[k] = v\n",
        "print(y)\n",
        "\n",
        "z = {k: v for k, v in x.items() if v <= 30}\n",
        "print(z)"
      ],
      "metadata": {
        "colab": {
          "base_uri": "https://localhost:8080/"
        },
        "id": "ftt1sHG2Oe1z",
        "outputId": "dd1bf8f1-ba6f-431e-db6b-87644a82eb3c"
      },
      "execution_count": null,
      "outputs": [
        {
          "output_type": "stream",
          "name": "stdout",
          "text": [
            "{'a': 10, 'b': 20, 'c': 30}\n",
            "{'a': 10, 'b': 20, 'c': 30}\n"
          ]
        }
      ]
    },
    {
      "cell_type": "code",
      "source": [
        "names = input().split()\n",
        "scores = list(map(int, input().split()))\n",
        "grade = dict(zip(names, scores))\n",
        "\n",
        "# grade2 = {}\n",
        "# for k, v in grade.items():\n",
        "#   if v >= 70:\n",
        "#     grade2[k] = v\n",
        "grade2 = {k: v for k, v in grade.items() if v >= 70}\n",
        "print(grade2)\n",
        "\n",
        "name2 = sorted(list(grade2.keys()))\n",
        "print(name2)"
      ],
      "metadata": {
        "colab": {
          "base_uri": "https://localhost:8080/"
        },
        "id": "1uDyJU42O6pk",
        "outputId": "04c65961-40aa-46eb-aed8-2ff1e4266722"
      },
      "execution_count": null,
      "outputs": [
        {
          "output_type": "stream",
          "name": "stdout",
          "text": [
            "james john victor maria alex\n",
            "68 100 90 30 75\n",
            "{'john': 100, 'victor': 90, 'alex': 75}\n",
            "['alex', 'john', 'victor']\n"
          ]
        }
      ]
    },
    {
      "cell_type": "code",
      "source": [
        "print(sorted(list({k: v for k, v in dict(zip(input().split(), list(map(int, input().split())))).items() if v >= 70}.keys())))"
      ],
      "metadata": {
        "colab": {
          "base_uri": "https://localhost:8080/"
        },
        "id": "hn_67nmMTQWk",
        "outputId": "825d81b2-5400-47d5-cebd-1d7d8b287b34"
      },
      "execution_count": null,
      "outputs": [
        {
          "output_type": "stream",
          "name": "stdout",
          "text": [
            "james john victor maria alex\n",
            "68 100 90 30 75\n",
            "['alex', 'john', 'victor']\n"
          ]
        }
      ]
    },
    {
      "cell_type": "code",
      "source": [
        "# 160페이지 1번\n",
        "# 무지개의 1번째 색은 red입니다.\n",
        "# 무지개의 2번째 색은 orange입니다.\n",
        "# ...\n",
        "# 무지개의 7번째 색은 purple입니다.\n",
        "color = ['red', 'orange', 'yellow', 'green', 'blue', 'navy', 'purple']\n",
        "for idx, val in enumerate(color, start=1):\n",
        "  print(f'무지개의 {idx}번째 색은 {val}입니다.')"
      ],
      "metadata": {
        "colab": {
          "base_uri": "https://localhost:8080/"
        },
        "id": "Ip5WTrfeWNF7",
        "outputId": "fd3694e8-03b7-4e8b-a6d7-655469d7ec49"
      },
      "execution_count": null,
      "outputs": [
        {
          "output_type": "stream",
          "name": "stdout",
          "text": [
            "무지개의 1번째 색은 red입니다.\n",
            "무지개의 2번째 색은 orange입니다.\n",
            "무지개의 3번째 색은 yellow입니다.\n",
            "무지개의 4번째 색은 green입니다.\n",
            "무지개의 5번째 색은 blue입니다.\n",
            "무지개의 6번째 색은 navy입니다.\n",
            "무지개의 7번째 색은 purple입니다.\n"
          ]
        }
      ]
    },
    {
      "cell_type": "code",
      "source": [
        "# 180페이지 1번\n",
        "# 지역번호-국번-가입자개별번호 형식으로 되어있습니다.\n",
        "# 어떤 형식의 전화번호를 입력하더라도 '국번'을 추출하여 출력\n",
        "# 031-4567-8900 -> 4567\n",
        "# 02-543-2109 -> 543\n",
        "tel = input(\"전화번호를 입력하세요 >>> \").split('-')\n",
        "print(tel[1])"
      ],
      "metadata": {
        "colab": {
          "base_uri": "https://localhost:8080/"
        },
        "id": "KTeZsyfUXmry",
        "outputId": "ff582593-5d2e-40fa-ab12-96010887f6e0"
      },
      "execution_count": null,
      "outputs": [
        {
          "output_type": "stream",
          "name": "stdout",
          "text": [
            "전화번호를 입력하세요 >>> 02-543-2109\n",
            "543\n"
          ]
        }
      ]
    },
    {
      "cell_type": "code",
      "source": [
        "# 180페이지 2번\n",
        "# 숫자3자리-숫자2자리-숫자5자리\n",
        "# 1) 전체 글자 수를 점검: 12자리\n",
        "# 2) 모든 하이픈의 위치가 올바른지 점검 = 하이픈 개수 2개, 000-00-00000\n",
        "# 3) 하이픈을 제외하고 모두 숫자인지 점검 = isdecimal() -> 사용하는 방식, int() -> 오류안나면 숫자\n",
        "# 3개 다 통과 -> 올바른 형식입니다.\n",
        "# 하나라도 통과 X -> 올바른 형식이 아닙니다.\n",
        "a = input(\"사업자등록번호를 입력하세요 >>> \")\n",
        "if len(a) == 12:\n",
        "  if a.count('-') == 2 and a[3] == '-' and a[6] == '-':\n",
        "    b = a.replace('-','')\n",
        "    if b.isdecimal():\n",
        "      print('올바른 형식입니다.')\n",
        "    else:\n",
        "      print('올바른 형식이 아닙니다.')\n",
        "  else:\n",
        "    print('올바른 형식이 아닙니다.')\n",
        "else:\n",
        "  print('올바른 형식이 아닙니다.')"
      ],
      "metadata": {
        "colab": {
          "base_uri": "https://localhost:8080/"
        },
        "id": "sgEY8bKAZL4S",
        "outputId": "07d7a0bb-c025-4899-c32a-15771e23a26d"
      },
      "execution_count": null,
      "outputs": [
        {
          "output_type": "stream",
          "name": "stdout",
          "text": [
            "사업자등록번호를 입력하세요 >>> 123-사오-67890\n",
            "올바른 형식이 아닙니다.\n"
          ]
        }
      ]
    },
    {
      "cell_type": "code",
      "source": [
        "# 180페이지 2번\n",
        "a = input(\"사업자등록번호를 입력하세요 >>> \")\n",
        "if len(a) == 12:\n",
        "  if a.count('-') == 2 and a[3] == '-' and a[6] == '-':\n",
        "    b = a.replace('-','')\n",
        "    b = int(b)\n",
        "    print('올바른 형식입니다.')\n",
        "  else:\n",
        "    print('올바른 형식이 아닙니다.')\n",
        "else:\n",
        "  print('올바른 형식이 아닙니다.')"
      ],
      "metadata": {
        "colab": {
          "base_uri": "https://localhost:8080/"
        },
        "id": "gFSVnKpPZnax",
        "outputId": "f8c616d5-92c5-42fb-fd54-18d32c08dbcd"
      },
      "execution_count": null,
      "outputs": [
        {
          "output_type": "stream",
          "name": "stdout",
          "text": [
            "사업자등록번호를 입력하세요 >>> 1\n",
            "올바른 형식이 아닙니다.\n"
          ]
        }
      ]
    },
    {
      "cell_type": "code",
      "source": [],
      "metadata": {
        "id": "ftsyvIW3eYLo"
      },
      "execution_count": null,
      "outputs": []
    }
  ]
}
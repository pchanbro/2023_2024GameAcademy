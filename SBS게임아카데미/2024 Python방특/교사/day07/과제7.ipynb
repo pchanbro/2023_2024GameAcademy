{
  "nbformat": 4,
  "nbformat_minor": 0,
  "metadata": {
    "colab": {
      "provenance": []
    },
    "kernelspec": {
      "name": "python3",
      "display_name": "Python 3"
    },
    "language_info": {
      "name": "python"
    }
  },
  "cells": [
    {
      "cell_type": "markdown",
      "source": [
        "1. 두 개의 수를 입력받아 두 수 사이의 2의 거듭제곱 수를 하나의 리스트로 저장하고, 각 수를 문자열로 바꾸어 정렬하여 출력해주세요.\n",
        "\n",
        "```\n",
        "<예시>\n",
        "두 수를 입력해주세요 >>> 2 10\n",
        "[4, 8, 16, 32, 64, 128, 256, 512, 1024]\n",
        "['4', '8', '16', '32', '64', '128', '256', '512', '1024']\n",
        "['1024', '128', '16', '256', '32', '4', '512', '64', '8']\n",
        "```"
      ],
      "metadata": {
        "id": "-UObqoieVX6C"
      }
    },
    {
      "cell_type": "code",
      "execution_count": null,
      "metadata": {
        "colab": {
          "base_uri": "https://localhost:8080/"
        },
        "id": "7k5PqsnQVVJ-",
        "outputId": "422c57a3-f610-4c1f-c4f5-86416c5961f5"
      },
      "outputs": [
        {
          "output_type": "stream",
          "name": "stdout",
          "text": [
            "두 수를 입력해주세요 >>> 2 10\n",
            "[4, 8, 16, 32, 64, 128, 256, 512, 1024]\n",
            "['4', '8', '16', '32', '64', '128', '256', '512', '1024']\n",
            "['1024', '128', '16', '256', '32', '4', '512', '64', '8']\n"
          ]
        }
      ],
      "source": [
        "a, b = map(int, input(\"두 수를 입력해주세요 >>> \").split())\n",
        "\n",
        "# c = []\n",
        "# for i in range(a, b+1):\n",
        "#   c.append(2**i)\n",
        "c = [2**i for i in range(a, b+1)]\n",
        "print(c)\n",
        "d = list(map(str, c))\n",
        "print(d)\n",
        "e = sorted(d)\n",
        "print(e)"
      ]
    },
    {
      "cell_type": "markdown",
      "source": [
        "2. 단어를 하나 입력해 가장 많이 사용된 문자가 무엇인지 출력해주세요. (소문자로만 입력) 여러 개일 경우, 그 결과를 정렬하여 출력해주세요.\n",
        "\n",
        "```\n",
        "<예시>\n",
        "단어를 입력하세요 >>> mississipi\n",
        "가장 많이 사용된 단어는 ['i', 's']\n",
        "\n",
        "단어를 입력하세요 >>> hellopython\n",
        "가장 많이 사용된 단어는 ['h', 'l', 'o']\n",
        "```"
      ],
      "metadata": {
        "id": "ZnnVQLhxWH8B"
      }
    },
    {
      "cell_type": "code",
      "source": [
        "a = input(\"단어를 입력하세요 >>> \")\n",
        "d = {}\n",
        "\n",
        "for i in a:\n",
        "  if i in d:\n",
        "    d[i] += 1\n",
        "  else:\n",
        "    d[i] = 1\n",
        "print(d)\n",
        "e = max(list(d.values()))\n",
        "print(e)\n",
        "\n",
        "f = [i for i in d if d[i] == e]\n",
        "print(sorted(f))"
      ],
      "metadata": {
        "colab": {
          "base_uri": "https://localhost:8080/"
        },
        "id": "r0JTXeCNVgmi",
        "outputId": "1fc244f4-60eb-43ec-861d-a7736c568fe3"
      },
      "execution_count": null,
      "outputs": [
        {
          "output_type": "stream",
          "name": "stdout",
          "text": [
            "단어를 입력하세요 >>> mississippi\n",
            "{'m': 1, 'i': 4, 's': 4, 'p': 2}\n",
            "4\n",
            "['i', 's']\n"
          ]
        }
      ]
    },
    {
      "cell_type": "code",
      "source": [
        "a = input(\"단어를 입력하세요 >>> \")\n",
        "\n",
        "d = {i: a.count(i) for i in a}\n",
        "e = max(d.values())\n",
        "f = [i for i in d if d[i] == e]\n",
        "print(f)"
      ],
      "metadata": {
        "colab": {
          "base_uri": "https://localhost:8080/"
        },
        "id": "UarQdVPMWcVk",
        "outputId": "a9069eb9-69a9-4c9f-d46f-4f84a3153949"
      },
      "execution_count": null,
      "outputs": [
        {
          "output_type": "stream",
          "name": "stdout",
          "text": [
            "단어를 입력하세요 >>> mississippi\n",
            "['i', 's']\n"
          ]
        }
      ]
    },
    {
      "cell_type": "code",
      "source": [],
      "metadata": {
        "id": "YoA6uv5lXV3j"
      },
      "execution_count": null,
      "outputs": []
    }
  ]
}
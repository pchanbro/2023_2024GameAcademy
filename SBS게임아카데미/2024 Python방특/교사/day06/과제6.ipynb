{
  "nbformat": 4,
  "nbformat_minor": 0,
  "metadata": {
    "colab": {
      "provenance": []
    },
    "kernelspec": {
      "name": "python3",
      "display_name": "Python 3"
    },
    "language_info": {
      "name": "python"
    }
  },
  "cells": [
    {
      "cell_type": "markdown",
      "source": [
        "1. 중첩 반복문을 이용해 사진과 같은 형태의 별을 출력해주세요. (단, 바깥쪽은 for, 안쪽은 while 사용)\n",
        "\n",
        "```\n",
        "*\n",
        " **\n",
        "  ***\n",
        "   ****\n",
        "    *****\n",
        "```"
      ],
      "metadata": {
        "id": "jceIvgC24iHC"
      }
    },
    {
      "cell_type": "code",
      "execution_count": null,
      "metadata": {
        "colab": {
          "base_uri": "https://localhost:8080/"
        },
        "id": "na_71pxP4gwO",
        "outputId": "9d040603-82a6-4d0d-de1e-c3f55c96726e"
      },
      "outputs": [
        {
          "output_type": "stream",
          "name": "stdout",
          "text": [
            "*\n",
            " **\n",
            "  ***\n",
            "   ****\n",
            "    *****\n"
          ]
        }
      ],
      "source": [
        "# i = 0 -> 공백 0개, 별 1개\n",
        "# i = 1 -> 공백 1개, 별 2개\n",
        "# i = n -> 공백 n개, 별 n+1개\n",
        "for i in range(5):\n",
        "  j = 0\n",
        "  while j < i:\n",
        "    print(' ', end='')\n",
        "    j += 1\n",
        "\n",
        "  j = 0\n",
        "  while j <= i:\n",
        "    print('*', end='')\n",
        "    j += 1\n",
        "  print()"
      ]
    },
    {
      "cell_type": "code",
      "source": [
        "for i in range(5):\n",
        "  for j in range(i):\n",
        "    print(' ', end='')\n",
        "  for j in range(i+1):\n",
        "    print('*', end='')\n",
        "  print()"
      ],
      "metadata": {
        "colab": {
          "base_uri": "https://localhost:8080/"
        },
        "id": "p3ZDp0b-5AI5",
        "outputId": "99af325d-9db1-4b63-dc12-b7284e21daca"
      },
      "execution_count": null,
      "outputs": [
        {
          "output_type": "stream",
          "name": "stdout",
          "text": [
            "*\n",
            " **\n",
            "  ***\n",
            "   ****\n",
            "    *****\n"
          ]
        }
      ]
    },
    {
      "cell_type": "code",
      "source": [
        "for i in range(5):\n",
        "  print(' '*i + '*'*(i+1))"
      ],
      "metadata": {
        "colab": {
          "base_uri": "https://localhost:8080/"
        },
        "id": "bfaxzklo5LoY",
        "outputId": "7199abb7-29d8-4e5c-e128-4c5227e69411"
      },
      "execution_count": null,
      "outputs": [
        {
          "output_type": "stream",
          "name": "stdout",
          "text": [
            "*\n",
            " **\n",
            "  ***\n",
            "   ****\n",
            "    *****\n"
          ]
        }
      ]
    },
    {
      "cell_type": "markdown",
      "source": [
        "2. 문자열 1개와 정수 1개가 주어집니다. 문자열의 각 문자를 정수 횟수만큼 반복되는 문자열을 출력해주세요.\n",
        "\n",
        "<예시1>\n",
        "```\n",
        "문자열을 입력하세요 >>> python\n",
        "정수를 입력하세요 >>> 3\n",
        "출력 결과는 pppyyyttthhhooonnn\n",
        "```"
      ],
      "metadata": {
        "id": "RVc-hr1S5Uzz"
      }
    },
    {
      "cell_type": "code",
      "source": [
        "s = input(\"문자열을 입력하세요 >>> \")\n",
        "n = int(input(\"정수를 입력하세요 >>> \"))\n",
        "\n",
        "for i in s:\n",
        "  for j in range(n):\n",
        "    print(i, end='')\n",
        "print()\n",
        "\n",
        "for i in s:\n",
        "  print(i*n, end='')"
      ],
      "metadata": {
        "id": "MVA77B3V5R1b"
      },
      "execution_count": null,
      "outputs": []
    },
    {
      "cell_type": "code",
      "source": [],
      "metadata": {
        "id": "XXUzrB0b5klx"
      },
      "execution_count": null,
      "outputs": []
    }
  ]
}
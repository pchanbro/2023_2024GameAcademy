{
  "nbformat": 4,
  "nbformat_minor": 0,
  "metadata": {
    "colab": {
      "provenance": []
    },
    "kernelspec": {
      "name": "python3",
      "display_name": "Python 3"
    },
    "language_info": {
      "name": "python"
    }
  },
  "cells": [
    {
      "cell_type": "code",
      "execution_count": 2,
      "metadata": {
        "id": "ghUOcvjFcP_6",
        "colab": {
          "base_uri": "https://localhost:8080/"
        },
        "outputId": "879ead5a-9055-4e07-f83e-412c8e57bda1"
      },
      "outputs": [
        {
          "output_type": "stream",
          "name": "stdout",
          "text": [
            "[10, 20, 30]\n",
            "[10, 20, 30, 40]\n"
          ]
        }
      ],
      "source": [
        "a = [10, 20, 30]\n",
        "print(a)\n",
        "a.append(40)\n",
        "print(a)"
      ]
    },
    {
      "cell_type": "code",
      "source": [
        "b = list() # b = [] 와 같다\n",
        "b.append(100)\n",
        "print(b)\n",
        "b.append(\"Hello\")\n",
        "print(b)"
      ],
      "metadata": {
        "colab": {
          "base_uri": "https://localhost:8080/"
        },
        "id": "xvp4UBXAdeos",
        "outputId": "8839f54a-52fa-431d-e0f1-c9421d255f4d"
      },
      "execution_count": 7,
      "outputs": [
        {
          "output_type": "stream",
          "name": "stdout",
          "text": [
            "[100]\n",
            "[100, 'Hello']\n"
          ]
        }
      ]
    },
    {
      "cell_type": "code",
      "source": [
        "c =[1, 2, 3]\n",
        "c.append([4,5]) #리스트가 통째로 추가\n",
        "print(c)"
      ],
      "metadata": {
        "colab": {
          "base_uri": "https://localhost:8080/"
        },
        "id": "HGKeHxe_dxhr",
        "outputId": "9c684579-1eec-4808-99d4-1d8801be5ef5"
      },
      "execution_count": 9,
      "outputs": [
        {
          "output_type": "stream",
          "name": "stdout",
          "text": [
            "[1, 2, 3, [4, 5]]\n"
          ]
        }
      ]
    },
    {
      "cell_type": "code",
      "source": [
        "c = [1, 2, 3]\n",
        "c.extend([4,5]) #리스트가 풀려서 추가\n",
        "print(c)"
      ],
      "metadata": {
        "colab": {
          "base_uri": "https://localhost:8080/"
        },
        "id": "GPT7eY17eIWb",
        "outputId": "c53f659d-1573-4f01-c667-4e7dda099b1b"
      },
      "execution_count": 10,
      "outputs": [
        {
          "output_type": "stream",
          "name": "stdout",
          "text": [
            "[1, 2, 3, 4, 5]\n"
          ]
        }
      ]
    },
    {
      "cell_type": "code",
      "source": [
        "d = [1, 2, 3]\n",
        "d.extend((4,5)) # 튜플 추가 가능\n",
        "print(d)"
      ],
      "metadata": {
        "colab": {
          "base_uri": "https://localhost:8080/"
        },
        "id": "shIETiD6eL-j",
        "outputId": "edd9a39b-e58a-4357-9e06-368dbb6ee252"
      },
      "execution_count": 11,
      "outputs": [
        {
          "output_type": "stream",
          "name": "stdout",
          "text": [
            "[1, 2, 3, 4, 5]\n"
          ]
        }
      ]
    },
    {
      "cell_type": "code",
      "source": [
        "d = [1, 2, 3]\n",
        "d.extend('python') # 문자 추가 가능\n",
        "print(d)"
      ],
      "metadata": {
        "colab": {
          "base_uri": "https://localhost:8080/"
        },
        "id": "mG6QgZ7Ree1E",
        "outputId": "2a2b15fa-d9ec-4d5e-85ed-477b660b1312"
      },
      "execution_count": 12,
      "outputs": [
        {
          "output_type": "stream",
          "name": "stdout",
          "text": [
            "[1, 2, 3, 'p', 'y', 't', 'h', 'o', 'n']\n"
          ]
        }
      ]
    },
    {
      "cell_type": "code",
      "source": [
        "d = [1, 2, 3]\n",
        "d.extend(range(4,10))\n",
        "print(d)"
      ],
      "metadata": {
        "colab": {
          "base_uri": "https://localhost:8080/"
        },
        "id": "bk59DBoOeqeE",
        "outputId": "a37e9238-1ef0-4ede-8cba-42997b1dbfc1"
      },
      "execution_count": 13,
      "outputs": [
        {
          "output_type": "stream",
          "name": "stdout",
          "text": [
            "[1, 2, 3, 4, 5, 6, 7, 8, 9]\n"
          ]
        }
      ]
    },
    {
      "cell_type": "code",
      "source": [
        "d = [1, 2, 3]\n",
        "d.append('python')\n",
        "print(d)"
      ],
      "metadata": {
        "colab": {
          "base_uri": "https://localhost:8080/"
        },
        "id": "b6tBn6XYevDb",
        "outputId": "65bc473a-0902-4dd9-8039-e827746d210a"
      },
      "execution_count": 14,
      "outputs": [
        {
          "output_type": "stream",
          "name": "stdout",
          "text": [
            "[1, 2, 3, 'python']\n"
          ]
        }
      ]
    },
    {
      "cell_type": "code",
      "source": [
        "d = [1, 2, 3]\n",
        "d.insert(2,100) #2번 자리에 100 추가\n",
        "print(d)"
      ],
      "metadata": {
        "colab": {
          "base_uri": "https://localhost:8080/"
        },
        "id": "UfyDsa1GfH0b",
        "outputId": "d92b7539-287a-442e-c598-46253ca0c8df"
      },
      "execution_count": 15,
      "outputs": [
        {
          "output_type": "stream",
          "name": "stdout",
          "text": [
            "[1, 2, 100, 3]\n"
          ]
        }
      ]
    },
    {
      "cell_type": "code",
      "source": [
        "d = [1, 2, 3]\n",
        "d.insert(3, 100)\n",
        "print(d)"
      ],
      "metadata": {
        "colab": {
          "base_uri": "https://localhost:8080/"
        },
        "id": "IesqCxkHfMRz",
        "outputId": "89490c08-e4fe-4151-d611-4c9182a13d4a"
      },
      "execution_count": 16,
      "outputs": [
        {
          "output_type": "stream",
          "name": "stdout",
          "text": [
            "[1, 2, 3, 100]\n"
          ]
        }
      ]
    },
    {
      "cell_type": "code",
      "source": [
        "d = [1, 2, 3]\n",
        "d.insert(4,100) #인덱스 번호가 길이보다 큰 경우엔 그냥 마지막 순서로 들어간다\n",
        "print(d)"
      ],
      "metadata": {
        "colab": {
          "base_uri": "https://localhost:8080/"
        },
        "id": "GNuh7AAwfaye",
        "outputId": "8981a080-a49f-4a26-ad64-7fad898b09a6"
      },
      "execution_count": 17,
      "outputs": [
        {
          "output_type": "stream",
          "name": "stdout",
          "text": [
            "[1, 2, 3, 100]\n"
          ]
        }
      ]
    },
    {
      "cell_type": "code",
      "source": [
        "d = [1, 2, 3]\n",
        "d.insert(1,[500, 600]) #이렇게 하면 묶여서 들어감\n",
        "print(d)"
      ],
      "metadata": {
        "colab": {
          "base_uri": "https://localhost:8080/"
        },
        "id": "C8eaGj6KffG2",
        "outputId": "f866bc4e-0fdc-4f6d-f92b-12f907dfbf11"
      },
      "execution_count": 19,
      "outputs": [
        {
          "output_type": "stream",
          "name": "stdout",
          "text": [
            "[1, [500, 600], 2, 3]\n"
          ]
        }
      ]
    },
    {
      "cell_type": "code",
      "source": [
        "#슬라이싱을 이용해서 [1, 500, 600, 2, 3] insert를 대체한다\n",
        "d = [1, 2, 3]\n",
        "d[1:1] = [500,600]\n",
        "print(d)"
      ],
      "metadata": {
        "colab": {
          "base_uri": "https://localhost:8080/"
        },
        "id": "Hi3wVZgDfv-B",
        "outputId": "60643d4a-0293-4e6c-8867-be75b2bf7027"
      },
      "execution_count": 22,
      "outputs": [
        {
          "output_type": "stream",
          "name": "stdout",
          "text": [
            "[1, 500, 600, 2, 3]\n"
          ]
        }
      ]
    },
    {
      "cell_type": "code",
      "source": [
        "d = [1,2,3]\n",
        "d[1:1] = (100, 200)\n",
        "print(d)"
      ],
      "metadata": {
        "colab": {
          "base_uri": "https://localhost:8080/"
        },
        "id": "pCD5ZuhOf9H0",
        "outputId": "f8b2db40-2cf5-4246-a22d-50f1be4ec3b5"
      },
      "execution_count": 23,
      "outputs": [
        {
          "output_type": "stream",
          "name": "stdout",
          "text": [
            "[1, 100, 200, 2, 3]\n"
          ]
        }
      ]
    },
    {
      "cell_type": "code",
      "source": [
        "d = [1, 2, 3]\n",
        "d[1:1] = 'python'\n",
        "print(d)"
      ],
      "metadata": {
        "colab": {
          "base_uri": "https://localhost:8080/"
        },
        "id": "Q3_lEMlTg0vZ",
        "outputId": "e2965e2b-b710-45f5-936a-361469969a47"
      },
      "execution_count": 24,
      "outputs": [
        {
          "output_type": "stream",
          "name": "stdout",
          "text": [
            "[1, 'p', 'y', 't', 'h', 'o', 'n', 2, 3]\n"
          ]
        }
      ]
    },
    {
      "cell_type": "code",
      "source": [
        "a = [10, 20, 30]\n",
        "print(a.pop()) #pop을 하면 값을 가져온다 , del a[인덱스]는 값을 가져오지 않고 삭제한다\n",
        "print(a)"
      ],
      "metadata": {
        "colab": {
          "base_uri": "https://localhost:8080/"
        },
        "id": "jsFoBnRPg4ZZ",
        "outputId": "21c683e0-a239-4ade-e336-90b0cb8bb7b4"
      },
      "execution_count": 25,
      "outputs": [
        {
          "output_type": "stream",
          "name": "stdout",
          "text": [
            "30\n",
            "[10, 20]\n"
          ]
        }
      ]
    },
    {
      "cell_type": "code",
      "source": [
        "a = [10, 20, 21, 30]\n",
        "print(a.pop(2))\n",
        "print(a)"
      ],
      "metadata": {
        "colab": {
          "base_uri": "https://localhost:8080/"
        },
        "id": "nVoIgdeGhTBP",
        "outputId": "f9df2192-781f-4ed9-d60b-56d5d0ad51aa"
      },
      "execution_count": 26,
      "outputs": [
        {
          "output_type": "stream",
          "name": "stdout",
          "text": [
            "21\n",
            "[10, 20, 30]\n"
          ]
        }
      ]
    },
    {
      "cell_type": "code",
      "source": [
        "a = [10, 20, 21, 30]\n",
        "del a[2]\n",
        "print(a)"
      ],
      "metadata": {
        "colab": {
          "base_uri": "https://localhost:8080/"
        },
        "id": "sktNN0IchlZq",
        "outputId": "47b43c9e-b65d-46ec-8482-2c0359cc9beb"
      },
      "execution_count": 27,
      "outputs": [
        {
          "output_type": "stream",
          "name": "stdout",
          "text": [
            "[10, 20, 30]\n"
          ]
        }
      ]
    },
    {
      "cell_type": "code",
      "source": [
        "a = [10, 20, 30]\n",
        "print(a.pop(5)) #인덱스 번호가 범위를 벗어나면 오류가 발생한다\n",
        "print(a)"
      ],
      "metadata": {
        "colab": {
          "base_uri": "https://localhost:8080/",
          "height": 221
        },
        "id": "02I25SEHh6af",
        "outputId": "442e4ccd-340a-4840-9d89-deb068322f47"
      },
      "execution_count": 28,
      "outputs": [
        {
          "output_type": "error",
          "ename": "IndexError",
          "evalue": "pop index out of range",
          "traceback": [
            "\u001b[0;31m---------------------------------------------------------------------------\u001b[0m",
            "\u001b[0;31mIndexError\u001b[0m                                Traceback (most recent call last)",
            "\u001b[0;32m<ipython-input-28-bbb120fc84a8>\u001b[0m in \u001b[0;36m<cell line: 2>\u001b[0;34m()\u001b[0m\n\u001b[1;32m      1\u001b[0m \u001b[0ma\u001b[0m \u001b[0;34m=\u001b[0m \u001b[0;34m[\u001b[0m\u001b[0;36m10\u001b[0m\u001b[0;34m,\u001b[0m \u001b[0;36m20\u001b[0m\u001b[0;34m,\u001b[0m \u001b[0;36m30\u001b[0m\u001b[0;34m]\u001b[0m\u001b[0;34m\u001b[0m\u001b[0;34m\u001b[0m\u001b[0m\n\u001b[0;32m----> 2\u001b[0;31m \u001b[0mprint\u001b[0m\u001b[0;34m(\u001b[0m\u001b[0ma\u001b[0m\u001b[0;34m.\u001b[0m\u001b[0mpop\u001b[0m\u001b[0;34m(\u001b[0m\u001b[0;36m5\u001b[0m\u001b[0;34m)\u001b[0m\u001b[0;34m)\u001b[0m \u001b[0;31m#인덱스 번호가 범위를 벗어나면 오류가 발생한다\u001b[0m\u001b[0;34m\u001b[0m\u001b[0;34m\u001b[0m\u001b[0m\n\u001b[0m\u001b[1;32m      3\u001b[0m \u001b[0mprint\u001b[0m\u001b[0;34m(\u001b[0m\u001b[0ma\u001b[0m\u001b[0;34m)\u001b[0m\u001b[0;34m\u001b[0m\u001b[0;34m\u001b[0m\u001b[0m\n",
            "\u001b[0;31mIndexError\u001b[0m: pop index out of range"
          ]
        }
      ]
    },
    {
      "cell_type": "code",
      "source": [
        "a = [10, 20, 30]\n",
        "print(a.pop(-2)) #음수 인덱스 가능\n",
        "print(a)"
      ],
      "metadata": {
        "colab": {
          "base_uri": "https://localhost:8080/"
        },
        "id": "tNmIVfydiDLx",
        "outputId": "5e7f6dc2-0df4-4b6e-d368-7aa43dfddd92"
      },
      "execution_count": 29,
      "outputs": [
        {
          "output_type": "stream",
          "name": "stdout",
          "text": [
            "20\n",
            "[10, 30]\n"
          ]
        }
      ]
    },
    {
      "cell_type": "code",
      "source": [
        "a = [10, 20, 21, 30]\n",
        "a.remove(21) #remove는 반환하는게 없다\n",
        "print(a)"
      ],
      "metadata": {
        "colab": {
          "base_uri": "https://localhost:8080/"
        },
        "id": "LrxQKURviJlF",
        "outputId": "5ea268a7-7105-493c-c5b0-a9189c80e406"
      },
      "execution_count": 30,
      "outputs": [
        {
          "output_type": "stream",
          "name": "stdout",
          "text": [
            "[10, 20, 30]\n"
          ]
        }
      ]
    },
    {
      "cell_type": "code",
      "source": [
        "a = [10, 21, 20, 21, 30]\n",
        "a.remove(21) #삭제할 값이 여러개라면 제일 앞의 값을 제거한다\n",
        "print(a)"
      ],
      "metadata": {
        "colab": {
          "base_uri": "https://localhost:8080/"
        },
        "id": "01PdjhP6ib3f",
        "outputId": "42224b11-463f-4c4c-f19e-d367eac6f539"
      },
      "execution_count": 31,
      "outputs": [
        {
          "output_type": "stream",
          "name": "stdout",
          "text": [
            "[10, 20, 21, 30]\n"
          ]
        }
      ]
    },
    {
      "cell_type": "code",
      "source": [
        "a = [10, 20, 30]\n",
        "if 21 in a: #제거할 값이 없을 때의 error 방지를 위한 조건문\n",
        "  a.remove(21) #제거할 값이 없다면 error 발생 , 조건문인 경우 공백 2개를 띄워준다\n",
        "print(a)"
      ],
      "metadata": {
        "colab": {
          "base_uri": "https://localhost:8080/"
        },
        "id": "yu9upF7milT5",
        "outputId": "bf6e95f9-ec24-4770-c31a-db4c4dcdba72"
      },
      "execution_count": 33,
      "outputs": [
        {
          "output_type": "stream",
          "name": "stdout",
          "text": [
            "[10, 20, 30]\n"
          ]
        }
      ]
    },
    {
      "cell_type": "code",
      "source": [
        "a = [10, 15, 30, 20, 15, 40]\n",
        "print(a.index(30))\n",
        "print(a.index(15)) #여러 값이 있다면 제일 앞의 값의 인덱스 출력\n",
        "#print(a.index(50)) #값이 존재하지 않다면 ValueError 발생\n",
        "#print(a.find(50)) #마찬가지 error\n",
        "print(a.count(15))"
      ],
      "metadata": {
        "colab": {
          "base_uri": "https://localhost:8080/"
        },
        "id": "nZu52SnMi1ms",
        "outputId": "3c603341-352b-46e3-9292-1c7a09ecab4a"
      },
      "execution_count": 37,
      "outputs": [
        {
          "output_type": "stream",
          "name": "stdout",
          "text": [
            "2\n",
            "1\n",
            "2\n"
          ]
        }
      ]
    },
    {
      "cell_type": "code",
      "source": [
        "a = 'python'\n",
        "print(a.index('y'))\n",
        "print(a.find('m')) #find함수는 문자열에서 찾는게 없을 때 -1 출력\n"
      ],
      "metadata": {
        "colab": {
          "base_uri": "https://localhost:8080/"
        },
        "id": "JTgu7ZzYjjsP",
        "outputId": "b87ea7bd-e2de-40c0-b433-d590877b285b"
      },
      "execution_count": 38,
      "outputs": [
        {
          "output_type": "stream",
          "name": "stdout",
          "text": [
            "1\n",
            "-1\n"
          ]
        }
      ]
    },
    {
      "cell_type": "code",
      "source": [
        "a = [1, 2, 3, 4]\n",
        "print(a)\n",
        "a.reverse() # 요소의 순서를 거꾸로 뒤집음, 단독으로 실행해야 한다.\n",
        "print(a)"
      ],
      "metadata": {
        "colab": {
          "base_uri": "https://localhost:8080/"
        },
        "id": "x_zcDnlUkfDw",
        "outputId": "5a1a4954-0df4-4474-be66-0c2710ecfcee"
      },
      "execution_count": 40,
      "outputs": [
        {
          "output_type": "stream",
          "name": "stdout",
          "text": [
            "[1, 2, 3, 4]\n",
            "[4, 3, 2, 1]\n"
          ]
        }
      ]
    },
    {
      "cell_type": "code",
      "source": [
        "a = [3, 1, 4, 2]\n",
        "print(a)\n",
        "a.sort() #오름차순으로 정렬하는 함수, 단독으로 실행해야 한다.\n",
        "print(a)"
      ],
      "metadata": {
        "colab": {
          "base_uri": "https://localhost:8080/"
        },
        "id": "-IYwSm0ZknNH",
        "outputId": "acf571bf-eca5-4a61-c628-ea6269681d4c"
      },
      "execution_count": 42,
      "outputs": [
        {
          "output_type": "stream",
          "name": "stdout",
          "text": [
            "[3, 1, 4, 2]\n",
            "[1, 2, 3, 4]\n"
          ]
        }
      ]
    },
    {
      "cell_type": "code",
      "source": [
        "a = [3, 1, 4, 2]\n",
        "print(a)\n",
        "a.sort(reverse = True) #내림차순으로 정렬하는 함수, 단독으로 실행해야 한다.\n",
        "print(a)"
      ],
      "metadata": {
        "colab": {
          "base_uri": "https://localhost:8080/"
        },
        "id": "2_J66L0Zk82U",
        "outputId": "f0fc8352-fe42-4600-b180-c3cd96a46dad"
      },
      "execution_count": 43,
      "outputs": [
        {
          "output_type": "stream",
          "name": "stdout",
          "text": [
            "[3, 1, 4, 2]\n",
            "[4, 3, 2, 1]\n"
          ]
        }
      ]
    },
    {
      "cell_type": "code",
      "source": [
        "a = [3, 1, 4, 2]\n",
        "print(a)\n",
        "a =sorted(a)  # a.sort()와 동일, 방법을 잘 구분하기\n",
        "print(a)"
      ],
      "metadata": {
        "colab": {
          "base_uri": "https://localhost:8080/"
        },
        "id": "YUKrLl22ldBa",
        "outputId": "663de6fa-4d1a-42f1-c94b-c92009bdd603"
      },
      "execution_count": 44,
      "outputs": [
        {
          "output_type": "stream",
          "name": "stdout",
          "text": [
            "[3, 1, 4, 2]\n",
            "[1, 2, 3, 4]\n"
          ]
        }
      ]
    },
    {
      "cell_type": "code",
      "source": [
        "a = [3, 1, 4, 2]\n",
        "print(a)\n",
        "a =sorted(a, reverse = True)  # a.sort(reverse = True)와 동일, 방법을 잘 구분하기\n",
        "print(a)"
      ],
      "metadata": {
        "colab": {
          "base_uri": "https://localhost:8080/"
        },
        "id": "ULGZYrn8lijS",
        "outputId": "3129d4df-52cf-4157-f03f-2d2be064be38"
      },
      "execution_count": 45,
      "outputs": [
        {
          "output_type": "stream",
          "name": "stdout",
          "text": [
            "[3, 1, 4, 2]\n",
            "[4, 3, 2, 1]\n"
          ]
        }
      ]
    },
    {
      "cell_type": "code",
      "source": [
        "a = [3, 3.14, 2.71, 1.414]\n",
        "a.sort()\n",
        "print(a)"
      ],
      "metadata": {
        "colab": {
          "base_uri": "https://localhost:8080/"
        },
        "id": "ZO0n6nevltEh",
        "outputId": "6e73486f-4365-47a8-bc09-c067502c6c6e"
      },
      "execution_count": 46,
      "outputs": [
        {
          "output_type": "stream",
          "name": "stdout",
          "text": [
            "[1.414, 2.71, 3, 3.14]\n"
          ]
        }
      ]
    },
    {
      "cell_type": "code",
      "source": [
        "a = [3, 3.14, 2.71, 'hello']\n",
        "a.sort() #숫자와 문자열은 비교가 불가능해 오류 발생, sort함수를 쓰려면 비교 가능한 것을 사용해야 한다.\n",
        "print(a)"
      ],
      "metadata": {
        "colab": {
          "base_uri": "https://localhost:8080/",
          "height": 221
        },
        "id": "tWALFByQl_vf",
        "outputId": "99259fe9-3790-4ba3-a7a9-67de25c401ab"
      },
      "execution_count": 47,
      "outputs": [
        {
          "output_type": "error",
          "ename": "TypeError",
          "evalue": "'<' not supported between instances of 'str' and 'int'",
          "traceback": [
            "\u001b[0;31m---------------------------------------------------------------------------\u001b[0m",
            "\u001b[0;31mTypeError\u001b[0m                                 Traceback (most recent call last)",
            "\u001b[0;32m<ipython-input-47-4949b0e5f11c>\u001b[0m in \u001b[0;36m<cell line: 2>\u001b[0;34m()\u001b[0m\n\u001b[1;32m      1\u001b[0m \u001b[0ma\u001b[0m \u001b[0;34m=\u001b[0m \u001b[0;34m[\u001b[0m\u001b[0;36m3\u001b[0m\u001b[0;34m,\u001b[0m \u001b[0;36m3.14\u001b[0m\u001b[0;34m,\u001b[0m \u001b[0;36m2.71\u001b[0m\u001b[0;34m,\u001b[0m \u001b[0;34m'hello'\u001b[0m\u001b[0;34m]\u001b[0m\u001b[0;34m\u001b[0m\u001b[0;34m\u001b[0m\u001b[0m\n\u001b[0;32m----> 2\u001b[0;31m \u001b[0ma\u001b[0m\u001b[0;34m.\u001b[0m\u001b[0msort\u001b[0m\u001b[0;34m(\u001b[0m\u001b[0;34m)\u001b[0m\u001b[0;34m\u001b[0m\u001b[0;34m\u001b[0m\u001b[0m\n\u001b[0m\u001b[1;32m      3\u001b[0m \u001b[0mprint\u001b[0m\u001b[0;34m(\u001b[0m\u001b[0ma\u001b[0m\u001b[0;34m)\u001b[0m\u001b[0;34m\u001b[0m\u001b[0;34m\u001b[0m\u001b[0m\n",
            "\u001b[0;31mTypeError\u001b[0m: '<' not supported between instances of 'str' and 'int'"
          ]
        }
      ]
    },
    {
      "cell_type": "code",
      "source": [
        "a = ['hello', '한글', 'Python', 'java'] #보통 한글이 영어 뒤고, 대문자가 있는 문장이 앞으로 간다\n",
        "a.sort()\n",
        "print(a)"
      ],
      "metadata": {
        "colab": {
          "base_uri": "https://localhost:8080/"
        },
        "id": "b0zqv1oWmFBO",
        "outputId": "449a539a-e9de-4ac1-ad93-4804a0da82c8"
      },
      "execution_count": 49,
      "outputs": [
        {
          "output_type": "stream",
          "name": "stdout",
          "text": [
            "['Python', 'hello', 'java', '한글']\n"
          ]
        }
      ]
    },
    {
      "cell_type": "code",
      "source": [
        "a = ['hello', '한글', 'Python', 'java']\n",
        "a.sort()\n",
        "print(a)\n",
        "a.clear() # 리스트의 요소를 모두 지우는 함수\n",
        "print(a)"
      ],
      "metadata": {
        "colab": {
          "base_uri": "https://localhost:8080/"
        },
        "id": "7WHBL6nKmTS9",
        "outputId": "deb836d1-61a2-4633-ff2a-e62164c42fbd"
      },
      "execution_count": 50,
      "outputs": [
        {
          "output_type": "stream",
          "name": "stdout",
          "text": [
            "['Python', 'hello', 'java', '한글']\n",
            "[]\n"
          ]
        }
      ]
    },
    {
      "cell_type": "code",
      "source": [
        "a = ['hello', '한글', 'Python', 'java']\n",
        "del a[:] #a.clear()과 동일한 기능\n",
        "print(a)"
      ],
      "metadata": {
        "colab": {
          "base_uri": "https://localhost:8080/"
        },
        "id": "Is7XjcYGmmeT",
        "outputId": "ac21d5d9-038a-4a33-f1cb-ad11b85c4f33"
      },
      "execution_count": 51,
      "outputs": [
        {
          "output_type": "stream",
          "name": "stdout",
          "text": [
            "[]\n"
          ]
        }
      ]
    },
    {
      "cell_type": "code",
      "source": [
        "#리스트 비어있는지 확인, 편법을 이용\n",
        "#비었으면 True, 아니면 False\n",
        "#(1) 리스트의 길이를 이용 : len함수 값이 0이면 빈것\n",
        "a =[1, 2, 3]\n",
        "b = []\n",
        "print(len(a))\n",
        "print(not len(a))\n",
        "\n",
        "print(len(b))\n",
        "print(not len(b)) #not과 len을 동시에 사용\n",
        "\n",
        "print(a)\n",
        "print(not a) #not과 리스트를 동시에 사용\n",
        "\n",
        "print(b)\n",
        "print(not b)\n",
        "print(not not b) #비어있으면 False, 아니면 True가 나오도록 하려면 2번 쓰면 된다."
      ],
      "metadata": {
        "colab": {
          "base_uri": "https://localhost:8080/"
        },
        "id": "O0IHkLlDmtAj",
        "outputId": "48071513-79d2-4944-dbd0-70662ea204cc"
      },
      "execution_count": 55,
      "outputs": [
        {
          "output_type": "stream",
          "name": "stdout",
          "text": [
            "3\n",
            "False\n",
            "0\n",
            "True\n",
            "[1, 2, 3]\n",
            "False\n",
            "[]\n",
            "True\n",
            "False\n"
          ]
        }
      ]
    },
    {
      "cell_type": "code",
      "source": [
        "a = 1\n",
        "b =a\n",
        "print(a,b)\n",
        "print(a == b)\n",
        "print(a is b)\n",
        "b = 2\n",
        "print(a,b)"
      ],
      "metadata": {
        "colab": {
          "base_uri": "https://localhost:8080/"
        },
        "id": "bHGw1llnpeC7",
        "outputId": "9171bb42-2974-4c11-92ad-2a6d78518128"
      },
      "execution_count": 58,
      "outputs": [
        {
          "output_type": "stream",
          "name": "stdout",
          "text": [
            "1 1\n",
            "True\n",
            "True\n",
            "1 2\n"
          ]
        }
      ]
    },
    {
      "cell_type": "code",
      "source": [
        "a = [1, 2, 3, 4]\n",
        "b = a #리스트의 할당, 값이 할당되는게 아니라 a의 메모리 주소를 b에 할당하는 것이다.\n",
        "print(a,b)\n",
        "print(a == b)\n",
        "print(a is b)\n",
        "print(id(a), id(b))\n",
        "b[2] = 100\n",
        "print(a,b)"
      ],
      "metadata": {
        "colab": {
          "base_uri": "https://localhost:8080/"
        },
        "id": "DxHoFnMEqVdC",
        "outputId": "3afde860-8ef4-4661-eef1-26926f6f555c"
      },
      "execution_count": 59,
      "outputs": [
        {
          "output_type": "stream",
          "name": "stdout",
          "text": [
            "[1, 2, 3, 4] [1, 2, 3, 4]\n",
            "True\n",
            "True\n",
            "135211910167232 135211910167232\n",
            "[1, 2, 100, 4] [1, 2, 100, 4]\n"
          ]
        }
      ]
    },
    {
      "cell_type": "code",
      "source": [
        "# 위처럼 b = a 를 통해 b가 a와 완전히 동일한게 아니라 별개의 객체로 만들고 싶을 때 copy를 사용한다\n",
        "a = [1, 2, 3, 4]\n",
        "b = a.copy()\n",
        "print(a,b)\n",
        "print(a == b) #값을 같으니 True\n",
        "print(a is b) #id가 다르기에 이건 False\n",
        "print(id(a), id(b))\n",
        "b[2] = 100\n",
        "print(a,b)"
      ],
      "metadata": {
        "colab": {
          "base_uri": "https://localhost:8080/"
        },
        "id": "9eHO3k6hqhOU",
        "outputId": "ade9d223-2fb1-4071-d2e7-60a855140bf2"
      },
      "execution_count": 62,
      "outputs": [
        {
          "output_type": "stream",
          "name": "stdout",
          "text": [
            "[1, 2, 3, 4] [1, 2, 3, 4]\n",
            "True\n",
            "False\n",
            "135211912633856 135211912635072\n",
            "[1, 2, 3, 4] [1, 2, 100, 4]\n"
          ]
        }
      ]
    },
    {
      "cell_type": "code",
      "source": [
        "a = [1, 2, [5, 6], 7]\n",
        "b = a\n",
        "print(a, b)\n",
        "print(a == b, a is b)\n",
        "print(id(a), id(b))\n",
        "b[2][1] = 100\n",
        "print(a,b)"
      ],
      "metadata": {
        "colab": {
          "base_uri": "https://localhost:8080/"
        },
        "id": "Z2bfQqIArhdC",
        "outputId": "24a1f65e-0dd5-44c4-975a-31e4e00d007f"
      },
      "execution_count": 64,
      "outputs": [
        {
          "output_type": "stream",
          "name": "stdout",
          "text": [
            "[1, 2, [5, 6], 7] [1, 2, [5, 6], 7]\n",
            "True True\n",
            "135211910136256 135211910136256\n",
            "[1, 2, [5, 100], 7] [1, 2, [5, 100], 7]\n"
          ]
        }
      ]
    },
    {
      "cell_type": "code",
      "source": [
        "a = [1, 2, [5, 6], 7] #객체 안에 객체가 있다(리스트 안에 리스트가 있다) -> copy가 통하지 않음 -> copy.deepcopy가 필요\n",
        "b = a.copy()\n",
        "print(a, b)\n",
        "print(a == b, a is b)\n",
        "print(id(a), id(b))\n",
        "b[2][1] = 100\n",
        "print(a,b)"
      ],
      "metadata": {
        "colab": {
          "base_uri": "https://localhost:8080/"
        },
        "id": "exsrpa7jr-_G",
        "outputId": "946c041f-bd80-402d-bf15-658366aab6a3"
      },
      "execution_count": 65,
      "outputs": [
        {
          "output_type": "stream",
          "name": "stdout",
          "text": [
            "[1, 2, [5, 6], 7] [1, 2, [5, 6], 7]\n",
            "True False\n",
            "135211910138944 135211910149376\n",
            "[1, 2, [5, 100], 7] [1, 2, [5, 100], 7]\n"
          ]
        }
      ]
    },
    {
      "cell_type": "code",
      "source": [
        "import copy\n",
        "a = [1, 2, [5, 6], 7]\n",
        "b = copy.deepcopy(a)\n",
        "print(a, b)\n",
        "print(a == b, a is b)\n",
        "print(id(a), id(b))\n",
        "b[2][1] = 100\n",
        "print(a,b)"
      ],
      "metadata": {
        "colab": {
          "base_uri": "https://localhost:8080/"
        },
        "id": "Qb1qxwyEsJeO",
        "outputId": "0c3955d8-6b0b-42f8-dab4-2a4c3796cb6d"
      },
      "execution_count": 66,
      "outputs": [
        {
          "output_type": "stream",
          "name": "stdout",
          "text": [
            "[1, 2, [5, 6], 7] [1, 2, [5, 6], 7]\n",
            "True False\n",
            "135211910112256 135211911470976\n",
            "[1, 2, [5, 6], 7] [1, 2, [5, 100], 7]\n"
          ]
        }
      ]
    },
    {
      "cell_type": "code",
      "source": [
        "#딕셔너리 자료구조\n",
        "#딕셔너리 -> 값끼리 연관이 생김\n",
        "name = ['james', 'maria', 'grace']\n",
        "score = [100, 90, 80]\n",
        "\n",
        "grade = {'james':100, 'maria':90, 'grace':80}\n",
        "print(grade)"
      ],
      "metadata": {
        "colab": {
          "base_uri": "https://localhost:8080/"
        },
        "id": "5W6b0VTbsm3K",
        "outputId": "fa91125b-2bd3-4421-f34d-240006b68d11"
      },
      "execution_count": 68,
      "outputs": [
        {
          "output_type": "stream",
          "name": "stdout",
          "text": [
            "{'james': 100, 'maria': 90, 'grace': 80}\n"
          ]
        }
      ]
    },
    {
      "cell_type": "code",
      "source": [
        "grade = {'james':100, 'maria':90, 'grace':80, 'james':70} #키가 여러개 나오면 가장 마지막에 쓴 값이 적용됨\n",
        "print(grade)\n",
        "print(grade['james']) #키에 해당하는 값 가져올 때 -> 딕셔너리[키]"
      ],
      "metadata": {
        "colab": {
          "base_uri": "https://localhost:8080/"
        },
        "id": "nu1yDOYbtOw2",
        "outputId": "c6d37995-6341-405c-9bdf-c5ff6b2db27f"
      },
      "execution_count": 70,
      "outputs": [
        {
          "output_type": "stream",
          "name": "stdout",
          "text": [
            "{'james': 70, 'maria': 90, 'grace': 80}\n",
            "70\n"
          ]
        }
      ]
    },
    {
      "cell_type": "code",
      "source": [
        "#딕셔너리도 여러 자료형을 섞어 쓸 수 있따.\n",
        "x = {100:'a', True:1, 3.13:[100,10]}\n",
        "print(x)"
      ],
      "metadata": {
        "colab": {
          "base_uri": "https://localhost:8080/"
        },
        "id": "v4-1721rtu84",
        "outputId": "dcd22abe-90ba-4708-a1d8-d345f21c972b"
      },
      "execution_count": 71,
      "outputs": [
        {
          "output_type": "stream",
          "name": "stdout",
          "text": [
            "{100: 'a', True: 1, 3.13: [100, 10]}\n"
          ]
        }
      ]
    },
    {
      "cell_type": "code",
      "source": [
        "x = {[10,20]: 1} #키에는 문자형 수치형 논리형 가능하지만 리스트는 불가능, 리스트는 값만 가능\n",
        "print(x)"
      ],
      "metadata": {
        "colab": {
          "base_uri": "https://localhost:8080/",
          "height": 203
        },
        "id": "dtELHYy6uVmV",
        "outputId": "ff593f17-c145-42b7-8730-a34ee24b6af3"
      },
      "execution_count": 72,
      "outputs": [
        {
          "output_type": "error",
          "ename": "TypeError",
          "evalue": "unhashable type: 'list'",
          "traceback": [
            "\u001b[0;31m---------------------------------------------------------------------------\u001b[0m",
            "\u001b[0;31mTypeError\u001b[0m                                 Traceback (most recent call last)",
            "\u001b[0;32m<ipython-input-72-4b5959cf0061>\u001b[0m in \u001b[0;36m<cell line: 1>\u001b[0;34m()\u001b[0m\n\u001b[0;32m----> 1\u001b[0;31m \u001b[0mx\u001b[0m \u001b[0;34m=\u001b[0m \u001b[0;34m{\u001b[0m\u001b[0;34m[\u001b[0m\u001b[0;36m10\u001b[0m\u001b[0;34m,\u001b[0m\u001b[0;36m20\u001b[0m\u001b[0;34m]\u001b[0m\u001b[0;34m:\u001b[0m \u001b[0;36m1\u001b[0m\u001b[0;34m}\u001b[0m\u001b[0;34m\u001b[0m\u001b[0;34m\u001b[0m\u001b[0m\n\u001b[0m\u001b[1;32m      2\u001b[0m \u001b[0mprint\u001b[0m\u001b[0;34m(\u001b[0m\u001b[0mx\u001b[0m\u001b[0;34m)\u001b[0m\u001b[0;34m\u001b[0m\u001b[0;34m\u001b[0m\u001b[0m\n",
            "\u001b[0;31mTypeError\u001b[0m: unhashable type: 'list'"
          ]
        }
      ]
    },
    {
      "cell_type": "code",
      "source": [
        "# 딕셔너리 만드는 2가지 방식\n",
        "a = {}\n",
        "b = dict()\n",
        "print(a)\n",
        "print(b)"
      ],
      "metadata": {
        "colab": {
          "base_uri": "https://localhost:8080/"
        },
        "id": "cFo3YjMoubod",
        "outputId": "6b62001d-3639-4bb8-a0f7-b0c16aa031b1"
      },
      "execution_count": 73,
      "outputs": [
        {
          "output_type": "stream",
          "name": "stdout",
          "text": [
            "{}\n",
            "{}\n"
          ]
        }
      ]
    },
    {
      "cell_type": "code",
      "source": [
        "#리스트로 딕셔너리 만들기\n",
        "name = ['james', 'maria', 'grace']\n",
        "score = [100, 90, 80]\n",
        "\n",
        "grade = dict(zip(name,score))\n",
        "print(grade)\n"
      ],
      "metadata": {
        "colab": {
          "base_uri": "https://localhost:8080/"
        },
        "id": "VMlAwRUUurhO",
        "outputId": "ead85528-7a95-47d5-c10b-998b313ebc68"
      },
      "execution_count": 74,
      "outputs": [
        {
          "output_type": "stream",
          "name": "stdout",
          "text": [
            "{'james': 100, 'maria': 90, 'grace': 80}\n"
          ]
        }
      ]
    },
    {
      "cell_type": "code",
      "source": [
        "# 키-값 직접 쓰기, 따옴표 쓰지 않는다\n",
        "grade = dict(james = 100, maria = 90, grace = 80)\n",
        "print(grade)"
      ],
      "metadata": {
        "colab": {
          "base_uri": "https://localhost:8080/"
        },
        "id": "abS5taugvEHK",
        "outputId": "98788807-8f2e-4096-dee2-b0095a270eab"
      },
      "execution_count": 75,
      "outputs": [
        {
          "output_type": "stream",
          "name": "stdout",
          "text": [
            "{'james': 100, 'maria': 90, 'grace': 80}\n"
          ]
        }
      ]
    },
    {
      "cell_type": "code",
      "source": [
        "#튜플로 구성된 리스트로 만들기\n",
        "grade = dict([('james', 100), ('maria', 90), ('grace', 80)])\n",
        "print(grade)"
      ],
      "metadata": {
        "colab": {
          "base_uri": "https://localhost:8080/"
        },
        "id": "UaCKHkPPvWpX",
        "outputId": "08797800-935d-4ef3-a354-fc7fdbe7a849"
      },
      "execution_count": 76,
      "outputs": [
        {
          "output_type": "stream",
          "name": "stdout",
          "text": [
            "{'james': 100, 'maria': 90, 'grace': 80}\n"
          ]
        }
      ]
    },
    {
      "cell_type": "code",
      "source": [
        "# 5개의 문자열을 입력받아 딕셔너리에 문자열을 키로하고 그 문자열의 길이를 값으로 하는 딕셔너리 만들기 1\n",
        "a = input(\"문자열 1 >>>\")\n",
        "b = input(\"문자열 2 >>>\")\n",
        "c = input(\"문자열 3 >>>\")\n",
        "d = input(\"문자열 4 >>>\")\n",
        "e = input(\"문자열 5 >>>\")\n",
        "name = [a, b, c, d, e]\n",
        "value = [len(a), len(b), len(c), len(d), len(e)]\n",
        "prt1 = dict(zip(name,value))\n",
        "print(prt1)"
      ],
      "metadata": {
        "colab": {
          "base_uri": "https://localhost:8080/"
        },
        "id": "2GpOR3pRv0zC",
        "outputId": "092ae71c-9272-4599-ddce-34023d9801fb"
      },
      "execution_count": 80,
      "outputs": [
        {
          "output_type": "stream",
          "name": "stdout",
          "text": [
            "문자열 1 >>>chan\n",
            "문자열 2 >>>hyeong\n",
            "문자열 3 >>>park\n",
            "문자열 4 >>>wow\n",
            "문자열 5 >>>verygood\n",
            "{'chan': 4, 'hyeong': 6, 'park': 4, 'wow': 3, 'verygood': 8}\n"
          ]
        }
      ]
    },
    {
      "cell_type": "code",
      "source": [
        "# 5개의 문자열을 입력받아 딕셔너리에 문자열을 키로하고 그 문자열의 길이를 값으로 하는 딕셔너리 만들기 2\n",
        "a = input(\"문자열 1 >>>\")\n",
        "b = input(\"문자열 2 >>>\")\n",
        "c = input(\"문자열 3 >>>\")\n",
        "d = input(\"문자열 4 >>>\")\n",
        "e = input(\"문자열 5 >>>\")\n",
        "\n",
        "prt1 = dict(a = len(a), b = len(b), c = len(c), d = len(d), e = len(e)) # 여기서 dict 안에 문자열 값에 따옴표가 붙지 않기 때문에 문자열을 입력받아 하는 걸로는 힘들다.\n",
        "print(prt1)\n"
      ],
      "metadata": {
        "colab": {
          "base_uri": "https://localhost:8080/"
        },
        "id": "Y4A4SUcHwwh1",
        "outputId": "b2dbc96f-dbb5-485e-fcbf-802ffd918da6"
      },
      "execution_count": 81,
      "outputs": [
        {
          "output_type": "stream",
          "name": "stdout",
          "text": [
            "문자열 1 >>>chan\n",
            "문자열 2 >>>hteong\n",
            "문자열 3 >>>park\n",
            "문자열 4 >>>wow\n",
            "문자열 5 >>>verygood\n",
            "{'a': 4, 'b': 6, 'c': 4, 'd': 3, 'e': 8}\n"
          ]
        }
      ]
    },
    {
      "cell_type": "code",
      "source": [
        "# 5개의 문자열을 입력받아 딕셔너리에 문자열을 키로하고 그 문자열의 길이를 값으로 하는 딕셔너리 만들기 3\n",
        "prt1 = dict([(a, len(a)), (b, len(b)), (c, len(c)), (d, len(d)), (e, len(e))])\n",
        "print(prt1)"
      ],
      "metadata": {
        "colab": {
          "base_uri": "https://localhost:8080/"
        },
        "id": "C217vrDkyHBl",
        "outputId": "ad3cae6c-bc4d-4c71-f7ca-895b4ca2a6ad"
      },
      "execution_count": 82,
      "outputs": [
        {
          "output_type": "stream",
          "name": "stdout",
          "text": [
            "{'chan': 4, 'hteong': 6, 'park': 4, 'wow': 3, 'verygood': 8}\n"
          ]
        }
      ]
    },
    {
      "cell_type": "code",
      "source": [
        "#값 추가하기\n",
        "grade = dict(james = 100, maria = 90, grace = 80)\n",
        "print(grade)\n",
        "\n",
        "# print(grade['victor']) 딕셔너리에 없는 키를 가지는 값을 가져오게 된다면 KeyError 발생\n",
        "\n",
        "grade['victor'] = 70\n",
        "print(grade)\n",
        "\n",
        "if 'python' in grade:\n",
        "  print(grade['python'])\n",
        "\n",
        "print('james' in grade)\n",
        "print('python' in grade)\n",
        "\n",
        "grade.setdefault('alex') # 키가 추가는 되나 값이 None\n",
        "print(grade)\n",
        "grade.setdefault('daniel', 85) #키와 값이 쌍으로 추가\n",
        "print(grade)\n",
        "\n",
        "grade['james'] = 70 # 값 수정\n",
        "print(grade)"
      ],
      "metadata": {
        "colab": {
          "base_uri": "https://localhost:8080/"
        },
        "id": "EfoEQbmbyczg",
        "outputId": "cd8e5b55-35a5-4438-b9ce-cb10ce4079b0"
      },
      "execution_count": 89,
      "outputs": [
        {
          "output_type": "stream",
          "name": "stdout",
          "text": [
            "{'james': 100, 'maria': 90, 'grace': 80}\n",
            "{'james': 100, 'maria': 90, 'grace': 80, 'victor': 70}\n",
            "True\n",
            "False\n",
            "{'james': 100, 'maria': 90, 'grace': 80, 'victor': 70, 'alex': None}\n",
            "{'james': 100, 'maria': 90, 'grace': 80, 'victor': 70, 'alex': None, 'daniel': 85}\n",
            "{'james': 70, 'maria': 90, 'grace': 80, 'victor': 70, 'alex': None, 'daniel': 85}\n"
          ]
        }
      ]
    },
    {
      "cell_type": "code",
      "source": [
        "# 5) 값 수정하기\n",
        "x = dict(zip(list('abcd'), [10, 20, 30, 40]))\n",
        "print(x)\n",
        "x.update(a = 80) # 업데이트는 키가 문자열이더라도 따옴표X\n",
        "print(x)\n",
        "x.update(e = 50) # 업데이트는 추가 기능도 가능\n",
        "print(x)\n",
        "x.update(a = 100, f = 60) # 업데이트는 추가, 수정 한번에 가능\n",
        "print(x)\n",
        "x.update({1: 'a'}) # 키가 문자열이 아닐 경우 사용하는 방식\n",
        "print(x)"
      ],
      "metadata": {
        "colab": {
          "base_uri": "https://localhost:8080/"
        },
        "id": "DMu4gVNazPp-",
        "outputId": "3becf1ad-d3b8-4238-fd79-ce5317e98c3a"
      },
      "execution_count": 94,
      "outputs": [
        {
          "output_type": "stream",
          "name": "stdout",
          "text": [
            "{'a': 10, 'b': 20, 'c': 30, 'd': 40}\n",
            "{'a': 80, 'b': 20, 'c': 30, 'd': 40}\n",
            "{'a': 80, 'b': 20, 'c': 30, 'd': 40, 'e': 50}\n",
            "{'a': 100, 'b': 20, 'c': 30, 'd': 40, 'e': 50, 'f': 60}\n",
            "{'a': 100, 'b': 20, 'c': 30, 'd': 40, 'e': 50, 'f': 60, 1: 'a'}\n"
          ]
        }
      ]
    },
    {
      "cell_type": "code",
      "source": [
        "# 6) 삭제하기\n",
        "x = dict(zip(list('abcd'), [10, 20, 30, 40]))\n",
        "print(x)\n",
        "print(x.pop('b'))\n",
        "print(x)\n",
        "print(x.pop('e', 100)) # pop에 넣어준 키가 없으면 값이 나온다\n",
        "print(x)\n",
        "del x['d']\n",
        "print(x)"
      ],
      "metadata": {
        "colab": {
          "base_uri": "https://localhost:8080/"
        },
        "id": "C_1sptFC3Z5O",
        "outputId": "0408fbbd-994f-4e3a-fe91-59df24ff7d3c"
      },
      "execution_count": 97,
      "outputs": [
        {
          "output_type": "stream",
          "name": "stdout",
          "text": [
            "{'a': 10, 'b': 20, 'c': 30, 'd': 40}\n",
            "20\n",
            "{'a': 10, 'c': 30, 'd': 40}\n",
            "100\n",
            "{'a': 10, 'c': 30, 'd': 40}\n",
            "{'a': 10, 'c': 30}\n"
          ]
        }
      ]
    },
    {
      "cell_type": "code",
      "source": [
        "x = dict(zip(list('abcd'), [10, 20, 30, 40]))\n",
        "print(x)\n",
        "print(x.popitem())\n",
        "print(x)\n",
        "x.clear() # 모든 키-값 쌍 삭제\n",
        "print(x)"
      ],
      "metadata": {
        "colab": {
          "base_uri": "https://localhost:8080/"
        },
        "id": "Tp9PtWWW4qW3",
        "outputId": "454c6241-933b-449d-b599-311fbf39c243"
      },
      "execution_count": 99,
      "outputs": [
        {
          "output_type": "stream",
          "name": "stdout",
          "text": [
            "{'a': 10, 'b': 20, 'c': 30, 'd': 40}\n",
            "('d', 40)\n",
            "{'a': 10, 'b': 20, 'c': 30}\n",
            "{}\n"
          ]
        }
      ]
    },
    {
      "cell_type": "code",
      "source": [
        "# 7) 키-값 가져오기\n",
        "x = dict(zip(list('abcd'), [10, 20, 30, 40]))\n",
        "print(x)\n",
        "print(list(x.keys()))\n",
        "print(list(x.values()))\n",
        "print(list(x.items()))"
      ],
      "metadata": {
        "colab": {
          "base_uri": "https://localhost:8080/"
        },
        "id": "CnXUEXXc5YpE",
        "outputId": "dee938d2-d910-470b-8062-27d4f8d1216a"
      },
      "execution_count": 101,
      "outputs": [
        {
          "output_type": "stream",
          "name": "stdout",
          "text": [
            "{'a': 10, 'b': 20, 'c': 30, 'd': 40}\n",
            "['a', 'b', 'c', 'd']\n",
            "[10, 20, 30, 40]\n",
            "[('a', 10), ('b', 20), ('c', 30), ('d', 40)]\n"
          ]
        }
      ]
    },
    {
      "cell_type": "code",
      "source": [
        "# james 딕셔너리를 만들고 이용해서 전체 과목의 평균 구하기\n",
        "# sum(리스트) -> 리스트에 있는 요소의 합 구하면 됨\n",
        "subject = ['python', 'java', 'english', 'math']\n",
        "score = [100, 90, 70, 40]\n",
        "\n",
        "james = dict(zip(subject, score))\n",
        "print(sum(james.values())//len(james))"
      ],
      "metadata": {
        "colab": {
          "base_uri": "https://localhost:8080/"
        },
        "id": "jKCGZ9uK6Qho",
        "outputId": "5508d5d0-53e9-496a-b238-7cb8d130519f"
      },
      "execution_count": 107,
      "outputs": [
        {
          "output_type": "stream",
          "name": "stdout",
          "text": [
            "75\n"
          ]
        }
      ]
    },
    {
      "cell_type": "code",
      "source": [
        "#49페이지 5번\n",
        "# 금요일 : 탕수육\n",
        "# 토요일 : 유산슬\n",
        "# 일요일 : 팔보채\n",
        "day = ['금요일', '토요일', '일요일']\n",
        "menu = ['탕수육', '유산슬', '팔보채']\n",
        "china = dict(zip(day,menu))\n",
        "\n",
        "china2 = dict(금요일 = '탕수육' , 토요일 = '유산슬' , 일요일 = '팔보채')\n",
        "\n",
        "china3 = dict([('금', '탕'),('토','유'),('일','팔')])\n",
        "\n",
        "print(china)\n",
        "print(china2)\n",
        "print(china3)"
      ],
      "metadata": {
        "colab": {
          "base_uri": "https://localhost:8080/"
        },
        "id": "y2v-1XW-7QF6",
        "outputId": "b1747be5-7777-4665-a90b-0bdd3d693367"
      },
      "execution_count": 113,
      "outputs": [
        {
          "output_type": "stream",
          "name": "stdout",
          "text": [
            "{'금요일': '탕수육', '토요일': '유산슬', '일요일': '팔보채'}\n",
            "{'금요일': '탕수육', '토요일': '유산슬', '일요일': '팔보채'}\n",
            "{'금': '탕', '토': '유', '일': '팔'}\n"
          ]
        }
      ]
    },
    {
      "cell_type": "code",
      "source": [
        "# 66페이지 3번\n",
        "# key값 : flower, fly, floor\n",
        "# value값: 꽃, 날다, 바닥\n",
        "\n",
        "# 영어 단어를 입력하세요 >>> ____\n",
        "# 입력한 값이 있다면 : 영단어 : 한국어\n",
        "# 입력한 값이 없다면 : 영단어 : 사전에 없는 단어입니다.\n",
        "\n",
        "key1 = ('flower', 'fly', 'floor')\n",
        "value1 = ('꽃', '날다', '바닥')\n",
        "dic = dict(zip(key1,value1))\n",
        "\n",
        "word = input(\"영어 단어를 입력하세요 >>>\")\n",
        "print(word + \" : \" + dic.pop(word, \"사전에 없는 단어입니다\"))\n",
        "print(word, \" : \", dic.pop(word,\"사전에 없는 단어입니다\"))\n"
      ],
      "metadata": {
        "colab": {
          "base_uri": "https://localhost:8080/"
        },
        "id": "X3UpcHwR-Ktq",
        "outputId": "83e1cd37-796f-4d91-e69f-5fbfcc59438a"
      },
      "execution_count": 118,
      "outputs": [
        {
          "output_type": "stream",
          "name": "stdout",
          "text": [
            "영어 단어를 입력하세요 >>>fly\n",
            "fly : 날다\n"
          ]
        }
      ]
    },
    {
      "cell_type": "code",
      "source": [
        "# 66페이지 3번\n",
        "# key값 : flower, fly, floor\n",
        "# value값: 꽃, 날다, 바닥\n",
        "\n",
        "# 영어 단어를 입력하세요 >>> ____\n",
        "# 입력한 값이 있다면 : 영단어 : 한국어\n",
        "# 입력한 값이 없다면 : 영단어 : 사전에 없는 단어입니다.\n",
        "# 리스트 두개를 써서 풀어보기\n",
        "key1 = ['flower', 'fly', 'floor']\n",
        "val1 = ['꽃', '날다', '바닥']\n",
        "english_dict = dict(zip(key1, val1))\n",
        "\n",
        "word = input(\"영어 단어를 입력하세요 >>>\")\n",
        "\n",
        "print(word, \":\", english_dict.pop(word, \"사전에 없는 단어입니다.\"))"
      ],
      "metadata": {
        "id": "pMzA1xiaAniD"
      },
      "execution_count": null,
      "outputs": []
    }
  ]
}
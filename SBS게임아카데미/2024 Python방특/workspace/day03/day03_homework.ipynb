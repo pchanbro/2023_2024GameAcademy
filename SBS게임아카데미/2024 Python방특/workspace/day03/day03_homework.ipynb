{
  "nbformat": 4,
  "nbformat_minor": 0,
  "metadata": {
    "colab": {
      "provenance": []
    },
    "kernelspec": {
      "name": "python3",
      "display_name": "Python 3"
    },
    "language_info": {
      "name": "python"
    }
  },
  "cells": [
    {
      "cell_type": "code",
      "execution_count": 11,
      "metadata": {
        "colab": {
          "base_uri": "https://localhost:8080/"
        },
        "id": "m2oPOoY7C9tq",
        "outputId": "804a4e21-0837-4e40-d91b-e7bb0fa0ee7e"
      },
      "outputs": [
        {
          "output_type": "stream",
          "name": "stdout",
          "text": [
            "15\n"
          ]
        }
      ],
      "source": [
        "a = \"54321\"\n",
        "b = int(a[0]) + int(a[1]) + int(a[2]) + int(a[3]) + int(a[4])\n",
        "print(b)"
      ]
    },
    {
      "cell_type": "code",
      "source": [
        "a = \"5000100060000800009\"\n",
        "b = int(a[0]) + int(a[1]) + int(a[2]) + int(a[3]) + int(a[4]) + int(a[5]) + int(a[6]) + int(a[7]) + int(a[8]) + int(a[9]) + int(a[10]) + int(a[11]) + int(a[12]) + int(a[13]) + int(a[14]) + int(a[15]) + int(a[16]) + int(a[17]) + int(a[18])\n",
        "print(b)"
      ],
      "metadata": {
        "colab": {
          "base_uri": "https://localhost:8080/"
        },
        "id": "93TeWviJE0QS",
        "outputId": "f419dad0-a1c2-47da-c214-02d4bf882d8e"
      },
      "execution_count": 13,
      "outputs": [
        {
          "output_type": "stream",
          "name": "stdout",
          "text": [
            "29\n"
          ]
        }
      ]
    },
    {
      "cell_type": "code",
      "source": [
        "a = \"level\"\n",
        "b = list(a)\n",
        "print(b[0] == b[-1] and b[1] == b[-2] )"
      ],
      "metadata": {
        "colab": {
          "base_uri": "https://localhost:8080/"
        },
        "id": "Ay6BAhbgHM4I",
        "outputId": "43ab66b8-19c1-4192-8fd6-dc681ec5e04d"
      },
      "execution_count": 15,
      "outputs": [
        {
          "output_type": "stream",
          "name": "stdout",
          "text": [
            "True\n"
          ]
        }
      ]
    },
    {
      "cell_type": "code",
      "source": [
        "a = \"python\"\n",
        "b = list(a)\n",
        "print(b[0] == b[-1] and b[1] == b[-2] and b[2] == b[-2])"
      ],
      "metadata": {
        "colab": {
          "base_uri": "https://localhost:8080/"
        },
        "id": "FdtiiDPWHx6B",
        "outputId": "d0e5a7c7-3942-4111-dade-cbbbd04b42b5"
      },
      "execution_count": 16,
      "outputs": [
        {
          "output_type": "stream",
          "name": "stdout",
          "text": [
            "False\n"
          ]
        }
      ]
    }
  ]
}
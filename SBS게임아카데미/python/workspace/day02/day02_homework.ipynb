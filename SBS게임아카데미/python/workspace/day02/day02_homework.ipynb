{
  "nbformat": 4,
  "nbformat_minor": 0,
  "metadata": {
    "colab": {
      "provenance": []
    },
    "kernelspec": {
      "name": "python3",
      "display_name": "Python 3"
    },
    "language_info": {
      "name": "python"
    }
  },
  "cells": [
    {
      "cell_type": "code",
      "execution_count": 4,
      "metadata": {
        "colab": {
          "base_uri": "https://localhost:8080/"
        },
        "id": "7RmYUkYC20XO",
        "outputId": "403984b5-42b4-41cb-90c1-23b658f36683"
      },
      "outputs": [
        {
          "output_type": "stream",
          "name": "stdout",
          "text": [
            "'Python' is a \"programming\"language\n",
            "and it is \"easy\"\n",
            "to\n",
            "write code!!!\n"
          ]
        }
      ],
      "source": [
        "a = \"\"\"'Python' is a \"programming\"language\n",
        "and it is \"easy\"\n",
        "to\n",
        "write code!!!\"\"\"\n",
        "print(a)"
      ]
    },
    {
      "cell_type": "code",
      "source": [
        "a = \"Python is a \\\"programming\\\"language\"\n",
        "print(a)\n",
        "a = \"and it is \\\"easy\\\"\"\n",
        "print(a)\n",
        "a = \"to\"\n",
        "print(a)\n",
        "a = \"write code!!!\"\n",
        "print(a)"
      ],
      "metadata": {
        "colab": {
          "base_uri": "https://localhost:8080/"
        },
        "id": "0NnWhaho7Mdk",
        "outputId": "801fb899-3f45-43de-8b29-3219627f06ba"
      },
      "execution_count": 6,
      "outputs": [
        {
          "output_type": "stream",
          "name": "stdout",
          "text": [
            "Python is a \"programming\"language\n",
            "and it is \"easy\"\n",
            "to\n",
            "write code!!!\n"
          ]
        }
      ]
    },
    {
      "cell_type": "code",
      "source": [
        "a = \"python\"\n",
        "print('\"' + a.upper().rjust(10) + '\"')\n",
        "print('\"' + a.ljust(10) + '\"')\n",
        "table = str.maketrans(\"on\", \"ON\")\n",
        "print('\"' + a.translate(table).center(10) + '\"')\n",
        "table = str.maketrans(\"pyon\", \"PY12\")\n",
        "print('\"' + a.translate(table) + '\"')"
      ],
      "metadata": {
        "colab": {
          "base_uri": "https://localhost:8080/"
        },
        "id": "vGuIld02_SE_",
        "outputId": "70c06521-18da-4924-d33e-ce13d1881db8"
      },
      "execution_count": 13,
      "outputs": [
        {
          "output_type": "stream",
          "name": "stdout",
          "text": [
            "\"    PYTHON\"\n",
            "\"python    \"\n",
            "\"  pythON  \"\n",
            "\"PYth12\"\n"
          ]
        }
      ]
    },
    {
      "cell_type": "code",
      "source": [],
      "metadata": {
        "id": "Ur9SzC5c_cU0"
      },
      "execution_count": null,
      "outputs": []
    }
  ]
}
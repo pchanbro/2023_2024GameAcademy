{
  "nbformat": 4,
  "nbformat_minor": 0,
  "metadata": {
    "colab": {
      "provenance": []
    },
    "kernelspec": {
      "name": "python3",
      "display_name": "Python 3"
    },
    "language_info": {
      "name": "python"
    }
  },
  "cells": [
    {
      "cell_type": "code",
      "execution_count": 4,
      "metadata": {
        "colab": {
          "base_uri": "https://localhost:8080/"
        },
        "id": "RZLpzVW33CPz",
        "outputId": "01136003-d840-40f2-8f94-a1c5e11619f9"
      },
      "outputs": [
        {
          "output_type": "stream",
          "name": "stdout",
          "text": [
            "[4, 3, 2, 1]\n",
            "[7, 8, 100, 200, 300, 9, 10, 11, 12]\n",
            "[7, 8, 100, 200, 300, 9, 10, 11, 12, 4, 3, 2, 1]\n"
          ]
        }
      ],
      "source": [
        "a = [1, 3, 2, 4]\n",
        "b = [7,8,9,10,11,12]\n",
        "c = [100, 200, 300]\n",
        "a.sort(reverse = True)\n",
        "print(a)\n",
        "b[2:2] = c\n",
        "print(b)\n",
        "d = b + a\n",
        "print(d)"
      ]
    },
    {
      "cell_type": "code",
      "source": [
        "a,b,c,d = map(str, input(\"학생들의 이름을 입력하세요 >>>\").split())\n",
        "e,f,g,h = map(float, input(\"학생들의 성적을 입력하세요 >>>\").split())\n",
        "\n",
        "name = [a, b, c, d]\n",
        "grade = [e, f, g, h]\n",
        "print(name)\n",
        "print(grade)\n",
        "\n",
        "dic1 = dict(zip(name, grade))\n",
        "print(dic1)\n",
        "\n",
        "dic2 = dict([(a,e), (b,f), (c,g), (d,h)])\n",
        "print(dic2)"
      ],
      "metadata": {
        "colab": {
          "base_uri": "https://localhost:8080/"
        },
        "id": "0Tgjv-Nz7cQi",
        "outputId": "76cc22cf-58ba-4b5b-eb87-1f8c461b91e2"
      },
      "execution_count": 5,
      "outputs": [
        {
          "output_type": "stream",
          "name": "stdout",
          "text": [
            "학생들의 이름을 입력하세요 >>>james maria grace victor\n",
            "학생들의 성적을 입력하세요 >>>96.3 23.1 100 87.4\n",
            "['james', 'maria', 'grace', 'victor']\n",
            "[96.3, 23.1, 100.0, 87.4]\n",
            "{'james': 96.3, 'maria': 23.1, 'grace': 100.0, 'victor': 87.4}\n",
            "{'james': 96.3, 'maria': 23.1, 'grace': 100.0, 'victor': 87.4}\n"
          ]
        }
      ]
    }
  ]
}
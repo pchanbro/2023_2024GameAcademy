{
  "nbformat": 4,
  "nbformat_minor": 0,
  "metadata": {
    "colab": {
      "provenance": []
    },
    "kernelspec": {
      "name": "python3",
      "display_name": "Python 3"
    },
    "language_info": {
      "name": "python"
    }
  },
  "cells": [
    {
      "cell_type": "code",
      "execution_count": 1,
      "metadata": {
        "colab": {
          "base_uri": "https://localhost:8080/"
        },
        "id": "MRQDDF-F20Bx",
        "outputId": "597e01ac-7211-46e2-88e0-6a2c4f4e357f"
      },
      "outputs": [
        {
          "output_type": "stream",
          "name": "stdout",
          "text": [
            "Hello World\n"
          ]
        }
      ],
      "source": [
        "print(\"Hello World\")"
      ]
    },
    {
      "cell_type": "code",
      "source": [
        "1+1"
      ],
      "metadata": {
        "colab": {
          "base_uri": "https://localhost:8080/"
        },
        "id": "ztR7sJf83Tvj",
        "outputId": "05b711a1-1645-44b7-e5e8-8b1cb31f8bf8"
      },
      "execution_count": 2,
      "outputs": [
        {
          "output_type": "execute_result",
          "data": {
            "text/plain": [
              "2"
            ]
          },
          "metadata": {},
          "execution_count": 2
        }
      ]
    },
    {
      "cell_type": "code",
      "source": [
        "print(\"Hello World\")\n",
        "print(\"Hello Python\")"
      ],
      "metadata": {
        "colab": {
          "base_uri": "https://localhost:8080/"
        },
        "id": "gecXe1ja3YmF",
        "outputId": "31c8e3eb-1788-4f34-ae5e-035b0e10858b"
      },
      "execution_count": 4,
      "outputs": [
        {
          "output_type": "stream",
          "name": "stdout",
          "text": [
            "Hello World\n",
            "Hello Python\n"
          ]
        }
      ]
    },
    {
      "cell_type": "code",
      "source": [
        "a, b, c, d = map(int, input(\"4개 점수를 입력하세요 >>> \").split())\n",
        "print(\"평균은\", (a+b+c+d)/4, \"점 입니다.\")"
      ],
      "metadata": {
        "colab": {
          "base_uri": "https://localhost:8080/"
        },
        "id": "8I-n0BqE3p4z",
        "outputId": "7b4bf215-0e6e-42ca-ea71-66ff26d06fd3"
      },
      "execution_count": 5,
      "outputs": [
        {
          "output_type": "stream",
          "name": "stdout",
          "text": [
            "4개 점수를 입력하세요 >>> 100 90 85 80\n",
            "평균은 88.75 점 입니다.\n"
          ]
        }
      ]
    },
    {
      "cell_type": "markdown",
      "source": [
        "# 제목 1\n",
        "## 제목 2\n",
        "### 제목 3\n",
        "\n",
        "그냥 글씨를 쓰면 그냥 글씨가 써집니다.\n",
        "\n",
        "> 강조\n",
        "\n",
        "- 목록1\n",
        "- 목록2\n",
        "- 목록3\n",
        "\n",
        "1. 목록1\n",
        "1. 목록2\n",
        "1. 목록3\n",
        "\n",
        "- - -\n",
        "\n",
        "**굵은 글씨**\n",
        "\n",
        "*기울어진 글씨*\n",
        "\n",
        "***굵고 기울어진 글씨***\n",
        "\n",
        "~~취소선~~"
      ],
      "metadata": {
        "id": "_e6tZ5rk4SC-"
      }
    },
    {
      "cell_type": "code",
      "source": [
        "10 == 5"
      ],
      "metadata": {
        "colab": {
          "base_uri": "https://localhost:8080/"
        },
        "id": "k6wfBPN_49tJ",
        "outputId": "b181b268-7083-492b-dd09-90f3b3f98f0f"
      },
      "execution_count": 6,
      "outputs": [
        {
          "output_type": "execute_result",
          "data": {
            "text/plain": [
              "False"
            ]
          },
          "metadata": {},
          "execution_count": 6
        }
      ]
    },
    {
      "cell_type": "code",
      "source": [
        "6 <= 8"
      ],
      "metadata": {
        "colab": {
          "base_uri": "https://localhost:8080/"
        },
        "id": "jpKSCvDi5Mf0",
        "outputId": "31fd3b5a-ee53-4c0a-d526-0558abe2fd8e"
      },
      "execution_count": 7,
      "outputs": [
        {
          "output_type": "execute_result",
          "data": {
            "text/plain": [
              "True"
            ]
          },
          "metadata": {},
          "execution_count": 7
        }
      ]
    },
    {
      "cell_type": "code",
      "source": [
        "1.00000000000000000000001 == 1"
      ],
      "metadata": {
        "colab": {
          "base_uri": "https://localhost:8080/"
        },
        "id": "Dhao8WO65Oby",
        "outputId": "423f13af-5871-4c3c-84cb-846166ee4a21"
      },
      "execution_count": 8,
      "outputs": [
        {
          "output_type": "execute_result",
          "data": {
            "text/plain": [
              "True"
            ]
          },
          "metadata": {},
          "execution_count": 8
        }
      ]
    },
    {
      "cell_type": "code",
      "source": [
        "print(1 == 1.0)\n",
        "print(1 == 1+0j)\n",
        "print(1.0 == 1+0j)"
      ],
      "metadata": {
        "colab": {
          "base_uri": "https://localhost:8080/"
        },
        "id": "oUcrMKmE5R6C",
        "outputId": "a811f8fe-bd34-42c7-a958-758c4e8845cb"
      },
      "execution_count": 11,
      "outputs": [
        {
          "output_type": "stream",
          "name": "stdout",
          "text": [
            "True\n",
            "True\n",
            "True\n"
          ]
        }
      ]
    },
    {
      "cell_type": "code",
      "source": [
        "print(1 == 1.0)\n",
        "print(1 is 1.0)\n",
        "print(1.0 is 1+0j)\n",
        "\n",
        "print(type(1))\n",
        "print(type(1.0))\n",
        "print(type(1+0j))"
      ],
      "metadata": {
        "colab": {
          "base_uri": "https://localhost:8080/"
        },
        "id": "LbVQWK3M5Xxz",
        "outputId": "9cbf4f40-51ad-41b7-a30c-088061ef21c5"
      },
      "execution_count": 15,
      "outputs": [
        {
          "output_type": "stream",
          "name": "stdout",
          "text": [
            "True\n",
            "False\n",
            "False\n",
            "<class 'int'>\n",
            "<class 'float'>\n",
            "<class 'complex'>\n"
          ]
        },
        {
          "output_type": "stream",
          "name": "stderr",
          "text": [
            "<>:2: SyntaxWarning: \"is\" with a literal. Did you mean \"==\"?\n",
            "<>:3: SyntaxWarning: \"is\" with a literal. Did you mean \"==\"?\n",
            "<>:2: SyntaxWarning: \"is\" with a literal. Did you mean \"==\"?\n",
            "<>:3: SyntaxWarning: \"is\" with a literal. Did you mean \"==\"?\n",
            "<ipython-input-15-6e8285dc7c22>:2: SyntaxWarning: \"is\" with a literal. Did you mean \"==\"?\n",
            "  print(1 is 1.0)\n",
            "<ipython-input-15-6e8285dc7c22>:3: SyntaxWarning: \"is\" with a literal. Did you mean \"==\"?\n",
            "  print(1.0 is 1+0j)\n"
          ]
        }
      ]
    },
    {
      "cell_type": "code",
      "source": [
        "print(id(1))\n",
        "print(id(1.0))\n",
        "print(id(1))"
      ],
      "metadata": {
        "colab": {
          "base_uri": "https://localhost:8080/"
        },
        "id": "fkG_HDlU5kfz",
        "outputId": "513861f5-d655-412e-ba64-5b28a2f4f9ae"
      },
      "execution_count": 17,
      "outputs": [
        {
          "output_type": "stream",
          "name": "stdout",
          "text": [
            "137931955650800\n",
            "137930974777296\n",
            "137931955650800\n"
          ]
        }
      ]
    },
    {
      "cell_type": "code",
      "source": [
        "a = 5\n",
        "print(a is 5)"
      ],
      "metadata": {
        "colab": {
          "base_uri": "https://localhost:8080/"
        },
        "id": "VnIfTIV16Enb",
        "outputId": "33b1a825-8777-4020-f366-33880eb52177"
      },
      "execution_count": 19,
      "outputs": [
        {
          "output_type": "stream",
          "name": "stdout",
          "text": [
            "True\n",
            "True\n"
          ]
        },
        {
          "output_type": "stream",
          "name": "stderr",
          "text": [
            "<>:2: SyntaxWarning: \"is\" with a literal. Did you mean \"==\"?\n",
            "<>:4: SyntaxWarning: \"is\" with a literal. Did you mean \"==\"?\n",
            "<>:2: SyntaxWarning: \"is\" with a literal. Did you mean \"==\"?\n",
            "<>:4: SyntaxWarning: \"is\" with a literal. Did you mean \"==\"?\n",
            "<ipython-input-19-f8d8835af411>:2: SyntaxWarning: \"is\" with a literal. Did you mean \"==\"?\n",
            "  print(a is 5)\n",
            "<ipython-input-19-f8d8835af411>:4: SyntaxWarning: \"is\" with a literal. Did you mean \"==\"?\n",
            "  print(a is 6)\n"
          ]
        }
      ]
    },
    {
      "cell_type": "code",
      "source": [
        "a = 6\n",
        "print(a is 6)"
      ],
      "metadata": {
        "colab": {
          "base_uri": "https://localhost:8080/"
        },
        "id": "QCExspMy6XUr",
        "outputId": "2a23c906-d259-4ed6-820e-8d06cf4438c3"
      },
      "execution_count": 20,
      "outputs": [
        {
          "output_type": "stream",
          "name": "stdout",
          "text": [
            "True\n"
          ]
        },
        {
          "output_type": "stream",
          "name": "stderr",
          "text": [
            "<>:2: SyntaxWarning: \"is\" with a literal. Did you mean \"==\"?\n",
            "<>:2: SyntaxWarning: \"is\" with a literal. Did you mean \"==\"?\n",
            "<ipython-input-20-477252325f43>:2: SyntaxWarning: \"is\" with a literal. Did you mean \"==\"?\n",
            "  print(a is 6)\n"
          ]
        }
      ]
    },
    {
      "cell_type": "code",
      "source": [
        "print(True and True)\n",
        "print(True and False)\n",
        "print(False and True)\n",
        "print(False and False)"
      ],
      "metadata": {
        "colab": {
          "base_uri": "https://localhost:8080/"
        },
        "id": "8Io7xRGN6byL",
        "outputId": "3725f936-6164-4559-9e61-fff8a9d82fc8"
      },
      "execution_count": 24,
      "outputs": [
        {
          "output_type": "stream",
          "name": "stdout",
          "text": [
            "True\n",
            "False\n",
            "False\n",
            "False\n"
          ]
        }
      ]
    },
    {
      "cell_type": "code",
      "source": [
        "print(True or True)\n",
        "print(True or False)\n",
        "print(False or True)\n",
        "print(False or False)"
      ],
      "metadata": {
        "colab": {
          "base_uri": "https://localhost:8080/"
        },
        "id": "yd5Kpq_F7A57",
        "outputId": "3b5d6233-3d4b-4150-c73c-9a66530f2ca6"
      },
      "execution_count": 25,
      "outputs": [
        {
          "output_type": "stream",
          "name": "stdout",
          "text": [
            "True\n",
            "True\n",
            "True\n",
            "False\n"
          ]
        }
      ]
    },
    {
      "cell_type": "code",
      "source": [
        "print(not True)\n",
        "print(not False)"
      ],
      "metadata": {
        "colab": {
          "base_uri": "https://localhost:8080/"
        },
        "id": "sGXeMI_H7VNj",
        "outputId": "45bb9329-6a19-4a7e-a52d-6e2bb3cad8ee"
      },
      "execution_count": 26,
      "outputs": [
        {
          "output_type": "stream",
          "name": "stdout",
          "text": [
            "False\n",
            "True\n"
          ]
        }
      ]
    },
    {
      "cell_type": "code",
      "source": [
        "print((8 >= 4) and (4 == 4))\n",
        "print((5 != 5) or (10 >= 7))\n",
        "print(not (6 != 7))"
      ],
      "metadata": {
        "colab": {
          "base_uri": "https://localhost:8080/"
        },
        "id": "s4dvU5Y77oZz",
        "outputId": "5fa8af29-78ca-4908-f46c-f510e8facbcf"
      },
      "execution_count": 29,
      "outputs": [
        {
          "output_type": "stream",
          "name": "stdout",
          "text": [
            "True\n",
            "True\n",
            "False\n"
          ]
        }
      ]
    },
    {
      "cell_type": "code",
      "source": [
        "print(not True and False or not False)\n",
        "print(False and False or True)\n",
        "print(False or True)\n",
        "print(True)"
      ],
      "metadata": {
        "colab": {
          "base_uri": "https://localhost:8080/"
        },
        "id": "Hm-Ufdc07zhr",
        "outputId": "49cf1e03-64b1-4515-b180-30b87d45c143"
      },
      "execution_count": 30,
      "outputs": [
        {
          "output_type": "stream",
          "name": "stdout",
          "text": [
            "True\n",
            "True\n",
            "True\n",
            "True\n"
          ]
        }
      ]
    },
    {
      "cell_type": "code",
      "source": [
        "print(not (True or not False or True) and False and not True)\n",
        "print(False)"
      ],
      "metadata": {
        "colab": {
          "base_uri": "https://localhost:8080/"
        },
        "id": "VHrYUqQ28URF",
        "outputId": "70def514-17f7-4955-b699-e89665ce1130"
      },
      "execution_count": 31,
      "outputs": [
        {
          "output_type": "stream",
          "name": "stdout",
          "text": [
            "False\n",
            "False\n"
          ]
        }
      ]
    },
    {
      "cell_type": "code",
      "source": [
        "print(not 1 is 1.0)\n",
        "print(not 10 > 5 and 6 <= 8)\n",
        "print(False)"
      ],
      "metadata": {
        "colab": {
          "base_uri": "https://localhost:8080/"
        },
        "id": "JHNQpmgM8mkE",
        "outputId": "8c413ac4-8983-4346-c6e9-68a8eb7c2a39"
      },
      "execution_count": 33,
      "outputs": [
        {
          "output_type": "stream",
          "name": "stdout",
          "text": [
            "True\n",
            "False\n",
            "False\n"
          ]
        },
        {
          "output_type": "stream",
          "name": "stderr",
          "text": [
            "<>:1: SyntaxWarning: \"is not\" with a literal. Did you mean \"!=\"?\n",
            "<>:1: SyntaxWarning: \"is not\" with a literal. Did you mean \"!=\"?\n",
            "<ipython-input-33-fdf609bf3c05>:1: SyntaxWarning: \"is not\" with a literal. Did you mean \"!=\"?\n",
            "  print(not 1 is 1.0)\n"
          ]
        }
      ]
    },
    {
      "cell_type": "code",
      "source": [
        "print(bool(100))\n",
        "print(bool(0))\n",
        "print(bool(-100))"
      ],
      "metadata": {
        "colab": {
          "base_uri": "https://localhost:8080/"
        },
        "id": "AVbSWGp98s_z",
        "outputId": "eda48098-d097-48a0-c261-c1068e0ca9f6"
      },
      "execution_count": 36,
      "outputs": [
        {
          "output_type": "stream",
          "name": "stdout",
          "text": [
            "True\n",
            "False\n",
            "True\n"
          ]
        }
      ]
    },
    {
      "cell_type": "code",
      "source": [
        "print(int(True), int(False))\n",
        "print(float(True), float(False))"
      ],
      "metadata": {
        "colab": {
          "base_uri": "https://localhost:8080/"
        },
        "id": "1NSwj67u9ABC",
        "outputId": "34d544d4-1264-4e43-c076-106b93ff2934"
      },
      "execution_count": 38,
      "outputs": [
        {
          "output_type": "stream",
          "name": "stdout",
          "text": [
            "1 0\n",
            "1.0 0.0\n"
          ]
        }
      ]
    },
    {
      "cell_type": "code",
      "source": [
        "print(bool(0.0))\n",
        "print(bool(1.0))\n",
        "print(bool(0.000000000000000000001))\n",
        "print(bool(0.00000000000000000000000000001))\n",
        "print(bool(-1.0))"
      ],
      "metadata": {
        "colab": {
          "base_uri": "https://localhost:8080/"
        },
        "id": "lVc_Ozp49K26",
        "outputId": "e68f336a-61c1-4078-e900-a3807f9c44e4"
      },
      "execution_count": 43,
      "outputs": [
        {
          "output_type": "stream",
          "name": "stdout",
          "text": [
            "False\n",
            "True\n",
            "True\n",
            "True\n",
            "True\n"
          ]
        }
      ]
    },
    {
      "cell_type": "code",
      "source": [
        "import math\n",
        "print(bool(1/3))\n",
        "print(bool(math.pi))"
      ],
      "metadata": {
        "colab": {
          "base_uri": "https://localhost:8080/"
        },
        "id": "giXkGlHp9UVK",
        "outputId": "590f77d7-f27f-4f33-b16d-d0800e2cca01"
      },
      "execution_count": 46,
      "outputs": [
        {
          "output_type": "stream",
          "name": "stdout",
          "text": [
            "True\n",
            "True\n"
          ]
        }
      ]
    },
    {
      "cell_type": "code",
      "source": [
        "print(bool(1 + 0j))\n",
        "print(bool(0 + 0j))\n",
        "print(bool(0 + 1j))"
      ],
      "metadata": {
        "colab": {
          "base_uri": "https://localhost:8080/"
        },
        "id": "cL4Twm8N9mTa",
        "outputId": "9fdd4416-d5f9-41b3-8584-c8af2941b635"
      },
      "execution_count": 49,
      "outputs": [
        {
          "output_type": "stream",
          "name": "stdout",
          "text": [
            "True\n",
            "False\n",
            "True\n"
          ]
        }
      ]
    },
    {
      "cell_type": "code",
      "source": [
        "print(bool(\"\"))\n",
        "print(bool(\"True\"))\n",
        "print(bool(\"False\"))\n",
        "print(0 and \"\")\n",
        "\n",
        "print(bool(True))\n",
        "print(bool(False))"
      ],
      "metadata": {
        "colab": {
          "base_uri": "https://localhost:8080/"
        },
        "id": "1N6nrVvt9uLd",
        "outputId": "0c08eaf1-1d60-4940-94e2-8278b7217b9e"
      },
      "execution_count": 54,
      "outputs": [
        {
          "output_type": "stream",
          "name": "stdout",
          "text": [
            "False\n",
            "True\n",
            "True\n",
            "0\n",
            "True\n",
            "False\n"
          ]
        }
      ]
    },
    {
      "cell_type": "code",
      "source": [
        "print(True and \"False\")\n",
        "print(True and \"Hello\")\n",
        "print(False and \"Hello\")\n",
        "print(\"Python\" and True)\n",
        "print(\"Python\" and False)"
      ],
      "metadata": {
        "colab": {
          "base_uri": "https://localhost:8080/"
        },
        "id": "v8Yl0_Se97Qq",
        "outputId": "dd404191-0243-4708-8da0-527836d199b7"
      },
      "execution_count": 59,
      "outputs": [
        {
          "output_type": "stream",
          "name": "stdout",
          "text": [
            "False\n",
            "Hello\n",
            "False\n",
            "True\n",
            "False\n"
          ]
        }
      ]
    },
    {
      "cell_type": "code",
      "source": [
        "print(False and \"Python\")\n",
        "print(0 and \"Python\")"
      ],
      "metadata": {
        "colab": {
          "base_uri": "https://localhost:8080/"
        },
        "id": "IhNgHHcb-Wez",
        "outputId": "6803b3a9-48cb-4bfe-cd5b-a3cdc98c8095"
      },
      "execution_count": 60,
      "outputs": [
        {
          "output_type": "stream",
          "name": "stdout",
          "text": [
            "False\n",
            "0\n"
          ]
        }
      ]
    },
    {
      "cell_type": "code",
      "source": [
        "print(True or \"Python\")\n",
        "print(\"Python\" or True)\n",
        "print(0 or True)\n",
        "print(0 or False)"
      ],
      "metadata": {
        "colab": {
          "base_uri": "https://localhost:8080/"
        },
        "id": "hgYKlq22-8Ma",
        "outputId": "fffb19df-0ad3-461b-bf50-671c581c55a5"
      },
      "execution_count": 64,
      "outputs": [
        {
          "output_type": "stream",
          "name": "stdout",
          "text": [
            "True\n",
            "Python\n",
            "True\n",
            "False\n"
          ]
        }
      ]
    },
    {
      "cell_type": "code",
      "source": [
        "a, b, c = map(int, input(\"3개의 점수를 입력하세요 >>> \").split())\n",
        "print(a >= 50 and b >= 50 and c >= 50)"
      ],
      "metadata": {
        "colab": {
          "base_uri": "https://localhost:8080/"
        },
        "id": "q-Smw2lO_EBK",
        "outputId": "7a909e50-5fd4-484d-86a9-d98278268c2c"
      },
      "execution_count": 66,
      "outputs": [
        {
          "output_type": "stream",
          "name": "stdout",
          "text": [
            "3개의 점수를 입력하세요 >>> 40 50 50\n",
            "False\n"
          ]
        }
      ]
    },
    {
      "cell_type": "code",
      "source": [
        "print(\"Hello World\")\n",
        "print('Hello World')\n",
        "\n",
        "a = \"Hello World\"\n",
        "print(a)"
      ],
      "metadata": {
        "colab": {
          "base_uri": "https://localhost:8080/"
        },
        "id": "gDxiQFtIAXbx",
        "outputId": "6f7c317e-f413-4b66-ed9c-b0c318cfe337"
      },
      "execution_count": 69,
      "outputs": [
        {
          "output_type": "stream",
          "name": "stdout",
          "text": [
            "Hello World\n",
            "Hello World\n",
            "Hello World\n"
          ]
        }
      ]
    },
    {
      "cell_type": "code",
      "source": [
        "b = \"\"\"Hello World\"\"\"\n",
        "print(b)"
      ],
      "metadata": {
        "colab": {
          "base_uri": "https://localhost:8080/"
        },
        "id": "8d6tmiwrDAJS",
        "outputId": "bf942567-ef56-4756-f193-0b6d3528a933"
      },
      "execution_count": 70,
      "outputs": [
        {
          "output_type": "stream",
          "name": "stdout",
          "text": [
            "Hello World\n"
          ]
        }
      ]
    },
    {
      "cell_type": "code",
      "source": [
        "c = \"Hello\\nWorld\"\n",
        "print(c)\n",
        "d = \"\"\"Hello\n",
        "World\"\"\"\n",
        "print(d)"
      ],
      "metadata": {
        "colab": {
          "base_uri": "https://localhost:8080/"
        },
        "id": "DAm_6AVyDPyL",
        "outputId": "6921871b-8abc-480f-cec6-e33d2339d369"
      },
      "execution_count": 72,
      "outputs": [
        {
          "output_type": "stream",
          "name": "stdout",
          "text": [
            "Hello\n",
            "World\n",
            "Hello\n",
            "World\n"
          ]
        }
      ]
    },
    {
      "cell_type": "code",
      "source": [
        "print(\"Hello\\\"World\")\n",
        "print(\"\"\"Hello\"World\"\"\")\n",
        "print('Hello\\'World')\n",
        "print('''Hello'World''')"
      ],
      "metadata": {
        "colab": {
          "base_uri": "https://localhost:8080/"
        },
        "id": "qyubEGrXDXcT",
        "outputId": "07fb1a00-5cdd-4f42-8682-482208bbe208"
      },
      "execution_count": 76,
      "outputs": [
        {
          "output_type": "stream",
          "name": "stdout",
          "text": [
            "Hello\"World\n",
            "Hello\"World\n",
            "Hello'World\n",
            "Hello'World\n"
          ]
        }
      ]
    },
    {
      "cell_type": "code",
      "source": [
        "a = \"Hello\"\n",
        "print('l' in a)\n",
        "print('L' in a)"
      ],
      "metadata": {
        "colab": {
          "base_uri": "https://localhost:8080/"
        },
        "id": "QFNI6X6MDwcp",
        "outputId": "caea7208-f17a-434c-cfa2-c3e8c88843f4"
      },
      "execution_count": 78,
      "outputs": [
        {
          "output_type": "stream",
          "name": "stdout",
          "text": [
            "True\n",
            "False\n"
          ]
        }
      ]
    },
    {
      "cell_type": "code",
      "source": [
        "a = \"Hello\"\n",
        "print('l' not in a)\n",
        "print('L' not in a)"
      ],
      "metadata": {
        "colab": {
          "base_uri": "https://localhost:8080/"
        },
        "id": "tr4m6b1wEPw5",
        "outputId": "476fece9-b52a-4b05-b5bb-f32ef3095e24"
      },
      "execution_count": 79,
      "outputs": [
        {
          "output_type": "stream",
          "name": "stdout",
          "text": [
            "False\n",
            "True\n"
          ]
        }
      ]
    },
    {
      "cell_type": "code",
      "source": [
        "a, b = input().split()\n",
        "print(a+b)"
      ],
      "metadata": {
        "colab": {
          "base_uri": "https://localhost:8080/"
        },
        "id": "H-sZPmDDEgnx",
        "outputId": "d1b9c29d-e2cb-41d9-ecb5-20ef5aa256e3"
      },
      "execution_count": 80,
      "outputs": [
        {
          "output_type": "stream",
          "name": "stdout",
          "text": [
            "10 20\n",
            "1020\n"
          ]
        }
      ]
    },
    {
      "cell_type": "code",
      "source": [
        "a = \"Hello\"\n",
        "print(a + a + a)\n",
        "print(a * 3)\n",
        "print(a * (-1))"
      ],
      "metadata": {
        "colab": {
          "base_uri": "https://localhost:8080/"
        },
        "id": "lTuq8wnvEqJy",
        "outputId": "789e41bb-0960-4063-cc3b-a00f3aec2f89"
      },
      "execution_count": 84,
      "outputs": [
        {
          "output_type": "stream",
          "name": "stdout",
          "text": [
            "HelloHelloHello\n",
            "HelloHelloHello\n",
            "\n"
          ]
        }
      ]
    },
    {
      "cell_type": "code",
      "source": [
        "a = \"Hello\"\n",
        "print(len(a))\n",
        "\n",
        "b = \"Hello World\"\n",
        "print(len(b))\n",
        "\n",
        "c = \"Hello\\n\"\n",
        "print(len(c))\n",
        "\n",
        "d = \"Hello\\\\\"\n",
        "print(len(d))\n",
        "\n",
        "e = \"\"\"Hello\\\\\"\"\"\n",
        "print(e)\n",
        "print(len(e))\n",
        "\n",
        "f = \"\"\"He\"\"llo\"\"\"\n",
        "print(f)\n",
        "print(len(f))"
      ],
      "metadata": {
        "colab": {
          "base_uri": "https://localhost:8080/"
        },
        "id": "HE05OSCUE806",
        "outputId": "f0421748-6371-4457-c180-b6ec1c1da501"
      },
      "execution_count": 93,
      "outputs": [
        {
          "output_type": "stream",
          "name": "stdout",
          "text": [
            "5\n",
            "11\n",
            "6\n",
            "6\n",
            "Hello\\\n",
            "6\n",
            "He\"\"llo\n",
            "7\n"
          ]
        }
      ]
    },
    {
      "cell_type": "code",
      "source": [
        "a = \"Hello\"\n",
        "print(a[1])\n",
        "print(a[0])\n",
        "print(a.__getitem__(2))"
      ],
      "metadata": {
        "colab": {
          "base_uri": "https://localhost:8080/"
        },
        "id": "qrgTDypjFRWx",
        "outputId": "f325b1f3-626a-45a1-e364-269ba2b4a65c"
      },
      "execution_count": 96,
      "outputs": [
        {
          "output_type": "stream",
          "name": "stdout",
          "text": [
            "e\n",
            "H\n",
            "l\n"
          ]
        }
      ]
    },
    {
      "cell_type": "code",
      "source": [
        "a = \"Hello\"\n",
        "# print(a[5])\n",
        "print(a[-1])\n",
        "print(a[-5])\n",
        "print(a[-len(a)])\n",
        "print(a[0])\n",
        "# print(a[-6])"
      ],
      "metadata": {
        "colab": {
          "base_uri": "https://localhost:8080/"
        },
        "id": "qgOYbs6_GJiq",
        "outputId": "52d98428-a2b9-4926-ba6b-9c1488bca29c"
      },
      "execution_count": 103,
      "outputs": [
        {
          "output_type": "stream",
          "name": "stdout",
          "text": [
            "o\n",
            "H\n",
            "H\n",
            "H\n"
          ]
        }
      ]
    },
    {
      "cell_type": "code",
      "source": [
        "a = \"Programming\"\n",
        "print(a[3] + a[4] + a[5] + a[6])\n",
        "print(a[3:7])\n",
        "print(a[0:4])\n",
        "print(a[:4])\n",
        "print(a[7:])\n",
        "print(a[:])"
      ],
      "metadata": {
        "colab": {
          "base_uri": "https://localhost:8080/"
        },
        "id": "oIoTIfgaGlii",
        "outputId": "c02e8bf9-a87e-4fa4-fa25-b60f033ad6b5"
      },
      "execution_count": 110,
      "outputs": [
        {
          "output_type": "stream",
          "name": "stdout",
          "text": [
            "gram\n",
            "gram\n",
            "Prog\n",
            "Prog\n",
            "ming\n",
            "Programming\n"
          ]
        }
      ]
    },
    {
      "cell_type": "code",
      "source": [
        "a = \"Programming\"\n",
        "print(a[3:8])\n",
        "print(a[3:8:2])\n",
        "\n",
        "print(a[3:9])\n",
        "print(a[3:9:3])\n",
        "\n",
        "print(a[:7])\n",
        "print(a[:7:2])\n",
        "\n",
        "print(a[::2])\n",
        "\n",
        "print(a[::])"
      ],
      "metadata": {
        "colab": {
          "base_uri": "https://localhost:8080/"
        },
        "id": "WmKfqIknHiaZ",
        "outputId": "1af00614-7560-4d0a-9d74-d7fbf7248cc0"
      },
      "execution_count": 118,
      "outputs": [
        {
          "output_type": "stream",
          "name": "stdout",
          "text": [
            "gramm\n",
            "gam\n",
            "grammi\n",
            "gm\n",
            "Program\n",
            "Porm\n",
            "Pormig\n",
            "Programming\n"
          ]
        }
      ]
    },
    {
      "cell_type": "code",
      "source": [
        "a = \"Hello World!\"\n",
        "print(a.replace(\"World\", \"Python\"))"
      ],
      "metadata": {
        "colab": {
          "base_uri": "https://localhost:8080/"
        },
        "id": "0YdpXtojIZXB",
        "outputId": "42601721-95d1-41e9-ccbc-fa4191e680dc"
      },
      "execution_count": 119,
      "outputs": [
        {
          "output_type": "stream",
          "name": "stdout",
          "text": [
            "Hello Python!\n"
          ]
        }
      ]
    },
    {
      "cell_type": "code",
      "source": [
        "a = \"Hello World!\"\n",
        "a = a.replace(\"World\", \"Python\")\n",
        "print(a)"
      ],
      "metadata": {
        "colab": {
          "base_uri": "https://localhost:8080/"
        },
        "id": "PNwt7si_JKtB",
        "outputId": "9dc9b68e-3311-4bc0-8bcd-7a90ac744f66"
      },
      "execution_count": 121,
      "outputs": [
        {
          "output_type": "stream",
          "name": "stdout",
          "text": [
            "Hello Python!\n"
          ]
        }
      ]
    },
    {
      "cell_type": "code",
      "source": [
        "a = \"Hello World!\"\n",
        "a = a.replace('l', '1')\n",
        "print(a)"
      ],
      "metadata": {
        "colab": {
          "base_uri": "https://localhost:8080/"
        },
        "id": "OUiiS-zGJURT",
        "outputId": "ee432282-3aef-4390-c9d4-146ee53a8386"
      },
      "execution_count": 122,
      "outputs": [
        {
          "output_type": "stream",
          "name": "stdout",
          "text": [
            "He11o Wor1d!\n"
          ]
        }
      ]
    },
    {
      "cell_type": "code",
      "source": [
        "# a -> 1, b -> 2, c -> 3\n",
        "table = str.maketrans(\"abc\", \"123\")\n",
        "a = \"apple banana crown\"\n",
        "a = a.translate(table)\n",
        "print(a)"
      ],
      "metadata": {
        "colab": {
          "base_uri": "https://localhost:8080/"
        },
        "id": "2osWn9ucJiNh",
        "outputId": "2c224af7-3f0e-4315-f271-59c716d89928"
      },
      "execution_count": 125,
      "outputs": [
        {
          "output_type": "stream",
          "name": "stdout",
          "text": [
            "1pple 21n1n1 3rown\n"
          ]
        }
      ]
    },
    {
      "cell_type": "code",
      "source": [
        "print(\"100 90 80 70\".split())\n",
        "print(\"apple,grape,banana\".split(','))"
      ],
      "metadata": {
        "colab": {
          "base_uri": "https://localhost:8080/"
        },
        "id": "GwM2ru1KJyrR",
        "outputId": "5ccadeaf-2f7b-4d4b-9a05-2db02dcde4c6"
      },
      "execution_count": 127,
      "outputs": [
        {
          "output_type": "stream",
          "name": "stdout",
          "text": [
            "['100', '90', '80', '70']\n",
            "['apple', 'grape', 'banana']\n"
          ]
        }
      ]
    },
    {
      "cell_type": "code",
      "source": [
        "a = ['apple', 'grape', 'banana']\n",
        "b = ' '.join(a)\n",
        "print(b)\n",
        "\n",
        "c = \"!Hello!\".join(a)\n",
        "print(c)"
      ],
      "metadata": {
        "colab": {
          "base_uri": "https://localhost:8080/"
        },
        "id": "xy2v-IUbKjuI",
        "outputId": "9492a697-6acf-4623-a0b7-d7611940bf58"
      },
      "execution_count": 129,
      "outputs": [
        {
          "output_type": "stream",
          "name": "stdout",
          "text": [
            "apple grape banana\n",
            "apple!Hello!grape!Hello!banana\n"
          ]
        }
      ]
    },
    {
      "cell_type": "code",
      "source": [
        "a = \"hELlo!!!한글123\"\n",
        "print(a.upper())\n",
        "print(a.lower())\n",
        "print(a.swapcase())"
      ],
      "metadata": {
        "colab": {
          "base_uri": "https://localhost:8080/"
        },
        "id": "gdsRtawPK6Oo",
        "outputId": "3632dbbe-586e-4b3d-ec90-ef0702c7caa0"
      },
      "execution_count": 134,
      "outputs": [
        {
          "output_type": "stream",
          "name": "stdout",
          "text": [
            "HELLO!!!한글123\n",
            "hello!!!한글123\n",
            "HelLO!!!한글123\n"
          ]
        }
      ]
    },
    {
      "cell_type": "code",
      "source": [
        "a = \"             Hello         \"\n",
        "print(a.strip())\n",
        "print(a.lstrip())\n",
        "print(a.rstrip())"
      ],
      "metadata": {
        "colab": {
          "base_uri": "https://localhost:8080/"
        },
        "id": "lQA-QnVyLP45",
        "outputId": "e40aaed8-0761-4da5-8ac1-37fbe9931aa2"
      },
      "execution_count": 136,
      "outputs": [
        {
          "output_type": "stream",
          "name": "stdout",
          "text": [
            "Hello\n",
            "Hello         \n",
            "             Hello\n"
          ]
        }
      ]
    },
    {
      "cell_type": "code",
      "source": [
        "a = \"aaaaaaaaHelloaaaaaa\"\n",
        "print(a.strip('a'))\n",
        "print(a.strip('aH'))\n",
        "\n",
        "b = \"., ., ., , ,., ,..Hello, .,.,. ., ., \"\n",
        "print(b.strip(' .,'))\n",
        "print(b.lstrip(' .,'))\n",
        "print(b.lstrip('.,'))\n",
        "print(b.rstrip('., '))"
      ],
      "metadata": {
        "colab": {
          "base_uri": "https://localhost:8080/"
        },
        "id": "1I8MiH6hLzio",
        "outputId": "c0399402-75a4-403f-a130-1cc66145360c"
      },
      "execution_count": 142,
      "outputs": [
        {
          "output_type": "stream",
          "name": "stdout",
          "text": [
            "Hello\n",
            "ello\n",
            "Hello\n",
            "Hello, .,.,. ., ., \n",
            " ., ., , ,., ,..Hello, .,.,. ., ., \n",
            "., ., ., , ,., ,..Hello\n"
          ]
        }
      ]
    },
    {
      "cell_type": "code",
      "source": [
        "a = \"Python\"\n",
        "print(a.ljust(10)+\"!\")\n",
        "print(a.rjust(10)+\"!\")\n",
        "print(a.center(10)+\"!\")\n",
        "print(a.center(11)+\"!\")"
      ],
      "metadata": {
        "colab": {
          "base_uri": "https://localhost:8080/"
        },
        "id": "tmsy3UXTMLKx",
        "outputId": "e026bbfe-6e71-4663-eb02-45201cea925d"
      },
      "execution_count": 148,
      "outputs": [
        {
          "output_type": "stream",
          "name": "stdout",
          "text": [
            "Python    !\n",
            "    Python!\n",
            "  Python  !\n",
            "   Python  !\n"
          ]
        }
      ]
    },
    {
      "cell_type": "code",
      "source": [
        "a = \"35\"\n",
        "print(a.zfill(4))\n",
        "\n",
        "b = \"Python\"\n",
        "print(b.zfill(10))"
      ],
      "metadata": {
        "colab": {
          "base_uri": "https://localhost:8080/"
        },
        "id": "3uFpLI54MoZh",
        "outputId": "7205b4b7-8419-4002-c26f-f75ba44fe194"
      },
      "execution_count": 150,
      "outputs": [
        {
          "output_type": "stream",
          "name": "stdout",
          "text": [
            "0035\n",
            "0000Python\n"
          ]
        }
      ]
    },
    {
      "cell_type": "code",
      "source": [
        "c = \"123456789\"\n",
        "print(c.zfill(8))\n",
        "print(c.rjust(5))\n",
        "print(c.center(5))"
      ],
      "metadata": {
        "colab": {
          "base_uri": "https://localhost:8080/"
        },
        "id": "rVUvVMukNd1i",
        "outputId": "179b2fd8-03c2-4015-f7f6-bd5f663fc826"
      },
      "execution_count": 153,
      "outputs": [
        {
          "output_type": "stream",
          "name": "stdout",
          "text": [
            "123456789\n",
            "123456789\n",
            "123456789\n"
          ]
        }
      ]
    },
    {
      "cell_type": "code",
      "source": [
        "a = \"apple care plus\"\n",
        "print(a.find('pl'))\n",
        "print(a.rfind('pl'))\n",
        "print(a.find('xy'))\n",
        "print(a.rfind('xy'))"
      ],
      "metadata": {
        "colab": {
          "base_uri": "https://localhost:8080/"
        },
        "id": "o54cqsqbNzQg",
        "outputId": "ce018635-30d8-4cb9-8ef3-7b16627e67af"
      },
      "execution_count": 157,
      "outputs": [
        {
          "output_type": "stream",
          "name": "stdout",
          "text": [
            "2\n",
            "11\n",
            "-1\n",
            "-1\n"
          ]
        }
      ]
    },
    {
      "cell_type": "code",
      "source": [
        "a = \"apple care plus\"\n",
        "print(a.index('pl'))\n",
        "print(a.rindex('pl'))\n",
        "# print(a.index('xy'))"
      ],
      "metadata": {
        "colab": {
          "base_uri": "https://localhost:8080/"
        },
        "id": "jvUm2jrcROfr",
        "outputId": "05012086-4af4-4dc7-801e-9e134d90f31f"
      },
      "execution_count": 161,
      "outputs": [
        {
          "output_type": "stream",
          "name": "stdout",
          "text": [
            "2\n",
            "11\n"
          ]
        }
      ]
    },
    {
      "cell_type": "code",
      "source": [
        "a = \"apple care plus\"\n",
        "print(a.count('pl'))\n",
        "print(a.count('p'))"
      ],
      "metadata": {
        "colab": {
          "base_uri": "https://localhost:8080/"
        },
        "id": "sx-cCCtRRnOB",
        "outputId": "95bf7601-c5dc-4570-81d5-a8c9a206fb5e"
      },
      "execution_count": 163,
      "outputs": [
        {
          "output_type": "stream",
          "name": "stdout",
          "text": [
            "2\n",
            "3\n"
          ]
        }
      ]
    },
    {
      "cell_type": "code",
      "source": [
        "age = 30\n",
        "print(\"내 나이는 %d 살입니다.\" % age)\n",
        "print(\"내 나이는 %5d 살입니다.\" % age)\n",
        "print(\"내 나이는 %-5d 살입니다.\" % age)\n",
        "\n",
        "month = 2\n",
        "day = 13\n",
        "print(\"내 생일은 %d월 %d일입니다.\" % (month, day))\n",
        "\n",
        "m = \"February\"\n",
        "print(\"내 생일은 %s %d입니다.\" % (m, day))"
      ],
      "metadata": {
        "colab": {
          "base_uri": "https://localhost:8080/"
        },
        "id": "BZps3VXhR8fg",
        "outputId": "98f63559-6219-4b47-803e-855bde8f2496"
      },
      "execution_count": 177,
      "outputs": [
        {
          "output_type": "stream",
          "name": "stdout",
          "text": [
            "내 나이는 30 살입니다.\n",
            "내 나이는    30 살입니다.\n",
            "내 나이는 30    살입니다.\n",
            "내 생일은 2월 13일입니다.\n",
            "내 생일은 February 13입니다.\n"
          ]
        }
      ]
    },
    {
      "cell_type": "code",
      "source": [
        "pi = 3.14\n",
        "print(\"파이는 %f 입니다.\" % pi)\n",
        "print(\"파이는 %.2f 입니다.\" % pi)\n",
        "print(\"파이는 %10.2f 입니다.\" % pi)\n",
        "print(\"파이는 %-10.2f 입니다.\" % pi)"
      ],
      "metadata": {
        "colab": {
          "base_uri": "https://localhost:8080/"
        },
        "id": "BAMn8LE5SG7H",
        "outputId": "c22ee3f8-f7d9-4238-c88c-284ce082aace"
      },
      "execution_count": 175,
      "outputs": [
        {
          "output_type": "stream",
          "name": "stdout",
          "text": [
            "파이는 3.140000 입니다.\n",
            "파이는 3.14 입니다.\n",
            "파이는       3.14 입니다.\n",
            "파이는 3.14       입니다.\n"
          ]
        }
      ]
    },
    {
      "cell_type": "code",
      "source": [
        "city = \"서울\"\n",
        "print(\"저는 %s 에 거주합니다.\" % city)\n",
        "print(\"저는 %10s 에 거주합니다.\" % city)\n",
        "print(\"저는 %-10s 에 거주합니다.\" % city)"
      ],
      "metadata": {
        "colab": {
          "base_uri": "https://localhost:8080/"
        },
        "id": "B_7jcGHWTQfi",
        "outputId": "b3c522a4-9475-4781-bcfc-8fefb3d7e704"
      },
      "execution_count": 176,
      "outputs": [
        {
          "output_type": "stream",
          "name": "stdout",
          "text": [
            "저는 서울 에 거주합니다.\n",
            "저는         서울 에 거주합니다.\n",
            "저는 서울         에 거주합니다.\n"
          ]
        }
      ]
    },
    {
      "cell_type": "code",
      "source": [
        "city = \"서울\"\n",
        "print(\"저는 {0}에 거주합니다.\".format(city))\n",
        "\n",
        "month = 2\n",
        "day = 13\n",
        "print(\"제 생일은 {0}월 {1}일 입니다.\".format(month, day))\n",
        "print(\"제 생일은 {1}월 {0}일 입니다.\".format(month, day))\n",
        "\n",
        "a = \"경기\"\n",
        "print(\"{0}도에 사는 {0}씨\".format(a))\n",
        "\n",
        "a = \"Python\"\n",
        "b = \"Script\"\n",
        "c = \"3.12.1\"\n",
        "print(\"이 {} {}는 {}입니다.\".format(a, b, c))"
      ],
      "metadata": {
        "colab": {
          "base_uri": "https://localhost:8080/"
        },
        "id": "0mwEqqlkTmSQ",
        "outputId": "05529388-5be2-42cf-fe0e-89473909bb60"
      },
      "execution_count": 182,
      "outputs": [
        {
          "output_type": "stream",
          "name": "stdout",
          "text": [
            "저는 서울에 거주합니다.\n",
            "제 생일은 2월 13일 입니다.\n",
            "제 생일은 13월 2일 입니다.\n",
            "경기도에 사는 경기씨\n",
            "이 Python Script는 3.12.1입니다.\n"
          ]
        }
      ]
    },
    {
      "cell_type": "code",
      "source": [
        "print(\"{언어} {버전}\".format(언어=\"Python\", 버전=\"3.12.1\"))"
      ],
      "metadata": {
        "colab": {
          "base_uri": "https://localhost:8080/"
        },
        "id": "XSWmBWZLUjAX",
        "outputId": "06e340ed-8ddb-4dbb-d3fe-addda82db69c"
      },
      "execution_count": 183,
      "outputs": [
        {
          "output_type": "stream",
          "name": "stdout",
          "text": [
            "Python 3.12.1\n"
          ]
        }
      ]
    },
    {
      "cell_type": "code",
      "source": [
        "language = \"Python\"\n",
        "version = \"3.12.1\"\n",
        "print(\"%s %s\" % (language, version))\n",
        "print(f\"{language} {version}\")\n",
        "print(f\"{version} {version}\")\n",
        "\n",
        "print(\"{{{0}}}\".format(\"Python\"))"
      ],
      "metadata": {
        "colab": {
          "base_uri": "https://localhost:8080/"
        },
        "id": "tfEDqZbHVibQ",
        "outputId": "a0654a73-dc87-4108-cce1-316f57c93922"
      },
      "execution_count": 190,
      "outputs": [
        {
          "output_type": "stream",
          "name": "stdout",
          "text": [
            "Python 3.12.1\n",
            "Python 3.12.1\n",
            "3.12.1 3.12.1\n",
            "{Python}\n"
          ]
        }
      ]
    },
    {
      "cell_type": "code",
      "source": [
        "print(\"Python\".ljust(10)+\"!\")\n",
        "print(\"%-10s\" % \"Python\"+\"!\")\n",
        "print(\"{0:<10}\".format(\"Python\")+\"!\")"
      ],
      "metadata": {
        "colab": {
          "base_uri": "https://localhost:8080/"
        },
        "id": "GXIzLkoCVxdf",
        "outputId": "9d7c36f3-0f24-43ce-d794-cb1013ba0edf"
      },
      "execution_count": 196,
      "outputs": [
        {
          "output_type": "stream",
          "name": "stdout",
          "text": [
            "Python    !\n",
            "Python    !\n",
            "Python    !\n"
          ]
        }
      ]
    },
    {
      "cell_type": "code",
      "source": [
        "print(\"Python\".rjust(10))\n",
        "print(\"%10s\" % \"Python\")\n",
        "print(\"{0:>10}\".format(\"Python\"))"
      ],
      "metadata": {
        "colab": {
          "base_uri": "https://localhost:8080/"
        },
        "id": "iOLhcDVNWbZ4",
        "outputId": "ab137ed4-3adb-4e13-87ce-960c1dd89d70"
      },
      "execution_count": 199,
      "outputs": [
        {
          "output_type": "stream",
          "name": "stdout",
          "text": [
            "    Python\n",
            "    Python\n",
            "    Python\n"
          ]
        }
      ]
    },
    {
      "cell_type": "code",
      "source": [
        "print('28'.zfill(5))\n",
        "print(\"%05d\" % 28)\n",
        "print(\"{0:05d}\".format(28))"
      ],
      "metadata": {
        "colab": {
          "base_uri": "https://localhost:8080/"
        },
        "id": "DsYFPv51Wv8x",
        "outputId": "d8adb4cf-02e0-42f8-c6e0-29c842e04788"
      },
      "execution_count": 203,
      "outputs": [
        {
          "output_type": "stream",
          "name": "stdout",
          "text": [
            "00028\n",
            "00028\n",
            "00028\n"
          ]
        }
      ]
    },
    {
      "cell_type": "code",
      "source": [
        "print(\"3.14\".zfill(8))\n",
        "print(\"%08.2f\" % 3.14)\n",
        "print(\"{0:08.2f}\".format(3.14))"
      ],
      "metadata": {
        "colab": {
          "base_uri": "https://localhost:8080/"
        },
        "id": "6LNol5KyXBPH",
        "outputId": "de25eae6-7696-4338-db2d-e118d286e433"
      },
      "execution_count": 208,
      "outputs": [
        {
          "output_type": "stream",
          "name": "stdout",
          "text": [
            "00003.14\n",
            "00003.14\n",
            "00003.14\n"
          ]
        }
      ]
    },
    {
      "cell_type": "code",
      "source": [
        "print(\"{0:*>8}\".format(32))\n",
        "print(\"******32\")"
      ],
      "metadata": {
        "colab": {
          "base_uri": "https://localhost:8080/"
        },
        "id": "Lg2tZWSdXaSK",
        "outputId": "cc6d4ff6-6d37-4a46-a8da-2fc667dc3fa6"
      },
      "execution_count": 212,
      "outputs": [
        {
          "output_type": "stream",
          "name": "stdout",
          "text": [
            "******32\n",
            "******32\n"
          ]
        }
      ]
    },
    {
      "cell_type": "code",
      "source": [
        "print(\"{0:0>12.3f}\".format(34))\n",
        "print(\"00000034.000\")\n",
        "\n",
        "print(\"{0:0<10}\".format(41))\n",
        "print(\"4100000000\")"
      ],
      "metadata": {
        "colab": {
          "base_uri": "https://localhost:8080/"
        },
        "id": "sZmIdyDLX67w",
        "outputId": "4097fbb0-bda3-4ed3-82ef-e06a1591dbbe"
      },
      "execution_count": 219,
      "outputs": [
        {
          "output_type": "stream",
          "name": "stdout",
          "text": [
            "00000034.000\n",
            "00000034.000\n",
            "4100000000\n",
            "4100000000\n"
          ]
        }
      ]
    },
    {
      "cell_type": "code",
      "source": [
        "print(format(100000000000, ','))\n",
        "print(type(format(100000000000, ',')))\n",
        "print(\"%20s\" % format(100000000000, ','))\n",
        "print(\"{0:0>20,}\".format(100000000000))"
      ],
      "metadata": {
        "colab": {
          "base_uri": "https://localhost:8080/"
        },
        "id": "dKf_RiUBaSGu",
        "outputId": "41882fc9-c24d-4474-ed75-f0c161fe4d6b"
      },
      "execution_count": 224,
      "outputs": [
        {
          "output_type": "stream",
          "name": "stdout",
          "text": [
            "100,000,000,000\n",
            "<class 'str'>\n",
            "     100,000,000,000\n",
            "00000100,000,000,000\n"
          ]
        }
      ]
    },
    {
      "cell_type": "code",
      "source": [
        "print(\"{0:,}{1:0>7,}\".format(1234567890, 1234))\n",
        "print('1,234,567,890001,234')"
      ],
      "metadata": {
        "colab": {
          "base_uri": "https://localhost:8080/"
        },
        "id": "QGMkZLcdax0H",
        "outputId": "e3ea225b-422f-4636-defa-fbf4efe4cb18"
      },
      "execution_count": 229,
      "outputs": [
        {
          "output_type": "stream",
          "name": "stdout",
          "text": [
            "1,234,567,890001,234\n",
            "1,234,567,890001,234\n"
          ]
        }
      ]
    },
    {
      "cell_type": "code",
      "source": [],
      "metadata": {
        "id": "mq4trX4mbZbH"
      },
      "execution_count": null,
      "outputs": []
    }
  ]
}
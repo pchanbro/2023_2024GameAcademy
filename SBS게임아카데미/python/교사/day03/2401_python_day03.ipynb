{
  "nbformat": 4,
  "nbformat_minor": 0,
  "metadata": {
    "colab": {
      "provenance": []
    },
    "kernelspec": {
      "name": "python3",
      "display_name": "Python 3"
    },
    "language_info": {
      "name": "python"
    }
  },
  "cells": [
    {
      "cell_type": "code",
      "execution_count": 1,
      "metadata": {
        "colab": {
          "base_uri": "https://localhost:8080/"
        },
        "id": "1arn6YauRK93",
        "outputId": "d9338b74-2575-4e53-ce82-54432f40be72"
      },
      "outputs": [
        {
          "output_type": "stream",
          "name": "stdout",
          "text": [
            "'Python' is a \"programming\" language\n",
            "and it is \"easy\"\n",
            "to\n",
            "write code!!!\n"
          ]
        }
      ],
      "source": [
        "a = \"'Python' is a \\\"programming\\\" language\\nand it is \\\"easy\\\"\\nto\\nwrite code!!!\"\n",
        "print(a)"
      ]
    },
    {
      "cell_type": "code",
      "source": [
        "a = \"\"\"'Python' is a \"programming\" language\n",
        "and it is \"easy\"\n",
        "to\n",
        "write code!!!\"\"\"\n",
        "print(a)"
      ],
      "metadata": {
        "colab": {
          "base_uri": "https://localhost:8080/"
        },
        "id": "yNKj4QoUSQss",
        "outputId": "955df826-4e60-4860-8d1e-679b17af412c"
      },
      "execution_count": 2,
      "outputs": [
        {
          "output_type": "stream",
          "name": "stdout",
          "text": [
            "'Python' is a \"programming\" language\n",
            "and it is \"easy\"\n",
            "to\n",
            "write code!!!\n"
          ]
        }
      ]
    },
    {
      "cell_type": "code",
      "source": [
        "a = \"python\"\n",
        "print('\"'+a.upper().rjust(10)+'\"')\n",
        "print(\"\\\"{0:<10}\\\"\".format(a))\n",
        "print('\"'+a.center(10).replace('on',\"ON\")+'\"')\n",
        "\n",
        "table = str.maketrans(\"pyon\", \"PY12\")\n",
        "print('\"'+a.translate(table)+'\"')"
      ],
      "metadata": {
        "colab": {
          "base_uri": "https://localhost:8080/"
        },
        "id": "ckHg890FSX2h",
        "outputId": "b252dfc1-149b-4ea4-fbc0-bedf51d8d641"
      },
      "execution_count": 10,
      "outputs": [
        {
          "output_type": "stream",
          "name": "stdout",
          "text": [
            "\"    PYTHON\"\n",
            "\"python    \"\n",
            "\"  pythON  \"\n",
            "\"PYth12\"\n"
          ]
        }
      ]
    },
    {
      "cell_type": "code",
      "source": [
        "a = [1, 2, 3, 4, 5]\n",
        "print(a)"
      ],
      "metadata": {
        "colab": {
          "base_uri": "https://localhost:8080/"
        },
        "id": "L3dU0hUeSfWy",
        "outputId": "ac3161e9-96fe-43d6-a9ed-df957f27bf49"
      },
      "execution_count": 11,
      "outputs": [
        {
          "output_type": "stream",
          "name": "stdout",
          "text": [
            "[1, 2, 3, 4, 5]\n"
          ]
        }
      ]
    },
    {
      "cell_type": "code",
      "source": [
        "b = ['hello', 30, 3.14, True, 5.2+6j]\n",
        "print(b)"
      ],
      "metadata": {
        "colab": {
          "base_uri": "https://localhost:8080/"
        },
        "id": "-viXqLnNT7Gf",
        "outputId": "4fe37d95-5482-4008-ab81-82e3898b2316"
      },
      "execution_count": 12,
      "outputs": [
        {
          "output_type": "stream",
          "name": "stdout",
          "text": [
            "['hello', 30, 3.14, True, (5.2+6j)]\n"
          ]
        }
      ]
    },
    {
      "cell_type": "code",
      "source": [
        "c = [30 40]"
      ],
      "metadata": {
        "colab": {
          "base_uri": "https://localhost:8080/",
          "height": 146
        },
        "id": "uMym-JAWUZTq",
        "outputId": "10abc44d-467f-42d9-9c83-2d1907573a6c"
      },
      "execution_count": 14,
      "outputs": [
        {
          "output_type": "error",
          "ename": "SyntaxError",
          "evalue": "invalid syntax. Perhaps you forgot a comma? (<ipython-input-14-d4fb415194ed>, line 1)",
          "traceback": [
            "\u001b[0;36m  File \u001b[0;32m\"<ipython-input-14-d4fb415194ed>\"\u001b[0;36m, line \u001b[0;32m1\u001b[0m\n\u001b[0;31m    c = [30 40]\u001b[0m\n\u001b[0m         ^\u001b[0m\n\u001b[0;31mSyntaxError\u001b[0m\u001b[0;31m:\u001b[0m invalid syntax. Perhaps you forgot a comma?\n"
          ]
        }
      ]
    },
    {
      "cell_type": "code",
      "source": [
        "a = []\n",
        "print(a)\n",
        "\n",
        "b = list()\n",
        "print(b)"
      ],
      "metadata": {
        "colab": {
          "base_uri": "https://localhost:8080/"
        },
        "id": "ktHG2BQnUgYB",
        "outputId": "dd1bf1e4-bcd2-4d33-8390-654247dcd6f2"
      },
      "execution_count": 16,
      "outputs": [
        {
          "output_type": "stream",
          "name": "stdout",
          "text": [
            "[]\n",
            "[]\n"
          ]
        }
      ]
    },
    {
      "cell_type": "code",
      "source": [
        "a = [1, 2, 3, 4, 5]\n",
        "print(a)"
      ],
      "metadata": {
        "colab": {
          "base_uri": "https://localhost:8080/"
        },
        "id": "S2vFWxREVDn3",
        "outputId": "40619004-f449-473a-9039-c35c85526119"
      },
      "execution_count": 17,
      "outputs": [
        {
          "output_type": "stream",
          "name": "stdout",
          "text": [
            "[1, 2, 3, 4, 5]\n"
          ]
        }
      ]
    },
    {
      "cell_type": "code",
      "source": [
        "a = range(6)\n",
        "print(a)\n",
        "a = list(a)\n",
        "print(a)\n",
        "\n",
        "print(list(range(10)))"
      ],
      "metadata": {
        "colab": {
          "base_uri": "https://localhost:8080/"
        },
        "id": "K1w-0LA-VpJV",
        "outputId": "bf508ab0-5e91-45c1-fcf8-063694820542"
      },
      "execution_count": 20,
      "outputs": [
        {
          "output_type": "stream",
          "name": "stdout",
          "text": [
            "range(0, 6)\n",
            "[0, 1, 2, 3, 4, 5]\n",
            "[0, 1, 2, 3, 4, 5, 6, 7, 8, 9]\n"
          ]
        }
      ]
    },
    {
      "cell_type": "code",
      "source": [
        "a = range(5, 11)\n",
        "print(a)\n",
        "a = list(a)\n",
        "print(a)\n",
        "\n",
        "print(list(range(8, 20)))"
      ],
      "metadata": {
        "colab": {
          "base_uri": "https://localhost:8080/"
        },
        "id": "O9RjqIy4WC2Q",
        "outputId": "f82ad527-a57e-422f-da68-2770cd77d676"
      },
      "execution_count": 23,
      "outputs": [
        {
          "output_type": "stream",
          "name": "stdout",
          "text": [
            "range(5, 11)\n",
            "[5, 6, 7, 8, 9, 10]\n",
            "[8, 9, 10, 11, 12, 13, 14, 15, 16, 17, 18, 19]\n"
          ]
        }
      ]
    },
    {
      "cell_type": "code",
      "source": [
        "a = range(4, 11, 2)\n",
        "print(a)\n",
        "a = list(a)\n",
        "print(a)\n",
        "\n",
        "print(list(range(-10, 10, 3)))"
      ],
      "metadata": {
        "colab": {
          "base_uri": "https://localhost:8080/"
        },
        "id": "-i7vBHXGWzn0",
        "outputId": "7fefe00c-6563-4bf6-bd77-1746b3aa5517"
      },
      "execution_count": 26,
      "outputs": [
        {
          "output_type": "stream",
          "name": "stdout",
          "text": [
            "range(4, 11, 2)\n",
            "[4, 6, 8, 10]\n",
            "[-10, -7, -4, -1, 2, 5, 8]\n"
          ]
        }
      ]
    },
    {
      "cell_type": "code",
      "source": [
        "print(list(range(10, -1, -1)))"
      ],
      "metadata": {
        "colab": {
          "base_uri": "https://localhost:8080/"
        },
        "id": "d5WuLJ_BXVzm",
        "outputId": "770a8a19-77bf-4a43-cfd9-4a2208fe48b7"
      },
      "execution_count": 27,
      "outputs": [
        {
          "output_type": "stream",
          "name": "stdout",
          "text": [
            "[10, 9, 8, 7, 6, 5, 4, 3, 2, 1, 0]\n"
          ]
        }
      ]
    },
    {
      "cell_type": "code",
      "source": [
        "a = [1, 2, 3]\n",
        "print(a)\n",
        "\n",
        "b = (1, 2, 3)\n",
        "print(b)\n",
        "\n",
        "c = 1, 2, 3\n",
        "print(c)"
      ],
      "metadata": {
        "colab": {
          "base_uri": "https://localhost:8080/"
        },
        "id": "pqjBzRMtXrxw",
        "outputId": "7420ca5d-95b3-49ee-fb16-58f3ddb3ad8e"
      },
      "execution_count": 31,
      "outputs": [
        {
          "output_type": "stream",
          "name": "stdout",
          "text": [
            "[1, 2, 3]\n",
            "(1, 2, 3)\n",
            "(1, 2, 3)\n"
          ]
        }
      ]
    },
    {
      "cell_type": "code",
      "source": [
        "a = (29)\n",
        "print(a)\n",
        "print(type(a))\n",
        "\n",
        "b = (29,)\n",
        "print(b)\n",
        "print(type(b))\n",
        "\n",
        "c = 29,\n",
        "print(c)\n",
        "print(type(c))"
      ],
      "metadata": {
        "colab": {
          "base_uri": "https://localhost:8080/"
        },
        "id": "oTbmyS90YL_X",
        "outputId": "2935f961-e45a-4c47-d79c-494d497485ca"
      },
      "execution_count": 35,
      "outputs": [
        {
          "output_type": "stream",
          "name": "stdout",
          "text": [
            "29\n",
            "<class 'int'>\n",
            "(29,)\n",
            "<class 'tuple'>\n",
            "(29,)\n",
            "<class 'tuple'>\n"
          ]
        }
      ]
    },
    {
      "cell_type": "code",
      "source": [
        "print(tuple(range(6)))\n",
        "print(tuple(range(3, 8)))\n",
        "print(tuple(range(2, 12, 4)))"
      ],
      "metadata": {
        "colab": {
          "base_uri": "https://localhost:8080/"
        },
        "id": "JiIOYoGnYgI1",
        "outputId": "c373c32f-3490-4419-8a3c-b82999b88f02"
      },
      "execution_count": 38,
      "outputs": [
        {
          "output_type": "stream",
          "name": "stdout",
          "text": [
            "(0, 1, 2, 3, 4, 5)\n",
            "(3, 4, 5, 6, 7)\n",
            "(2, 6, 10)\n"
          ]
        }
      ]
    },
    {
      "cell_type": "code",
      "source": [
        "a = ['Kim', 30, 173.5]\n",
        "print(a)\n",
        "print(type(a))\n",
        "a[1] = 31\n",
        "print(a)\n",
        "\n",
        "a = tuple(a)\n",
        "print(a)\n",
        "print(type(a))\n",
        "\n",
        "a = list(a)\n",
        "a[2] = 174.5\n",
        "print(a)\n",
        "print(type(a))"
      ],
      "metadata": {
        "colab": {
          "base_uri": "https://localhost:8080/"
        },
        "id": "XALkaXbCZH76",
        "outputId": "7ce8407f-9b05-456e-addc-829bfea78968"
      },
      "execution_count": 43,
      "outputs": [
        {
          "output_type": "stream",
          "name": "stdout",
          "text": [
            "['Kim', 30, 173.5]\n",
            "<class 'list'>\n",
            "['Kim', 31, 173.5]\n",
            "('Kim', 31, 173.5)\n",
            "<class 'tuple'>\n",
            "['Kim', 31, 174.5]\n",
            "<class 'list'>\n"
          ]
        }
      ]
    },
    {
      "cell_type": "code",
      "source": [
        "a = 'Hello Python'\n",
        "print(a)\n",
        "print(type(a))\n",
        "\n",
        "b = list(a)\n",
        "print(b)\n",
        "print(type(b))\n",
        "\n",
        "c = ''.join(b)\n",
        "print(c)\n",
        "print(type(c))\n",
        "\n",
        "d = tuple(c)\n",
        "print(d)\n",
        "print(type(d))\n",
        "\n",
        "e = ''.join(d)\n",
        "print(e)\n",
        "print(type(e))"
      ],
      "metadata": {
        "colab": {
          "base_uri": "https://localhost:8080/"
        },
        "id": "eBcTT_YFZsZa",
        "outputId": "02dc1b58-a848-43c4-ee55-a83cfa8d4a85"
      },
      "execution_count": 48,
      "outputs": [
        {
          "output_type": "stream",
          "name": "stdout",
          "text": [
            "Hello Python\n",
            "<class 'str'>\n",
            "['H', 'e', 'l', 'l', 'o', ' ', 'P', 'y', 't', 'h', 'o', 'n']\n",
            "<class 'list'>\n",
            "Hello Python\n",
            "<class 'str'>\n",
            "('H', 'e', 'l', 'l', 'o', ' ', 'P', 'y', 't', 'h', 'o', 'n')\n",
            "<class 'tuple'>\n",
            "Hello Python\n",
            "<class 'str'>\n"
          ]
        }
      ]
    },
    {
      "cell_type": "code",
      "source": [
        "a = 1\n",
        "b = 2\n",
        "c = 3\n",
        "\n",
        "d, e, f = [1, 2, 3]\n",
        "print(d, e, f)\n",
        "\n",
        "g, h, i = 1, 2, 3\n",
        "print(g, h, i)"
      ],
      "metadata": {
        "colab": {
          "base_uri": "https://localhost:8080/"
        },
        "id": "kM2hrku1a1_V",
        "outputId": "19e487b3-7888-45ee-dec6-03c63adfd4fc"
      },
      "execution_count": 50,
      "outputs": [
        {
          "output_type": "stream",
          "name": "stdout",
          "text": [
            "1 2 3\n",
            "1 2 3\n"
          ]
        }
      ]
    },
    {
      "cell_type": "code",
      "source": [
        "a = [1, 2, 3]\n",
        "x, y, z = a\n",
        "print(x, y, z)"
      ],
      "metadata": {
        "colab": {
          "base_uri": "https://localhost:8080/"
        },
        "id": "lzFGcUgnb0FT",
        "outputId": "15a129ee-f091-4a10-e871-eaa7f5ef96dd"
      },
      "execution_count": 51,
      "outputs": [
        {
          "output_type": "stream",
          "name": "stdout",
          "text": [
            "1 2 3\n"
          ]
        }
      ]
    },
    {
      "cell_type": "code",
      "source": [
        "a = [1, 2, 3]\n",
        "b = [4, 5, 6]\n",
        "c = a + b\n",
        "print(c)"
      ],
      "metadata": {
        "colab": {
          "base_uri": "https://localhost:8080/"
        },
        "id": "9tKOxV0xcCL7",
        "outputId": "63c83201-c312-4d9c-fe1f-0d06c1590689"
      },
      "execution_count": 53,
      "outputs": [
        {
          "output_type": "stream",
          "name": "stdout",
          "text": [
            "[1, 2, 3, 4, 5, 6]\n"
          ]
        }
      ]
    },
    {
      "cell_type": "code",
      "source": [
        "a = list(range(-10, 0, 3))\n",
        "b = list(range(1, 11, 3))\n",
        "c = tuple(a + b)\n",
        "print(c)"
      ],
      "metadata": {
        "colab": {
          "base_uri": "https://localhost:8080/"
        },
        "id": "oQ4KMvy0ckDC",
        "outputId": "5c084a73-064e-47b5-fb2c-c3b527593b83"
      },
      "execution_count": 55,
      "outputs": [
        {
          "output_type": "stream",
          "name": "stdout",
          "text": [
            "(-10, -7, -4, -1, 1, 4, 7, 10)\n"
          ]
        }
      ]
    },
    {
      "cell_type": "code",
      "source": [
        "a = list(range(0, 100, 10))\n",
        "print(a)\n",
        "\n",
        "print(30 in a)\n",
        "print(35 in a)\n",
        "print(100 not in a)\n",
        "\n",
        "print(3 in range(3))"
      ],
      "metadata": {
        "colab": {
          "base_uri": "https://localhost:8080/"
        },
        "id": "MSu3liyldbV4",
        "outputId": "02f36209-e37a-40f7-dded-778e731e0a9e"
      },
      "execution_count": 60,
      "outputs": [
        {
          "output_type": "stream",
          "name": "stdout",
          "text": [
            "[0, 10, 20, 30, 40, 50, 60, 70, 80, 90]\n",
            "True\n",
            "False\n",
            "True\n",
            "False\n"
          ]
        }
      ]
    },
    {
      "cell_type": "code",
      "source": [
        "a = [1, 2]\n",
        "b = [3, 4]\n",
        "print(a + b)\n",
        "\n",
        "c = [5, 6]\n",
        "print(a + b + c)"
      ],
      "metadata": {
        "colab": {
          "base_uri": "https://localhost:8080/"
        },
        "id": "KCtEPI0xgTSi",
        "outputId": "021d34c4-39e3-4538-8826-7c4d2ace8ad2"
      },
      "execution_count": 62,
      "outputs": [
        {
          "output_type": "stream",
          "name": "stdout",
          "text": [
            "[1, 2, 3, 4]\n",
            "[1, 2, 3, 4, 5, 6]\n"
          ]
        }
      ]
    },
    {
      "cell_type": "code",
      "source": [
        "a = (1, 2)\n",
        "b = (3, 4)\n",
        "print(a + b)"
      ],
      "metadata": {
        "colab": {
          "base_uri": "https://localhost:8080/"
        },
        "id": "6Ybg_-9HgxYq",
        "outputId": "70655b67-c725-4327-cfe4-0dc86b485d2d"
      },
      "execution_count": 63,
      "outputs": [
        {
          "output_type": "stream",
          "name": "stdout",
          "text": [
            "(1, 2, 3, 4)\n"
          ]
        }
      ]
    },
    {
      "cell_type": "code",
      "source": [
        "a = range(10)\n",
        "b = range(20, 30)\n",
        "print(a + b)"
      ],
      "metadata": {
        "colab": {
          "base_uri": "https://localhost:8080/",
          "height": 217
        },
        "id": "eMbO01IGhArR",
        "outputId": "fdc78422-7afc-42c4-f3a2-db9d7110dd12"
      },
      "execution_count": 64,
      "outputs": [
        {
          "output_type": "error",
          "ename": "TypeError",
          "evalue": "unsupported operand type(s) for +: 'range' and 'range'",
          "traceback": [
            "\u001b[0;31m---------------------------------------------------------------------------\u001b[0m",
            "\u001b[0;31mTypeError\u001b[0m                                 Traceback (most recent call last)",
            "\u001b[0;32m<ipython-input-64-39688a7b69a2>\u001b[0m in \u001b[0;36m<cell line: 3>\u001b[0;34m()\u001b[0m\n\u001b[1;32m      1\u001b[0m \u001b[0ma\u001b[0m \u001b[0;34m=\u001b[0m \u001b[0mrange\u001b[0m\u001b[0;34m(\u001b[0m\u001b[0;36m10\u001b[0m\u001b[0;34m)\u001b[0m\u001b[0;34m\u001b[0m\u001b[0;34m\u001b[0m\u001b[0m\n\u001b[1;32m      2\u001b[0m \u001b[0mb\u001b[0m \u001b[0;34m=\u001b[0m \u001b[0mrange\u001b[0m\u001b[0;34m(\u001b[0m\u001b[0;36m10\u001b[0m\u001b[0;34m,\u001b[0m \u001b[0;36m20\u001b[0m\u001b[0;34m)\u001b[0m\u001b[0;34m\u001b[0m\u001b[0;34m\u001b[0m\u001b[0m\n\u001b[0;32m----> 3\u001b[0;31m \u001b[0mprint\u001b[0m\u001b[0;34m(\u001b[0m\u001b[0ma\u001b[0m \u001b[0;34m+\u001b[0m \u001b[0mb\u001b[0m\u001b[0;34m)\u001b[0m\u001b[0;34m\u001b[0m\u001b[0;34m\u001b[0m\u001b[0m\n\u001b[0m",
            "\u001b[0;31mTypeError\u001b[0m: unsupported operand type(s) for +: 'range' and 'range'"
          ]
        }
      ]
    },
    {
      "cell_type": "code",
      "source": [
        "a = [3, 6, 9]\n",
        "print(a * 3)\n",
        "\n",
        "b = (3, 6, 9)\n",
        "print(b * 3)\n",
        "\n",
        "c = 'Hello'\n",
        "print(c * 3)\n",
        "\n",
        "d = range(10)\n",
        "print(d * 3)"
      ],
      "metadata": {
        "colab": {
          "base_uri": "https://localhost:8080/",
          "height": 271
        },
        "id": "S6vaW64thM7x",
        "outputId": "b5db8bfd-6534-40ee-d6a0-3a9c1ee5b00c"
      },
      "execution_count": 68,
      "outputs": [
        {
          "output_type": "stream",
          "name": "stdout",
          "text": [
            "[3, 6, 9, 3, 6, 9, 3, 6, 9]\n",
            "(3, 6, 9, 3, 6, 9, 3, 6, 9)\n",
            "HelloHelloHello\n"
          ]
        },
        {
          "output_type": "error",
          "ename": "TypeError",
          "evalue": "unsupported operand type(s) for *: 'range' and 'int'",
          "traceback": [
            "\u001b[0;31m---------------------------------------------------------------------------\u001b[0m",
            "\u001b[0;31mTypeError\u001b[0m                                 Traceback (most recent call last)",
            "\u001b[0;32m<ipython-input-68-4679c616f720>\u001b[0m in \u001b[0;36m<cell line: 11>\u001b[0;34m()\u001b[0m\n\u001b[1;32m      9\u001b[0m \u001b[0;34m\u001b[0m\u001b[0m\n\u001b[1;32m     10\u001b[0m \u001b[0md\u001b[0m \u001b[0;34m=\u001b[0m \u001b[0mrange\u001b[0m\u001b[0;34m(\u001b[0m\u001b[0;36m10\u001b[0m\u001b[0;34m)\u001b[0m\u001b[0;34m\u001b[0m\u001b[0;34m\u001b[0m\u001b[0m\n\u001b[0;32m---> 11\u001b[0;31m \u001b[0mprint\u001b[0m\u001b[0;34m(\u001b[0m\u001b[0md\u001b[0m \u001b[0;34m*\u001b[0m \u001b[0;36m3\u001b[0m\u001b[0;34m)\u001b[0m\u001b[0;34m\u001b[0m\u001b[0;34m\u001b[0m\u001b[0m\n\u001b[0m",
            "\u001b[0;31mTypeError\u001b[0m: unsupported operand type(s) for *: 'range' and 'int'"
          ]
        }
      ]
    },
    {
      "cell_type": "code",
      "source": [
        "a = [7, 8, 9, 10]\n",
        "print(len(a))\n",
        "\n",
        "b = (1, 2, 3, 4)\n",
        "print(len(b))\n",
        "\n",
        "c = range(0, 10, 2)\n",
        "print(len(c))\n",
        "\n",
        "d = 'Hello World\\n'\n",
        "print(len(d))"
      ],
      "metadata": {
        "colab": {
          "base_uri": "https://localhost:8080/"
        },
        "id": "bDi6QbdChkeH",
        "outputId": "984d4710-3870-4ef5-fc3b-23d6dbff8ca2"
      },
      "execution_count": 72,
      "outputs": [
        {
          "output_type": "stream",
          "name": "stdout",
          "text": [
            "4\n",
            "4\n",
            "5\n",
            "12\n"
          ]
        }
      ]
    },
    {
      "cell_type": "code",
      "source": [
        "a = [15, 14, 13, 12, 11]\n",
        "print(a[2])\n",
        "print(a[4])\n",
        "print(a[len(a)-1])"
      ],
      "metadata": {
        "colab": {
          "base_uri": "https://localhost:8080/"
        },
        "id": "vCSce2lNiOrh",
        "outputId": "4ec3e539-8e0e-4de4-ca3d-eba30d405c14"
      },
      "execution_count": 75,
      "outputs": [
        {
          "output_type": "stream",
          "name": "stdout",
          "text": [
            "13\n",
            "11\n",
            "11\n"
          ]
        }
      ]
    },
    {
      "cell_type": "code",
      "source": [
        "b = (5, 4, 3, 2, 1)\n",
        "print(b[1])\n",
        "print(b[-2])"
      ],
      "metadata": {
        "colab": {
          "base_uri": "https://localhost:8080/"
        },
        "id": "Ws8btet8i9HB",
        "outputId": "5947b8a3-ebb4-40e8-f3ba-3dd0b9ec8f63"
      },
      "execution_count": 77,
      "outputs": [
        {
          "output_type": "stream",
          "name": "stdout",
          "text": [
            "4\n",
            "2\n"
          ]
        }
      ]
    },
    {
      "cell_type": "code",
      "source": [
        "c = range(30, -1, -5)\n",
        "print(c[2])"
      ],
      "metadata": {
        "colab": {
          "base_uri": "https://localhost:8080/"
        },
        "id": "jtIbN6f_jP2f",
        "outputId": "b45178f3-6e11-42a4-c584-1fd2e459d37c"
      },
      "execution_count": 79,
      "outputs": [
        {
          "output_type": "stream",
          "name": "stdout",
          "text": [
            "20\n"
          ]
        }
      ]
    },
    {
      "cell_type": "code",
      "source": [
        "a = [0, 0, 0, 0, 0]\n",
        "a[0] = 10\n",
        "a[1] = 20\n",
        "a[2] = 30\n",
        "a[3] = 40\n",
        "a[4] = 50\n",
        "print(a)\n",
        "\n",
        "# a[5] = 60\n",
        "a[-1] = 60\n",
        "print(a)"
      ],
      "metadata": {
        "colab": {
          "base_uri": "https://localhost:8080/"
        },
        "id": "oCDdkUuyjikH",
        "outputId": "f9038ff6-a525-4562-ec8d-33f744431b60"
      },
      "execution_count": 82,
      "outputs": [
        {
          "output_type": "stream",
          "name": "stdout",
          "text": [
            "[10, 20, 30, 40, 50]\n",
            "[10, 20, 30, 40, 60]\n"
          ]
        }
      ]
    },
    {
      "cell_type": "code",
      "source": [
        "a = (0, 0, 0)\n",
        "a[1] = 20"
      ],
      "metadata": {
        "colab": {
          "base_uri": "https://localhost:8080/",
          "height": 199
        },
        "id": "usna1MBKkOUH",
        "outputId": "ee8491b4-b9a8-491d-d03e-944856a33776"
      },
      "execution_count": 83,
      "outputs": [
        {
          "output_type": "error",
          "ename": "TypeError",
          "evalue": "'tuple' object does not support item assignment",
          "traceback": [
            "\u001b[0;31m---------------------------------------------------------------------------\u001b[0m",
            "\u001b[0;31mTypeError\u001b[0m                                 Traceback (most recent call last)",
            "\u001b[0;32m<ipython-input-83-616a5166d084>\u001b[0m in \u001b[0;36m<cell line: 2>\u001b[0;34m()\u001b[0m\n\u001b[1;32m      1\u001b[0m \u001b[0ma\u001b[0m \u001b[0;34m=\u001b[0m \u001b[0;34m(\u001b[0m\u001b[0;36m0\u001b[0m\u001b[0;34m,\u001b[0m \u001b[0;36m0\u001b[0m\u001b[0;34m,\u001b[0m \u001b[0;36m0\u001b[0m\u001b[0;34m)\u001b[0m\u001b[0;34m\u001b[0m\u001b[0;34m\u001b[0m\u001b[0m\n\u001b[0;32m----> 2\u001b[0;31m \u001b[0ma\u001b[0m\u001b[0;34m[\u001b[0m\u001b[0;36m1\u001b[0m\u001b[0;34m]\u001b[0m \u001b[0;34m=\u001b[0m \u001b[0;36m20\u001b[0m\u001b[0;34m\u001b[0m\u001b[0;34m\u001b[0m\u001b[0m\n\u001b[0m",
            "\u001b[0;31mTypeError\u001b[0m: 'tuple' object does not support item assignment"
          ]
        }
      ]
    },
    {
      "cell_type": "code",
      "source": [
        "a = range(20)\n",
        "a[1] = 20"
      ],
      "metadata": {
        "colab": {
          "base_uri": "https://localhost:8080/",
          "height": 199
        },
        "id": "gz2fiK6YkruF",
        "outputId": "1d1110b1-cc63-45af-dc8e-02faf572db23"
      },
      "execution_count": 84,
      "outputs": [
        {
          "output_type": "error",
          "ename": "TypeError",
          "evalue": "'range' object does not support item assignment",
          "traceback": [
            "\u001b[0;31m---------------------------------------------------------------------------\u001b[0m",
            "\u001b[0;31mTypeError\u001b[0m                                 Traceback (most recent call last)",
            "\u001b[0;32m<ipython-input-84-2ee568067030>\u001b[0m in \u001b[0;36m<cell line: 2>\u001b[0;34m()\u001b[0m\n\u001b[1;32m      1\u001b[0m \u001b[0ma\u001b[0m \u001b[0;34m=\u001b[0m \u001b[0mrange\u001b[0m\u001b[0;34m(\u001b[0m\u001b[0;36m20\u001b[0m\u001b[0;34m)\u001b[0m\u001b[0;34m\u001b[0m\u001b[0;34m\u001b[0m\u001b[0m\n\u001b[0;32m----> 2\u001b[0;31m \u001b[0ma\u001b[0m\u001b[0;34m[\u001b[0m\u001b[0;36m1\u001b[0m\u001b[0;34m]\u001b[0m \u001b[0;34m=\u001b[0m \u001b[0;36m20\u001b[0m\u001b[0;34m\u001b[0m\u001b[0;34m\u001b[0m\u001b[0m\n\u001b[0m",
            "\u001b[0;31mTypeError\u001b[0m: 'range' object does not support item assignment"
          ]
        }
      ]
    },
    {
      "cell_type": "code",
      "source": [
        "a = 'Hello'\n",
        "a[1] = 'f'"
      ],
      "metadata": {
        "colab": {
          "base_uri": "https://localhost:8080/",
          "height": 199
        },
        "id": "O23QWa0rkx3Y",
        "outputId": "e83bea5f-c65a-4d3a-ef78-5801835a81b4"
      },
      "execution_count": 85,
      "outputs": [
        {
          "output_type": "error",
          "ename": "TypeError",
          "evalue": "'str' object does not support item assignment",
          "traceback": [
            "\u001b[0;31m---------------------------------------------------------------------------\u001b[0m",
            "\u001b[0;31mTypeError\u001b[0m                                 Traceback (most recent call last)",
            "\u001b[0;32m<ipython-input-85-2a7739797cf0>\u001b[0m in \u001b[0;36m<cell line: 2>\u001b[0;34m()\u001b[0m\n\u001b[1;32m      1\u001b[0m \u001b[0ma\u001b[0m \u001b[0;34m=\u001b[0m \u001b[0;34m'Hello'\u001b[0m\u001b[0;34m\u001b[0m\u001b[0;34m\u001b[0m\u001b[0m\n\u001b[0;32m----> 2\u001b[0;31m \u001b[0ma\u001b[0m\u001b[0;34m[\u001b[0m\u001b[0;36m1\u001b[0m\u001b[0;34m]\u001b[0m \u001b[0;34m=\u001b[0m \u001b[0;34m'f'\u001b[0m\u001b[0;34m\u001b[0m\u001b[0;34m\u001b[0m\u001b[0m\n\u001b[0m",
            "\u001b[0;31mTypeError\u001b[0m: 'str' object does not support item assignment"
          ]
        }
      ]
    },
    {
      "cell_type": "code",
      "source": [
        "a = (10, 21, 30)\n",
        "a = list(a) # [10, 21, 30]\n",
        "a[1] = 20 # [10, 20, 30]\n",
        "a = tuple(a)\n",
        "print(a)"
      ],
      "metadata": {
        "colab": {
          "base_uri": "https://localhost:8080/"
        },
        "id": "p4HDLafsk5cX",
        "outputId": "82bb6341-0463-4f7f-936b-9c2c0203c62a"
      },
      "execution_count": 86,
      "outputs": [
        {
          "output_type": "stream",
          "name": "stdout",
          "text": [
            "(10, 20, 30)\n"
          ]
        }
      ]
    },
    {
      "cell_type": "code",
      "source": [
        "a = \"Hillo\"\n",
        "a = list(a) # ['H', 'i', 'l', 'l', 'o']\n",
        "a[1] = 'e' # ['H', 'e', 'l', 'l', 'o']\n",
        "a = ''.join(a)\n",
        "print(a)"
      ],
      "metadata": {
        "colab": {
          "base_uri": "https://localhost:8080/"
        },
        "id": "8B7SB6gelfhu",
        "outputId": "ab4bdf80-2123-4245-beb1-64d6054cdabd"
      },
      "execution_count": 87,
      "outputs": [
        {
          "output_type": "stream",
          "name": "stdout",
          "text": [
            "Hello\n"
          ]
        }
      ]
    },
    {
      "cell_type": "code",
      "source": [
        "a = [10, 20, 30, 31, 40]\n",
        "del a[3]\n",
        "print(a)"
      ],
      "metadata": {
        "colab": {
          "base_uri": "https://localhost:8080/"
        },
        "id": "ZCApqJkzl5iF",
        "outputId": "8e2eafd2-73bb-4366-80fe-8a52d28601ed"
      },
      "execution_count": 88,
      "outputs": [
        {
          "output_type": "stream",
          "name": "stdout",
          "text": [
            "[10, 20, 30, 40]\n"
          ]
        }
      ]
    },
    {
      "cell_type": "code",
      "source": [
        "a = (1, 2, 5, 3)\n",
        "del a[2]"
      ],
      "metadata": {
        "colab": {
          "base_uri": "https://localhost:8080/",
          "height": 199
        },
        "id": "fo72HdM0mT60",
        "outputId": "a2ae2e59-41a2-427b-c670-6e045c2072a4"
      },
      "execution_count": 89,
      "outputs": [
        {
          "output_type": "error",
          "ename": "TypeError",
          "evalue": "'tuple' object doesn't support item deletion",
          "traceback": [
            "\u001b[0;31m---------------------------------------------------------------------------\u001b[0m",
            "\u001b[0;31mTypeError\u001b[0m                                 Traceback (most recent call last)",
            "\u001b[0;32m<ipython-input-89-e18603c6ac5b>\u001b[0m in \u001b[0;36m<cell line: 2>\u001b[0;34m()\u001b[0m\n\u001b[1;32m      1\u001b[0m \u001b[0ma\u001b[0m \u001b[0;34m=\u001b[0m \u001b[0;34m(\u001b[0m\u001b[0;36m1\u001b[0m\u001b[0;34m,\u001b[0m \u001b[0;36m2\u001b[0m\u001b[0;34m,\u001b[0m \u001b[0;36m5\u001b[0m\u001b[0;34m,\u001b[0m \u001b[0;36m3\u001b[0m\u001b[0;34m)\u001b[0m\u001b[0;34m\u001b[0m\u001b[0;34m\u001b[0m\u001b[0m\n\u001b[0;32m----> 2\u001b[0;31m \u001b[0;32mdel\u001b[0m \u001b[0ma\u001b[0m\u001b[0;34m[\u001b[0m\u001b[0;36m2\u001b[0m\u001b[0;34m]\u001b[0m\u001b[0;34m\u001b[0m\u001b[0;34m\u001b[0m\u001b[0m\n\u001b[0m",
            "\u001b[0;31mTypeError\u001b[0m: 'tuple' object doesn't support item deletion"
          ]
        }
      ]
    },
    {
      "cell_type": "code",
      "source": [
        "a = \"Helplo\"\n",
        "del a[3]"
      ],
      "metadata": {
        "colab": {
          "base_uri": "https://localhost:8080/",
          "height": 199
        },
        "id": "-BEzRH2imcCl",
        "outputId": "d9c9a112-d4e4-4a4e-db7f-f0d03d80ce80"
      },
      "execution_count": 90,
      "outputs": [
        {
          "output_type": "error",
          "ename": "TypeError",
          "evalue": "'str' object doesn't support item deletion",
          "traceback": [
            "\u001b[0;31m---------------------------------------------------------------------------\u001b[0m",
            "\u001b[0;31mTypeError\u001b[0m                                 Traceback (most recent call last)",
            "\u001b[0;32m<ipython-input-90-7f4d8602da8d>\u001b[0m in \u001b[0;36m<cell line: 2>\u001b[0;34m()\u001b[0m\n\u001b[1;32m      1\u001b[0m \u001b[0ma\u001b[0m \u001b[0;34m=\u001b[0m \u001b[0;34m\"Helplo\"\u001b[0m\u001b[0;34m\u001b[0m\u001b[0;34m\u001b[0m\u001b[0m\n\u001b[0;32m----> 2\u001b[0;31m \u001b[0;32mdel\u001b[0m \u001b[0ma\u001b[0m\u001b[0;34m[\u001b[0m\u001b[0;36m3\u001b[0m\u001b[0;34m]\u001b[0m\u001b[0;34m\u001b[0m\u001b[0;34m\u001b[0m\u001b[0m\n\u001b[0m",
            "\u001b[0;31mTypeError\u001b[0m: 'str' object doesn't support item deletion"
          ]
        }
      ]
    },
    {
      "cell_type": "code",
      "source": [
        "a = \"Helplo\"\n",
        "a = list(a) # ['H', 'e', 'l', 'p', 'l', 'o']\n",
        "del a[3]  # ['H', 'e', 'l', 'l', 'o']\n",
        "a = ''.join(a)\n",
        "print(a)"
      ],
      "metadata": {
        "colab": {
          "base_uri": "https://localhost:8080/"
        },
        "id": "zDHxJua5mmQt",
        "outputId": "2b61b223-fd41-48dc-fa75-851c1c3d2541"
      },
      "execution_count": 91,
      "outputs": [
        {
          "output_type": "stream",
          "name": "stdout",
          "text": [
            "Hello\n"
          ]
        }
      ]
    },
    {
      "cell_type": "code",
      "source": [
        "a = list(range(0, 100, 10))\n",
        "print(a)\n",
        "a[2:5] = ['a', 'b', 'c']\n",
        "print(a)\n",
        "a[2:5] = [30]\n",
        "print(a)\n",
        "a[2:5] = 'abc'\n",
        "print(a)\n",
        "a[2:5] = (50,)\n",
        "print(a)\n",
        "a[1:3] = 'abcde'\n",
        "print(a)\n",
        "a[1:6:2] = ['가', '나', '다']\n",
        "print(a)"
      ],
      "metadata": {
        "colab": {
          "base_uri": "https://localhost:8080/"
        },
        "id": "G2VcukEPnBJU",
        "outputId": "41ddfb9d-98b5-4f85-edb6-e4d431292347"
      },
      "execution_count": 102,
      "outputs": [
        {
          "output_type": "stream",
          "name": "stdout",
          "text": [
            "[0, 10, 20, 30, 40, 50, 60, 70, 80, 90]\n",
            "[0, 10, 'a', 'b', 'c', 50, 60, 70, 80, 90]\n",
            "[0, 10, 30, 50, 60, 70, 80, 90]\n",
            "[0, 10, 'a', 'b', 'c', 70, 80, 90]\n",
            "[0, 10, 50, 70, 80, 90]\n",
            "[0, 'a', 'b', 'c', 'd', 'e', 70, 80, 90]\n",
            "[0, '가', 'b', '나', 'd', '다', 70, 80, 90]\n"
          ]
        }
      ]
    },
    {
      "cell_type": "code",
      "source": [
        "a = list(range(0, 100, 10))\n",
        "print(a)\n",
        "del a[5:8]\n",
        "print(a)\n",
        "del a[1:6:2]\n",
        "print(a)"
      ],
      "metadata": {
        "colab": {
          "base_uri": "https://localhost:8080/"
        },
        "id": "ZesOnzj7nNZM",
        "outputId": "9a1823ed-2dab-4624-c181-a8e14707f204"
      },
      "execution_count": 105,
      "outputs": [
        {
          "output_type": "stream",
          "name": "stdout",
          "text": [
            "[0, 10, 20, 30, 40, 50, 60, 70, 80, 90]\n",
            "[0, 10, 20, 30, 40, 80, 90]\n",
            "[0, 20, 40, 90]\n"
          ]
        }
      ]
    },
    {
      "cell_type": "code",
      "source": [
        "a = input(\"문자열 1 입력 >>> \")\n",
        "b = input(\"문자열 2 입력 >>> \")\n",
        "c = a[::2]\n",
        "d = b[1::2]\n",
        "print(c + d)"
      ],
      "metadata": {
        "colab": {
          "base_uri": "https://localhost:8080/"
        },
        "id": "A7qF_QGdoynD",
        "outputId": "47240621-1bc1-47dd-c063-e724ff824095"
      },
      "execution_count": 107,
      "outputs": [
        {
          "output_type": "stream",
          "name": "stdout",
          "text": [
            "문자열 1 입력 >>> apple\n",
            "문자열 2 입력 >>> python\n",
            "apeyhn\n"
          ]
        }
      ]
    },
    {
      "cell_type": "code",
      "source": [
        "# 49페이지 1번\n",
        "# '31025' -> 3학년 10반 25번\n",
        "# '30505' -> 3학년 5반 5번\n",
        "a = input(\"학번 입력 >>> \")\n",
        "b = int(a[0])\n",
        "c = int(a[1:3])\n",
        "d = int(a[3:5])\n",
        "print(f\"{b}학년 {c}반 {d}번\")"
      ],
      "metadata": {
        "colab": {
          "base_uri": "https://localhost:8080/"
        },
        "id": "_Q9SdAdNqwCa",
        "outputId": "50762ab3-e170-47fd-da14-47769fb4dec9"
      },
      "execution_count": 110,
      "outputs": [
        {
          "output_type": "stream",
          "name": "stdout",
          "text": [
            "학번 입력 >>> 30505\n",
            "3학년 5반 5번\n"
          ]
        }
      ]
    },
    {
      "cell_type": "code",
      "source": [
        "a = input(\"학번 입력 >>> \")\n",
        "b = a[0]\n",
        "c = a[1:3].lstrip('0')\n",
        "d = a[3:5].lstrip('0')\n",
        "print(f\"{b}학년 {c}반 {d}번\")"
      ],
      "metadata": {
        "colab": {
          "base_uri": "https://localhost:8080/"
        },
        "id": "kl_3ZhhfvRRZ",
        "outputId": "3e9a3475-8053-484b-f191-668a1a15c5de"
      },
      "execution_count": 111,
      "outputs": [
        {
          "output_type": "stream",
          "name": "stdout",
          "text": [
            "학번 입력 >>> 30505\n",
            "3학년 5반 5번\n"
          ]
        }
      ]
    },
    {
      "cell_type": "code",
      "source": [
        "# 49페이지 2번\n",
        "# 288가1234 -> 1234\n",
        "# 10가1234 -> 1234\n",
        "\n",
        "a = input(\"차량 번호 입력 >>> \")\n",
        "print(a[-4:])\n",
        "\n",
        "# 288가1234 -> 288\n",
        "# 10가1234 -> 10\n",
        "# 서울2가1234 -> 서울2\n",
        "print(a[:-5])"
      ],
      "metadata": {
        "colab": {
          "base_uri": "https://localhost:8080/"
        },
        "id": "7AATRxtUvq3v",
        "outputId": "1dd03f9b-0a90-4a8e-e55c-80b5b9da1675"
      },
      "execution_count": 115,
      "outputs": [
        {
          "output_type": "stream",
          "name": "stdout",
          "text": [
            "차량 번호 입력 >>> 서울2가1234\n",
            "1234\n",
            "서울2\n"
          ]
        }
      ]
    },
    {
      "cell_type": "code",
      "source": [
        "# 49페이지 3번\n",
        "# s = \"maple\" # -> 2:3(-2)\n",
        "# s = \"orange\" # -> 2:4(-2)\n",
        "s = \"rainbow\" # -> 3:4(-3)\n",
        "# 글자 수가 홀수 = 가운데 1개\n",
        "#          짝수 = 가운데 2개\n",
        "a = len(s)-1\n",
        "print(s[a//2:-(a//2)])"
      ],
      "metadata": {
        "colab": {
          "base_uri": "https://localhost:8080/"
        },
        "id": "16QFWx7Ywngo",
        "outputId": "ae3912f7-0d54-4ba5-a733-f452ab037539"
      },
      "execution_count": 124,
      "outputs": [
        {
          "output_type": "stream",
          "name": "stdout",
          "text": [
            "n\n"
          ]
        }
      ]
    },
    {
      "cell_type": "code",
      "source": [
        "# 49페이지 4번\n",
        "# range 이용해서 a 리스트 만들기\n",
        "a = list(range(10, 101, 10))\n",
        "\n",
        "# 시작 번호와 끝 번호를 입력받아서\n",
        "# 입력받은 영역의 요소를 추출\n",
        "st, en = map(int, input(\"시작과 끝 번호 >>> \").split())\n",
        "print(a[st:en+1])\n",
        "\n",
        "# 추출한 리스트에서 몇 번째를 받을지도 입력받아서 추출\n",
        "nth = int(input(\"몇 번째? >>> \"))\n",
        "print(a[st:en+1][nth-1])"
      ],
      "metadata": {
        "colab": {
          "base_uri": "https://localhost:8080/"
        },
        "id": "uzfHCeiAzJl4",
        "outputId": "41f6046f-a0a3-41ed-951e-bb97152ab7c4"
      },
      "execution_count": 125,
      "outputs": [
        {
          "output_type": "stream",
          "name": "stdout",
          "text": [
            "시작과 끝 번호 >>> 3 7\n",
            "[40, 50, 60, 70, 80]\n",
            "몇 번째? >>> 3\n",
            "60\n"
          ]
        }
      ]
    },
    {
      "cell_type": "code",
      "source": [
        "# 66페이지 2번\n",
        "month = [31, 28, 31, 30, 31, 30, 31, 31, 30, 31, 30, 31]\n",
        "a = int(input(\"1~12 사이의 월을 입력하세요 >>> \"))\n",
        "print(\"%d월은 %d일까지 있습니다.\" % (a, month[a-1]))"
      ],
      "metadata": {
        "colab": {
          "base_uri": "https://localhost:8080/"
        },
        "id": "KddE3_6C3GTj",
        "outputId": "7b404117-ad1b-42f9-bb10-651accf7e38f"
      },
      "execution_count": 127,
      "outputs": [
        {
          "output_type": "stream",
          "name": "stdout",
          "text": [
            "1~12 사이의 월을 입력하세요 >>> 9\n",
            "9월은 30일까지 있습니다.\n"
          ]
        }
      ]
    },
    {
      "cell_type": "code",
      "source": [],
      "metadata": {
        "id": "mkEQlZnC4zR5"
      },
      "execution_count": null,
      "outputs": []
    }
  ]
}
{
  "nbformat": 4,
  "nbformat_minor": 0,
  "metadata": {
    "colab": {
      "provenance": []
    },
    "kernelspec": {
      "name": "python3",
      "display_name": "Python 3"
    },
    "language_info": {
      "name": "python"
    }
  },
  "cells": [
    {
      "cell_type": "code",
      "execution_count": 2,
      "metadata": {
        "colab": {
          "base_uri": "https://localhost:8080/"
        },
        "id": "iq_dWfMYdGM0",
        "outputId": "c6989afa-f7f8-4c7f-91b5-c2b51075c046"
      },
      "outputs": [
        {
          "output_type": "stream",
          "name": "stdout",
          "text": [
            "[10, 20, 30]\n",
            "[10, 20, 30, 40]\n"
          ]
        }
      ],
      "source": [
        "a = [10, 20, 30]\n",
        "print(a)\n",
        "a.append(40)\n",
        "print(a)"
      ]
    },
    {
      "cell_type": "code",
      "source": [
        "b = list() # b = []\n",
        "b.append(100)\n",
        "print(b)\n",
        "b.append('Hello')\n",
        "print(b)"
      ],
      "metadata": {
        "colab": {
          "base_uri": "https://localhost:8080/"
        },
        "id": "O2AGpZWUdbl3",
        "outputId": "afd64788-da2e-421e-a29b-a2c35e89f4f7"
      },
      "execution_count": 4,
      "outputs": [
        {
          "output_type": "stream",
          "name": "stdout",
          "text": [
            "[100]\n",
            "[100, 'Hello']\n"
          ]
        }
      ]
    },
    {
      "cell_type": "code",
      "source": [
        "c = [1, 2, 3]\n",
        "c.append([4, 5])\n",
        "print(c)"
      ],
      "metadata": {
        "colab": {
          "base_uri": "https://localhost:8080/"
        },
        "id": "S5NSvbrcdvXx",
        "outputId": "f31d7d64-e4b2-46fc-edc4-783c93048b28"
      },
      "execution_count": 6,
      "outputs": [
        {
          "output_type": "stream",
          "name": "stdout",
          "text": [
            "[1, 2, 3, [4, 5]]\n"
          ]
        }
      ]
    },
    {
      "cell_type": "code",
      "source": [
        "c = [1, 2, 3]\n",
        "c.extend([4, 5])\n",
        "print(c)"
      ],
      "metadata": {
        "colab": {
          "base_uri": "https://localhost:8080/"
        },
        "id": "6Aus6JAzeA62",
        "outputId": "87b0b1cd-6757-4473-ed23-016adad5b474"
      },
      "execution_count": 7,
      "outputs": [
        {
          "output_type": "stream",
          "name": "stdout",
          "text": [
            "[1, 2, 3, 4, 5]\n"
          ]
        }
      ]
    },
    {
      "cell_type": "code",
      "source": [
        "d = [1, 2, 3]\n",
        "d.extend((4, 5))\n",
        "print(d)"
      ],
      "metadata": {
        "colab": {
          "base_uri": "https://localhost:8080/"
        },
        "id": "VB4fJR4peHRl",
        "outputId": "ac462460-92d3-44f2-a1c7-d36ab03391d9"
      },
      "execution_count": 8,
      "outputs": [
        {
          "output_type": "stream",
          "name": "stdout",
          "text": [
            "[1, 2, 3, 4, 5]\n"
          ]
        }
      ]
    },
    {
      "cell_type": "code",
      "source": [
        "d = [1, 2, 3]\n",
        "d.extend('python')\n",
        "print(d)"
      ],
      "metadata": {
        "colab": {
          "base_uri": "https://localhost:8080/"
        },
        "id": "sQv5rRC2eeD7",
        "outputId": "d2150eab-a3d5-46ec-bef6-6f1220ffe92b"
      },
      "execution_count": 9,
      "outputs": [
        {
          "output_type": "stream",
          "name": "stdout",
          "text": [
            "[1, 2, 3, 'p', 'y', 't', 'h', 'o', 'n']\n"
          ]
        }
      ]
    },
    {
      "cell_type": "code",
      "source": [
        "d = [1, 2, 3]\n",
        "d.extend(range(4, 10))\n",
        "print(d)"
      ],
      "metadata": {
        "colab": {
          "base_uri": "https://localhost:8080/"
        },
        "id": "Gi-q_6nVejVf",
        "outputId": "465e6c3c-0108-4b06-da5b-56d8505bf450"
      },
      "execution_count": 10,
      "outputs": [
        {
          "output_type": "stream",
          "name": "stdout",
          "text": [
            "[1, 2, 3, 4, 5, 6, 7, 8, 9]\n"
          ]
        }
      ]
    },
    {
      "cell_type": "code",
      "source": [
        "d = [1, 2, 3]\n",
        "d.append('python')\n",
        "print(d)"
      ],
      "metadata": {
        "colab": {
          "base_uri": "https://localhost:8080/"
        },
        "id": "tYCMcVeletkI",
        "outputId": "78da31e8-e530-439f-b848-c91a3a2fc5dc"
      },
      "execution_count": 11,
      "outputs": [
        {
          "output_type": "stream",
          "name": "stdout",
          "text": [
            "[1, 2, 3, 'python']\n"
          ]
        }
      ]
    },
    {
      "cell_type": "code",
      "source": [
        "d = [1, 2, 3]\n",
        "d.insert(2, 100)\n",
        "print(d)"
      ],
      "metadata": {
        "colab": {
          "base_uri": "https://localhost:8080/"
        },
        "id": "Ne7sI2ihe668",
        "outputId": "ccb09daa-162d-48d5-a270-3259247d967d"
      },
      "execution_count": 12,
      "outputs": [
        {
          "output_type": "stream",
          "name": "stdout",
          "text": [
            "[1, 2, 100, 3]\n"
          ]
        }
      ]
    },
    {
      "cell_type": "code",
      "source": [
        "d = [1, 2, 3]\n",
        "d.insert(3, 100)\n",
        "print(d)"
      ],
      "metadata": {
        "colab": {
          "base_uri": "https://localhost:8080/"
        },
        "id": "Y89KNGg1fKCp",
        "outputId": "cc28c9ba-7013-46e5-d4f4-73eb6478f95a"
      },
      "execution_count": 13,
      "outputs": [
        {
          "output_type": "stream",
          "name": "stdout",
          "text": [
            "[1, 2, 3, 100]\n"
          ]
        }
      ]
    },
    {
      "cell_type": "code",
      "source": [
        "d = [1, 2, 3]\n",
        "d.insert(4, 100)\n",
        "print(d)"
      ],
      "metadata": {
        "colab": {
          "base_uri": "https://localhost:8080/"
        },
        "id": "F0IoBCEjfVYO",
        "outputId": "76848cdc-6b20-415a-e00b-b388c883ff23"
      },
      "execution_count": 14,
      "outputs": [
        {
          "output_type": "stream",
          "name": "stdout",
          "text": [
            "[1, 2, 3, 100]\n"
          ]
        }
      ]
    },
    {
      "cell_type": "code",
      "source": [
        "d = [1, 2, 3]\n",
        "d.insert(1, [500, 600])\n",
        "print(d)"
      ],
      "metadata": {
        "colab": {
          "base_uri": "https://localhost:8080/"
        },
        "id": "WkWTKUrRfZFe",
        "outputId": "16a0d5df-773a-4412-fa48-cef3a59c2955"
      },
      "execution_count": 15,
      "outputs": [
        {
          "output_type": "stream",
          "name": "stdout",
          "text": [
            "[1, [500, 600], 2, 3]\n"
          ]
        }
      ]
    },
    {
      "cell_type": "code",
      "source": [
        "# 슬라이싱을 이용해서 [1, 500, 600, 2, 3]\n",
        "d = [1, 2, 3]\n",
        "d[1:1] = [500, 600]\n",
        "print(d)"
      ],
      "metadata": {
        "colab": {
          "base_uri": "https://localhost:8080/"
        },
        "id": "OtWu5pfsfuXH",
        "outputId": "da680375-7359-49a6-b513-e8d2c69b1051"
      },
      "execution_count": 16,
      "outputs": [
        {
          "output_type": "stream",
          "name": "stdout",
          "text": [
            "[1, 500, 600, 2, 3]\n"
          ]
        }
      ]
    },
    {
      "cell_type": "code",
      "source": [
        "d = [1, 2, 3]\n",
        "d[1:1] = (100, 200)\n",
        "print(d)"
      ],
      "metadata": {
        "colab": {
          "base_uri": "https://localhost:8080/"
        },
        "id": "dMKhjdGBget5",
        "outputId": "e75a5805-5c8a-439b-bd43-c176826b580d"
      },
      "execution_count": 17,
      "outputs": [
        {
          "output_type": "stream",
          "name": "stdout",
          "text": [
            "[1, 100, 200, 2, 3]\n"
          ]
        }
      ]
    },
    {
      "cell_type": "code",
      "source": [
        "d = [1, 2, 3]\n",
        "d[1:1] = 'python'\n",
        "print(d)"
      ],
      "metadata": {
        "colab": {
          "base_uri": "https://localhost:8080/"
        },
        "id": "IoP1iJp7gw6k",
        "outputId": "ebae7525-311f-45f5-babf-303bcc76c515"
      },
      "execution_count": 18,
      "outputs": [
        {
          "output_type": "stream",
          "name": "stdout",
          "text": [
            "[1, 'p', 'y', 't', 'h', 'o', 'n', 2, 3]\n"
          ]
        }
      ]
    },
    {
      "cell_type": "code",
      "source": [
        "a = [10, 20, 30]\n",
        "print(a.pop())\n",
        "print(a)"
      ],
      "metadata": {
        "colab": {
          "base_uri": "https://localhost:8080/"
        },
        "id": "VtiXouS7g1n4",
        "outputId": "9cc9c6c2-3b80-45d3-cc48-8c3b9342edc6"
      },
      "execution_count": 19,
      "outputs": [
        {
          "output_type": "stream",
          "name": "stdout",
          "text": [
            "30\n",
            "[10, 20]\n"
          ]
        }
      ]
    },
    {
      "cell_type": "code",
      "source": [
        "a = [10, 20, 21, 30]\n",
        "print(a.pop(2))\n",
        "print(a)"
      ],
      "metadata": {
        "colab": {
          "base_uri": "https://localhost:8080/"
        },
        "id": "pW7F45LchSZV",
        "outputId": "d146931e-5d18-474f-bb7e-5170e37f648e"
      },
      "execution_count": 20,
      "outputs": [
        {
          "output_type": "stream",
          "name": "stdout",
          "text": [
            "21\n",
            "[10, 20, 30]\n"
          ]
        }
      ]
    },
    {
      "cell_type": "code",
      "source": [
        "a = [10, 20, 21, 30]\n",
        "del a[2]\n",
        "print(a)"
      ],
      "metadata": {
        "colab": {
          "base_uri": "https://localhost:8080/"
        },
        "id": "o688Jv-Dhl5_",
        "outputId": "595ced56-1bf7-42c4-ae13-6788fc0751e6"
      },
      "execution_count": 21,
      "outputs": [
        {
          "output_type": "stream",
          "name": "stdout",
          "text": [
            "[10, 20, 30]\n"
          ]
        }
      ]
    },
    {
      "cell_type": "code",
      "source": [
        "a = [10, 20, 30]\n",
        "print(a.pop(-2))\n",
        "print(a)"
      ],
      "metadata": {
        "colab": {
          "base_uri": "https://localhost:8080/"
        },
        "id": "qP6VfV6lhvO8",
        "outputId": "c67863ec-87a2-4f8d-cbad-9ef08a990c70"
      },
      "execution_count": 25,
      "outputs": [
        {
          "output_type": "stream",
          "name": "stdout",
          "text": [
            "20\n",
            "[10, 30]\n"
          ]
        }
      ]
    },
    {
      "cell_type": "code",
      "source": [
        "a = [10, 20, 21, 30]\n",
        "a.remove(21)\n",
        "print(a)"
      ],
      "metadata": {
        "colab": {
          "base_uri": "https://localhost:8080/"
        },
        "id": "UvojcUd9h8zN",
        "outputId": "2f31c703-7bd4-4933-e61f-f83c351c2fa0"
      },
      "execution_count": 26,
      "outputs": [
        {
          "output_type": "stream",
          "name": "stdout",
          "text": [
            "[10, 20, 30]\n"
          ]
        }
      ]
    },
    {
      "cell_type": "code",
      "source": [
        "a = [10, 21, 20, 21, 21, 30]\n",
        "a.remove(21)\n",
        "print(a)"
      ],
      "metadata": {
        "colab": {
          "base_uri": "https://localhost:8080/"
        },
        "id": "qJRjYnIRibBT",
        "outputId": "c930adcc-1bc1-4d74-b5aa-1d6d05cceec2"
      },
      "execution_count": 28,
      "outputs": [
        {
          "output_type": "stream",
          "name": "stdout",
          "text": [
            "[10, 20, 21, 21, 30]\n"
          ]
        }
      ]
    },
    {
      "cell_type": "code",
      "source": [
        "a = [10, 20, 30]\n",
        "if 21 in a:\n",
        "  a.remove(21)\n",
        "print(a)"
      ],
      "metadata": {
        "colab": {
          "base_uri": "https://localhost:8080/"
        },
        "id": "SBvty8DuikCi",
        "outputId": "4ad2a7a7-9243-41d6-fb9b-f727c56d4696"
      },
      "execution_count": 32,
      "outputs": [
        {
          "output_type": "stream",
          "name": "stdout",
          "text": [
            "[10, 20, 30]\n"
          ]
        }
      ]
    },
    {
      "cell_type": "code",
      "source": [
        "a = [10, 15, 30, 20, 15, 40]\n",
        "print(a.index(30))\n",
        "print(a.index(15))\n",
        "print(a.count(15))"
      ],
      "metadata": {
        "colab": {
          "base_uri": "https://localhost:8080/"
        },
        "id": "G6KlL7Yfi0bh",
        "outputId": "d98ff860-3caa-4c67-e4d8-33c5eb36b874"
      },
      "execution_count": 40,
      "outputs": [
        {
          "output_type": "stream",
          "name": "stdout",
          "text": [
            "2\n",
            "1\n",
            "2\n"
          ]
        }
      ]
    },
    {
      "cell_type": "code",
      "source": [
        "a = 'python'\n",
        "print(a.index('y'))\n",
        "print(a.find('m'))"
      ],
      "metadata": {
        "colab": {
          "base_uri": "https://localhost:8080/"
        },
        "id": "VFLzqIfvjipa",
        "outputId": "a963b575-90a6-4102-d7fd-b6bacd3a44ad"
      },
      "execution_count": 39,
      "outputs": [
        {
          "output_type": "stream",
          "name": "stdout",
          "text": [
            "1\n",
            "-1\n"
          ]
        }
      ]
    },
    {
      "cell_type": "code",
      "source": [
        "a = [1, 2, 3, 4]\n",
        "print(a)\n",
        "a.reverse()\n",
        "print(a)"
      ],
      "metadata": {
        "colab": {
          "base_uri": "https://localhost:8080/"
        },
        "id": "rOobptQgkBaq",
        "outputId": "ca594679-8f01-4a04-b6c2-8d6650e6724d"
      },
      "execution_count": 43,
      "outputs": [
        {
          "output_type": "stream",
          "name": "stdout",
          "text": [
            "[1, 2, 3, 4]\n",
            "[4, 3, 2, 1]\n"
          ]
        }
      ]
    },
    {
      "cell_type": "code",
      "source": [
        "a = [3, 1, 4, 2]\n",
        "print(a)\n",
        "a.sort()\n",
        "print(a)"
      ],
      "metadata": {
        "colab": {
          "base_uri": "https://localhost:8080/"
        },
        "id": "FADsmOD5kmlp",
        "outputId": "5ef66847-0b6d-4419-e3a7-aacd00faffd0"
      },
      "execution_count": 45,
      "outputs": [
        {
          "output_type": "stream",
          "name": "stdout",
          "text": [
            "[3, 1, 4, 2]\n",
            "[1, 2, 3, 4]\n"
          ]
        }
      ]
    },
    {
      "cell_type": "code",
      "source": [
        "a = [3, 1, 4, 2]\n",
        "print(a)\n",
        "a.sort(reverse=True)\n",
        "print(a)"
      ],
      "metadata": {
        "colab": {
          "base_uri": "https://localhost:8080/"
        },
        "id": "sJKx_Qndk5cz",
        "outputId": "efbf1033-1d9f-4512-fd58-c00f43ccfb89"
      },
      "execution_count": 46,
      "outputs": [
        {
          "output_type": "stream",
          "name": "stdout",
          "text": [
            "[3, 1, 4, 2]\n",
            "[4, 3, 2, 1]\n"
          ]
        }
      ]
    },
    {
      "cell_type": "code",
      "source": [
        "a = [3, 1, 4, 2]\n",
        "print(a)\n",
        "a = sorted(a)\n",
        "print(a)"
      ],
      "metadata": {
        "colab": {
          "base_uri": "https://localhost:8080/"
        },
        "id": "MiuFwKyrlNP0",
        "outputId": "2903ebbf-da2c-4f84-965c-74d1cb668648"
      },
      "execution_count": 47,
      "outputs": [
        {
          "output_type": "stream",
          "name": "stdout",
          "text": [
            "[3, 1, 4, 2]\n",
            "[1, 2, 3, 4]\n"
          ]
        }
      ]
    },
    {
      "cell_type": "code",
      "source": [
        "a = [3, 1, 4, 2]\n",
        "print(a)\n",
        "a = sorted(a, reverse=True)\n",
        "print(a)"
      ],
      "metadata": {
        "colab": {
          "base_uri": "https://localhost:8080/"
        },
        "id": "GoOUWAz_lgFU",
        "outputId": "cf0f0cea-fd24-4ad0-efad-844420efa608"
      },
      "execution_count": 49,
      "outputs": [
        {
          "output_type": "stream",
          "name": "stdout",
          "text": [
            "[3, 1, 4, 2]\n",
            "[4, 3, 2, 1]\n"
          ]
        }
      ]
    },
    {
      "cell_type": "code",
      "source": [
        "a = [3, 3.14, 2.71, 1.414]\n",
        "a.sort()\n",
        "print(a)"
      ],
      "metadata": {
        "colab": {
          "base_uri": "https://localhost:8080/"
        },
        "id": "3gKHwtOolnuS",
        "outputId": "010e68ab-86f7-4ee0-ae21-6b8ea654f447"
      },
      "execution_count": 50,
      "outputs": [
        {
          "output_type": "stream",
          "name": "stdout",
          "text": [
            "[1.414, 2.71, 3, 3.14]\n"
          ]
        }
      ]
    },
    {
      "cell_type": "code",
      "source": [
        "a = ['hello', '한글', 'Python', 'java']\n",
        "a.sort()\n",
        "print(a)\n",
        "a.clear()\n",
        "print(a)"
      ],
      "metadata": {
        "colab": {
          "base_uri": "https://localhost:8080/"
        },
        "id": "j3R8eM1nl5Ol",
        "outputId": "e41b47e2-298e-435c-cb0d-cf83e9cd7b16"
      },
      "execution_count": 55,
      "outputs": [
        {
          "output_type": "stream",
          "name": "stdout",
          "text": [
            "['Python', 'hello', 'java', '한글']\n",
            "[]\n"
          ]
        }
      ]
    },
    {
      "cell_type": "code",
      "source": [
        "a = ['hello', '한글', 'Python', 'java']\n",
        "del a[:]\n",
        "print(a)"
      ],
      "metadata": {
        "colab": {
          "base_uri": "https://localhost:8080/"
        },
        "id": "97wqQSsMmAsy",
        "outputId": "b856bbcc-4009-48af-d228-f637f12a1ac2"
      },
      "execution_count": 56,
      "outputs": [
        {
          "output_type": "stream",
          "name": "stdout",
          "text": [
            "[]\n"
          ]
        }
      ]
    },
    {
      "cell_type": "code",
      "source": [
        "a = [1, 2, 3]\n",
        "b = []\n",
        "print(len(a))\n",
        "print(not len(a))\n",
        "\n",
        "print(len(b))\n",
        "print(not len(b))\n",
        "\n",
        "print(a)\n",
        "print(not a)\n",
        "\n",
        "print(b)\n",
        "print(not b)\n",
        "print(not not b)"
      ],
      "metadata": {
        "colab": {
          "base_uri": "https://localhost:8080/"
        },
        "id": "J_uU3Mhbmmdh",
        "outputId": "0e46136f-fd84-4e33-c96c-d822757fc580"
      },
      "execution_count": 66,
      "outputs": [
        {
          "output_type": "stream",
          "name": "stdout",
          "text": [
            "3\n",
            "False\n",
            "0\n",
            "True\n",
            "[1, 2, 3]\n",
            "False\n",
            "[]\n",
            "True\n",
            "False\n"
          ]
        }
      ]
    },
    {
      "cell_type": "code",
      "source": [
        "a = 1\n",
        "b = a\n",
        "print(a, b)\n",
        "print(a == b)\n",
        "print(a is b)\n",
        "b = 2\n",
        "print(a, b)"
      ],
      "metadata": {
        "colab": {
          "base_uri": "https://localhost:8080/"
        },
        "id": "liKwVQ9ApJUr",
        "outputId": "b240bc07-ab3e-4a30-c67c-2fbdfd50f071"
      },
      "execution_count": 72,
      "outputs": [
        {
          "output_type": "stream",
          "name": "stdout",
          "text": [
            "1 1\n",
            "True\n",
            "True\n",
            "1 2\n"
          ]
        }
      ]
    },
    {
      "cell_type": "code",
      "source": [
        "a = [1, 2, 3, 4]\n",
        "b = a\n",
        "print(a, b)\n",
        "print(a == b)\n",
        "print(a is b)\n",
        "print(id(a), id(b))\n",
        "b[2] = 100\n",
        "print(a, b)"
      ],
      "metadata": {
        "colab": {
          "base_uri": "https://localhost:8080/"
        },
        "id": "Idy0TkXuqQ02",
        "outputId": "31271a60-4c7e-420a-828a-178c452cbf4e"
      },
      "execution_count": 78,
      "outputs": [
        {
          "output_type": "stream",
          "name": "stdout",
          "text": [
            "[1, 2, 3, 4] [1, 2, 3, 4]\n",
            "True\n",
            "True\n",
            "139327553704320 139327553704320\n",
            "[1, 2, 100, 4] [1, 2, 100, 4]\n"
          ]
        }
      ]
    },
    {
      "cell_type": "code",
      "source": [
        "a = [1, 2, 3, 4]\n",
        "b = a.copy()\n",
        "print(a, b)\n",
        "print(a == b)\n",
        "print(a is b)\n",
        "print(id(a), id(b))\n",
        "b[2] = 100\n",
        "print(a, b)"
      ],
      "metadata": {
        "colab": {
          "base_uri": "https://localhost:8080/"
        },
        "id": "67imNkd5qUk1",
        "outputId": "5082fe05-7668-4946-f1ea-a1719f389b05"
      },
      "execution_count": 83,
      "outputs": [
        {
          "output_type": "stream",
          "name": "stdout",
          "text": [
            "[1, 2, 3, 4] [1, 2, 3, 4]\n",
            "True\n",
            "False\n",
            "139327551222656 139327551213888\n",
            "[1, 2, 3, 4] [1, 2, 100, 4]\n"
          ]
        }
      ]
    },
    {
      "cell_type": "code",
      "source": [
        "a = [1, 2, [5, 6], 7]\n",
        "b = a\n",
        "print(a, b)\n",
        "print(a == b, a is b)\n",
        "print(id(a), id(b))\n",
        "b[2][1] = 100\n",
        "print(a, b)"
      ],
      "metadata": {
        "colab": {
          "base_uri": "https://localhost:8080/"
        },
        "id": "AmFryfKtrabb",
        "outputId": "5a8a87f3-8115-4768-ed7c-9ae923667693"
      },
      "execution_count": 86,
      "outputs": [
        {
          "output_type": "stream",
          "name": "stdout",
          "text": [
            "[1, 2, [5, 6], 7] [1, 2, [5, 6], 7]\n",
            "True True\n",
            "139327551221696 139327551221696\n",
            "[1, 2, [5, 100], 7] [1, 2, [5, 100], 7]\n"
          ]
        }
      ]
    },
    {
      "cell_type": "code",
      "source": [
        "a = [1, 2, [5, 6], 7]\n",
        "b = a.copy()\n",
        "print(a, b)\n",
        "print(a == b, a is b)\n",
        "print(id(a), id(b))\n",
        "b[2][1] = 100\n",
        "print(a, b)"
      ],
      "metadata": {
        "colab": {
          "base_uri": "https://localhost:8080/"
        },
        "id": "DUckGo6or4wV",
        "outputId": "79eeb2b6-8b56-4390-fdd7-23a5a3f983b8"
      },
      "execution_count": 87,
      "outputs": [
        {
          "output_type": "stream",
          "name": "stdout",
          "text": [
            "[1, 2, [5, 6], 7] [1, 2, [5, 6], 7]\n",
            "True False\n",
            "139327553668992 139327551214592\n",
            "[1, 2, [5, 100], 7] [1, 2, [5, 100], 7]\n"
          ]
        }
      ]
    },
    {
      "cell_type": "code",
      "source": [
        "import copy\n",
        "a = [1, 2, [5, 6], 7]\n",
        "b = copy.deepcopy(a)\n",
        "print(a, b)\n",
        "print(a == b, a is b)\n",
        "print(id(a), id(b))\n",
        "b[2][1] = 100\n",
        "print(a, b)"
      ],
      "metadata": {
        "colab": {
          "base_uri": "https://localhost:8080/"
        },
        "id": "76XPqtEysHiI",
        "outputId": "d466d07f-3113-42d3-9743-671f15636a17"
      },
      "execution_count": 88,
      "outputs": [
        {
          "output_type": "stream",
          "name": "stdout",
          "text": [
            "[1, 2, [5, 6], 7] [1, 2, [5, 6], 7]\n",
            "True False\n",
            "139327552110528 139327552096000\n",
            "[1, 2, [5, 6], 7] [1, 2, [5, 100], 7]\n"
          ]
        }
      ]
    },
    {
      "cell_type": "code",
      "source": [
        "name = ['james', 'maria', 'grace']\n",
        "score = [100, 90, 80]\n",
        "\n",
        "grade = {'james':100, 'maria':90, 'grace':80}\n",
        "print(grade)"
      ],
      "metadata": {
        "colab": {
          "base_uri": "https://localhost:8080/"
        },
        "id": "4Put2UggslET",
        "outputId": "5f73e25f-3fbf-4f13-f2c6-0de62f5bef62"
      },
      "execution_count": 89,
      "outputs": [
        {
          "output_type": "stream",
          "name": "stdout",
          "text": [
            "{'james': 100, 'maria': 90, 'grace': 80}\n"
          ]
        }
      ]
    },
    {
      "cell_type": "code",
      "source": [
        "grade = {'james':100, 'maria':90,\n",
        "         'grace':80, 'james':70}\n",
        "print(grade)\n",
        "print(grade['james'])"
      ],
      "metadata": {
        "colab": {
          "base_uri": "https://localhost:8080/"
        },
        "id": "uibWD6yYtkOl",
        "outputId": "fb47ed47-61b8-45b5-d843-754da694e71d"
      },
      "execution_count": 91,
      "outputs": [
        {
          "output_type": "stream",
          "name": "stdout",
          "text": [
            "{'james': 70, 'maria': 90, 'grace': 80}\n",
            "70\n"
          ]
        }
      ]
    },
    {
      "cell_type": "code",
      "source": [
        "x = {100: 'a', True: 1, 3.14: [100, 10]}\n",
        "print(x)"
      ],
      "metadata": {
        "colab": {
          "base_uri": "https://localhost:8080/"
        },
        "id": "VFmLHguZtudQ",
        "outputId": "36e2b714-c727-42a8-e957-a660be378e78"
      },
      "execution_count": 92,
      "outputs": [
        {
          "output_type": "stream",
          "name": "stdout",
          "text": [
            "{100: 'a', True: 1, 3.14: [100, 10]}\n"
          ]
        }
      ]
    },
    {
      "cell_type": "code",
      "source": [
        "x = {[10, 20]: 1}\n",
        "print(x)"
      ],
      "metadata": {
        "colab": {
          "base_uri": "https://localhost:8080/",
          "height": 199
        },
        "id": "j-OR0DRQuP7k",
        "outputId": "f899f625-7450-4620-bf2a-5ac2e7c4a923"
      },
      "execution_count": 93,
      "outputs": [
        {
          "output_type": "error",
          "ename": "TypeError",
          "evalue": "unhashable type: 'list'",
          "traceback": [
            "\u001b[0;31m---------------------------------------------------------------------------\u001b[0m",
            "\u001b[0;31mTypeError\u001b[0m                                 Traceback (most recent call last)",
            "\u001b[0;32m<ipython-input-93-d00ff8a176e5>\u001b[0m in \u001b[0;36m<cell line: 1>\u001b[0;34m()\u001b[0m\n\u001b[0;32m----> 1\u001b[0;31m \u001b[0mx\u001b[0m \u001b[0;34m=\u001b[0m \u001b[0;34m{\u001b[0m\u001b[0;34m[\u001b[0m\u001b[0;36m10\u001b[0m\u001b[0;34m,\u001b[0m \u001b[0;36m20\u001b[0m\u001b[0;34m]\u001b[0m\u001b[0;34m:\u001b[0m \u001b[0;36m1\u001b[0m\u001b[0;34m}\u001b[0m\u001b[0;34m\u001b[0m\u001b[0;34m\u001b[0m\u001b[0m\n\u001b[0m\u001b[1;32m      2\u001b[0m \u001b[0mprint\u001b[0m\u001b[0;34m(\u001b[0m\u001b[0mx\u001b[0m\u001b[0;34m)\u001b[0m\u001b[0;34m\u001b[0m\u001b[0;34m\u001b[0m\u001b[0m\n",
            "\u001b[0;31mTypeError\u001b[0m: unhashable type: 'list'"
          ]
        }
      ]
    },
    {
      "cell_type": "code",
      "source": [
        "a = {}\n",
        "b = dict()\n",
        "print(a)\n",
        "print(b)"
      ],
      "metadata": {
        "colab": {
          "base_uri": "https://localhost:8080/"
        },
        "id": "iE3a46rTuZ-g",
        "outputId": "a55bcfd8-19be-4aff-dd6e-71ed4aa2672a"
      },
      "execution_count": 94,
      "outputs": [
        {
          "output_type": "stream",
          "name": "stdout",
          "text": [
            "{}\n",
            "{}\n"
          ]
        }
      ]
    },
    {
      "cell_type": "code",
      "source": [
        "name = ['james', 'maria', 'grace']\n",
        "score = [100, 90, 80]\n",
        "\n",
        "grade = dict(zip(name, score))\n",
        "print(grade)"
      ],
      "metadata": {
        "colab": {
          "base_uri": "https://localhost:8080/"
        },
        "id": "f_PRyxbDuovu",
        "outputId": "992da663-5f2f-4b4b-8f21-afa9e044f97e"
      },
      "execution_count": 95,
      "outputs": [
        {
          "output_type": "stream",
          "name": "stdout",
          "text": [
            "{'james': 100, 'maria': 90, 'grace': 80}\n"
          ]
        }
      ]
    },
    {
      "cell_type": "code",
      "source": [
        "grade = dict(james=100, maria=90, grace=80)\n",
        "print(grade)"
      ],
      "metadata": {
        "colab": {
          "base_uri": "https://localhost:8080/"
        },
        "id": "267MT_YovAsc",
        "outputId": "856630b9-b73c-4a5d-b24f-ff4ff497eb63"
      },
      "execution_count": 100,
      "outputs": [
        {
          "output_type": "stream",
          "name": "stdout",
          "text": [
            "{'james': 100, 'maria': 90, 'grace': 80}\n"
          ]
        }
      ]
    },
    {
      "cell_type": "code",
      "source": [
        "grade = dict([('james', 100), ('maria', 90),\n",
        "              ('grace', 80)])\n",
        "print(grade)"
      ],
      "metadata": {
        "colab": {
          "base_uri": "https://localhost:8080/"
        },
        "id": "tX60rDy_vSsK",
        "outputId": "f5cb9fe1-32c6-4986-c4db-1158b4caed31"
      },
      "execution_count": 98,
      "outputs": [
        {
          "output_type": "stream",
          "name": "stdout",
          "text": [
            "{'james': 100, 'maria': 90, 'grace': 80}\n"
          ]
        }
      ]
    },
    {
      "cell_type": "code",
      "source": [
        "a, b, c, d, e = input().split()\n",
        "\n",
        "key1 = [a, b, c, d, e]\n",
        "val1 = [len(a), len(b), len(c), len(d), len(e)]\n",
        "dic1 = dict(zip(key1, val1))\n",
        "print(dic1)\n",
        "\n",
        "dic3 = dict([(a, len(a)), (b, len(b)),\n",
        "             (c, len(c)), (d, len(d)),\n",
        "             (e, len(e))])\n",
        "print(dic3)"
      ],
      "metadata": {
        "colab": {
          "base_uri": "https://localhost:8080/"
        },
        "id": "SLxzHztyvtr-",
        "outputId": "987bdc87-f476-485e-c27a-1b82c5bf56c5"
      },
      "execution_count": 101,
      "outputs": [
        {
          "output_type": "stream",
          "name": "stdout",
          "text": [
            "apple orange coffee rainbow hi\n",
            "{'apple': 5, 'orange': 6, 'coffee': 6, 'rainbow': 7, 'hi': 2}\n",
            "{'apple': 5, 'orange': 6, 'coffee': 6, 'rainbow': 7, 'hi': 2}\n"
          ]
        }
      ]
    },
    {
      "cell_type": "code",
      "source": [
        "grade = dict(james=100, maria=90, grace=80)\n",
        "print(grade)\n",
        "\n",
        "grade['victor'] = 70\n",
        "print(grade)\n",
        "\n",
        "if 'python' in grade:\n",
        "  print(grade['python'])\n",
        "\n",
        "print('james' in grade)\n",
        "print('python' in grade)\n",
        "\n",
        "grade.setdefault('alex')\n",
        "print(grade)\n",
        "grade.setdefault('daniel', 85)\n",
        "print(grade)\n",
        "\n",
        "grade['james'] = 70\n",
        "print(grade)"
      ],
      "metadata": {
        "colab": {
          "base_uri": "https://localhost:8080/"
        },
        "id": "drP_rIRYyxOB",
        "outputId": "34ac46a3-0544-4477-a461-b90c1ab8b590"
      },
      "execution_count": 109,
      "outputs": [
        {
          "output_type": "stream",
          "name": "stdout",
          "text": [
            "{'james': 100, 'maria': 90, 'grace': 80}\n",
            "{'james': 100, 'maria': 90, 'grace': 80, 'victor': 70}\n",
            "True\n",
            "False\n",
            "{'james': 100, 'maria': 90, 'grace': 80, 'victor': 70, 'alex': None}\n",
            "{'james': 100, 'maria': 90, 'grace': 80, 'victor': 70, 'alex': None, 'daniel': 85}\n",
            "{'james': 70, 'maria': 90, 'grace': 80, 'victor': 70, 'alex': None, 'daniel': 85}\n"
          ]
        }
      ]
    },
    {
      "cell_type": "code",
      "source": [
        "x = dict(zip(list('abcd'), [10, 20, 30, 40]))\n",
        "print(x)\n",
        "x.update(a = 80)\n",
        "print(x)\n",
        "x.update(e = 50)\n",
        "print(x)\n",
        "x.update(a = 100, f = 60)\n",
        "print(x)\n",
        "x.update({1: 'a'})\n",
        "print(x)"
      ],
      "metadata": {
        "colab": {
          "base_uri": "https://localhost:8080/"
        },
        "id": "xbAVvBDZzGxe",
        "outputId": "0220f930-d984-47f9-c12e-9eb9bb4981e0"
      },
      "execution_count": 114,
      "outputs": [
        {
          "output_type": "stream",
          "name": "stdout",
          "text": [
            "{'a': 10, 'b': 20, 'c': 30, 'd': 40}\n",
            "{'a': 80, 'b': 20, 'c': 30, 'd': 40}\n",
            "{'a': 80, 'b': 20, 'c': 30, 'd': 40, 'e': 50}\n",
            "{'a': 100, 'b': 20, 'c': 30, 'd': 40, 'e': 50, 'f': 60}\n",
            "{'a': 100, 'b': 20, 'c': 30, 'd': 40, 'e': 50, 'f': 60, 1: 'a'}\n"
          ]
        }
      ]
    },
    {
      "cell_type": "code",
      "source": [
        "x = dict(zip(list('abcd'), [10, 20, 30, 40]))\n",
        "print(x)\n",
        "print(x.pop('b'))\n",
        "print(x)\n",
        "print(x.pop('e', 100))\n",
        "print(x)\n",
        "del x['d']\n",
        "print(x)"
      ],
      "metadata": {
        "colab": {
          "base_uri": "https://localhost:8080/"
        },
        "id": "_7NjFRoL3W2D",
        "outputId": "c3cb9237-f97c-4733-e4f1-ead78102da23"
      },
      "execution_count": 121,
      "outputs": [
        {
          "output_type": "stream",
          "name": "stdout",
          "text": [
            "{'a': 10, 'b': 20, 'c': 30, 'd': 40}\n",
            "20\n",
            "{'a': 10, 'c': 30, 'd': 40}\n",
            "100\n",
            "{'a': 10, 'c': 30, 'd': 40}\n",
            "{'a': 10, 'c': 30}\n"
          ]
        }
      ]
    },
    {
      "cell_type": "code",
      "source": [
        "x = dict(zip(list('abcd'), [10, 20, 30, 40]))\n",
        "print(x)\n",
        "print(x.popitem())\n",
        "print(x)\n",
        "x.clear()\n",
        "print(x)"
      ],
      "metadata": {
        "colab": {
          "base_uri": "https://localhost:8080/"
        },
        "id": "aiQRpLQO4aMt",
        "outputId": "9633577e-9642-45c8-b4a6-646056e49411"
      },
      "execution_count": 124,
      "outputs": [
        {
          "output_type": "stream",
          "name": "stdout",
          "text": [
            "{'a': 10, 'b': 20, 'c': 30, 'd': 40}\n",
            "('d', 40)\n",
            "{'a': 10, 'b': 20, 'c': 30}\n",
            "{}\n"
          ]
        }
      ]
    },
    {
      "cell_type": "code",
      "source": [
        "x = dict(zip(list('abcd'), [10, 20, 30, 40]))\n",
        "print(x)\n",
        "print(list(x.keys()))\n",
        "print(list(x.values()))\n",
        "print(list(x.items()))"
      ],
      "metadata": {
        "colab": {
          "base_uri": "https://localhost:8080/"
        },
        "id": "7-uZGXB55T35",
        "outputId": "3451a05c-2f3d-475c-9446-abeb3e312de5"
      },
      "execution_count": 129,
      "outputs": [
        {
          "output_type": "stream",
          "name": "stdout",
          "text": [
            "{'a': 10, 'b': 20, 'c': 30, 'd': 40}\n",
            "['a', 'b', 'c', 'd']\n",
            "[10, 20, 30, 40]\n",
            "[('a', 10), ('b', 20), ('c', 30), ('d', 40)]\n"
          ]
        }
      ]
    },
    {
      "cell_type": "code",
      "source": [
        "subject = ['python', 'java', 'english', 'math']\n",
        "score = [100, 90, 70, 40]\n",
        "james = dict(zip(subject, score))\n",
        "# james 딕셔너리를 이용해서 전체 과목의 평균\n",
        "# sum(리스트) -> 리스트에 있는 요소의 합\n",
        "print(sum(james.values())/len(james))"
      ],
      "metadata": {
        "colab": {
          "base_uri": "https://localhost:8080/"
        },
        "id": "aYTTvrnM59Yc",
        "outputId": "41f06b25-ba62-49ae-9dd3-e28148cb4aa2"
      },
      "execution_count": 132,
      "outputs": [
        {
          "output_type": "stream",
          "name": "stdout",
          "text": [
            "75.0\n"
          ]
        }
      ]
    },
    {
      "cell_type": "code",
      "source": [
        "# 49페이지 5번\n",
        "# 금요일: 탕수육\n",
        "# 토요일: 유산슬\n",
        "# 일요일: 팔보채\n",
        "key1 = ['금요일', '토요일', '일요일']\n",
        "val1 = ['탕수육', '유산슬', '팔보채']\n",
        "dic1 = dict(zip(key1, val1))\n",
        "\n",
        "dic2 = dict(금요일='탕수육', 토요일='유산슬',\n",
        "            일요일='팔보채')\n",
        "\n",
        "dic3 = dict([('금', '탕'), ('토', '유'),\n",
        "             ('일', '팔')])\n",
        "\n",
        "print(dic1)\n",
        "print(dic2)\n",
        "print(dic3)"
      ],
      "metadata": {
        "colab": {
          "base_uri": "https://localhost:8080/"
        },
        "id": "ePtOADbr8v5G",
        "outputId": "85ad03f5-aa1b-4171-a027-62406187e350"
      },
      "execution_count": 133,
      "outputs": [
        {
          "output_type": "stream",
          "name": "stdout",
          "text": [
            "{'금요일': '탕수육', '토요일': '유산슬', '일요일': '팔보채'}\n",
            "{'금요일': '탕수육', '토요일': '유산슬', '일요일': '팔보채'}\n",
            "{'금': '탕', '토': '유', '일': '팔'}\n"
          ]
        }
      ]
    },
    {
      "cell_type": "code",
      "source": [
        "# 66페이지 3번\n",
        "# key값: flower, fly, floor\n",
        "# value값: 꽃, 날다, 바닥\n",
        "key1 = ['flower', 'fly', 'floor']\n",
        "val1 = ['꽃', '날다', '바닥']\n",
        "english_dict = dict(zip(key1, val1))\n",
        "\n",
        "# 영어 단어를 입력하세요 >>> _____\n",
        "word = input(\"영어 단어를 입력하세요 >>> \")\n",
        "\n",
        "print(word, \":\", english_dict.get(word, \"사전에 없는 단어입니다.\"))\n",
        "# 입력한 값이 있다면: 영단어: 한국어\n",
        "# 입력한 값이 없다면: 영단어: 사전에 없는 단어입니다.\n",
        "\n",
        "if word in english_dict:\n",
        "  print(word, \":\", english_dict[word])\n",
        "if word not in english_dict:\n",
        "  print(word, \": 사전에 없는 단어입니다.\")\n",
        "\n",
        "kindex = key1.index(word)\n",
        "print(word, \":\", val1[kindex])"
      ],
      "metadata": {
        "colab": {
          "base_uri": "https://localhost:8080/"
        },
        "id": "u6sxaud0-vPf",
        "outputId": "6d7234ee-055a-4fb2-8b91-435340e9a82a"
      },
      "execution_count": 142,
      "outputs": [
        {
          "output_type": "stream",
          "name": "stdout",
          "text": [
            "영어 단어를 입력하세요 >>> flower\n",
            "flower : 꽃\n",
            "flower : 꽃\n",
            "flower : 꽃\n"
          ]
        }
      ]
    },
    {
      "cell_type": "code",
      "source": [],
      "metadata": {
        "id": "4d9ntd64BLqh"
      },
      "execution_count": null,
      "outputs": []
    }
  ]
}
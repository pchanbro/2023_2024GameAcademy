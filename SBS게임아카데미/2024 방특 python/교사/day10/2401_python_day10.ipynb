{
  "nbformat": 4,
  "nbformat_minor": 0,
  "metadata": {
    "colab": {
      "provenance": []
    },
    "kernelspec": {
      "name": "python3",
      "display_name": "Python 3"
    },
    "language_info": {
      "name": "python"
    }
  },
  "cells": [
    {
      "cell_type": "code",
      "execution_count": null,
      "metadata": {
        "colab": {
          "base_uri": "https://localhost:8080/"
        },
        "id": "waPTj_ibsGqG",
        "outputId": "9ad6a1a1-2e17-43f4-de0e-74deba99d57e"
      },
      "outputs": [
        {
          "output_type": "stream",
          "name": "stdout",
          "text": [
            "30\n"
          ]
        }
      ],
      "source": [
        "def plus_ten(x):\n",
        "  return x + 10\n",
        "\n",
        "print(plus_ten(20))"
      ]
    },
    {
      "cell_type": "code",
      "source": [
        "plus_ten = lambda x: x + 10\n",
        "print(plus_ten(20))"
      ],
      "metadata": {
        "colab": {
          "base_uri": "https://localhost:8080/"
        },
        "id": "GK5TFKMXsNYc",
        "outputId": "2b2f55c2-35f0-4be6-d97d-dfb2a0ce8cc4"
      },
      "execution_count": null,
      "outputs": [
        {
          "output_type": "stream",
          "name": "stdout",
          "text": [
            "30\n"
          ]
        }
      ]
    },
    {
      "cell_type": "code",
      "source": [
        "print((lambda x: x + 1)(5))"
      ],
      "metadata": {
        "colab": {
          "base_uri": "https://localhost:8080/"
        },
        "id": "crFRKq1LsYaZ",
        "outputId": "a178f530-b154-476c-9acb-2105ce72eb7c"
      },
      "execution_count": null,
      "outputs": [
        {
          "output_type": "stream",
          "name": "stdout",
          "text": [
            "6\n"
          ]
        }
      ]
    },
    {
      "cell_type": "code",
      "source": [
        "# a = lambda x: y = 10; x + y\n",
        "y = 10\n",
        "a = lambda x: x + y\n",
        "print(a(20))"
      ],
      "metadata": {
        "colab": {
          "base_uri": "https://localhost:8080/"
        },
        "id": "f73bv47Us-GJ",
        "outputId": "740e4d0a-6544-45de-c2f8-c7f94c4d648b"
      },
      "execution_count": null,
      "outputs": [
        {
          "output_type": "stream",
          "name": "stdout",
          "text": [
            "30\n"
          ]
        }
      ]
    },
    {
      "cell_type": "code",
      "source": [
        "a = [1, 2, 3]\n",
        "for i in range(len(a)):\n",
        "  a[i] = a[i] + 10\n",
        "print(a)"
      ],
      "metadata": {
        "colab": {
          "base_uri": "https://localhost:8080/"
        },
        "id": "miBnchg5tiQA",
        "outputId": "f1616e08-3683-40d0-d945-0b649acebb6d"
      },
      "execution_count": null,
      "outputs": [
        {
          "output_type": "stream",
          "name": "stdout",
          "text": [
            "[11, 12, 13]\n"
          ]
        }
      ]
    },
    {
      "cell_type": "code",
      "source": [
        "def plus_ten3(x):\n",
        "  return x + 10\n",
        "\n",
        "a = [1, 2, 3]\n",
        "print(list(map(plus_ten3, a)))"
      ],
      "metadata": {
        "colab": {
          "base_uri": "https://localhost:8080/"
        },
        "id": "dnLYuOpct2Z9",
        "outputId": "5dc2fc93-1d29-43b9-f39a-e67b801fce97"
      },
      "execution_count": null,
      "outputs": [
        {
          "output_type": "stream",
          "name": "stdout",
          "text": [
            "[11, 12, 13]\n"
          ]
        }
      ]
    },
    {
      "cell_type": "code",
      "source": [
        "a = [1, 2, 3]\n",
        "print(list(map(lambda x: x + 10, a)))"
      ],
      "metadata": {
        "colab": {
          "base_uri": "https://localhost:8080/"
        },
        "id": "Gu1AV7N0t-WP",
        "outputId": "08bc544f-5755-4ec3-cc3c-b5077f9d6ae9"
      },
      "execution_count": null,
      "outputs": [
        {
          "output_type": "stream",
          "name": "stdout",
          "text": [
            "[11, 12, 13]\n"
          ]
        }
      ]
    },
    {
      "cell_type": "code",
      "source": [
        "print((lambda : 1)())"
      ],
      "metadata": {
        "colab": {
          "base_uri": "https://localhost:8080/"
        },
        "id": "d_oIj-c_uDSL",
        "outputId": "c67bccd5-18ed-4c52-a5fa-a3dc43269690"
      },
      "execution_count": null,
      "outputs": [
        {
          "output_type": "stream",
          "name": "stdout",
          "text": [
            "1\n"
          ]
        }
      ]
    },
    {
      "cell_type": "code",
      "source": [
        "a = [1, 2, 3, 4, 5, 6, 7, 8, 9, 10]\n",
        "b = list(map(lambda x: str(x) if x % 2 == 0 else x, a))\n",
        "print(b)"
      ],
      "metadata": {
        "colab": {
          "base_uri": "https://localhost:8080/"
        },
        "id": "m6loHYdpuVTk",
        "outputId": "d2ad9916-4715-4321-c9bb-50dbebfef7ca"
      },
      "execution_count": null,
      "outputs": [
        {
          "output_type": "stream",
          "name": "stdout",
          "text": [
            "[1, '2', 3, '4', 5, '6', 7, '8', 9, '10']\n"
          ]
        }
      ]
    },
    {
      "cell_type": "code",
      "source": [
        "# 3으로 나눴을 때 나머지가 0이면 문자열로\n",
        "#                          1이면 실수로\n",
        "#                          2면 그대로\n",
        "a = [1, 2, 3, 4, 5, 6, 7, 8, 9, 10]\n",
        "\n",
        "# 이렇게 길 경우, 그냥 def로 만들어라 -> 가독성이 훨씬 좋음\n",
        "b = list(map(lambda x: str(x) if x % 3 == 0 else float(x) if x % 3 == 1 else x, a))\n",
        "print(b)"
      ],
      "metadata": {
        "colab": {
          "base_uri": "https://localhost:8080/"
        },
        "id": "sCHq8kibu1IQ",
        "outputId": "b5c0671e-91b5-4c90-ca36-c9493cbcd7ae"
      },
      "execution_count": null,
      "outputs": [
        {
          "output_type": "stream",
          "name": "stdout",
          "text": [
            "[1.0, 2, '3', 4.0, 5, '6', 7.0, 8, '9', 10.0]\n"
          ]
        }
      ]
    },
    {
      "cell_type": "code",
      "source": [
        "a = [1, 2, 3, 4, 5]\n",
        "b = [2, 4, 6, 8, 10]\n",
        "c = list(map(lambda x, y: x * y, a, b))\n",
        "print(c)"
      ],
      "metadata": {
        "colab": {
          "base_uri": "https://localhost:8080/"
        },
        "id": "sNU23dYmvkjx",
        "outputId": "c37d5896-8cb4-4df9-e86a-83773013b7ed"
      },
      "execution_count": null,
      "outputs": [
        {
          "output_type": "stream",
          "name": "stdout",
          "text": [
            "[2, 8, 18, 32, 50]\n"
          ]
        }
      ]
    },
    {
      "cell_type": "code",
      "source": [
        "a = [True, False, True, True, False]\n",
        "b = [1, 2, 3, 4, 5]\n",
        "c = list(map(lambda x, y: str(y) if x else y, a, b))\n",
        "print(c)"
      ],
      "metadata": {
        "colab": {
          "base_uri": "https://localhost:8080/"
        },
        "id": "LXPXekN3wOeN",
        "outputId": "c67758fe-4e47-4df6-bcd8-291839583836"
      },
      "execution_count": null,
      "outputs": [
        {
          "output_type": "stream",
          "name": "stdout",
          "text": [
            "['1', 2, '3', '4', 5]\n"
          ]
        }
      ]
    },
    {
      "cell_type": "code",
      "source": [
        "a = [3, 4, 5, 6, 7, 8, 9]\n",
        "b = [1, 2, 3, 4, 5, 6, 7]\n",
        "f = lambda x, y: x + y if x % 3 == 0 else x - y if x % 3 == 1 else x * y\n",
        "c = list(map(f, a, b))\n",
        "\n",
        "\n",
        "print(c)"
      ],
      "metadata": {
        "colab": {
          "base_uri": "https://localhost:8080/"
        },
        "id": "ZUJp24gSywQY",
        "outputId": "5cf7ca40-4f9d-4146-c03b-c9cb626cd8fb"
      },
      "execution_count": null,
      "outputs": [
        {
          "output_type": "stream",
          "name": "stdout",
          "text": [
            "[4, 2, 15, 10, 2, 48, 16]\n"
          ]
        }
      ]
    },
    {
      "cell_type": "code",
      "source": [
        "def f(x):\n",
        "  return 6 <= x <= 10\n",
        "\n",
        "a = [8, 5, 6, 2, 3, 10, 1, 4, 9, 7]\n",
        "print(list(filter(f, a)))"
      ],
      "metadata": {
        "colab": {
          "base_uri": "https://localhost:8080/"
        },
        "id": "eBOvW6GFzqKm",
        "outputId": "2bd32734-cc59-488f-f4d4-e8f3d910992a"
      },
      "execution_count": null,
      "outputs": [
        {
          "output_type": "stream",
          "name": "stdout",
          "text": [
            "[8, 6, 10, 9, 7]\n"
          ]
        }
      ]
    },
    {
      "cell_type": "code",
      "source": [
        "a = [8, 5, 6, 2, 3, 10, 1, 4, 9, 7]\n",
        "print(list(filter(lambda x: 1 <= x <= 5, a)))"
      ],
      "metadata": {
        "colab": {
          "base_uri": "https://localhost:8080/"
        },
        "id": "mEGekpQN3A2A",
        "outputId": "0e1f9c9f-092d-4fa4-e6d5-3fa5668fcc77"
      },
      "execution_count": null,
      "outputs": [
        {
          "output_type": "stream",
          "name": "stdout",
          "text": [
            "[5, 2, 3, 1, 4]\n"
          ]
        }
      ]
    },
    {
      "cell_type": "code",
      "source": [
        "from functools import reduce\n",
        "\n",
        "def f2(x, y):\n",
        "  return x + y\n",
        "\n",
        "a = [1, 2, 3, 4, 5]\n",
        "print(reduce(f2, a))"
      ],
      "metadata": {
        "colab": {
          "base_uri": "https://localhost:8080/"
        },
        "id": "jN-otiJT3K2Y",
        "outputId": "aff8b803-2a4b-427e-a3d4-f0a6f04fbe6e"
      },
      "execution_count": null,
      "outputs": [
        {
          "output_type": "stream",
          "name": "stdout",
          "text": [
            "15\n"
          ]
        }
      ]
    },
    {
      "cell_type": "code",
      "source": [
        "from functools import reduce\n",
        "a = [1, 2, 3, 4, 5]\n",
        "print(reduce(lambda x, y: x + y, a))"
      ],
      "metadata": {
        "colab": {
          "base_uri": "https://localhost:8080/"
        },
        "id": "i7qXscHJ3pmv",
        "outputId": "cfdf260b-fc63-4a3f-ff2c-a967975eba81"
      },
      "execution_count": null,
      "outputs": [
        {
          "output_type": "stream",
          "name": "stdout",
          "text": [
            "15\n"
          ]
        }
      ]
    },
    {
      "cell_type": "code",
      "source": [
        "files = ['1.hwp', '10.jpg', '2.png', '3.gif', '4.png', '5.xlsx', '6.jpg', '7.docx', '8.jpg', '9.gif', 'jpg.xlsx']\n",
        "f = lambda x: x.split('.')[-1] in ['jpg', 'png']\n",
        "print(list(filter(f, files)))"
      ],
      "metadata": {
        "colab": {
          "base_uri": "https://localhost:8080/"
        },
        "id": "imhmsF6S3-bI",
        "outputId": "d8c3f976-912c-459c-875b-b99f99a1f008"
      },
      "execution_count": null,
      "outputs": [
        {
          "output_type": "stream",
          "name": "stdout",
          "text": [
            "['10.jpg', '2.png', '4.png', '6.jpg', '8.jpg']\n"
          ]
        }
      ]
    },
    {
      "cell_type": "code",
      "source": [
        "def ten_div(x):\n",
        "  return 10 / x\n",
        "\n",
        "print(ten_div(2))\n",
        "print(ten_div(0))"
      ],
      "metadata": {
        "colab": {
          "base_uri": "https://localhost:8080/",
          "height": 359
        },
        "id": "rLkUT0uK4aS2",
        "outputId": "044ea501-d266-41ed-867a-3244909db378"
      },
      "execution_count": null,
      "outputs": [
        {
          "output_type": "stream",
          "name": "stdout",
          "text": [
            "5.0\n"
          ]
        },
        {
          "output_type": "error",
          "ename": "ZeroDivisionError",
          "evalue": "division by zero",
          "traceback": [
            "\u001b[0;31m---------------------------------------------------------------------------\u001b[0m",
            "\u001b[0;31mZeroDivisionError\u001b[0m                         Traceback (most recent call last)",
            "\u001b[0;32m<ipython-input-29-74df5bd2bc52>\u001b[0m in \u001b[0;36m<cell line: 5>\u001b[0;34m()\u001b[0m\n\u001b[1;32m      3\u001b[0m \u001b[0;34m\u001b[0m\u001b[0m\n\u001b[1;32m      4\u001b[0m \u001b[0mprint\u001b[0m\u001b[0;34m(\u001b[0m\u001b[0mten_div\u001b[0m\u001b[0;34m(\u001b[0m\u001b[0;36m2\u001b[0m\u001b[0;34m)\u001b[0m\u001b[0;34m)\u001b[0m\u001b[0;34m\u001b[0m\u001b[0;34m\u001b[0m\u001b[0m\n\u001b[0;32m----> 5\u001b[0;31m \u001b[0mprint\u001b[0m\u001b[0;34m(\u001b[0m\u001b[0mten_div\u001b[0m\u001b[0;34m(\u001b[0m\u001b[0;36m0\u001b[0m\u001b[0;34m)\u001b[0m\u001b[0;34m)\u001b[0m\u001b[0;34m\u001b[0m\u001b[0;34m\u001b[0m\u001b[0m\n\u001b[0m",
            "\u001b[0;32m<ipython-input-29-74df5bd2bc52>\u001b[0m in \u001b[0;36mten_div\u001b[0;34m(x)\u001b[0m\n\u001b[1;32m      1\u001b[0m \u001b[0;32mdef\u001b[0m \u001b[0mten_div\u001b[0m\u001b[0;34m(\u001b[0m\u001b[0mx\u001b[0m\u001b[0;34m)\u001b[0m\u001b[0;34m:\u001b[0m\u001b[0;34m\u001b[0m\u001b[0;34m\u001b[0m\u001b[0m\n\u001b[0;32m----> 2\u001b[0;31m   \u001b[0;32mreturn\u001b[0m \u001b[0;36m10\u001b[0m \u001b[0;34m/\u001b[0m \u001b[0mx\u001b[0m\u001b[0;34m\u001b[0m\u001b[0;34m\u001b[0m\u001b[0m\n\u001b[0m\u001b[1;32m      3\u001b[0m \u001b[0;34m\u001b[0m\u001b[0m\n\u001b[1;32m      4\u001b[0m \u001b[0mprint\u001b[0m\u001b[0;34m(\u001b[0m\u001b[0mten_div\u001b[0m\u001b[0;34m(\u001b[0m\u001b[0;36m2\u001b[0m\u001b[0;34m)\u001b[0m\u001b[0;34m)\u001b[0m\u001b[0;34m\u001b[0m\u001b[0;34m\u001b[0m\u001b[0m\n\u001b[1;32m      5\u001b[0m \u001b[0mprint\u001b[0m\u001b[0;34m(\u001b[0m\u001b[0mten_div\u001b[0m\u001b[0;34m(\u001b[0m\u001b[0;36m0\u001b[0m\u001b[0;34m)\u001b[0m\u001b[0;34m)\u001b[0m\u001b[0;34m\u001b[0m\u001b[0;34m\u001b[0m\u001b[0m\n",
            "\u001b[0;31mZeroDivisionError\u001b[0m: division by zero"
          ]
        }
      ]
    },
    {
      "cell_type": "code",
      "source": [
        "try:\n",
        "  x = int(input(\"수를 입력하세요 >>> \"))\n",
        "  print(10 / x)\n",
        "except:\n",
        "  print(\"예외 발생!\")"
      ],
      "metadata": {
        "colab": {
          "base_uri": "https://localhost:8080/"
        },
        "id": "e0764Uqo8S5z",
        "outputId": "e83b04f2-3a9e-4539-ac30-3bd2489bc136"
      },
      "execution_count": null,
      "outputs": [
        {
          "output_type": "stream",
          "name": "stdout",
          "text": [
            "수를 입력하세요 >>> 0\n",
            "예외 발생!\n"
          ]
        }
      ]
    },
    {
      "cell_type": "code",
      "source": [
        "a = [10, 20, 30]\n",
        "\n",
        "try:\n",
        "  idx, x = map(int, input(\"인덱스 번호와 나눌 수를 입력하세요 >>> \").split())\n",
        "  print(a[idx] / x)\n",
        "except ZeroDivisionError:\n",
        "  print('수를 0으로 나눌 수 없습니다.')\n",
        "except IndexError:\n",
        "  print('잘못된 인덱스입니다.')"
      ],
      "metadata": {
        "colab": {
          "base_uri": "https://localhost:8080/"
        },
        "id": "5JjZcyeB8zkD",
        "outputId": "9c23d4c4-d49d-4d24-fafe-a1f7216a0739"
      },
      "execution_count": null,
      "outputs": [
        {
          "output_type": "stream",
          "name": "stdout",
          "text": [
            "인덱스 번호와 나눌 수를 입력하세요 >>> 3 0\n",
            "잘못된 인덱스입니다.\n"
          ]
        }
      ]
    },
    {
      "cell_type": "code",
      "source": [
        "a = [10, 20, 30]\n",
        "\n",
        "try:\n",
        "  idx, x = map(int, input(\"인덱스 번호와 나눌 수를 입력하세요 >>> \").split())\n",
        "  print(a[idx] / x)\n",
        "except ZeroDivisionError as e:\n",
        "  print('수를 0으로 나눌 수 없습니다.', e)\n",
        "except IndexError as e:\n",
        "  print('잘못된 인덱스입니다.', e)"
      ],
      "metadata": {
        "colab": {
          "base_uri": "https://localhost:8080/"
        },
        "id": "9vaJk6fh9qcJ",
        "outputId": "4719a15b-1a20-474c-ce94-f6bed669f1d8"
      },
      "execution_count": null,
      "outputs": [
        {
          "output_type": "stream",
          "name": "stdout",
          "text": [
            "인덱스 번호와 나눌 수를 입력하세요 >>> 3 2\n",
            "잘못된 인덱스입니다. list index out of range\n"
          ]
        }
      ]
    },
    {
      "cell_type": "code",
      "source": [
        "# AttributeError\n",
        "a = [1, 2, 3]\n",
        "print(a.indax(2))"
      ],
      "metadata": {
        "colab": {
          "base_uri": "https://localhost:8080/",
          "height": 216
        },
        "id": "9NKRKrr4-9Bo",
        "outputId": "6c43db40-f285-4565-8676-7c872587e996"
      },
      "execution_count": null,
      "outputs": [
        {
          "output_type": "error",
          "ename": "AttributeError",
          "evalue": "'list' object has no attribute 'indax'",
          "traceback": [
            "\u001b[0;31m---------------------------------------------------------------------------\u001b[0m",
            "\u001b[0;31mAttributeError\u001b[0m                            Traceback (most recent call last)",
            "\u001b[0;32m<ipython-input-48-9f131ea5dc61>\u001b[0m in \u001b[0;36m<cell line: 3>\u001b[0;34m()\u001b[0m\n\u001b[1;32m      1\u001b[0m \u001b[0;31m# AttributeError\u001b[0m\u001b[0;34m\u001b[0m\u001b[0;34m\u001b[0m\u001b[0m\n\u001b[1;32m      2\u001b[0m \u001b[0ma\u001b[0m \u001b[0;34m=\u001b[0m \u001b[0;34m[\u001b[0m\u001b[0;36m1\u001b[0m\u001b[0;34m,\u001b[0m \u001b[0;36m2\u001b[0m\u001b[0;34m,\u001b[0m \u001b[0;36m3\u001b[0m\u001b[0;34m]\u001b[0m\u001b[0;34m\u001b[0m\u001b[0;34m\u001b[0m\u001b[0m\n\u001b[0;32m----> 3\u001b[0;31m \u001b[0mprint\u001b[0m\u001b[0;34m(\u001b[0m\u001b[0ma\u001b[0m\u001b[0;34m.\u001b[0m\u001b[0mindax\u001b[0m\u001b[0;34m(\u001b[0m\u001b[0;36m2\u001b[0m\u001b[0;34m)\u001b[0m\u001b[0;34m)\u001b[0m\u001b[0;34m\u001b[0m\u001b[0;34m\u001b[0m\u001b[0m\n\u001b[0m",
            "\u001b[0;31mAttributeError\u001b[0m: 'list' object has no attribute 'indax'"
          ]
        }
      ]
    },
    {
      "cell_type": "code",
      "source": [
        "try:\n",
        "  x = int(input())\n",
        "  y = 10 / x\n",
        "except:\n",
        "  print('예외발생!')\n",
        "else:\n",
        "  print(y)\n",
        "finally:\n",
        "  print('종료')"
      ],
      "metadata": {
        "colab": {
          "base_uri": "https://localhost:8080/"
        },
        "id": "pjFZBDfQ_d_x",
        "outputId": "ac933b52-ca49-419d-8654-20ca3a461416"
      },
      "execution_count": null,
      "outputs": [
        {
          "output_type": "stream",
          "name": "stdout",
          "text": [
            "2\n",
            "5.0\n",
            "종료\n"
          ]
        }
      ]
    },
    {
      "cell_type": "code",
      "source": [
        "try:\n",
        "  x = int(input(\"3의 배수 입력 >>> \"))\n",
        "  if x % 3 != 0:\n",
        "    raise ArithmeticError('3의 배수가 아닙니다.')\n",
        "  print(x)\n",
        "except Exception as e:\n",
        "  print('예외 발생!', e)"
      ],
      "metadata": {
        "colab": {
          "base_uri": "https://localhost:8080/"
        },
        "id": "INON1NmrAu0Z",
        "outputId": "992faf37-3259-47af-877a-e52bba4e09a9"
      },
      "execution_count": null,
      "outputs": [
        {
          "output_type": "stream",
          "name": "stdout",
          "text": [
            "3의 배수 입력 >>> 2\n",
            "예외 발생! 3의 배수가 아닙니다.\n"
          ]
        }
      ]
    },
    {
      "cell_type": "code",
      "source": [
        "def check3():\n",
        "  x = int(input(\"3의 배수 입력 >>> \"))\n",
        "  if x % 3 != 0:\n",
        "    raise ArithmeticError(\"3의 배수가 아닙니다.\")\n",
        "  print(x)\n",
        "\n",
        "try:\n",
        "  check3()\n",
        "except Exception as e:\n",
        "  print('예외 발생!', e)"
      ],
      "metadata": {
        "colab": {
          "base_uri": "https://localhost:8080/"
        },
        "id": "riIS61fNFzrc",
        "outputId": "ac356e6a-5b74-45ed-8b3b-f5682ea85592"
      },
      "execution_count": null,
      "outputs": [
        {
          "output_type": "stream",
          "name": "stdout",
          "text": [
            "3의 배수 입력 >>> 5\n",
            "예외 발생! 3의 배수가 아닙니다.\n"
          ]
        }
      ]
    },
    {
      "cell_type": "code",
      "source": [
        "def multiple3():\n",
        "  try:\n",
        "    x = int(input(\"3의 배수 입력 >>> \"))\n",
        "    if x % 3 != 0:\n",
        "      raise ArithmeticError(\"3의 배수가 아닙니다.\")\n",
        "    print(x)\n",
        "  except Exception as e:\n",
        "    print('함수 내 오류 발생!', e)\n",
        "    raise\n",
        "\n",
        "try:\n",
        "  multiple3()\n",
        "except Exception as e:\n",
        "  print('메인 스트림 오류 발생!', e)"
      ],
      "metadata": {
        "colab": {
          "base_uri": "https://localhost:8080/"
        },
        "id": "u-gsjY8nGn4E",
        "outputId": "5ddd4eca-e429-46a2-eb97-581212a6e076"
      },
      "execution_count": null,
      "outputs": [
        {
          "output_type": "stream",
          "name": "stdout",
          "text": [
            "3의 배수 입력 >>> 2\n",
            "함수 내 오류 발생! 3의 배수가 아닙니다.\n",
            "메인 스트림 오류 발생! 3의 배수가 아닙니다.\n"
          ]
        }
      ]
    },
    {
      "cell_type": "code",
      "source": [
        "try:\n",
        "  x = int(input(\"3의 배수 입력 >>> \"))\n",
        "  assert x % 3 == 0, \"3의 배수가 아닙니다.\"\n",
        "  print(x)\n",
        "except Exception as e:\n",
        "  print(\"예외 발생!\", e)"
      ],
      "metadata": {
        "colab": {
          "base_uri": "https://localhost:8080/"
        },
        "id": "xduR6ElpHf6z",
        "outputId": "a3910abd-dfb7-40f7-e7fe-f5b740d6a3b2"
      },
      "execution_count": null,
      "outputs": [
        {
          "output_type": "stream",
          "name": "stdout",
          "text": [
            "3의 배수 입력 >>> 4\n",
            "예외 발생! 3의 배수가 아닙니다.\n"
          ]
        }
      ]
    },
    {
      "cell_type": "code",
      "source": [
        "class NotThreeMultipleException(Exception):\n",
        "  pass\n",
        "  # def __init__(self):\n",
        "    # super().__init__(\"3의 배수가 아닙니다.\")\n",
        "\n",
        "def multi3():\n",
        "  try:\n",
        "    x = int(input(\"3의 배수 입력 >>> \"))\n",
        "    if x % 3 != 0:\n",
        "      raise NotThreeMultipleException(\"!\")\n",
        "    print(x)\n",
        "  except Exception as e:\n",
        "    print(\"예외 발생!\", e)\n",
        "\n",
        "multi3()"
      ],
      "metadata": {
        "colab": {
          "base_uri": "https://localhost:8080/"
        },
        "id": "dAU0HJqbIvWz",
        "outputId": "15bd81ba-3e37-42c0-e0e2-5ef7afb0d23f"
      },
      "execution_count": null,
      "outputs": [
        {
          "output_type": "stream",
          "name": "stdout",
          "text": [
            "3의 배수 입력 >>> 4\n",
            "예외 발생! !\n"
          ]
        }
      ]
    },
    {
      "cell_type": "code",
      "source": [
        "class NotPalindromeError(Exception):\n",
        "  def __init__(self):\n",
        "    super().__init__(\"팰린드롬이 아닙니다.\")\n",
        "\n",
        "def palindrome(word):\n",
        "  if word == word[::-1]:\n",
        "    print(word)\n",
        "  else:\n",
        "    raise NotPalindromeError\n",
        "\n",
        "try:\n",
        "  word = input(\"단어 입력 >>> \")\n",
        "  palindrome(word)\n",
        "except NotPalindromeError as e:\n",
        "  print(\"예외 발생!\", e)"
      ],
      "metadata": {
        "colab": {
          "base_uri": "https://localhost:8080/"
        },
        "id": "DLFG1vOHIzTj",
        "outputId": "218d9f2b-174f-4324-e81c-5363933b5e51"
      },
      "execution_count": null,
      "outputs": [
        {
          "output_type": "stream",
          "name": "stdout",
          "text": [
            "단어 입력 >>> hello\n",
            "예외 발생! 팰린드롬이 아닙니다.\n"
          ]
        }
      ]
    },
    {
      "cell_type": "code",
      "source": [],
      "metadata": {
        "id": "c0qzVgStN4aB"
      },
      "execution_count": null,
      "outputs": []
    }
  ]
}
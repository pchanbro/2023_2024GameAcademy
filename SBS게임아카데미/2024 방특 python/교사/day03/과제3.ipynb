{
  "nbformat": 4,
  "nbformat_minor": 0,
  "metadata": {
    "colab": {
      "provenance": []
    },
    "kernelspec": {
      "name": "python3",
      "display_name": "Python 3"
    },
    "language_info": {
      "name": "python"
    }
  },
  "cells": [
    {
      "cell_type": "markdown",
      "source": [
        "a = \"54321\"\n",
        "정답: 15\n",
        "\n",
        "a = \"5000100060000800009\"\n",
        "정답: 29"
      ],
      "metadata": {
        "id": "Af8K88mnbp3D"
      }
    },
    {
      "cell_type": "code",
      "source": [
        "a = \"54321\"\n",
        "a = list(a)\n",
        "print(a)\n",
        "print(int(a[0])+int(a[1])+int(a[2])+int(a[3])+int(a[4]))\n",
        "\n",
        "a = \"5000100060000800009\"\n",
        "a = a.replace('0', '')\n",
        "a = list(a)\n",
        "print(a)\n",
        "print(int(a[0])+int(a[1])+int(a[2])+int(a[3])+int(a[4]))"
      ],
      "metadata": {
        "id": "aJZLgjDcbqPA",
        "colab": {
          "base_uri": "https://localhost:8080/"
        },
        "outputId": "53ebdacf-34cd-4f0d-80a7-61566a747780"
      },
      "execution_count": null,
      "outputs": [
        {
          "output_type": "stream",
          "name": "stdout",
          "text": [
            "['5', '4', '3', '2', '1']\n",
            "15\n",
            "['5', '1', '6', '8', '9']\n",
            "29\n"
          ]
        }
      ]
    },
    {
      "cell_type": "markdown",
      "source": [
        "a = \"level\"\n",
        "\n",
        "정답: True\n",
        "\n",
        "a = \"python\"\n",
        "\n",
        "정답: False"
      ],
      "metadata": {
        "id": "zUkiGHzbcQUr"
      }
    },
    {
      "cell_type": "code",
      "source": [
        "a = \"level\"\n",
        "print(a)\n",
        "print(a[::-1])\n",
        "print(a == a[::-1])"
      ],
      "metadata": {
        "colab": {
          "base_uri": "https://localhost:8080/"
        },
        "id": "-3nvZ_Jsb7Ox",
        "outputId": "a16d7824-01e2-48d9-a38d-07f31abd74c8"
      },
      "execution_count": null,
      "outputs": [
        {
          "output_type": "stream",
          "name": "stdout",
          "text": [
            "level\n",
            "level\n",
            "True\n"
          ]
        }
      ]
    },
    {
      "cell_type": "code",
      "source": [
        "a = \"python\"\n",
        "print(a)\n",
        "print(a[::-1])\n",
        "print(a == a[::-1])"
      ],
      "metadata": {
        "colab": {
          "base_uri": "https://localhost:8080/"
        },
        "id": "RYjzgXTOcbJw",
        "outputId": "9175f6cd-d893-486b-8355-2b7ea5f4a788"
      },
      "execution_count": null,
      "outputs": [
        {
          "output_type": "stream",
          "name": "stdout",
          "text": [
            "python\n",
            "nohtyp\n",
            "False\n"
          ]
        }
      ]
    },
    {
      "cell_type": "code",
      "source": [],
      "metadata": {
        "id": "KJcfozDrcdGy"
      },
      "execution_count": null,
      "outputs": []
    }
  ]
}
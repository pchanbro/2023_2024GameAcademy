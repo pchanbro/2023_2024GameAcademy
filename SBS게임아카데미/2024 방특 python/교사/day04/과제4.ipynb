{
  "nbformat": 4,
  "nbformat_minor": 0,
  "metadata": {
    "colab": {
      "provenance": []
    },
    "kernelspec": {
      "name": "python3",
      "display_name": "Python 3"
    },
    "language_info": {
      "name": "python"
    }
  },
  "cells": [
    {
      "cell_type": "markdown",
      "source": [
        "1. 아래와 같은 리스트가 있을 때, 출력 결과가 다음과 같도록 리스트 함수와 연결 연산자(+)를 이용해 코드를 작성해주세요.\n",
        "```\n",
        "a = [1, 3, 2, 4]\n",
        "b = [7, 8, 9, 10, 11, 12]\n",
        "c = [100, 200, 300]\n",
        "d = ???\n",
        "print(d)\n",
        "```\n",
        "\n",
        "```\n",
        "< 출력 결과 >\n",
        "[7, 8, 300, 200, 100, 9, 10, 11, 12, 4, 3, 2, 1]\n",
        "```"
      ],
      "metadata": {
        "id": "BCLZAtxLlR5a"
      }
    },
    {
      "cell_type": "code",
      "source": [
        "a = [1, 3, 2, 4]\n",
        "b = [7, 8, 9, 10, 11, 12]\n",
        "c = [100, 200, 300]\n",
        "\n",
        "a.sort(reverse=True)\n",
        "c.reverse()\n",
        "\n",
        "b[2:2] = c\n",
        "print(b + a)"
      ],
      "metadata": {
        "colab": {
          "base_uri": "https://localhost:8080/"
        },
        "id": "fJCLulkxlTSY",
        "outputId": "d9b17161-6432-4be2-bc65-4f46595736b2"
      },
      "execution_count": 3,
      "outputs": [
        {
          "output_type": "stream",
          "name": "stdout",
          "text": [
            "[7, 8, 300, 200, 100, 9, 10, 11, 12, 4, 3, 2, 1]\n"
          ]
        }
      ]
    },
    {
      "cell_type": "markdown",
      "source": [
        "2. 아래와 같이 학생의 이름과 성적이 주어질 때, 이를 입력받아 하나의 딕셔너리로 만드는 코드를 작성해주세요.\n",
        "\n",
        "```\n",
        "< 입력 >\n",
        "james maria grace victor\n",
        "96.3 23.1 100 87.4\n",
        "```"
      ],
      "metadata": {
        "id": "NjCHicU3lrpa"
      }
    },
    {
      "cell_type": "code",
      "source": [
        "names = input(\"학생 이름 입력 >>> \").split()\n",
        "score = list(map(float, input(\"성적 입력 >>> \").split()))\n",
        "\n",
        "grade = dict(zip(names, score))\n",
        "print(grade)"
      ],
      "metadata": {
        "colab": {
          "base_uri": "https://localhost:8080/"
        },
        "id": "tnGsZI0slXxx",
        "outputId": "45fe2233-8a88-4d01-8fbc-1ab01fb66293"
      },
      "execution_count": 4,
      "outputs": [
        {
          "output_type": "stream",
          "name": "stdout",
          "text": [
            "학생 이름 입력 >>> james maria grace victor\n",
            "성적 입력 >>> 96.3 23.1 100 87.4\n",
            "{'james': 96.3, 'maria': 23.1, 'grace': 100.0, 'victor': 87.4}\n"
          ]
        }
      ]
    },
    {
      "cell_type": "code",
      "source": [],
      "metadata": {
        "id": "d3LtWLjomDDn"
      },
      "execution_count": null,
      "outputs": []
    }
  ]
}
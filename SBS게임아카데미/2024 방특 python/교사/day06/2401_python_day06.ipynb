{
  "nbformat": 4,
  "nbformat_minor": 0,
  "metadata": {
    "colab": {
      "provenance": []
    },
    "kernelspec": {
      "name": "python3",
      "display_name": "Python 3"
    },
    "language_info": {
      "name": "python"
    }
  },
  "cells": [
    {
      "cell_type": "code",
      "execution_count": null,
      "metadata": {
        "colab": {
          "base_uri": "https://localhost:8080/"
        },
        "id": "20Ni-Baqu6pz",
        "outputId": "d995fce9-9cab-4c4a-ba65-03d78f4d8fcc"
      },
      "outputs": [
        {
          "output_type": "stream",
          "name": "stdout",
          "text": [
            "Hello World\n",
            "Hello World\n",
            "Hello World\n",
            "Hello World\n",
            "Hello World\n",
            "Hello World\n",
            "Hello World\n",
            "Hello World\n",
            "Hello World\n",
            "Hello World\n"
          ]
        }
      ],
      "source": [
        "for i in range(10):\n",
        "  print('Hello World')"
      ]
    },
    {
      "cell_type": "code",
      "source": [
        "for i in range(50):\n",
        "  print(i, end=' ')"
      ],
      "metadata": {
        "colab": {
          "base_uri": "https://localhost:8080/"
        },
        "id": "dTcWlJmTxL8H",
        "outputId": "48245909-2b8a-425b-822f-d17df219fb09"
      },
      "execution_count": null,
      "outputs": [
        {
          "output_type": "stream",
          "name": "stdout",
          "text": [
            "0 1 2 3 4 5 6 7 8 9 10 11 12 13 14 15 16 17 18 19 20 21 22 23 24 25 26 27 28 29 30 31 32 33 34 35 36 37 38 39 40 41 42 43 44 45 46 47 48 49 "
          ]
        }
      ]
    },
    {
      "cell_type": "code",
      "source": [
        "for hellopython in range(5):\n",
        "  print(hellopython, end=' ')"
      ],
      "metadata": {
        "colab": {
          "base_uri": "https://localhost:8080/"
        },
        "id": "WaHVflXxx_Yu",
        "outputId": "f9bfab34-dbe6-4fdb-e42e-80527a39893e"
      },
      "execution_count": null,
      "outputs": [
        {
          "output_type": "stream",
          "name": "stdout",
          "text": [
            "0 1 2 3 4 "
          ]
        }
      ]
    },
    {
      "cell_type": "code",
      "source": [
        "for i in range(5, 14):\n",
        "  print('Hello', i)"
      ],
      "metadata": {
        "colab": {
          "base_uri": "https://localhost:8080/"
        },
        "id": "mtm9xinWyHyf",
        "outputId": "f5575273-bfc8-4c74-c4ca-2b4191d6aaac"
      },
      "execution_count": null,
      "outputs": [
        {
          "output_type": "stream",
          "name": "stdout",
          "text": [
            "Hello 5\n",
            "Hello 6\n",
            "Hello 7\n",
            "Hello 8\n",
            "Hello 9\n",
            "Hello 10\n",
            "Hello 11\n",
            "Hello 12\n",
            "Hello 13\n"
          ]
        }
      ]
    },
    {
      "cell_type": "code",
      "source": [
        "for i in range(1, 13, 2):\n",
        "  print('Python', i)"
      ],
      "metadata": {
        "colab": {
          "base_uri": "https://localhost:8080/"
        },
        "id": "qQIxOcTEym_m",
        "outputId": "61be3325-8455-4dbd-aa32-c07754db3e45"
      },
      "execution_count": null,
      "outputs": [
        {
          "output_type": "stream",
          "name": "stdout",
          "text": [
            "Python 1\n",
            "Python 3\n",
            "Python 5\n",
            "Python 7\n",
            "Python 9\n",
            "Python 11\n"
          ]
        }
      ]
    },
    {
      "cell_type": "code",
      "source": [
        "for i in range(10, -1, -1):\n",
        "  print('Countdown', i)"
      ],
      "metadata": {
        "colab": {
          "base_uri": "https://localhost:8080/"
        },
        "id": "X4NObEjBy0-G",
        "outputId": "4bf699dc-970c-4f57-8144-695220c3acb5"
      },
      "execution_count": null,
      "outputs": [
        {
          "output_type": "stream",
          "name": "stdout",
          "text": [
            "Countdown 10\n",
            "Countdown 9\n",
            "Countdown 8\n",
            "Countdown 7\n",
            "Countdown 6\n",
            "Countdown 5\n",
            "Countdown 4\n",
            "Countdown 3\n",
            "Countdown 2\n",
            "Countdown 1\n",
            "Countdown 0\n"
          ]
        }
      ]
    },
    {
      "cell_type": "code",
      "source": [
        "for i in reversed(range(6)):\n",
        "  print(i)"
      ],
      "metadata": {
        "colab": {
          "base_uri": "https://localhost:8080/"
        },
        "id": "TrDR30dhzCQY",
        "outputId": "a6ab95f4-8b76-4a4f-f8b3-cc87ca88a500"
      },
      "execution_count": null,
      "outputs": [
        {
          "output_type": "stream",
          "name": "stdout",
          "text": [
            "5\n",
            "4\n",
            "3\n",
            "2\n",
            "1\n",
            "0\n"
          ]
        }
      ]
    },
    {
      "cell_type": "code",
      "source": [
        "a = [10, 30, 40, 60]\n",
        "for i in a:\n",
        "  print(i)"
      ],
      "metadata": {
        "colab": {
          "base_uri": "https://localhost:8080/"
        },
        "id": "bWa5G8hjzZnm",
        "outputId": "2ef7cf06-c36a-4302-b396-8a05d1de08ad"
      },
      "execution_count": null,
      "outputs": [
        {
          "output_type": "stream",
          "name": "stdout",
          "text": [
            "10\n",
            "30\n",
            "40\n",
            "60\n"
          ]
        }
      ]
    },
    {
      "cell_type": "code",
      "source": [
        "b = 'java', 'python', 'c++'\n",
        "for i in b:\n",
        "  print(i)"
      ],
      "metadata": {
        "colab": {
          "base_uri": "https://localhost:8080/"
        },
        "id": "AVyt8UMhzwId",
        "outputId": "e64ce01d-b30b-4250-a6fd-267ae16af0ef"
      },
      "execution_count": null,
      "outputs": [
        {
          "output_type": "stream",
          "name": "stdout",
          "text": [
            "java\n",
            "python\n",
            "c++\n"
          ]
        }
      ]
    },
    {
      "cell_type": "code",
      "source": [
        "c = 'coding'\n",
        "for i in c:\n",
        "  print(i, end=',')"
      ],
      "metadata": {
        "colab": {
          "base_uri": "https://localhost:8080/"
        },
        "id": "nzg_80wXz7Hv",
        "outputId": "f6bdcf59-33f2-443f-d8ca-4753ecc81646"
      },
      "execution_count": null,
      "outputs": [
        {
          "output_type": "stream",
          "name": "stdout",
          "text": [
            "c,o,d,i,n,g,"
          ]
        }
      ]
    },
    {
      "cell_type": "code",
      "source": [
        "num = int(input(\"입력할 수의 개수를 입력하세요 >>> \"))\n",
        "nlist = []\n",
        "for i in range(1, num+1):\n",
        "  a = int(input(f\"수 {i}을 입력하세요 >>> \"))\n",
        "  nlist.append(a)\n",
        "print(\"리스트를 뒤집은 결과는\")\n",
        "for i in reversed(range(num)):\n",
        "  print(nlist[i], end=' ')"
      ],
      "metadata": {
        "colab": {
          "base_uri": "https://localhost:8080/"
        },
        "id": "5nAGNU4w0KIu",
        "outputId": "4275bc9a-3ee3-4213-92d6-e32782d48278"
      },
      "execution_count": null,
      "outputs": [
        {
          "output_type": "stream",
          "name": "stdout",
          "text": [
            "입력할 수의 개수를 입력하세요 >>> 3\n",
            "수 1을 입력하세요 >>> 100\n",
            "수 2을 입력하세요 >>> 200\n",
            "수 3을 입력하세요 >>> 300\n",
            "리스트를 뒤집은 결과는\n",
            "300 200 100 "
          ]
        }
      ]
    },
    {
      "cell_type": "code",
      "source": [
        "s = input(\"문자열을 입력해주세요 >>> \")\n",
        "step = int(input(\"step 값을 입력해주세요 >>> \"))\n",
        "slist = []\n",
        "for i in range(0, len(s), step):\n",
        "  slist.append(s[i])\n",
        "print('리스트를 출력한 결과는')\n",
        "print(slist)"
      ],
      "metadata": {
        "colab": {
          "base_uri": "https://localhost:8080/"
        },
        "id": "Olne67Ig2_rJ",
        "outputId": "a0dfea98-c658-4be6-af9d-02b0b3c91c34"
      },
      "execution_count": null,
      "outputs": [
        {
          "output_type": "stream",
          "name": "stdout",
          "text": [
            "문자열을 입력해주세요 >>> programming\n",
            "step 값을 입력해주세요 >>> 3\n",
            "리스트를 출력한 결과는\n",
            "['p', 'g', 'm', 'n']\n"
          ]
        }
      ]
    },
    {
      "cell_type": "code",
      "source": [
        "i = 0\n",
        "while i < 10:\n",
        "  print('Hello Python')\n",
        "  i += 1"
      ],
      "metadata": {
        "colab": {
          "base_uri": "https://localhost:8080/"
        },
        "id": "-9NTmFhP55yI",
        "outputId": "0d3071f2-61e8-4ba5-a02e-716be45c5f6a"
      },
      "execution_count": null,
      "outputs": [
        {
          "output_type": "stream",
          "name": "stdout",
          "text": [
            "Hello Python\n",
            "Hello Python\n",
            "Hello Python\n",
            "Hello Python\n",
            "Hello Python\n",
            "Hello Python\n",
            "Hello Python\n",
            "Hello Python\n",
            "Hello Python\n",
            "Hello Python\n"
          ]
        }
      ]
    },
    {
      "cell_type": "code",
      "source": [
        "a = ''\n",
        "while len(a) < 10:\n",
        "  b = input(\"문자열을 입력하세요 >>> \")\n",
        "  a += b\n",
        "  print(a)"
      ],
      "metadata": {
        "colab": {
          "base_uri": "https://localhost:8080/"
        },
        "id": "TTL4y7pk9ApA",
        "outputId": "15ffe44f-184b-420d-a161-07f2d3d57c23"
      },
      "execution_count": null,
      "outputs": [
        {
          "output_type": "stream",
          "name": "stdout",
          "text": [
            "문자열을 입력하세요 >>> a\n",
            "a\n",
            "문자열을 입력하세요 >>> hello\n",
            "ahello\n",
            "문자열을 입력하세요 >>> cat\n",
            "ahellocat\n",
            "문자열을 입력하세요 >>> !\n",
            "ahellocat!\n"
          ]
        }
      ]
    },
    {
      "cell_type": "code",
      "source": [
        "for i in reversed(range(6)):\n",
        "  print(i, end=' ')\n",
        "print()\n",
        "\n",
        "j = 5\n",
        "while j >= 0:\n",
        "  print(j, end=' ')\n",
        "  j -= 1"
      ],
      "metadata": {
        "colab": {
          "base_uri": "https://localhost:8080/"
        },
        "id": "px51O46o9VwZ",
        "outputId": "3049ef4c-0588-4b96-f5f0-2a1326913c7e"
      },
      "execution_count": null,
      "outputs": [
        {
          "output_type": "stream",
          "name": "stdout",
          "text": [
            "5 4 3 2 1 0 \n",
            "5 4 3 2 1 0 "
          ]
        }
      ]
    },
    {
      "cell_type": "code",
      "source": [
        "for i in reversed(range(3, 17, 4)):\n",
        "  print(i, end=' ')\n",
        "print()\n",
        "\n",
        "j = 15\n",
        "while j >= 3:\n",
        "  print(j, end=' ')\n",
        "  j -= 4"
      ],
      "metadata": {
        "colab": {
          "base_uri": "https://localhost:8080/"
        },
        "id": "v9pii5TA9j1K",
        "outputId": "9e4d6bde-cf95-4f61-bab8-c30141831cf7"
      },
      "execution_count": null,
      "outputs": [
        {
          "output_type": "stream",
          "name": "stdout",
          "text": [
            "15 11 7 3 \n",
            "15 11 7 3 "
          ]
        }
      ]
    },
    {
      "cell_type": "code",
      "source": [
        "import random\n",
        "print(random.random())\n",
        "print(random.randint(1, 6))"
      ],
      "metadata": {
        "colab": {
          "base_uri": "https://localhost:8080/"
        },
        "id": "7Ei-cF__94aK",
        "outputId": "f308e311-4517-4a5a-99da-870399dedfb1"
      },
      "execution_count": null,
      "outputs": [
        {
          "output_type": "stream",
          "name": "stdout",
          "text": [
            "0.812614734010536\n",
            "6\n"
          ]
        }
      ]
    },
    {
      "cell_type": "code",
      "source": [
        "i = 0\n",
        "while i != 4:\n",
        "  i = random.randint(1, 6)\n",
        "  print(i)"
      ],
      "metadata": {
        "colab": {
          "base_uri": "https://localhost:8080/"
        },
        "id": "zk1Gg27l-Y3C",
        "outputId": "2bf1b588-ce2c-4361-bf17-0b45d357bedf"
      },
      "execution_count": null,
      "outputs": [
        {
          "output_type": "stream",
          "name": "stdout",
          "text": [
            "1\n",
            "3\n",
            "5\n",
            "5\n",
            "1\n",
            "2\n",
            "4\n"
          ]
        }
      ]
    },
    {
      "cell_type": "code",
      "source": [
        "i = 2\n",
        "j = 5\n",
        "while j > 0:\n",
        "  print(i, j)\n",
        "  i *= 2\n",
        "  j -= 1"
      ],
      "metadata": {
        "colab": {
          "base_uri": "https://localhost:8080/"
        },
        "id": "4i9-j8fm_oqC",
        "outputId": "3b2fc6a7-b306-4fea-e291-dbb0a2c8b875"
      },
      "execution_count": null,
      "outputs": [
        {
          "output_type": "stream",
          "name": "stdout",
          "text": [
            "2 5\n",
            "4 4\n",
            "8 3\n",
            "16 2\n",
            "32 1\n"
          ]
        }
      ]
    },
    {
      "cell_type": "code",
      "source": [
        "i = 0\n",
        "while True:\n",
        "  print(i)\n",
        "  i += 1\n",
        "  if i == 10:\n",
        "    break"
      ],
      "metadata": {
        "colab": {
          "base_uri": "https://localhost:8080/"
        },
        "id": "szScZVD_AStk",
        "outputId": "34f16ddb-93d0-4a9a-8132-93e7980e8bf3"
      },
      "execution_count": null,
      "outputs": [
        {
          "output_type": "stream",
          "name": "stdout",
          "text": [
            "0\n",
            "1\n",
            "2\n",
            "3\n",
            "4\n",
            "5\n",
            "6\n",
            "7\n",
            "8\n",
            "9\n"
          ]
        }
      ]
    },
    {
      "cell_type": "code",
      "source": [
        "for i in range(1000000):\n",
        "  print(i)\n",
        "  if i == 10:\n",
        "    break"
      ],
      "metadata": {
        "colab": {
          "base_uri": "https://localhost:8080/"
        },
        "id": "bMfVNJYrAs-j",
        "outputId": "65a22c7e-d582-4e2e-b800-82f2764a476a"
      },
      "execution_count": null,
      "outputs": [
        {
          "output_type": "stream",
          "name": "stdout",
          "text": [
            "0\n",
            "1\n",
            "2\n",
            "3\n",
            "4\n",
            "5\n",
            "6\n",
            "7\n",
            "8\n",
            "9\n",
            "10\n"
          ]
        }
      ]
    },
    {
      "cell_type": "code",
      "source": [
        "for i in range(20):\n",
        "  if i % 2 == 0:\n",
        "    continue\n",
        "  print(i, end=' ')\n",
        "\n",
        "j = 0\n",
        "while j < 20:\n",
        "  j += 1\n",
        "  if j % 2 == 0:\n",
        "    continue\n",
        "  print(j, end=' ')"
      ],
      "metadata": {
        "colab": {
          "base_uri": "https://localhost:8080/"
        },
        "id": "29zCz8YxBHGD",
        "outputId": "be410466-550f-4841-c195-2ba0343bc6a8"
      },
      "execution_count": null,
      "outputs": [
        {
          "output_type": "stream",
          "name": "stdout",
          "text": [
            "1 3 5 7 9 11 13 15 17 19 1 3 5 7 9 11 13 15 17 19 "
          ]
        }
      ]
    },
    {
      "cell_type": "code",
      "source": [
        "i = 0\n",
        "while True:\n",
        "  if i > 95:\n",
        "    break\n",
        "  if i % 10 != 5:\n",
        "    i += 1\n",
        "    continue\n",
        "  print(i, end=' ')\n",
        "  i += 1\n",
        "\n",
        "# 5 15 25 35 45 55 65 75 85 95"
      ],
      "metadata": {
        "colab": {
          "base_uri": "https://localhost:8080/"
        },
        "id": "DVCW7BlJBUEO",
        "outputId": "2a6eb68a-200a-40c6-b974-991dc1792779"
      },
      "execution_count": null,
      "outputs": [
        {
          "output_type": "stream",
          "name": "stdout",
          "text": [
            "5 15 25 35 45 55 65 75 85 95 "
          ]
        }
      ]
    },
    {
      "cell_type": "code",
      "source": [
        "for i in range(5):\n",
        "  print('i:', i, end=' ')\n",
        "  for j in range(5):\n",
        "    print('j:', j, end=' ')\n",
        "  print()"
      ],
      "metadata": {
        "colab": {
          "base_uri": "https://localhost:8080/"
        },
        "id": "pdnKeXMdEn_k",
        "outputId": "b983f015-9246-4180-ed7b-203e27d3c32a"
      },
      "execution_count": null,
      "outputs": [
        {
          "output_type": "stream",
          "name": "stdout",
          "text": [
            "i: 0 j: 0 j: 1 j: 2 j: 3 j: 4 \n",
            "i: 1 j: 0 j: 1 j: 2 j: 3 j: 4 \n",
            "i: 2 j: 0 j: 1 j: 2 j: 3 j: 4 \n",
            "i: 3 j: 0 j: 1 j: 2 j: 3 j: 4 \n",
            "i: 4 j: 0 j: 1 j: 2 j: 3 j: 4 \n"
          ]
        }
      ]
    },
    {
      "cell_type": "code",
      "source": [
        "for i in range(5):\n",
        "  print('i:', i, end=' ')\n",
        "  for j in range(i+1):\n",
        "    print('j:', j, end=' ')\n",
        "  print()"
      ],
      "metadata": {
        "colab": {
          "base_uri": "https://localhost:8080/"
        },
        "id": "9IXN-pnnFgp0",
        "outputId": "3e594b1a-e8a2-4bc3-c9f9-143c3af3394a"
      },
      "execution_count": null,
      "outputs": [
        {
          "output_type": "stream",
          "name": "stdout",
          "text": [
            "i: 0 j: 0 \n",
            "i: 1 j: 0 j: 1 \n",
            "i: 2 j: 0 j: 1 j: 2 \n",
            "i: 3 j: 0 j: 1 j: 2 j: 3 \n",
            "i: 4 j: 0 j: 1 j: 2 j: 3 j: 4 \n"
          ]
        }
      ]
    },
    {
      "cell_type": "code",
      "source": [
        "for i in range(4):\n",
        "  for j in range(5):\n",
        "    print('*', end='')\n",
        "  print()"
      ],
      "metadata": {
        "colab": {
          "base_uri": "https://localhost:8080/"
        },
        "id": "5o_OrtFIFy12",
        "outputId": "988b9bb5-d4f8-4b4d-e345-a347750a1900"
      },
      "execution_count": null,
      "outputs": [
        {
          "output_type": "stream",
          "name": "stdout",
          "text": [
            "*****\n",
            "*****\n",
            "*****\n",
            "*****\n"
          ]
        }
      ]
    },
    {
      "cell_type": "code",
      "source": [
        "for i in range(5):\n",
        "  for j in range(i+1):\n",
        "    print('*', end='')\n",
        "  print()"
      ],
      "metadata": {
        "colab": {
          "base_uri": "https://localhost:8080/"
        },
        "id": "cN8IZPfSGnTV",
        "outputId": "69d658d1-96a3-476e-b9d5-d108e2199024"
      },
      "execution_count": null,
      "outputs": [
        {
          "output_type": "stream",
          "name": "stdout",
          "text": [
            "*\n",
            "**\n",
            "***\n",
            "****\n",
            "*****\n"
          ]
        }
      ]
    },
    {
      "cell_type": "code",
      "source": [
        "for i in range(5):\n",
        "  for j in range(4-i):\n",
        "    print(' ', end='')\n",
        "  for j in range(i+1):\n",
        "    print('*', end='')\n",
        "  print()"
      ],
      "metadata": {
        "colab": {
          "base_uri": "https://localhost:8080/"
        },
        "id": "rB8QKaZ8HI50",
        "outputId": "789194dd-8646-4a9f-f4fe-61735db1f92b"
      },
      "execution_count": null,
      "outputs": [
        {
          "output_type": "stream",
          "name": "stdout",
          "text": [
            "    *\n",
            "   **\n",
            "  ***\n",
            " ****\n",
            "*****\n"
          ]
        }
      ]
    },
    {
      "cell_type": "code",
      "source": [
        "# 113페이지 6번\n",
        "# 띄우기는 탭(\\t)으로\n",
        "# 바깥은 while, 안쪽은 for\n",
        "# 2*1=2 3*1=3 4*1=4 ... 9*1=9\n",
        "# 2*2=4 3*2=6 4*2=8 ... 9*2=18\n",
        "#  ...   ...   ...         ...\n",
        "# 2*9=18 3*9=27 4*9=36 ... 9*9=81\n",
        "i = 1\n",
        "while i < 10:\n",
        "  for j in range(2, 10):\n",
        "    print(f\"{j}*{i}={j*i}\\t\", end='')\n",
        "  print()\n",
        "  i += 1"
      ],
      "metadata": {
        "colab": {
          "base_uri": "https://localhost:8080/"
        },
        "id": "GlYG4VHyH7xN",
        "outputId": "0a500b61-40a7-424c-d796-0a6967caa17c"
      },
      "execution_count": null,
      "outputs": [
        {
          "output_type": "stream",
          "name": "stdout",
          "text": [
            "2*1=2\t3*1=3\t4*1=4\t5*1=5\t6*1=6\t7*1=7\t8*1=8\t9*1=9\t\n",
            "2*2=4\t3*2=6\t4*2=8\t5*2=10\t6*2=12\t7*2=14\t8*2=16\t9*2=18\t\n",
            "2*3=6\t3*3=9\t4*3=12\t5*3=15\t6*3=18\t7*3=21\t8*3=24\t9*3=27\t\n",
            "2*4=8\t3*4=12\t4*4=16\t5*4=20\t6*4=24\t7*4=28\t8*4=32\t9*4=36\t\n",
            "2*5=10\t3*5=15\t4*5=20\t5*5=25\t6*5=30\t7*5=35\t8*5=40\t9*5=45\t\n",
            "2*6=12\t3*6=18\t4*6=24\t5*6=30\t6*6=36\t7*6=42\t8*6=48\t9*6=54\t\n",
            "2*7=14\t3*7=21\t4*7=28\t5*7=35\t6*7=42\t7*7=49\t8*7=56\t9*7=63\t\n",
            "2*8=16\t3*8=24\t4*8=32\t5*8=40\t6*8=48\t7*8=56\t8*8=64\t9*8=72\t\n",
            "2*9=18\t3*9=27\t4*9=36\t5*9=45\t6*9=54\t7*9=63\t8*9=72\t9*9=81\t\n"
          ]
        }
      ]
    },
    {
      "cell_type": "code",
      "source": [
        "# 130페이지 4번\n",
        "exam = [99, 78, 100, 91, 81, 85, 54, 100, 71, 50]\n",
        "# 각 점수에 대해서 5점씩 더하는데, 더한 값이 100이 넘지 X\n",
        "\n",
        "for i in range(10):\n",
        "  exam[i] += 5\n",
        "  if exam[i] > 100:\n",
        "    exam[i] = 100\n",
        "print(exam)\n",
        "# 출력 결과\n",
        "# [100, 83, 100, 96, 86, 90, 59, 100, 76, 55]"
      ],
      "metadata": {
        "colab": {
          "base_uri": "https://localhost:8080/"
        },
        "id": "O2gE413cMmKf",
        "outputId": "e8e6196d-7103-4e72-e7ec-76940132552b"
      },
      "execution_count": null,
      "outputs": [
        {
          "output_type": "stream",
          "name": "stdout",
          "text": [
            "[100, 83, 100, 96, 86, 90, 59, 100, 76, 55]\n"
          ]
        }
      ]
    },
    {
      "cell_type": "code",
      "source": [
        "# 130페이지 5번\n",
        "# 1부터 99 까지의 수를 대상으로 369게임의 결과 출력하기\n",
        "# 1 2 짝 4 5 짝 7 8 짝 10\n",
        "# ...\n",
        "\n",
        "for i in range(1, 100):\n",
        "  ten = i // 10   # 십의자리\n",
        "  one = i % 10    # 일의자리\n",
        "  clap = 0\n",
        "  if ten == 3 or ten == 6 or ten == 9:\n",
        "    clap += 1\n",
        "  if one == 3 or one == 6 or one == 9:\n",
        "    clap += 1\n",
        "  if clap == 0:\n",
        "    print(i, end='\\t')\n",
        "  else:\n",
        "    print('짝'*clap, end='\\t')\n",
        "  if i % 10 == 0:\n",
        "    print()"
      ],
      "metadata": {
        "colab": {
          "base_uri": "https://localhost:8080/"
        },
        "id": "2qZZBqyqOv2J",
        "outputId": "c8f5cde1-be87-40b5-e4a0-ede624752012"
      },
      "execution_count": null,
      "outputs": [
        {
          "output_type": "stream",
          "name": "stdout",
          "text": [
            "1\t2\t짝\t4\t5\t짝\t7\t8\t짝\t10\t\n",
            "11\t12\t짝\t14\t15\t짝\t17\t18\t짝\t20\t\n",
            "21\t22\t짝\t24\t25\t짝\t27\t28\t짝\t짝\t\n",
            "짝\t짝\t짝짝\t짝\t짝\t짝짝\t짝\t짝\t짝짝\t40\t\n",
            "41\t42\t짝\t44\t45\t짝\t47\t48\t짝\t50\t\n",
            "51\t52\t짝\t54\t55\t짝\t57\t58\t짝\t짝\t\n",
            "짝\t짝\t짝짝\t짝\t짝\t짝짝\t짝\t짝\t짝짝\t70\t\n",
            "71\t72\t짝\t74\t75\t짝\t77\t78\t짝\t80\t\n",
            "81\t82\t짝\t84\t85\t짝\t87\t88\t짝\t짝\t\n",
            "짝\t짝\t짝짝\t짝\t짝\t짝짝\t짝\t짝\t짝짝\t"
          ]
        }
      ]
    },
    {
      "cell_type": "code",
      "source": [
        "# 141페이지 1번\n",
        "# 현재 10000원을 가지고 있습니다. 얼마를 사용할 것인지 반복해서 입력받아 10000원을 모두 사용하세요.\n",
        "# 0 이하의 금액은 사용할 수 없으며, 현재 가지고 있는 돈보다 더 큰 금액도 사용할 수 없습니다.\n",
        "\n",
        "money = 10000\n",
        "while money != 0:\n",
        "  print(f\"현재 {money}원이 있습니다.\")\n",
        "  a = int(input(\"사용할 금액 입력 >>> \"))\n",
        "  if a <= 0:\n",
        "    print('0 이하의 금액은 사용할 수 없습니다.')\n",
        "  elif a <= money:\n",
        "    money -= a\n",
        "  else:\n",
        "    print(\"{0}원이 부족합니다.\".format(a - money))\n",
        "print('현재 0원이 있습니다.')"
      ],
      "metadata": {
        "colab": {
          "base_uri": "https://localhost:8080/"
        },
        "id": "BgmN5Q_pQZNv",
        "outputId": "f35967f8-4e85-449f-b3c9-3b1400653a0c"
      },
      "execution_count": null,
      "outputs": [
        {
          "output_type": "stream",
          "name": "stdout",
          "text": [
            "현재 10000원이 있습니다.\n",
            "사용할 금액 입력 >>> 5000\n",
            "현재 5000원이 있습니다.\n",
            "사용할 금액 입력 >>> -5000\n",
            "0 이하의 금액은 사용할 수 없습니다.\n",
            "현재 5000원이 있습니다.\n",
            "사용할 금액 입력 >>> 6000\n",
            "1000원이 부족합니다.\n",
            "현재 5000원이 있습니다.\n",
            "사용할 금액 입력 >>> 4000\n",
            "현재 1000원이 있습니다.\n",
            "사용할 금액 입력 >>> 1000\n",
            "현재 0원이 있습니다.\n"
          ]
        }
      ]
    },
    {
      "cell_type": "code",
      "source": [],
      "metadata": {
        "id": "WQCCvfpHVOmK"
      },
      "execution_count": null,
      "outputs": []
    }
  ]
}
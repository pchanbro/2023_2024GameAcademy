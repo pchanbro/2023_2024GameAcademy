{
  "nbformat": 4,
  "nbformat_minor": 0,
  "metadata": {
    "colab": {
      "provenance": []
    },
    "kernelspec": {
      "name": "python3",
      "display_name": "Python 3"
    },
    "language_info": {
      "name": "python"
    }
  },
  "cells": [
    {
      "cell_type": "code",
      "execution_count": null,
      "metadata": {
        "colab": {
          "base_uri": "https://localhost:8080/"
        },
        "id": "szgo2t7LzVsi",
        "outputId": "600a1047-6a93-4190-9e5c-be272d5aa585"
      },
      "outputs": [
        {
          "output_type": "stream",
          "name": "stdout",
          "text": [
            "'Python' is a \"programming\"language\n",
            "and it is \"easy\"\n",
            "to\n",
            "write code!!! \n"
          ]
        }
      ],
      "source": [
        "a=\"\"\"'Python' is a \"programming\"language\\nand it is \"easy\"\\nto\\nwrite code!!! \"\"\"\n",
        "print(a)"
      ]
    },
    {
      "cell_type": "code",
      "source": [
        "a=\"python\"\n",
        "print('\"'+a.rjust(10).upper()+'\"')\n",
        "print('\"'+a.ljust(10)+'\"')\n",
        "a=a.replace(\"on\",\"ON\")\n",
        "print('\"'+a.center(10)+'\"')\n",
        "table=str.maketrans(\"pyON\", \"PY12\")\n",
        "a=a.translate(table)\n",
        "print('\"'+a+'\"')"
      ],
      "metadata": {
        "colab": {
          "base_uri": "https://localhost:8080/"
        },
        "id": "gN5-nV2Z97Xr",
        "outputId": "2edb34e0-a8a0-4bb9-906a-61341a2bb67b"
      },
      "execution_count": null,
      "outputs": [
        {
          "output_type": "stream",
          "name": "stdout",
          "text": [
            "\"    PYTHON\"\n",
            "\"python    \"\n",
            "\"  pythON  \"\n",
            "\"PYth12\"\n"
          ]
        }
      ]
    }
  ]
}
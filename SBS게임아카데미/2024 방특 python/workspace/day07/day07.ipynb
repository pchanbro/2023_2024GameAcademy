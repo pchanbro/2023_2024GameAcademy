{
  "nbformat": 4,
  "nbformat_minor": 0,
  "metadata": {
    "colab": {
      "provenance": []
    },
    "kernelspec": {
      "name": "python3",
      "display_name": "Python 3"
    },
    "language_info": {
      "name": "python"
    }
  },
  "cells": [
    {
      "cell_type": "code",
      "execution_count": null,
      "metadata": {
        "colab": {
          "base_uri": "https://localhost:8080/"
        },
        "id": "guKPq4AI6PSg",
        "outputId": "4f4a61ae-a214-450b-b4ef-7c4f7821fba2"
      },
      "outputs": [
        {
          "output_type": "stream",
          "name": "stdout",
          "text": [
            "0 10\n",
            "1 20\n",
            "2 30\n",
            "3 40\n",
            "1 10\n",
            "2 20\n",
            "3 30\n",
            "4 40\n"
          ]
        }
      ],
      "source": [
        "# enumerate(시퀀스)\n",
        "a = [10, 20, 30, 40]\n",
        "\n",
        "for idx, val in enumerate(a):\n",
        "  print(idx, val)\n",
        "for idx, val in enumerate(a):\n",
        "  print(idx+1, val)"
      ]
    },
    {
      "cell_type": "code",
      "source": [
        "a = [10, 20, 30, 40]\n",
        "for idx, val in enumerate(a, start = 100):\n",
        "  print(idx, val)\n",
        "\n",
        "for idx, val in enumerate(a, 100):\n",
        "  print(idx, val)"
      ],
      "metadata": {
        "colab": {
          "base_uri": "https://localhost:8080/"
        },
        "id": "54lHbCT463dp",
        "outputId": "fda22c26-e546-4f34-f51f-6a2b2b931ad8"
      },
      "execution_count": null,
      "outputs": [
        {
          "output_type": "stream",
          "name": "stdout",
          "text": [
            "100 10\n",
            "101 20\n",
            "102 30\n",
            "103 40\n",
            "100 10\n",
            "101 20\n",
            "102 30\n",
            "103 40\n"
          ]
        }
      ]
    },
    {
      "cell_type": "code",
      "source": [
        "# 리스트의 최솟값, 최댓값, 합 (for문 활용)\n",
        "a = [38, 19, 14, 24, 100, 18]\n",
        "minimum = a[0] # 우선 0번 인덱스로 초기화 한다\n",
        "maximum = a[0]\n",
        "for i in a:\n",
        "  if i < minimum: # 지금 최솟값이라 설정된 값보다 작은 값이 존재\n",
        "    minimum = i\n",
        "\n",
        "for i in a:\n",
        "  if i > maximum:\n",
        "    maximum = i\n",
        "\n",
        "print(minimum, maximum)"
      ],
      "metadata": {
        "colab": {
          "base_uri": "https://localhost:8080/"
        },
        "id": "o5tr9k6j7MJY",
        "outputId": "c6d306ba-f4a7-4c94-81de-a0cd3b330dd3"
      },
      "execution_count": null,
      "outputs": [
        {
          "output_type": "stream",
          "name": "stdout",
          "text": [
            "14 100\n"
          ]
        }
      ]
    },
    {
      "cell_type": "code",
      "source": [
        "# 정렬 함수를 이용한 최소, 최대 구하기\n",
        "a = [38, 19, 14, 24, 100, 18]\n",
        "a.sort()\n",
        "print(a[0],a[-1])"
      ],
      "metadata": {
        "colab": {
          "base_uri": "https://localhost:8080/"
        },
        "id": "R1fTo2Tp8ITq",
        "outputId": "fbea9327-5993-4a6a-8011-3c551883273e"
      },
      "execution_count": null,
      "outputs": [
        {
          "output_type": "stream",
          "name": "stdout",
          "text": [
            "14 100\n"
          ]
        }
      ]
    },
    {
      "cell_type": "code",
      "source": [
        "# 최솟값, 최댓값 함수 이용\n",
        "a = [38, 19, 14, 24, 100, 18]\n",
        "print(min(a), max(a))"
      ],
      "metadata": {
        "colab": {
          "base_uri": "https://localhost:8080/"
        },
        "id": "t2PNPoue8YDo",
        "outputId": "eb68e162-c18a-4bf4-f48b-ba75db4e78d9"
      },
      "execution_count": null,
      "outputs": [
        {
          "output_type": "stream",
          "name": "stdout",
          "text": [
            "14 100\n"
          ]
        }
      ]
    },
    {
      "cell_type": "code",
      "source": [
        "# 리스트 컴프리헨션(리스트 확장)\n",
        "a = [i for i in range(10)]\n",
        "b = [0, 1 ,2, 3, 4, 5, 6, 7, 8, 9]\n",
        "c = list(range(10))\n",
        "d = list(i for i in range(10))\n",
        "\n",
        "print(a)\n",
        "print(b)\n",
        "print(c)\n",
        "print(d)"
      ],
      "metadata": {
        "colab": {
          "base_uri": "https://localhost:8080/"
        },
        "id": "hBC2bZkx8thg",
        "outputId": "c7bed084-0cf3-42e6-aaba-6958f7843bb2"
      },
      "execution_count": null,
      "outputs": [
        {
          "output_type": "stream",
          "name": "stdout",
          "text": [
            "[0, 1, 2, 3, 4, 5, 6, 7, 8, 9]\n",
            "[0, 1, 2, 3, 4, 5, 6, 7, 8, 9]\n",
            "[0, 1, 2, 3, 4, 5, 6, 7, 8, 9]\n",
            "[0, 1, 2, 3, 4, 5, 6, 7, 8, 9]\n"
          ]
        }
      ]
    },
    {
      "cell_type": "code",
      "source": [
        "a = [i*2 for i in range(10)]\n",
        "print(a)\n",
        "b = [i+1 for i in range(10)]\n",
        "print(b)"
      ],
      "metadata": {
        "colab": {
          "base_uri": "https://localhost:8080/"
        },
        "id": "M_03jHaj9csZ",
        "outputId": "e3a78f10-cde4-4176-9982-f4a4db057955"
      },
      "execution_count": null,
      "outputs": [
        {
          "output_type": "stream",
          "name": "stdout",
          "text": [
            "[0, 2, 4, 6, 8, 10, 12, 14, 16, 18]\n",
            "[1, 2, 3, 4, 5, 6, 7, 8, 9, 10]\n"
          ]
        }
      ]
    },
    {
      "cell_type": "code",
      "source": [
        "a = [0 for i in range(10)]\n",
        "print(a)"
      ],
      "metadata": {
        "colab": {
          "base_uri": "https://localhost:8080/"
        },
        "id": "s_UB1Aig9y_Z",
        "outputId": "d04cd492-f50f-486c-bf77-ee1c0d99e99c"
      },
      "execution_count": null,
      "outputs": [
        {
          "output_type": "stream",
          "name": "stdout",
          "text": [
            "[0, 0, 0, 0, 0, 0, 0, 0, 0, 0]\n"
          ]
        }
      ]
    },
    {
      "cell_type": "code",
      "source": [
        "# if 조건을 추가해줌\n",
        "a = [i for i in range(10) if i% 2 == 0]\n",
        "print(a)"
      ],
      "metadata": {
        "colab": {
          "base_uri": "https://localhost:8080/"
        },
        "id": "Ppf_3sHd-BM5",
        "outputId": "2760629e-3b85-4f34-f1e4-16dc5980d468"
      },
      "execution_count": null,
      "outputs": [
        {
          "output_type": "stream",
          "name": "stdout",
          "text": [
            "[0, 2, 4, 6, 8]\n"
          ]
        }
      ]
    },
    {
      "cell_type": "code",
      "source": [
        "a = [i + 100 for i in range(10) if i % 2 == 1]\n",
        "print(a)"
      ],
      "metadata": {
        "colab": {
          "base_uri": "https://localhost:8080/"
        },
        "id": "v-RSpMMq-OQZ",
        "outputId": "b967799d-ed67-4974-b106-45e9614266e7"
      },
      "execution_count": null,
      "outputs": [
        {
          "output_type": "stream",
          "name": "stdout",
          "text": [
            "[101, 103, 105, 107, 109]\n"
          ]
        }
      ]
    },
    {
      "cell_type": "code",
      "source": [
        "a = [str(i) + '!' for i in range(3, 20, 2) if i % 3 == 0] #str(i) + 'i' 에서 i를 문자열로 바꾼 이유는 정수형은 문자열로 이어줄 수 없기 때문\n",
        "print(a)"
      ],
      "metadata": {
        "colab": {
          "base_uri": "https://localhost:8080/"
        },
        "id": "emz0Znnu-sCg",
        "outputId": "dba60c41-f34f-43cb-b792-3bddd98fdab2"
      },
      "execution_count": null,
      "outputs": [
        {
          "output_type": "stream",
          "name": "stdout",
          "text": [
            "['3!', '9!', '15!']\n"
          ]
        }
      ]
    },
    {
      "cell_type": "code",
      "source": [
        "# 리스트 컴프리헨션으로 이중 for문 표현하기\n",
        "a = []\n",
        "for i in range(2, 10):\n",
        "  for j in range(1, 10):\n",
        "      a.append(i*j)\n",
        "print(a)\n",
        "\n",
        "b = [i*j for i in range(2,10) for j in range(1,10)]\n",
        "print(b)"
      ],
      "metadata": {
        "colab": {
          "base_uri": "https://localhost:8080/"
        },
        "id": "DO_cVmxt-97p",
        "outputId": "6f1652d9-b4bd-4de3-c97e-eafbba9f7b08"
      },
      "execution_count": null,
      "outputs": [
        {
          "output_type": "stream",
          "name": "stdout",
          "text": [
            "[2, 4, 6, 8, 10, 12, 14, 16, 18, 3, 6, 9, 12, 15, 18, 21, 24, 27, 4, 8, 12, 16, 20, 24, 28, 32, 36, 5, 10, 15, 20, 25, 30, 35, 40, 45, 6, 12, 18, 24, 30, 36, 42, 48, 54, 7, 14, 21, 28, 35, 42, 49, 56, 63, 8, 16, 24, 32, 40, 48, 56, 64, 72, 9, 18, 27, 36, 45, 54, 63, 72, 81]\n",
            "[2, 4, 6, 8, 10, 12, 14, 16, 18, 3, 6, 9, 12, 15, 18, 21, 24, 27, 4, 8, 12, 16, 20, 24, 28, 32, 36, 5, 10, 15, 20, 25, 30, 35, 40, 45, 6, 12, 18, 24, 30, 36, 42, 48, 54, 7, 14, 21, 28, 35, 42, 49, 56, 63, 8, 16, 24, 32, 40, 48, 56, 64, 72, 9, 18, 27, 36, 45, 54, 63, 72, 81]\n"
          ]
        }
      ]
    },
    {
      "cell_type": "code",
      "source": [
        "a = []\n",
        "for i in range(5, 50, 5):\n",
        "  if i % 10 == 0:\n",
        "    a.append(str(i) + '!')\n",
        "print(a)\n",
        "\n",
        "b = [str(i) + '!' for i in range(5, 50, 5) if i % 10 == 0]\n",
        "print(b)"
      ],
      "metadata": {
        "colab": {
          "base_uri": "https://localhost:8080/"
        },
        "id": "zm4e0otE_aNx",
        "outputId": "1636fe0c-4c49-42dd-e8b6-ad7fdffabea5"
      },
      "execution_count": null,
      "outputs": [
        {
          "output_type": "stream",
          "name": "stdout",
          "text": [
            "['10!', '20!', '30!', '40!']\n",
            "['10!', '20!', '30!', '40!']\n"
          ]
        }
      ]
    },
    {
      "cell_type": "code",
      "source": [
        "gugudan = []\n",
        "for dan in range(2,10):\n",
        "  danlist = []\n",
        "  for num in range(1,10):\n",
        "    danlist.append(dan * num)\n",
        "  gugudan.append(danlist)\n",
        "print(gugudan)\n",
        "\n",
        "# 이렇게 하면 안됨\n",
        "#danlist = [dan*num for dan in range(2, 10) for num in range(1,10)]\n",
        "#gugudan.append(danlist)\n",
        "#print(gugudan)\n",
        "\n",
        "# 이렇게 해\n",
        "gugudan2 = [[dan * num for num in range(1,10)] for dan in range(2, 10)]\n",
        "print(gugudan2)\n",
        "\n",
        "# 테스트\n",
        "gugudan2 = [dan*num for num in range(1,10) for dan in range(2,10)]\n",
        "print(gugudan2)\n",
        "gugudan2 = [[dan*num for num in range(2,10)] for dan in range(1,10)]\n",
        "print(gugudan2)"
      ],
      "metadata": {
        "colab": {
          "base_uri": "https://localhost:8080/"
        },
        "id": "aJr5AyggA2ZC",
        "outputId": "f41bf19f-2f2a-47c7-8b8a-1a0efca73b18"
      },
      "execution_count": null,
      "outputs": [
        {
          "output_type": "stream",
          "name": "stdout",
          "text": [
            "[[2, 4, 6, 8, 10, 12, 14, 16, 18], [3, 6, 9, 12, 15, 18, 21, 24, 27], [4, 8, 12, 16, 20, 24, 28, 32, 36], [5, 10, 15, 20, 25, 30, 35, 40, 45], [6, 12, 18, 24, 30, 36, 42, 48, 54], [7, 14, 21, 28, 35, 42, 49, 56, 63], [8, 16, 24, 32, 40, 48, 56, 64, 72], [9, 18, 27, 36, 45, 54, 63, 72, 81]]\n",
            "[[2, 4, 6, 8, 10, 12, 14, 16, 18], [3, 6, 9, 12, 15, 18, 21, 24, 27], [4, 8, 12, 16, 20, 24, 28, 32, 36], [5, 10, 15, 20, 25, 30, 35, 40, 45], [6, 12, 18, 24, 30, 36, 42, 48, 54], [7, 14, 21, 28, 35, 42, 49, 56, 63], [8, 16, 24, 32, 40, 48, 56, 64, 72], [9, 18, 27, 36, 45, 54, 63, 72, 81]]\n",
            "[2, 3, 4, 5, 6, 7, 8, 9, 4, 6, 8, 10, 12, 14, 16, 18, 6, 9, 12, 15, 18, 21, 24, 27, 8, 12, 16, 20, 24, 28, 32, 36, 10, 15, 20, 25, 30, 35, 40, 45, 12, 18, 24, 30, 36, 42, 48, 54, 14, 21, 28, 35, 42, 49, 56, 63, 16, 24, 32, 40, 48, 56, 64, 72, 18, 27, 36, 45, 54, 63, 72, 81]\n",
            "[[2, 3, 4, 5, 6, 7, 8, 9], [4, 6, 8, 10, 12, 14, 16, 18], [6, 9, 12, 15, 18, 21, 24, 27], [8, 12, 16, 20, 24, 28, 32, 36], [10, 15, 20, 25, 30, 35, 40, 45], [12, 18, 24, 30, 36, 42, 48, 54], [14, 21, 28, 35, 42, 49, 56, 63], [16, 24, 32, 40, 48, 56, 64, 72], [18, 27, 36, 45, 54, 63, 72, 81]]\n"
          ]
        }
      ]
    },
    {
      "cell_type": "code",
      "source": [
        "# [[2*1=2, 2*2=4, ...], [3*1=3, 3*2=6, ...], ...]\n",
        "gugudan = [[str(dan) + '*' + str(num) + '=' + str(dan*num) for num in range(1,10)] for dan in range(2, 10)]\n",
        "print(gugudan)\n",
        "gugudan = [[\"{0}*{1}={2}\".format(dan, num, dan*num) for num in range(1,10)] for dan in range(2, 10)]\n",
        "print(gugudan)\n",
        "\n",
        "# 2*1=2 2*2=4 2*3=6 ... 2*9=18\n",
        "# 3*1=3 3*2=6 3*3=9 ... 3*9=27\n",
        "#\n",
        "# 9*1=9 9*2=18          9*9=81\n",
        "gugudan = '\\n'.join([''.join([\"{0}*{1}={2}\\t\".format(dan, num, dan*num) for num in range(1,10)]) for dan in range(2, 10)]) #join을 안해주면 리스트가 아닌 문자열 상태여서 오류가 난다.\n",
        "print(gugudan)\n",
        "gugudan = '\\n'.join(['\\t'.join([\"{0}*{1}={2}\".format(dan, num, dan*num) for num in range(1,10)]) for dan in range(2, 10)])\n",
        "print(gugudan)"
      ],
      "metadata": {
        "colab": {
          "base_uri": "https://localhost:8080/"
        },
        "id": "C4Xbhxm-B_oq",
        "outputId": "3cde12ea-ecee-44f7-a8c1-d3030ec40bb3"
      },
      "execution_count": null,
      "outputs": [
        {
          "output_type": "stream",
          "name": "stdout",
          "text": [
            "[['2*1=2', '2*2=4', '2*3=6', '2*4=8', '2*5=10', '2*6=12', '2*7=14', '2*8=16', '2*9=18'], ['3*1=3', '3*2=6', '3*3=9', '3*4=12', '3*5=15', '3*6=18', '3*7=21', '3*8=24', '3*9=27'], ['4*1=4', '4*2=8', '4*3=12', '4*4=16', '4*5=20', '4*6=24', '4*7=28', '4*8=32', '4*9=36'], ['5*1=5', '5*2=10', '5*3=15', '5*4=20', '5*5=25', '5*6=30', '5*7=35', '5*8=40', '5*9=45'], ['6*1=6', '6*2=12', '6*3=18', '6*4=24', '6*5=30', '6*6=36', '6*7=42', '6*8=48', '6*9=54'], ['7*1=7', '7*2=14', '7*3=21', '7*4=28', '7*5=35', '7*6=42', '7*7=49', '7*8=56', '7*9=63'], ['8*1=8', '8*2=16', '8*3=24', '8*4=32', '8*5=40', '8*6=48', '8*7=56', '8*8=64', '8*9=72'], ['9*1=9', '9*2=18', '9*3=27', '9*4=36', '9*5=45', '9*6=54', '9*7=63', '9*8=72', '9*9=81']]\n",
            "[['2*1=2', '2*2=4', '2*3=6', '2*4=8', '2*5=10', '2*6=12', '2*7=14', '2*8=16', '2*9=18'], ['3*1=3', '3*2=6', '3*3=9', '3*4=12', '3*5=15', '3*6=18', '3*7=21', '3*8=24', '3*9=27'], ['4*1=4', '4*2=8', '4*3=12', '4*4=16', '4*5=20', '4*6=24', '4*7=28', '4*8=32', '4*9=36'], ['5*1=5', '5*2=10', '5*3=15', '5*4=20', '5*5=25', '5*6=30', '5*7=35', '5*8=40', '5*9=45'], ['6*1=6', '6*2=12', '6*3=18', '6*4=24', '6*5=30', '6*6=36', '6*7=42', '6*8=48', '6*9=54'], ['7*1=7', '7*2=14', '7*3=21', '7*4=28', '7*5=35', '7*6=42', '7*7=49', '7*8=56', '7*9=63'], ['8*1=8', '8*2=16', '8*3=24', '8*4=32', '8*5=40', '8*6=48', '8*7=56', '8*8=64', '8*9=72'], ['9*1=9', '9*2=18', '9*3=27', '9*4=36', '9*5=45', '9*6=54', '9*7=63', '9*8=72', '9*9=81']]\n",
            "2*1=2\t2*2=4\t2*3=6\t2*4=8\t2*5=10\t2*6=12\t2*7=14\t2*8=16\t2*9=18\t\n",
            "3*1=3\t3*2=6\t3*3=9\t3*4=12\t3*5=15\t3*6=18\t3*7=21\t3*8=24\t3*9=27\t\n",
            "4*1=4\t4*2=8\t4*3=12\t4*4=16\t4*5=20\t4*6=24\t4*7=28\t4*8=32\t4*9=36\t\n",
            "5*1=5\t5*2=10\t5*3=15\t5*4=20\t5*5=25\t5*6=30\t5*7=35\t5*8=40\t5*9=45\t\n",
            "6*1=6\t6*2=12\t6*3=18\t6*4=24\t6*5=30\t6*6=36\t6*7=42\t6*8=48\t6*9=54\t\n",
            "7*1=7\t7*2=14\t7*3=21\t7*4=28\t7*5=35\t7*6=42\t7*7=49\t7*8=56\t7*9=63\t\n",
            "8*1=8\t8*2=16\t8*3=24\t8*4=32\t8*5=40\t8*6=48\t8*7=56\t8*8=64\t8*9=72\t\n",
            "9*1=9\t9*2=18\t9*3=27\t9*4=36\t9*5=45\t9*6=54\t9*7=63\t9*8=72\t9*9=81\t\n",
            "2*1=2\t2*2=4\t2*3=6\t2*4=8\t2*5=10\t2*6=12\t2*7=14\t2*8=16\t2*9=18\n",
            "3*1=3\t3*2=6\t3*3=9\t3*4=12\t3*5=15\t3*6=18\t3*7=21\t3*8=24\t3*9=27\n",
            "4*1=4\t4*2=8\t4*3=12\t4*4=16\t4*5=20\t4*6=24\t4*7=28\t4*8=32\t4*9=36\n",
            "5*1=5\t5*2=10\t5*3=15\t5*4=20\t5*5=25\t5*6=30\t5*7=35\t5*8=40\t5*9=45\n",
            "6*1=6\t6*2=12\t6*3=18\t6*4=24\t6*5=30\t6*6=36\t6*7=42\t6*8=48\t6*9=54\n",
            "7*1=7\t7*2=14\t7*3=21\t7*4=28\t7*5=35\t7*6=42\t7*7=49\t7*8=56\t7*9=63\n",
            "8*1=8\t8*2=16\t8*3=24\t8*4=32\t8*5=40\t8*6=48\t8*7=56\t8*8=64\t8*9=72\n",
            "9*1=9\t9*2=18\t9*3=27\t9*4=36\t9*5=45\t9*6=54\t9*7=63\t9*8=72\t9*9=81\n"
          ]
        }
      ]
    },
    {
      "cell_type": "code",
      "source": [
        "# map\n",
        "a = ['apple', 'banana', 'grape', 'mango', 'blackberry']\n",
        "\n",
        "# 이 리스트에서 5글자인 과일 찾아서 대문자로 바꾸어 리스트로 거꾸로 출력\n",
        "# ['MANGO', 'GRAPE', 'APPLE']\n",
        "\n",
        "# list 내포\n",
        "b = []\n",
        "for i in a:\n",
        "  if len(i) ==5:\n",
        "    b.append(i)\n",
        "print(b)\n",
        "\n",
        "# map\n",
        "for i in range(len(b)):\n",
        "  b[i] = b[i].upper()\n",
        "print(sorted(b)[::-1])\n",
        "\n",
        "# 위에 것을 해보기\n",
        "c = [i for i in a if len(i) == 5]\n",
        "\n",
        "f = lambda x: x.upper()\n",
        "c = list(map(f,c))\n",
        "print(sorted(c)[::-1])\n",
        "\n",
        "a = ['apple', 'banana', 'grape', 'mango', 'blackberry']\n",
        "print(sorted(list(map(lambda x: x.upper(), [i for i in a if len(i) == 5])))[::-1])"
      ],
      "metadata": {
        "colab": {
          "base_uri": "https://localhost:8080/"
        },
        "id": "aJmyOFjQJKeD",
        "outputId": "fb8b4e84-a241-45d5-a985-999d94d3896e"
      },
      "execution_count": null,
      "outputs": [
        {
          "output_type": "stream",
          "name": "stdout",
          "text": [
            "['apple', 'grape', 'mango']\n",
            "['MANGO', 'GRAPE', 'APPLE']\n",
            "['MANGO', 'GRAPE', 'APPLE']\n",
            "['MANGO', 'GRAPE', 'APPLE']\n"
          ]
        }
      ]
    },
    {
      "cell_type": "code",
      "source": [
        "# 딕셔너리와 반복문\n",
        "d = dict(a = 1, b = 2 , c = 3)\n",
        "print(d)\n",
        "\n",
        "for i in d:\n",
        "  print(i)\n",
        "\n",
        "for k,v in d.items():\n",
        "  print(k,v)"
      ],
      "metadata": {
        "colab": {
          "base_uri": "https://localhost:8080/"
        },
        "id": "lG71Lps3NuBH",
        "outputId": "421bfdfc-de5d-4e12-a4c5-158a8222ce15"
      },
      "execution_count": null,
      "outputs": [
        {
          "output_type": "stream",
          "name": "stdout",
          "text": [
            "{'a': 1, 'b': 2, 'c': 3}\n",
            "a\n",
            "b\n",
            "c\n",
            "a 1\n",
            "b 2\n",
            "c 3\n"
          ]
        }
      ]
    },
    {
      "cell_type": "code",
      "source": [
        "# 딕셔너리 내포\n",
        "keylist = ['a', 'b', 'c', 'd']\n",
        "x = {k: v for k, v in dict.fromkeys(keylist).items()}\n",
        "print(x)\n",
        "\n",
        "# x = x{} 이 부분 선생님거 어떻게 돼있는지 보기"
      ],
      "metadata": {
        "colab": {
          "base_uri": "https://localhost:8080/"
        },
        "id": "00V-LG3KN81d",
        "outputId": "356a5b0b-e14b-42f7-b44f-3ca628d6731c"
      },
      "execution_count": null,
      "outputs": [
        {
          "output_type": "stream",
          "name": "stdout",
          "text": [
            "{'a': None, 'b': None, 'c': None, 'd': None}\n"
          ]
        }
      ]
    },
    {
      "cell_type": "code",
      "source": [
        "x = dict(a=10, b=20, c=30, d=40, e=50)\n",
        "\n",
        "y = {}\n",
        "for k, v in x.items():\n",
        "  if v <= 30:\n",
        "    y[k] = v\n",
        "print(y)\n",
        "\n",
        "z = {k : v for k, v in x.items() if v <= 30}\n",
        "print(z)"
      ],
      "metadata": {
        "colab": {
          "base_uri": "https://localhost:8080/"
        },
        "id": "OTeYQ_YROlm3",
        "outputId": "2c671c12-c81d-4ac7-f546-475a1dad0eb3"
      },
      "execution_count": null,
      "outputs": [
        {
          "output_type": "stream",
          "name": "stdout",
          "text": [
            "{'a': 10, 'b': 20, 'c': 30}\n",
            "{'a': 10, 'b': 20, 'c': 30}\n"
          ]
        }
      ]
    },
    {
      "cell_type": "code",
      "source": [
        "# 학생들 이름 한 줄로 입력 -> james john victor maria alex\n",
        "# 학생들 성적 한 줄로 입력 -> 68 100 90 30 75\n",
        "# -> 딕셔너리로 저장\n",
        "\n",
        "# 이 학생들 중 70점 이상인 학생만 가져오기\n",
        "# 이 학생들의 이름을 리스트로 저장해서 정렬하여 출력\n",
        "\n",
        "name = input(\"학생들의 이름을 입력하세요 >>> \").split()\n",
        "grade = map(int, input(\"학생들의 성적을 입력하세요\").split())\n",
        "\n",
        "a = dict(zip(name, grade))\n",
        "b = {k : v for k, v in a.items() if v >= 70}\n",
        "\n",
        "c = [i for i in b]\n",
        "c.sort()\n",
        "print(c)\n",
        "\n",
        "# 선생님의 리스트 만들기\n",
        "name2 = sorted(list(b.keys()))\n",
        "print(name2)\n",
        "\n",
        "print(sorted(list({k : v for k, v in a.items() if v >= 70}.keys())))\n",
        "\n",
        "print(sorted(list({k : v for k, v in dict(zip(input(\"학생들의 이름을 입력하세요 >>> \").split(), map(int, input(\"학생들의 성적을 입력하세요\").split()))).items() if v >= 70}.keys())))"
      ],
      "metadata": {
        "colab": {
          "base_uri": "https://localhost:8080/"
        },
        "id": "H7Hl55-VPIQ1",
        "outputId": "b8145e3b-f394-452d-8fa2-943a619b1742"
      },
      "execution_count": null,
      "outputs": [
        {
          "output_type": "stream",
          "name": "stdout",
          "text": [
            "학생들의 이름을 입력하세요 >>> james john victor maria alex\n",
            "학생들의 성적을 입력하세요68 100 90 30 75\n",
            "['alex', 'john', 'victor']\n",
            "['alex', 'john', 'victor']\n",
            "['alex', 'john', 'victor']\n",
            "학생들의 이름을 입력하세요 >>> james john victor maria alex\n",
            "학생들의 성적을 입력하세요68 100 90 30 75\n",
            "['alex', 'john', 'victor']\n"
          ]
        }
      ]
    },
    {
      "cell_type": "code",
      "source": [
        "# 160페이지 1번\n",
        "# 무지개의 1번째 색은 red 입니다.\n",
        "# 무지개의 2번째 색은 orange 입니다.\n",
        "# ...\n",
        "# 무지개의 3번째 색은 purple 입니다.\n",
        "color = ['red', 'orange', 'yellow', 'green', 'blue', 'indigo', 'purple']\n",
        "for idx, val in enumerate(color, start = 1):\n",
        "  print(f'무지개의 {idx}번째 색은 {val} 입니다.')"
      ],
      "metadata": {
        "colab": {
          "base_uri": "https://localhost:8080/"
        },
        "id": "VQyh503-QxSe",
        "outputId": "20359cb6-1f75-459b-e588-e6a834595194"
      },
      "execution_count": null,
      "outputs": [
        {
          "output_type": "stream",
          "name": "stdout",
          "text": [
            "무지개의 1번째 색은 red 입니다.\n",
            "무지개의 2번째 색은 orange 입니다.\n",
            "무지개의 3번째 색은 yellow 입니다.\n",
            "무지개의 4번째 색은 green 입니다.\n",
            "무지개의 5번째 색은 blue 입니다.\n",
            "무지개의 6번째 색은 indigo 입니다.\n",
            "무지개의 7번째 색은 purple 입니다.\n"
          ]
        }
      ]
    },
    {
      "cell_type": "code",
      "source": [
        "# 180 페이지 1번\n",
        "# 지역번호-국번-가입자개별번호 형식\n",
        "# 어떤 형식의 전화번호를 입력하더라도 '국번'을 추출하여 출력\n",
        "# 031-4567-8900 -> 4567\n",
        "# 02-543-2109 -> 543\n",
        "\n",
        "a = input(\"전화번호를 입력하세요 >>> \").split('-')\n",
        "\n",
        "print(f'{a[0]}-{a[1]}-{a[2]} ->  {a[1]}')"
      ],
      "metadata": {
        "colab": {
          "base_uri": "https://localhost:8080/"
        },
        "id": "Pi7YsfIBXsyn",
        "outputId": "ef347582-ea7d-482b-ca9e-d07fa7b85e67"
      },
      "execution_count": null,
      "outputs": [
        {
          "output_type": "stream",
          "name": "stdout",
          "text": [
            "전화번호를 입력하세요 >>> 02-2222-3333\n",
            "02-2222-3333 ->  2222\n"
          ]
        }
      ]
    },
    {
      "cell_type": "code",
      "source": [
        "# 180페이지 2번\n",
        "# 숫자 3자리 -숫자2자리-숫자5자리\n",
        "# 1) 전체 글자 수를 점검: 12자리\n",
        "# 2) 모든 하이픈의 위치가 올바른지 점검 = 하이픈 개수 2개, 000-00-00000\n",
        "# 3) 하이픈을 제외하고 모두 숫자인지 점검 = isdecimal() -> 사용하는 방식, int() -> 오류아나면 숫자\n",
        "\n",
        "a = input(\"사업자등록번호를 입력하세요 >>> \")\n",
        "\n",
        "isnum = False\n",
        "\n",
        "if len(a) == 12:\n",
        "  print(\"글자 수는 12자리 입니다.\")\n",
        "  if a.count('-') == 2 and a[3] == '-' and a[6] == '-':\n",
        "    print(\"하이픈의 위치와 개수가 올바릅니다.\")\n",
        "    b = a.split('-')\n",
        "    print(b)\n",
        "    for i in range(len(b)):\n",
        "      print(i)\n",
        "      print(b[i].isdecimal())\n",
        "      if b[i].isdecimal() == True:\n",
        "        isnum = True\n",
        "      else:\n",
        "        isnum = False\n",
        "    if isnum == True:\n",
        "      print(\"하이픈을 제외하고 모두 숫자입니다.\")\n",
        "    else:\n",
        "      print(\"잘못 입력하셨습니다.\")\n",
        "  else:\n",
        "    print(\"잘못 입력하셨습니다.\")\n",
        "else:\n",
        "  print(\"잘못 입력하셨습니다.\")"
      ],
      "metadata": {
        "colab": {
          "base_uri": "https://localhost:8080/"
        },
        "id": "34gTxrM0ZSTI",
        "outputId": "6432daae-1de2-4abb-b322-00237f4924e6"
      },
      "execution_count": null,
      "outputs": [
        {
          "output_type": "stream",
          "name": "stdout",
          "text": [
            "사업자등록번호를 입력하세요 >>> 012-34-56789\n",
            "글자 수는 12자리 입니다.\n",
            "하이픈의 위치와 개수가 올바릅니다.\n",
            "['012', '34', '56789']\n",
            "0\n",
            "True\n",
            "1\n",
            "True\n",
            "2\n",
            "True\n",
            "잘못 입력하셨습니다.\n"
          ]
        }
      ]
    },
    {
      "cell_type": "code",
      "source": [],
      "metadata": {
        "id": "sVSCLucydyxp"
      },
      "execution_count": null,
      "outputs": []
    }
  ]
}
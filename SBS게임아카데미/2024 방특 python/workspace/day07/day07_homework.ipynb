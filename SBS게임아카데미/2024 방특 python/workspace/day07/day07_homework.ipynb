{
  "nbformat": 4,
  "nbformat_minor": 0,
  "metadata": {
    "colab": {
      "provenance": []
    },
    "kernelspec": {
      "name": "python3",
      "display_name": "Python 3"
    },
    "language_info": {
      "name": "python"
    }
  },
  "cells": [
    {
      "cell_type": "code",
      "execution_count": 35,
      "metadata": {
        "colab": {
          "base_uri": "https://localhost:8080/"
        },
        "id": "k95ec4Kx5pSq",
        "outputId": "e7f53dc0-8321-407b-86e0-56a738e63beb"
      },
      "outputs": [
        {
          "output_type": "stream",
          "name": "stdout",
          "text": [
            "두 개의 수를 입력하세요 >>> 2 10\n",
            "[4, 8, 16, 32, 64, 128, 256, 512, 1024]\n",
            "[4, 8, 16, 32, 64, 128, 256, 512, 1024]\n",
            "['4', '8', '16', '32', '64', '128', '256', '512', '1024']\n",
            "['1024', '128', '16', '256', '32', '4', '512', '64', '8']\n"
          ]
        }
      ],
      "source": [
        "a, b = map(int, input(\"두 개의 수를 입력하세요 >>> \").split())\n",
        "c = []\n",
        "for i in range(a, b+1):\n",
        "  d = 1\n",
        "  for j in range(i):\n",
        "    d *= 2\n",
        "  c.append(d)\n",
        "print(c)\n",
        "e = list(map(str,c))\n",
        "print(e)\n",
        "\n",
        "f = []\n",
        "g = []\n",
        "h = []\n",
        "for i in range(2, -1, -1):\n",
        "  f.append(e[i*3])\n",
        "  g.append(e[i*3+1])\n",
        "  h.append(e[i*3+2])\n",
        "#2print(f,g,h)\n",
        "\n",
        "i = []\n",
        "i.extend(h)\n",
        "i.extend(f)\n",
        "i.extend(g)\n",
        "print(i)"
      ]
    },
    {
      "cell_type": "code",
      "source": [
        "a, b = map(int, input(\"두 개의 수를 입력하세요 >>> \").split())\n",
        "c = [2**i for i in range(a, b+1)]\n",
        "print(c)"
      ],
      "metadata": {
        "colab": {
          "base_uri": "https://localhost:8080/"
        },
        "id": "FWnkfgoDAvRZ",
        "outputId": "c8c40f29-46e4-4a74-d26b-9a95f436c59a"
      },
      "execution_count": 33,
      "outputs": [
        {
          "output_type": "stream",
          "name": "stdout",
          "text": [
            "두 개의 수를 입력하세요 >>> 2 10\n",
            "[4, 8, 16, 32, 64, 128, 256, 512, 1024]\n"
          ]
        }
      ]
    },
    {
      "cell_type": "code",
      "source": [
        "word = input(\"단어를 입력하세요 >>> \")\n",
        "max = 0\n",
        "maxlist = []\n",
        "for i in range(len(word)):\n",
        "  num = 0\n",
        "  for j in range(i+1,len(word)):\n",
        "    if word[i] == word[j]:\n",
        "      num += 1\n",
        "  if num > max:\n",
        "    max = num\n",
        "\n",
        "for i in range(len(word)):\n",
        "  num = 0\n",
        "  for j in range(i+1,len(word)):\n",
        "    if word[i] == word[j]:\n",
        "      num += 1\n",
        "  if num == max:\n",
        "    if word[i] not in maxlist:\n",
        "      maxlist.append(word[i])\n",
        "\n",
        "print(maxlist)"
      ],
      "metadata": {
        "colab": {
          "base_uri": "https://localhost:8080/"
        },
        "id": "DlFAelmLJigV",
        "outputId": "5047a485-e1ba-40c7-a9a5-8ad89001c727"
      },
      "execution_count": 29,
      "outputs": [
        {
          "output_type": "stream",
          "name": "stdout",
          "text": [
            "단어를 입력하세요 >>> mississipi\n",
            "['i', 's']\n"
          ]
        }
      ]
    },
    {
      "cell_type": "code",
      "source": [],
      "metadata": {
        "id": "V2F43tctJocJ"
      },
      "execution_count": null,
      "outputs": []
    }
  ]
}
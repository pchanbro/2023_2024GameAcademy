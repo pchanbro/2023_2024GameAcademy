{
  "nbformat": 4,
  "nbformat_minor": 0,
  "metadata": {
    "colab": {
      "provenance": []
    },
    "kernelspec": {
      "name": "python3",
      "display_name": "Python 3"
    },
    "language_info": {
      "name": "python"
    }
  },
  "cells": [
    {
      "cell_type": "code",
      "execution_count": 2,
      "metadata": {
        "colab": {
          "base_uri": "https://localhost:8080/"
        },
        "id": "L36aCpYc31cL",
        "outputId": "b3312efc-ce9c-4181-d5cf-edc8533ba2c7"
      },
      "outputs": [
        {
          "output_type": "stream",
          "name": "stdout",
          "text": [
            "Hello World\n",
            "Hello Python\n"
          ]
        }
      ],
      "source": [
        "print(\"Hello World\")\n",
        "print(\"Hello Python\")"
      ]
    },
    {
      "cell_type": "code",
      "source": [
        "a, b, c, d = map(int, input(\"4개 점수를 입력하세요 >>> \").split())\n",
        "print(\"평균은\",(a+b+c+d)/4, \"점 입니다\")"
      ],
      "metadata": {
        "colab": {
          "base_uri": "https://localhost:8080/"
        },
        "id": "oKuRdSop4HCP",
        "outputId": "9f3f2ba6-7646-4fb9-949a-d1ae94d48f68"
      },
      "execution_count": 4,
      "outputs": [
        {
          "output_type": "stream",
          "name": "stdout",
          "text": [
            "4개 점수를 입력하세요 >>> 100 90 85 80\n",
            "평균은 88.75 점 입니다\n"
          ]
        }
      ]
    },
    {
      "cell_type": "code",
      "source": [
        "input()"
      ],
      "metadata": {
        "colab": {
          "base_uri": "https://localhost:8080/",
          "height": 54
        },
        "id": "wATuTl0P4f34",
        "outputId": "0b0cd0d1-b3de-4c99-c87d-bd2e552c8dd4"
      },
      "execution_count": 8,
      "outputs": [
        {
          "name": "stdout",
          "output_type": "stream",
          "text": [
            "ㅇㅇ\n"
          ]
        },
        {
          "output_type": "execute_result",
          "data": {
            "text/plain": [
              "'ㅇㅇ'"
            ],
            "application/vnd.google.colaboratory.intrinsic+json": {
              "type": "string"
            }
          },
          "metadata": {},
          "execution_count": 8
        }
      ]
    },
    {
      "cell_type": "markdown",
      "source": [],
      "metadata": {
        "id": "GZQGqotc5B2Y"
      }
    },
    {
      "cell_type": "code",
      "source": [
        "print(type(1))\n",
        "print(type(1.0))\n",
        "print(type(1+0j))"
      ],
      "metadata": {
        "colab": {
          "base_uri": "https://localhost:8080/"
        },
        "id": "fB8lZq4V5obN",
        "outputId": "8d5b7cf4-7b2b-4f8b-f50c-bee373e06166"
      },
      "execution_count": 11,
      "outputs": [
        {
          "output_type": "stream",
          "name": "stdout",
          "text": [
            "<class 'int'>\n",
            "<class 'float'>\n",
            "<class 'complex'>\n"
          ]
        }
      ]
    },
    {
      "cell_type": "code",
      "source": [
        "print(id(1))\n",
        "print(id(1.0))\n",
        "print(id(1))\n"
      ],
      "metadata": {
        "colab": {
          "base_uri": "https://localhost:8080/"
        },
        "id": "Hyu9RBAM6LNo",
        "outputId": "84b4ec1b-32a2-4d54-96e6-4a53e07dd3a2"
      },
      "execution_count": 16,
      "outputs": [
        {
          "output_type": "stream",
          "name": "stdout",
          "text": [
            "136477349822704\n",
            "136476082465680\n",
            "136477349822704\n"
          ]
        }
      ]
    },
    {
      "cell_type": "code",
      "source": [
        "a = 5\n",
        "print ( a is 5)"
      ],
      "metadata": {
        "colab": {
          "base_uri": "https://localhost:8080/"
        },
        "id": "X_UriFT26Zbu",
        "outputId": "1e2ef629-2054-4398-b303-1ed3eea6dc3b"
      },
      "execution_count": 17,
      "outputs": [
        {
          "output_type": "stream",
          "name": "stdout",
          "text": [
            "True\n"
          ]
        },
        {
          "output_type": "stream",
          "name": "stderr",
          "text": [
            "<>:2: SyntaxWarning: \"is\" with a literal. Did you mean \"==\"?\n",
            "<>:2: SyntaxWarning: \"is\" with a literal. Did you mean \"==\"?\n",
            "<ipython-input-17-90ef198f3128>:2: SyntaxWarning: \"is\" with a literal. Did you mean \"==\"?\n",
            "  print ( a is 5)\n"
          ]
        }
      ]
    },
    {
      "cell_type": "code",
      "source": [
        "a = 5\n",
        "print(a is 6)"
      ],
      "metadata": {
        "colab": {
          "base_uri": "https://localhost:8080/"
        },
        "id": "DQF38EO-6dFu",
        "outputId": "c6b4df78-dc75-434c-bdad-bbcf4c931ab9"
      },
      "execution_count": 19,
      "outputs": [
        {
          "output_type": "stream",
          "name": "stdout",
          "text": [
            "False\n"
          ]
        },
        {
          "output_type": "stream",
          "name": "stderr",
          "text": [
            "<>:2: SyntaxWarning: \"is\" with a literal. Did you mean \"==\"?\n",
            "<>:2: SyntaxWarning: \"is\" with a literal. Did you mean \"==\"?\n",
            "<ipython-input-19-33a795400fc1>:2: SyntaxWarning: \"is\" with a literal. Did you mean \"==\"?\n",
            "  print(a is 6)\n"
          ]
        }
      ]
    },
    {
      "cell_type": "code",
      "source": [
        "print(True and True)\n",
        "print(True and False)\n",
        "print(False and False)\n",
        "print(False and True)"
      ],
      "metadata": {
        "colab": {
          "base_uri": "https://localhost:8080/"
        },
        "id": "RdwBaC1e7DQm",
        "outputId": "e4e9aff8-c297-4e5c-91ac-59a7d0adad06"
      },
      "execution_count": 21,
      "outputs": [
        {
          "output_type": "stream",
          "name": "stdout",
          "text": [
            "True\n",
            "False\n",
            "False\n",
            "False\n"
          ]
        }
      ]
    },
    {
      "cell_type": "code",
      "source": [
        "print(not True)\n",
        "print( not False)"
      ],
      "metadata": {
        "colab": {
          "base_uri": "https://localhost:8080/"
        },
        "id": "3nkKhm6a7Fi1",
        "outputId": "2132dd2b-3748-4803-d6b4-a1f036fe83bb"
      },
      "execution_count": 22,
      "outputs": [
        {
          "output_type": "stream",
          "name": "stdout",
          "text": [
            "False\n",
            "True\n"
          ]
        }
      ]
    },
    {
      "cell_type": "code",
      "source": [
        "print( (8 >= 4) and ( 4 == 4))\n",
        "print((5!= 5) or (10>= 7))"
      ],
      "metadata": {
        "colab": {
          "base_uri": "https://localhost:8080/"
        },
        "id": "3YaQc_O37vfN",
        "outputId": "cecbfaac-d6e6-47d4-ce2a-6db3fc2a3b2f"
      },
      "execution_count": 25,
      "outputs": [
        {
          "output_type": "stream",
          "name": "stdout",
          "text": [
            "True\n",
            "True\n"
          ]
        }
      ]
    },
    {
      "cell_type": "code",
      "source": [
        "print(not True and False or True)"
      ],
      "metadata": {
        "colab": {
          "base_uri": "https://localhost:8080/"
        },
        "id": "T8Qxhlss8UNb",
        "outputId": "de0aff46-2a6a-4cd0-d155-c3b122a6687e"
      },
      "execution_count": 27,
      "outputs": [
        {
          "output_type": "stream",
          "name": "stdout",
          "text": [
            "True\n"
          ]
        }
      ]
    },
    {
      "cell_type": "code",
      "source": [
        "print(1 is 1.0)"
      ],
      "metadata": {
        "colab": {
          "base_uri": "https://localhost:8080/"
        },
        "id": "xqUiSLTS8Zaz",
        "outputId": "7df90290-0e1e-4875-bf38-a23e9a1ea672"
      },
      "execution_count": 29,
      "outputs": [
        {
          "output_type": "stream",
          "name": "stdout",
          "text": [
            "False\n"
          ]
        },
        {
          "output_type": "stream",
          "name": "stderr",
          "text": [
            "<>:1: SyntaxWarning: \"is\" with a literal. Did you mean \"==\"?\n",
            "<>:1: SyntaxWarning: \"is\" with a literal. Did you mean \"==\"?\n",
            "<ipython-input-29-97fee7b1e99a>:1: SyntaxWarning: \"is\" with a literal. Did you mean \"==\"?\n",
            "  print(1 is 1.0)\n"
          ]
        }
      ]
    },
    {
      "cell_type": "code",
      "source": [
        "print(bool(100))\n",
        "print(bool(0))\n",
        "print(bool(-100))"
      ],
      "metadata": {
        "colab": {
          "base_uri": "https://localhost:8080/"
        },
        "id": "xZGhEP3X8_L0",
        "outputId": "dfb83fbd-e300-4077-fc54-2dd947de8474"
      },
      "execution_count": 33,
      "outputs": [
        {
          "output_type": "stream",
          "name": "stdout",
          "text": [
            "True\n",
            "False\n",
            "True\n"
          ]
        }
      ]
    },
    {
      "cell_type": "code",
      "source": [
        "print(int(True), int(False))\n",
        "print(float(True),float(False))\n",
        "print(bool(0.0000000000000000000001))\n",
        "print(bool(0.0000000000000000000000000001))"
      ],
      "metadata": {
        "colab": {
          "base_uri": "https://localhost:8080/"
        },
        "id": "OwRkzMxb9Om1",
        "outputId": "99fd33ee-5dea-4d85-c394-2382f1a5fe79"
      },
      "execution_count": 38,
      "outputs": [
        {
          "output_type": "stream",
          "name": "stdout",
          "text": [
            "1 0\n",
            "1.0 0.0\n",
            "True\n",
            "True\n"
          ]
        }
      ]
    },
    {
      "cell_type": "code",
      "source": [
        "import math\n",
        "print(bool(1/3))\n",
        "print(bool(math.pi))"
      ],
      "metadata": {
        "colab": {
          "base_uri": "https://localhost:8080/"
        },
        "id": "rtnOszxh9quE",
        "outputId": "fb87133b-7568-448d-8fe1-3f02540a6188"
      },
      "execution_count": 39,
      "outputs": [
        {
          "output_type": "stream",
          "name": "stdout",
          "text": [
            "True\n",
            "True\n"
          ]
        }
      ]
    },
    {
      "cell_type": "code",
      "source": [
        "print(bool(1 + 0j))\n",
        "print(bool(0 + 0j))\n",
        "print(bool(0 + 1j))"
      ],
      "metadata": {
        "colab": {
          "base_uri": "https://localhost:8080/"
        },
        "id": "XS8jslIj9wQE",
        "outputId": "cc534905-252a-4933-c7a6-9538117595b7"
      },
      "execution_count": 40,
      "outputs": [
        {
          "output_type": "stream",
          "name": "stdout",
          "text": [
            "True\n",
            "False\n",
            "True\n"
          ]
        }
      ]
    },
    {
      "cell_type": "code",
      "source": [
        "print(bool(\"\"))\n",
        "print(bool(\"True\"))\n",
        "print(bool(\"False\"))\n",
        "print(0 and \"\")"
      ],
      "metadata": {
        "colab": {
          "base_uri": "https://localhost:8080/"
        },
        "id": "x4uLPPI993W8",
        "outputId": "8b7d0b13-db43-484e-9639-9e32a369c4ac"
      },
      "execution_count": 42,
      "outputs": [
        {
          "output_type": "stream",
          "name": "stdout",
          "text": [
            "False\n",
            "True\n",
            "True\n",
            "0\n"
          ]
        }
      ]
    },
    {
      "cell_type": "code",
      "source": [
        "print(True and \"False\")\n",
        "print(True and \"Hello\")\n",
        "print(False and \"Hello\")\n",
        "print(\"Python\" and True)\n",
        "print(\"Python\" and False)"
      ],
      "metadata": {
        "colab": {
          "base_uri": "https://localhost:8080/"
        },
        "id": "JZ_SmPlY-FE9",
        "outputId": "df94289f-240c-45e6-e58d-24eaae7f8f68"
      },
      "execution_count": 46,
      "outputs": [
        {
          "output_type": "stream",
          "name": "stdout",
          "text": [
            "False\n",
            "Hello\n",
            "False\n",
            "True\n",
            "False\n"
          ]
        }
      ]
    },
    {
      "cell_type": "code",
      "source": [
        "print(False and \"Python\")\n",
        "print(0 and \"Python\")"
      ],
      "metadata": {
        "colab": {
          "base_uri": "https://localhost:8080/"
        },
        "id": "6uvNgeBR-dW7",
        "outputId": "19702ee1-ccbf-4abf-8ae2-675be97fe9c5"
      },
      "execution_count": 47,
      "outputs": [
        {
          "output_type": "stream",
          "name": "stdout",
          "text": [
            "False\n",
            "0\n"
          ]
        }
      ]
    },
    {
      "cell_type": "code",
      "source": [
        "print(True or \"Python\")\n",
        "print(\"Python\" or True)\n",
        "print(0 or True)\n",
        "print(0 or False)"
      ],
      "metadata": {
        "colab": {
          "base_uri": "https://localhost:8080/"
        },
        "id": "XKej-qcV_GGk",
        "outputId": "7b80d3f6-5b04-49d9-e033-1cb7fc42f0ff"
      },
      "execution_count": 48,
      "outputs": [
        {
          "output_type": "stream",
          "name": "stdout",
          "text": [
            "True\n",
            "Python\n",
            "True\n",
            "False\n"
          ]
        }
      ]
    },
    {
      "cell_type": "code",
      "source": [
        "a,b,c = map(int, input(\"3개 점수를 입력하세요 >>> \").split())\n",
        "print((a >= 50) and (b >= 50) and (c >= 50))"
      ],
      "metadata": {
        "colab": {
          "base_uri": "https://localhost:8080/"
        },
        "id": "cX5fcpAk_UAb",
        "outputId": "af7859f0-7b0e-4a4e-a85d-6c3957ced78a"
      },
      "execution_count": 50,
      "outputs": [
        {
          "output_type": "stream",
          "name": "stdout",
          "text": [
            "3개 점수를 입력하세요 >>> 80 40 50\n",
            "False\n"
          ]
        }
      ]
    },
    {
      "cell_type": "code",
      "source": [
        "print(\"Hello World\")\n",
        "print('Hello World')\n",
        "\n",
        "a = \"Hello World\"\n",
        "print(a)"
      ],
      "metadata": {
        "colab": {
          "base_uri": "https://localhost:8080/"
        },
        "id": "GaYes5Ta_4mr",
        "outputId": "03968e05-7d8c-472e-da2a-1ebca9309d53"
      },
      "execution_count": 51,
      "outputs": [
        {
          "output_type": "stream",
          "name": "stdout",
          "text": [
            "Hello World\n",
            "Hello World\n",
            "Hello World\n"
          ]
        }
      ]
    },
    {
      "cell_type": "code",
      "source": [
        "b = \"\"\"Hello World\"\"\"\n",
        "print(b)"
      ],
      "metadata": {
        "colab": {
          "base_uri": "https://localhost:8080/"
        },
        "id": "iwqAjUewDKJi",
        "outputId": "4d5211d6-1a13-466a-8e75-6df23adc17e8"
      },
      "execution_count": 52,
      "outputs": [
        {
          "output_type": "stream",
          "name": "stdout",
          "text": [
            "Hello World\n"
          ]
        }
      ]
    },
    {
      "cell_type": "code",
      "source": [
        "c = \"Hello\\nWorld\"\n",
        "print(c)\n",
        "d = \"\"\"Hello\n",
        "World\"\"\"\n",
        "print(b)"
      ],
      "metadata": {
        "colab": {
          "base_uri": "https://localhost:8080/"
        },
        "id": "7D2KRlYgDSoC",
        "outputId": "86105dc3-a7d9-4c55-9282-b6b5292da9b4"
      },
      "execution_count": 53,
      "outputs": [
        {
          "output_type": "stream",
          "name": "stdout",
          "text": [
            "Hello\n",
            "World\n",
            "Hello World\n"
          ]
        }
      ]
    },
    {
      "cell_type": "code",
      "source": [
        "print(\"Hello\\\"World\")\n",
        "print(\"\"\"Hello\"World\"\"\")\n",
        "print('Hello\\'World')\n",
        "print(\"\"\"Hello'World\"\"\")"
      ],
      "metadata": {
        "colab": {
          "base_uri": "https://localhost:8080/"
        },
        "id": "li5dqZqaDmSp",
        "outputId": "31d6e0d5-38ec-4d17-fa52-100b9afe06b9"
      },
      "execution_count": 54,
      "outputs": [
        {
          "output_type": "stream",
          "name": "stdout",
          "text": [
            "Hello\"World\n",
            "Hello\"World\n",
            "Hello'World\n",
            "Hello'World\n"
          ]
        }
      ]
    },
    {
      "cell_type": "code",
      "source": [
        "a = \"Hello\"\n",
        "print('l' in a)\n",
        "print('L' in a)"
      ],
      "metadata": {
        "colab": {
          "base_uri": "https://localhost:8080/"
        },
        "id": "ByLK1nH1EXtR",
        "outputId": "65947d97-e876-4d9f-dc47-15aeff6e066e"
      },
      "execution_count": 57,
      "outputs": [
        {
          "output_type": "stream",
          "name": "stdout",
          "text": [
            "True\n",
            "False\n"
          ]
        }
      ]
    },
    {
      "cell_type": "code",
      "source": [
        "a,b = input().split()\n",
        "print(a+b)"
      ],
      "metadata": {
        "colab": {
          "base_uri": "https://localhost:8080/"
        },
        "id": "IhG-HuSQEvI6",
        "outputId": "54fa3b8b-71bb-4dfc-cf33-e1105a58010c"
      },
      "execution_count": 58,
      "outputs": [
        {
          "output_type": "stream",
          "name": "stdout",
          "text": [
            "10 20\n",
            "1020\n"
          ]
        }
      ]
    },
    {
      "cell_type": "code",
      "source": [
        "a = \"Hello\"\n",
        "print(a + a + a)\n",
        "print(a * 3)\n",
        "print(a * (-1))"
      ],
      "metadata": {
        "colab": {
          "base_uri": "https://localhost:8080/"
        },
        "id": "Y_5v-ZNREzBC",
        "outputId": "bbf8d1e7-2215-44e1-fdde-e17b17228c2d"
      },
      "execution_count": 59,
      "outputs": [
        {
          "output_type": "stream",
          "name": "stdout",
          "text": [
            "HelloHelloHello\n",
            "HelloHelloHello\n",
            "\n"
          ]
        }
      ]
    },
    {
      "cell_type": "code",
      "source": [
        "a = \"Hello\"\n",
        "print(len(a))\n",
        "\n",
        "b = \"Hello World\"\n",
        "print(len(b))\n",
        "\n",
        "c = \"Hello\\n\"\n",
        "print(len(c))\n",
        "\n",
        "d = \"Hello\\\\\"\n",
        "print(len(d))\n",
        "\n",
        "e = \"\"\"Hello\\\\\"\"\"\n",
        "print(e)\n",
        "print(len(e))\n",
        "\n",
        "f = \"\"\"Hel\"\"lo\"\"\"\n",
        "print(f)\n",
        "print(len(f))"
      ],
      "metadata": {
        "colab": {
          "base_uri": "https://localhost:8080/"
        },
        "id": "y0gr4N2vFOap",
        "outputId": "f8314056-a4e4-4fa0-c601-e3e2d47d21ef"
      },
      "execution_count": 64,
      "outputs": [
        {
          "output_type": "stream",
          "name": "stdout",
          "text": [
            "5\n",
            "11\n",
            "6\n",
            "6\n",
            "Hello\\\n",
            "6\n",
            "Hel\"\"lo\n",
            "7\n"
          ]
        }
      ]
    },
    {
      "cell_type": "code",
      "source": [
        "a = \"Hello\"\n",
        "print(a[1])\n",
        "print(a[0])\n",
        "print(a[3])"
      ],
      "metadata": {
        "colab": {
          "base_uri": "https://localhost:8080/"
        },
        "id": "ZZLGay7UF5-p",
        "outputId": "cb43eb7d-e03e-4ac1-d640-ffcc12cf6eb9"
      },
      "execution_count": 67,
      "outputs": [
        {
          "output_type": "stream",
          "name": "stdout",
          "text": [
            "e\n",
            "H\n",
            "l\n"
          ]
        }
      ]
    },
    {
      "cell_type": "code",
      "source": [
        "a = \"Hello\"\n",
        "#print(a[5])\n",
        "print(a[-1])\n",
        "print(a[-5])\n",
        "print(a[-len(a)])\n",
        "print(a[0])"
      ],
      "metadata": {
        "colab": {
          "base_uri": "https://localhost:8080/"
        },
        "id": "9V9jzHj2GTkw",
        "outputId": "9c4ca11a-4a72-431a-e6c2-797939163707"
      },
      "execution_count": 68,
      "outputs": [
        {
          "output_type": "stream",
          "name": "stdout",
          "text": [
            "o\n",
            "H\n",
            "H\n",
            "H\n"
          ]
        }
      ]
    },
    {
      "cell_type": "code",
      "source": [
        "a = \"Programming\"\n",
        "print(a[3] + a[4] + a[5] + a[6])\n",
        "print(a[3:6])\n",
        "print(a[0:4])\n",
        "print(a[:4])\n",
        "print(a[7:])\n",
        "print(a[:])"
      ],
      "metadata": {
        "colab": {
          "base_uri": "https://localhost:8080/"
        },
        "id": "_qf8Ll6FG6tY",
        "outputId": "06fa976b-8b86-4efd-f0c0-fde6d4361583"
      },
      "execution_count": 72,
      "outputs": [
        {
          "output_type": "stream",
          "name": "stdout",
          "text": [
            "gram\n",
            "gra\n",
            "Prog\n",
            "Prog\n",
            "ming\n",
            "Programming\n"
          ]
        }
      ]
    },
    {
      "cell_type": "code",
      "source": [
        "a = \"Programming\"\n",
        "print(a[3:8])\n",
        "print(a[3:8:2])\n",
        "\n",
        "print(a[3:9])\n",
        "print(a[3:9:3])\n",
        "\n",
        "print(a[:7])"
      ],
      "metadata": {
        "colab": {
          "base_uri": "https://localhost:8080/"
        },
        "id": "wzHK48oxH9_-",
        "outputId": "a65cfc3b-4d38-4d4f-ddb7-0d3951355959"
      },
      "execution_count": 75,
      "outputs": [
        {
          "output_type": "stream",
          "name": "stdout",
          "text": [
            "gramm\n",
            "gam\n",
            "grammi\n",
            "gm\n",
            "Program\n"
          ]
        }
      ]
    },
    {
      "cell_type": "code",
      "source": [
        "a = \"Hello World!\"\n",
        "print(a.replace(\"World\", \"Python\"))"
      ],
      "metadata": {
        "colab": {
          "base_uri": "https://localhost:8080/"
        },
        "id": "otx2K_bKJJt_",
        "outputId": "36d6b4c6-6d98-4ac7-8a1f-bd009f08a8de"
      },
      "execution_count": 76,
      "outputs": [
        {
          "output_type": "stream",
          "name": "stdout",
          "text": [
            "Hello Python!\n"
          ]
        }
      ]
    },
    {
      "cell_type": "code",
      "source": [
        "a = \"Hello World!\"\n",
        "a.replace(\"World\", \"Python\")\n",
        "print(a)\n",
        "\n",
        "a = a.replace(\"World\", \"Python\")\n",
        "print(a)"
      ],
      "metadata": {
        "colab": {
          "base_uri": "https://localhost:8080/"
        },
        "id": "128Km4WnJSBO",
        "outputId": "f757c783-696a-4018-d132-764b72550610"
      },
      "execution_count": 80,
      "outputs": [
        {
          "output_type": "stream",
          "name": "stdout",
          "text": [
            "Hello World!\n",
            "Hello Python!\n"
          ]
        }
      ]
    },
    {
      "cell_type": "code",
      "source": [
        "a = \"Hello World!\"\n",
        "a = a.replace('l', '1')\n",
        "print(a)"
      ],
      "metadata": {
        "colab": {
          "base_uri": "https://localhost:8080/"
        },
        "id": "MSL19bkZKABf",
        "outputId": "66cdd814-5e46-4f58-fc15-c3219bd4b9b5"
      },
      "execution_count": 81,
      "outputs": [
        {
          "output_type": "stream",
          "name": "stdout",
          "text": [
            "He11o Wor1d!\n"
          ]
        }
      ]
    },
    {
      "cell_type": "code",
      "source": [
        "# a -> 1, b -> 2, c -> 3\n",
        "table = str.maketrans(\"abc\", \"123\")\n",
        "a = \"apple babana crown\"\n",
        "print(a.translate(table))\n",
        "print(a)\n",
        "a = a.translate(table)\n",
        "print(a)"
      ],
      "metadata": {
        "colab": {
          "base_uri": "https://localhost:8080/"
        },
        "id": "GWHX-fJ9KGaB",
        "outputId": "67827707-4408-4989-dbf4-d5843d511407"
      },
      "execution_count": 83,
      "outputs": [
        {
          "output_type": "stream",
          "name": "stdout",
          "text": [
            "1pple 2121n1 3rown\n",
            "apple babana crown\n",
            "1pple 2121n1 3rown\n"
          ]
        }
      ]
    },
    {
      "cell_type": "code",
      "source": [
        "a = '35'\n",
        "print(a.zfill(4))\n",
        "\n",
        "b = \"Python\"\n",
        "print(b.zfill(10))"
      ],
      "metadata": {
        "colab": {
          "base_uri": "https://localhost:8080/"
        },
        "id": "FkWlfPgjKZMG",
        "outputId": "bca62453-5c25-4c39-fb09-863a4bef2169"
      },
      "execution_count": 85,
      "outputs": [
        {
          "output_type": "stream",
          "name": "stdout",
          "text": [
            "0035\n",
            "0000Python\n"
          ]
        }
      ]
    },
    {
      "cell_type": "code",
      "source": [
        "c = '123456789'\n",
        "print(c.zfill(8))\n",
        "print(c.rjust(5))\n",
        "print(c.center(5))"
      ],
      "metadata": {
        "colab": {
          "base_uri": "https://localhost:8080/"
        },
        "id": "NLiT32vGNs0t",
        "outputId": "bdae64af-82ab-40ee-e683-fb2b4246a9cb"
      },
      "execution_count": 89,
      "outputs": [
        {
          "output_type": "stream",
          "name": "stdout",
          "text": [
            "123456789\n",
            "123456789\n",
            "123456789\n"
          ]
        }
      ]
    },
    {
      "cell_type": "code",
      "source": [
        "a = \"apple care plus\"\n",
        "print(a.find('pl'))\n",
        "print(a.rfind('pl'))\n",
        "print(a.find('xy'))\n",
        "print(a.rfind('xy'))"
      ],
      "metadata": {
        "colab": {
          "base_uri": "https://localhost:8080/"
        },
        "id": "W-xg0wFkN_a9",
        "outputId": "f22a03d8-4770-4e8d-f369-f596dba99e75"
      },
      "execution_count": 2,
      "outputs": [
        {
          "output_type": "stream",
          "name": "stdout",
          "text": [
            "2\n",
            "11\n",
            "-1\n",
            "-1\n"
          ]
        }
      ]
    },
    {
      "cell_type": "code",
      "source": [
        "a = \" apple care plus\"\n",
        "print(a.count('pl'))\n",
        "print(a.count('p'))"
      ],
      "metadata": {
        "colab": {
          "base_uri": "https://localhost:8080/"
        },
        "id": "FX0BmB4QRSpL",
        "outputId": "5970779a-2d1e-42ef-e946-62edf210e16f"
      },
      "execution_count": 3,
      "outputs": [
        {
          "output_type": "stream",
          "name": "stdout",
          "text": [
            "2\n",
            "3\n"
          ]
        }
      ]
    },
    {
      "cell_type": "code",
      "source": [
        "a = 100\n",
        "b = 80\n",
        "c = 90\n",
        "d = 85\n",
        "print(\"평균은 \", (a+b+c+d)/4 , \"입니다\")"
      ],
      "metadata": {
        "colab": {
          "base_uri": "https://localhost:8080/"
        },
        "id": "T4kEP0EdSEA7",
        "outputId": "94891eb4-3a0a-4508-b155-7b4dc0c38372"
      },
      "execution_count": 4,
      "outputs": [
        {
          "output_type": "stream",
          "name": "stdout",
          "text": [
            "평균은  88.75 입니다\n"
          ]
        }
      ]
    },
    {
      "cell_type": "code",
      "source": [
        "age = 30\n",
        "print(\"내 나이는 %d 살입니다.\" %age)\n",
        "print(\"내 나이는 %5d 살입니다.\" %age)\n",
        "\n",
        "month = 2\n",
        "day = 13\n",
        "print(\"내 생일은 %d월 %d일 입니다.\" %(month, day))"
      ],
      "metadata": {
        "colab": {
          "base_uri": "https://localhost:8080/"
        },
        "id": "XMYK0qmvSvXj",
        "outputId": "4ca99627-bf01-47b0-d317-4153ab85e21c"
      },
      "execution_count": 10,
      "outputs": [
        {
          "output_type": "stream",
          "name": "stdout",
          "text": [
            "내 나이는 30 살입니다.\n",
            "내 나이는    30 살입니다.\n",
            "내 생일은 2월 13일 입니다.\n"
          ]
        }
      ]
    },
    {
      "cell_type": "code",
      "source": [
        "pi = 3.14\n",
        "print(\"파이는 %f 입니다. \" % pi)\n",
        "print(\"파이는 %.2f 입니다.\" %pi)\n",
        "print(\"파이는 %5.2f 입니다.\" %pi)"
      ],
      "metadata": {
        "colab": {
          "base_uri": "https://localhost:8080/"
        },
        "id": "qi29_mgFTNx6",
        "outputId": "cdc0d376-6cfb-4312-b474-056e31c464bc"
      },
      "execution_count": 11,
      "outputs": [
        {
          "output_type": "stream",
          "name": "stdout",
          "text": [
            "파이는 3.140000 입니다. \n",
            "파이는 3.14 입니다.\n",
            "파이는  3.14 입니다.\n"
          ]
        }
      ]
    },
    {
      "cell_type": "code",
      "source": [
        "city = \"서울\"\n",
        "print(\"저는 %s에 거주합니다.\" %city)\n",
        "print(\"저는 %10s에 거주합니다.\" %city)\n",
        "print(\"저는 %-10s에 거주합니다.\" % city)"
      ],
      "metadata": {
        "colab": {
          "base_uri": "https://localhost:8080/"
        },
        "id": "whj30ZimTU9i",
        "outputId": "f50afcd2-92a4-4db7-9630-fc1cb94026a5"
      },
      "execution_count": 12,
      "outputs": [
        {
          "output_type": "stream",
          "name": "stdout",
          "text": [
            "저는 서울에 거주합니다.\n",
            "저는         서울에 거주합니다.\n",
            "저는 서울        에 거주합니다.\n"
          ]
        }
      ]
    },
    {
      "cell_type": "code",
      "source": [
        "city = \"서울\"\n",
        "print(\"저는 {0}에 거주합니다.\" .format(city))\n",
        "\n",
        "month = 2\n",
        "day = 13\n",
        "print(\"제 생일은 {0}월 {1}일 입니다.\".format(month, day))\n",
        "print(\"제 생일은 {1}월 {0}일 입니다.\".format(month, day))\n",
        "\n",
        "a = \"경기\"\n",
        "print(\"{0}도에 사는 {0}씨\".format(a))\n",
        "\n",
        "a = \"Python\"\n",
        "b = \"Script\"\n",
        "c = \"3.12.1\"\n",
        "print(\"이 {} {} 는 {} 입니다.\".format(a,b,c))"
      ],
      "metadata": {
        "colab": {
          "base_uri": "https://localhost:8080/"
        },
        "id": "iCGD401JTpcK",
        "outputId": "70ce52c3-8c97-4c74-a600-22ecc5235e99"
      },
      "execution_count": 15,
      "outputs": [
        {
          "output_type": "stream",
          "name": "stdout",
          "text": [
            "저는 서울에 거주합니다.\n",
            "제 생일은 2월 13일 입니다.\n",
            "제 생일은 13월 2일 입니다.\n",
            "경기도에 사는 경기씨\n",
            "이 Python Script 는 3.12.1 입니다.\n"
          ]
        }
      ]
    },
    {
      "cell_type": "code",
      "source": [
        "print(\"{언어} {버전} \".format(언어 = \"Python\", 버전 = \"3.12.1\"))"
      ],
      "metadata": {
        "colab": {
          "base_uri": "https://localhost:8080/"
        },
        "id": "NZY1F1yoU7WK",
        "outputId": "895e4bcf-299d-4c21-b1f6-ad09932df938"
      },
      "execution_count": 16,
      "outputs": [
        {
          "output_type": "stream",
          "name": "stdout",
          "text": [
            "Python 3.12.1 \n"
          ]
        }
      ]
    },
    {
      "cell_type": "code",
      "source": [
        "language = \"Python\"\n",
        "version = \"3.12.1\"\n",
        "print(\"%s %s\" % (language, version))\n",
        "print(f\"{language}) {version}\")\n",
        "print(f\"{version} {version}\")\n",
        "\n",
        "print(\"{{{0}}}\".format(\"Python\"))"
      ],
      "metadata": {
        "colab": {
          "base_uri": "https://localhost:8080/"
        },
        "id": "HZ0_H32pV7UT",
        "outputId": "c34df239-f863-47d3-93a3-92ea9ba8dc46"
      },
      "execution_count": 17,
      "outputs": [
        {
          "output_type": "stream",
          "name": "stdout",
          "text": [
            "Python 3.12.1\n",
            "Python) 3.12.1\n",
            "3.12.1 3.12.1\n",
            "{Python}\n"
          ]
        }
      ]
    },
    {
      "cell_type": "code",
      "source": [
        "print(\"Python\".ljust(10)+\"!\")\n",
        "print(\"%-10s\" % \"Python\")"
      ],
      "metadata": {
        "colab": {
          "base_uri": "https://localhost:8080/"
        },
        "id": "o3L058sxWZyy",
        "outputId": "284b9036-2509-4ba2-e1ef-59af220ac400"
      },
      "execution_count": 18,
      "outputs": [
        {
          "output_type": "stream",
          "name": "stdout",
          "text": [
            "Python    !\n",
            "Python    \n"
          ]
        }
      ]
    },
    {
      "cell_type": "code",
      "source": [
        "print(\"{0:>012.3f}\".format(34))\n",
        "print(\"{0:0>12.3f}\".format(34))\n",
        "\n",
        "print(\"{0:<010d}\".format(41))\n",
        "print(\"{0:0<10}\".format(41))"
      ],
      "metadata": {
        "colab": {
          "base_uri": "https://localhost:8080/"
        },
        "id": "t14qTXXFY-LH",
        "outputId": "9596616d-41c0-4ae7-9114-c733b8b70b90"
      },
      "execution_count": 30,
      "outputs": [
        {
          "output_type": "stream",
          "name": "stdout",
          "text": [
            "00000034.000\n",
            "00000034.000\n",
            "4100000000\n",
            "4100000000\n"
          ]
        }
      ]
    },
    {
      "cell_type": "code",
      "source": [
        "print(format(100000000000, ','))\n",
        "print(type(format(100000000000, ',')))\n",
        "print(\"%20s\" % format(100000000000, ','))\n",
        "print(\"{0:0>20,}\".format(100000000000))"
      ],
      "metadata": {
        "id": "5KY25ImWa18v"
      },
      "execution_count": null,
      "outputs": []
    },
    {
      "cell_type": "code",
      "source": [
        "print(%)"
      ],
      "metadata": {
        "id": "js8hlTn6bTqO"
      },
      "execution_count": null,
      "outputs": []
    }
  ]
}
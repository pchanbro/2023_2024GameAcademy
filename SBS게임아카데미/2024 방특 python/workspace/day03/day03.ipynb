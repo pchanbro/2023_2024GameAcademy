{
  "nbformat": 4,
  "nbformat_minor": 0,
  "metadata": {
    "colab": {
      "provenance": []
    },
    "kernelspec": {
      "name": "python3",
      "display_name": "Python 3"
    },
    "language_info": {
      "name": "python"
    }
  },
  "cells": [
    {
      "cell_type": "code",
      "execution_count": 1,
      "metadata": {
        "colab": {
          "base_uri": "https://localhost:8080/"
        },
        "id": "bFGzKrCQTPFb",
        "outputId": "0d76c2ec-3f86-4631-f6be-fec8fa3979e4"
      },
      "outputs": [
        {
          "output_type": "stream",
          "name": "stdout",
          "text": [
            "[1, 2, 3, 4, 5]\n"
          ]
        }
      ],
      "source": [
        "a = [1, 2, 3, 4, 5]\n",
        "print(a)"
      ]
    },
    {
      "cell_type": "code",
      "source": [
        "b = ['hello', 30, 3.14, True, 5.2+6j]\n",
        "print(b)"
      ],
      "metadata": {
        "colab": {
          "base_uri": "https://localhost:8080/"
        },
        "id": "DPi8ILaXUOEp",
        "outputId": "c6f8a1fe-523a-4441-c8dc-a8a184ac160c"
      },
      "execution_count": 3,
      "outputs": [
        {
          "output_type": "stream",
          "name": "stdout",
          "text": [
            "['hello', 30, 3.14, True, (5.2+6j)]\n"
          ]
        }
      ]
    },
    {
      "cell_type": "code",
      "source": [
        "c = [30, 40]"
      ],
      "metadata": {
        "id": "Ti0zdqBcUaaJ"
      },
      "execution_count": 8,
      "outputs": []
    },
    {
      "cell_type": "code",
      "source": [
        "a = []\n",
        "print(a)\n",
        "\n",
        "b = list()\n",
        "print(b)"
      ],
      "metadata": {
        "colab": {
          "base_uri": "https://localhost:8080/"
        },
        "id": "GGElUXABVCcp",
        "outputId": "e83be99e-113b-46dc-b58e-45fb4d38618a"
      },
      "execution_count": 12,
      "outputs": [
        {
          "output_type": "stream",
          "name": "stdout",
          "text": [
            "[]\n",
            "[]\n"
          ]
        }
      ]
    },
    {
      "cell_type": "code",
      "source": [
        "a = [1, 2, 3, 4, 5]\n",
        "print(a)"
      ],
      "metadata": {
        "colab": {
          "base_uri": "https://localhost:8080/"
        },
        "id": "vh-gSRASVnGo",
        "outputId": "8e7e2bdf-9899-4f33-9db6-e9d210adb4d4"
      },
      "execution_count": 14,
      "outputs": [
        {
          "output_type": "stream",
          "name": "stdout",
          "text": [
            "[1, 2, 3, 4, 5]\n"
          ]
        }
      ]
    },
    {
      "cell_type": "code",
      "source": [
        "print(range(6))\n",
        "a = range(6)\n",
        "print(a)\n",
        "a = list(a)\n",
        "print(a)\n",
        "\n",
        "#/한번에 하려면\n",
        "print(list(range(10)))"
      ],
      "metadata": {
        "colab": {
          "base_uri": "https://localhost:8080/"
        },
        "id": "8oi7ZCS_VsKh",
        "outputId": "c3eb3637-7d3c-4ebd-98ac-cc6cffb77c9a"
      },
      "execution_count": 17,
      "outputs": [
        {
          "output_type": "stream",
          "name": "stdout",
          "text": [
            "range(0, 6)\n",
            "range(0, 6)\n",
            "[0, 1, 2, 3, 4, 5]\n",
            "[0, 1, 2, 3, 4, 5, 6, 7, 8, 9]\n"
          ]
        }
      ]
    },
    {
      "cell_type": "code",
      "source": [
        "a = range(5, 11)\n",
        "print(a)\n",
        "a = list(a)\n",
        "print(a)\n",
        "\n",
        "print(list(range(8,20)))"
      ],
      "metadata": {
        "colab": {
          "base_uri": "https://localhost:8080/"
        },
        "id": "-3-YUXEyWWbJ",
        "outputId": "5d143248-6e0e-4c0e-dbc4-bf910cbb89d4"
      },
      "execution_count": 19,
      "outputs": [
        {
          "output_type": "stream",
          "name": "stdout",
          "text": [
            "range(5, 11)\n",
            "[5, 6, 7, 8, 9, 10]\n",
            "[8, 9, 10, 11, 12, 13, 14, 15, 16, 17, 18, 19]\n"
          ]
        }
      ]
    },
    {
      "cell_type": "code",
      "source": [
        "a = range(4, 11, 2)\n",
        "print(a)\n",
        "a = list(a)\n",
        "print(a)\n",
        "\n",
        "print((list(range(-10, 10, 3))))"
      ],
      "metadata": {
        "colab": {
          "base_uri": "https://localhost:8080/"
        },
        "id": "Uif7rdpGW65g",
        "outputId": "e6883de1-ea7e-4871-8905-92dbdfa7cb6c"
      },
      "execution_count": 21,
      "outputs": [
        {
          "output_type": "stream",
          "name": "stdout",
          "text": [
            "range(4, 11, 2)\n",
            "[4, 6, 8, 10]\n",
            "[-10, -7, -4, -1, 2, 5, 8]\n"
          ]
        }
      ]
    },
    {
      "cell_type": "code",
      "source": [
        "#리스트\n",
        "a =[1, 2, 3]\n",
        "print(a)\n",
        "\n",
        "#튜플\n",
        "b = (1, 2, 3)\n",
        "print(b)\n",
        "\n",
        "c = 1, 2, 3\n",
        "print(c)"
      ],
      "metadata": {
        "colab": {
          "base_uri": "https://localhost:8080/"
        },
        "id": "S-5gAfdAXcmh",
        "outputId": "23fbdcb2-f8d7-42ea-9658-931dc0dc0423"
      },
      "execution_count": 23,
      "outputs": [
        {
          "output_type": "stream",
          "name": "stdout",
          "text": [
            "[1, 2, 3]\n",
            "(1, 2, 3)\n",
            "(1, 2, 3)\n"
          ]
        }
      ]
    },
    {
      "cell_type": "code",
      "source": [
        "#이건 그냥 정수\n",
        "a = (29)\n",
        "print(a)\n",
        "print(type(a))\n",
        "\n",
        "# 값이 한개인 튜플\n",
        "b = (29,)\n",
        "print(b)\n",
        "print(type(b))\n",
        "\n",
        "#소괄호 없이 ,만 붙여도 튜플\n",
        "c = 29,\n",
        "print(c)\n",
        "print(type(c))"
      ],
      "metadata": {
        "colab": {
          "base_uri": "https://localhost:8080/"
        },
        "id": "toZaxwRIYQwR",
        "outputId": "baf09f9c-084a-4687-bf5a-58e99b9d16e7"
      },
      "execution_count": 27,
      "outputs": [
        {
          "output_type": "stream",
          "name": "stdout",
          "text": [
            "29\n",
            "<class 'int'>\n",
            "(29,)\n",
            "<class 'tuple'>\n",
            "(29,)\n",
            "<class 'tuple'>\n"
          ]
        }
      ]
    },
    {
      "cell_type": "code",
      "source": [
        "#튜플\n",
        "print(tuple(range(6)))\n",
        "print(tuple(range(3,8)))\n",
        "print(tuple(range(2,12,4)))\n",
        "\n",
        "#리스트\n",
        "print(list(range(6)))\n",
        "print(list(range(3,8)))\n",
        "print(list(range(2,12,4)))"
      ],
      "metadata": {
        "colab": {
          "base_uri": "https://localhost:8080/"
        },
        "id": "GKbRiUjjYg-5",
        "outputId": "37fa99ca-2e9d-4925-c8cd-bca5983f60bc"
      },
      "execution_count": 31,
      "outputs": [
        {
          "output_type": "stream",
          "name": "stdout",
          "text": [
            "(0, 1, 2, 3, 4, 5)\n",
            "(3, 4, 5, 6, 7)\n",
            "(2, 6, 10)\n",
            "[0, 1, 2, 3, 4, 5]\n",
            "[3, 4, 5, 6, 7]\n",
            "[2, 6, 10]\n"
          ]
        }
      ]
    },
    {
      "cell_type": "code",
      "source": [
        "a = ['kim', 30, 173.5]\n",
        "print(a)\n",
        "print(type(a))\n",
        "a[1] = 31\n",
        "print(a)\n",
        "\n",
        "a = tuple(a)\n",
        "print(a)\n",
        "print(type(a))\n",
        "\n",
        "a = list(a)\n",
        "a[2] = 174.5\n",
        "print(a)\n",
        "print(type(a))"
      ],
      "metadata": {
        "colab": {
          "base_uri": "https://localhost:8080/"
        },
        "id": "MmorU100ZIVR",
        "outputId": "d2a1298e-1643-4dfa-813f-df306a3aabd4"
      },
      "execution_count": 39,
      "outputs": [
        {
          "output_type": "stream",
          "name": "stdout",
          "text": [
            "['kim', 30, 173.5]\n",
            "<class 'list'>\n",
            "['kim', 31, 173.5]\n",
            "('kim', 31, 173.5)\n",
            "<class 'tuple'>\n",
            "['kim', 31, 174.5]\n",
            "<class 'list'>\n"
          ]
        }
      ]
    },
    {
      "cell_type": "code",
      "source": [
        "a = 'Hello Python'\n",
        "print(a)\n",
        "print(type(a))\n",
        "\n",
        "#문자열을 리스트로 바뀌면 한 글짜씩 리스트에 들어감\n",
        "b = list(a)\n",
        "print(b)\n",
        "print(type(b))\n",
        "\n",
        "#리스트를 다시 합칠 땐 join\n",
        "c = ''.join(b)\n",
        "print(c)\n",
        "print(type(c))\n",
        "\n",
        "d = tuple(c)\n",
        "print(d)\n",
        "print(type(d))\n",
        "\n",
        "e = ''.join(d)\n",
        "print(e)\n",
        "print(type(e))"
      ],
      "metadata": {
        "colab": {
          "base_uri": "https://localhost:8080/"
        },
        "id": "utMWbmk5ZthR",
        "outputId": "5eaf19ba-09e6-4357-95fd-de8535605718"
      },
      "execution_count": 44,
      "outputs": [
        {
          "output_type": "stream",
          "name": "stdout",
          "text": [
            "Hello Python\n",
            "<class 'str'>\n",
            "['H', 'e', 'l', 'l', 'o', ' ', 'P', 'y', 't', 'h', 'o', 'n']\n",
            "<class 'list'>\n",
            "Hello Python\n",
            "<class 'str'>\n",
            "('H', 'e', 'l', 'l', 'o', ' ', 'P', 'y', 't', 'h', 'o', 'n')\n",
            "<class 'tuple'>\n",
            "Hello Python\n",
            "<class 'str'>\n"
          ]
        }
      ]
    },
    {
      "cell_type": "code",
      "source": [
        "a = 1\n",
        "b = 2\n",
        "c = 3\n",
        "\n",
        "d, e, f = [1, 2, 3]\n",
        "print(d, e, f)\n",
        "\n",
        "\n",
        "g, h, i = 1, 2, 3\n",
        "print(g, h, i)"
      ],
      "metadata": {
        "colab": {
          "base_uri": "https://localhost:8080/"
        },
        "id": "2I8JYWUfbdPh",
        "outputId": "2cb35fab-aab2-4af6-eb2b-a2d543e096c7"
      },
      "execution_count": 45,
      "outputs": [
        {
          "output_type": "stream",
          "name": "stdout",
          "text": [
            "1 2 3\n",
            "1 2 3\n"
          ]
        }
      ]
    },
    {
      "cell_type": "code",
      "source": [
        "#패킹\n",
        "a = [1, 2, 3]\n",
        "#언패킹\n",
        "x, y, z = a\n",
        "print(x, y, z)"
      ],
      "metadata": {
        "colab": {
          "base_uri": "https://localhost:8080/"
        },
        "id": "FP_d_YdvcFMZ",
        "outputId": "99682380-8982-41fa-9b79-25ea26d78e16"
      },
      "execution_count": 46,
      "outputs": [
        {
          "output_type": "stream",
          "name": "stdout",
          "text": [
            "1 2 3\n"
          ]
        }
      ]
    },
    {
      "cell_type": "code",
      "source": [
        "a = list(range(-10,0,3))\n",
        "b = list(range(1, 11, 3))\n",
        "c = tuple(a+b)\n",
        "print(c)\n"
      ],
      "metadata": {
        "colab": {
          "base_uri": "https://localhost:8080/"
        },
        "id": "J6N6JAntcM-x",
        "outputId": "e23c515a-5942-415f-cbf8-010b9627e621"
      },
      "execution_count": 47,
      "outputs": [
        {
          "output_type": "stream",
          "name": "stdout",
          "text": [
            "(-10, -7, -4, -1, 1, 4, 7, 10)\n"
          ]
        }
      ]
    },
    {
      "cell_type": "code",
      "source": [
        "a = list(range(0, 100, 10))\n",
        "print(a)\n",
        "print(30 in a)\n",
        "print(35 in a)\n",
        "print(100 not in a)\n",
        "\n",
        "print(3 in range(3))"
      ],
      "metadata": {
        "colab": {
          "base_uri": "https://localhost:8080/"
        },
        "id": "MriQrZA3c1x5",
        "outputId": "3976ea0a-29de-4468-843a-391a44e5d169"
      },
      "execution_count": 52,
      "outputs": [
        {
          "output_type": "stream",
          "name": "stdout",
          "text": [
            "[0, 10, 20, 30, 40, 50, 60, 70, 80, 90]\n",
            "True\n",
            "False\n",
            "True\n"
          ]
        }
      ]
    },
    {
      "cell_type": "code",
      "source": [
        "a = [1,2]\n",
        "b = [3,4]\n",
        "print(a+b)\n",
        "\n",
        "c = [5, 6]\n",
        "print(a + b + c)"
      ],
      "metadata": {
        "colab": {
          "base_uri": "https://localhost:8080/"
        },
        "id": "8L9ckxmkgUdJ",
        "outputId": "d5e17bdd-e771-4762-c67a-cf840955a38d"
      },
      "execution_count": 54,
      "outputs": [
        {
          "output_type": "stream",
          "name": "stdout",
          "text": [
            "[1, 2, 3, 4]\n",
            "[1, 2, 3, 4, 5, 6]\n"
          ]
        }
      ]
    },
    {
      "cell_type": "code",
      "source": [
        "a = (1, 2)\n",
        "b = (3, 4)\n",
        "print(a + b)"
      ],
      "metadata": {
        "colab": {
          "base_uri": "https://localhost:8080/"
        },
        "id": "bGYLHskYgyUw",
        "outputId": "39bcfbc6-e33c-4a84-f0fc-4aa49352fd24"
      },
      "execution_count": 55,
      "outputs": [
        {
          "output_type": "stream",
          "name": "stdout",
          "text": [
            "(1, 2, 3, 4)\n"
          ]
        }
      ]
    },
    {
      "cell_type": "code",
      "source": [
        "#range는 합칠 수 없다\n",
        "a = range(10)\n",
        "b = range(10, 20)\n",
        "#이거는 오류난다 print(a+b)"
      ],
      "metadata": {
        "colab": {
          "base_uri": "https://localhost:8080/",
          "height": 221
        },
        "id": "-VoqcbIvhC7h",
        "outputId": "c82448bf-d5e8-4a75-f5f2-46ac99e8e183"
      },
      "execution_count": 56,
      "outputs": [
        {
          "output_type": "error",
          "ename": "TypeError",
          "evalue": "unsupported operand type(s) for +: 'range' and 'range'",
          "traceback": [
            "\u001b[0;31m---------------------------------------------------------------------------\u001b[0m",
            "\u001b[0;31mTypeError\u001b[0m                                 Traceback (most recent call last)",
            "\u001b[0;32m<ipython-input-56-d05d1685167c>\u001b[0m in \u001b[0;36m<cell line: 3>\u001b[0;34m()\u001b[0m\n\u001b[1;32m      1\u001b[0m \u001b[0ma\u001b[0m \u001b[0;34m=\u001b[0m \u001b[0mrange\u001b[0m\u001b[0;34m(\u001b[0m\u001b[0;36m10\u001b[0m\u001b[0;34m)\u001b[0m\u001b[0;34m\u001b[0m\u001b[0;34m\u001b[0m\u001b[0m\n\u001b[1;32m      2\u001b[0m \u001b[0mb\u001b[0m \u001b[0;34m=\u001b[0m \u001b[0mrange\u001b[0m\u001b[0;34m(\u001b[0m\u001b[0;36m10\u001b[0m\u001b[0;34m,\u001b[0m \u001b[0;36m20\u001b[0m\u001b[0;34m)\u001b[0m\u001b[0;34m\u001b[0m\u001b[0;34m\u001b[0m\u001b[0m\n\u001b[0;32m----> 3\u001b[0;31m \u001b[0mprint\u001b[0m\u001b[0;34m(\u001b[0m\u001b[0ma\u001b[0m\u001b[0;34m+\u001b[0m\u001b[0mb\u001b[0m\u001b[0;34m)\u001b[0m\u001b[0;34m\u001b[0m\u001b[0;34m\u001b[0m\u001b[0m\n\u001b[0m",
            "\u001b[0;31mTypeError\u001b[0m: unsupported operand type(s) for +: 'range' and 'range'"
          ]
        }
      ]
    },
    {
      "cell_type": "code",
      "source": [
        "a = [3, 6, 9]\n",
        "print(a * 3)\n",
        "\n",
        "b = (3, 6, 9)\n",
        "print(b * 3)\n",
        "\n",
        "c = 'Hello'\n",
        "print(c * 3)\n",
        "\n",
        "d = range(10)\n",
        "#이건 오류난다 print(d * 3)"
      ],
      "metadata": {
        "colab": {
          "base_uri": "https://localhost:8080/",
          "height": 276
        },
        "id": "9D3Dlvx5hPfx",
        "outputId": "eb1e07fa-7f6b-4690-84d7-271a8aa35860"
      },
      "execution_count": 58,
      "outputs": [
        {
          "output_type": "stream",
          "name": "stdout",
          "text": [
            "[3, 6, 9, 3, 6, 9, 3, 6, 9]\n",
            "(3, 6, 9, 3, 6, 9, 3, 6, 9)\n",
            "HelloHelloHello\n"
          ]
        },
        {
          "output_type": "error",
          "ename": "TypeError",
          "evalue": "unsupported operand type(s) for *: 'range' and 'int'",
          "traceback": [
            "\u001b[0;31m---------------------------------------------------------------------------\u001b[0m",
            "\u001b[0;31mTypeError\u001b[0m                                 Traceback (most recent call last)",
            "\u001b[0;32m<ipython-input-58-4679c616f720>\u001b[0m in \u001b[0;36m<cell line: 11>\u001b[0;34m()\u001b[0m\n\u001b[1;32m      9\u001b[0m \u001b[0;34m\u001b[0m\u001b[0m\n\u001b[1;32m     10\u001b[0m \u001b[0md\u001b[0m \u001b[0;34m=\u001b[0m \u001b[0mrange\u001b[0m\u001b[0;34m(\u001b[0m\u001b[0;36m10\u001b[0m\u001b[0;34m)\u001b[0m\u001b[0;34m\u001b[0m\u001b[0;34m\u001b[0m\u001b[0m\n\u001b[0;32m---> 11\u001b[0;31m \u001b[0mprint\u001b[0m\u001b[0;34m(\u001b[0m\u001b[0md\u001b[0m \u001b[0;34m*\u001b[0m \u001b[0;36m3\u001b[0m\u001b[0;34m)\u001b[0m\u001b[0;34m\u001b[0m\u001b[0;34m\u001b[0m\u001b[0m\n\u001b[0m",
            "\u001b[0;31mTypeError\u001b[0m: unsupported operand type(s) for *: 'range' and 'int'"
          ]
        }
      ]
    },
    {
      "cell_type": "code",
      "source": [
        "a = [7, 8, 9, 10]\n",
        "print(len(a))\n",
        "\n",
        "b = (1, 2, 3, 4)\n",
        "print(len(b))\n",
        "\n",
        "c = range(0, 10, 2)\n",
        "print(len(c))\n",
        "\n",
        "d = 'Hello World\\n'\n",
        "print(len(d))"
      ],
      "metadata": {
        "colab": {
          "base_uri": "https://localhost:8080/"
        },
        "id": "WosoPN5whu9h",
        "outputId": "b8534c38-fe10-4aa9-c421-306c5cc74f03"
      },
      "execution_count": 62,
      "outputs": [
        {
          "output_type": "stream",
          "name": "stdout",
          "text": [
            "4\n",
            "4\n",
            "5\n",
            "12\n"
          ]
        }
      ]
    },
    {
      "cell_type": "code",
      "source": [
        "a = [15, 14, 13, 12, 11]\n",
        "print(a[2])\n",
        "print(a[4])\n",
        "print(a[len(a)-1])"
      ],
      "metadata": {
        "colab": {
          "base_uri": "https://localhost:8080/"
        },
        "id": "ANizNUq7iQBp",
        "outputId": "4496632c-f8e6-4c3e-c999-9a2084d4e1d1"
      },
      "execution_count": 65,
      "outputs": [
        {
          "output_type": "stream",
          "name": "stdout",
          "text": [
            "13\n",
            "11\n",
            "11\n"
          ]
        }
      ]
    },
    {
      "cell_type": "code",
      "source": [
        "b = (5, 4, 3, 2, 1)\n",
        "print(b[1])\n",
        "print(b[-2])"
      ],
      "metadata": {
        "colab": {
          "base_uri": "https://localhost:8080/"
        },
        "id": "6AUvRx1Yi9ZR",
        "outputId": "17e96683-0643-4cc9-8ecc-bdbe03651809"
      },
      "execution_count": 67,
      "outputs": [
        {
          "output_type": "stream",
          "name": "stdout",
          "text": [
            "4\n",
            "2\n"
          ]
        }
      ]
    },
    {
      "cell_type": "code",
      "source": [
        "c = range(30, -1, -5)\n",
        "print(c[2])\n"
      ],
      "metadata": {
        "colab": {
          "base_uri": "https://localhost:8080/"
        },
        "id": "skb0pbJUjYWI",
        "outputId": "21f674b6-f006-4c47-98f8-43096adba975"
      },
      "execution_count": 70,
      "outputs": [
        {
          "output_type": "stream",
          "name": "stdout",
          "text": [
            "20\n"
          ]
        }
      ]
    },
    {
      "cell_type": "code",
      "source": [
        "a = [0, 0, 0, 0, 0]\n",
        "a[0] = 10\n",
        "a[1] = 20\n",
        "a[2] = 30\n",
        "a[3] = 40\n",
        "a[4] = 50\n",
        "print(a)\n",
        "\n",
        "#a[5] = 60 인덱스 값을 넘어서면 에러\n",
        "a[-1] = 60\n",
        "print(a)"
      ],
      "metadata": {
        "colab": {
          "base_uri": "https://localhost:8080/"
        },
        "id": "-72zpDyukH7B",
        "outputId": "2549dd87-a72c-461b-9e96-685912093b8b"
      },
      "execution_count": 74,
      "outputs": [
        {
          "output_type": "stream",
          "name": "stdout",
          "text": [
            "[10, 20, 30, 40, 50]\n",
            "[10, 20, 30, 40, 60]\n"
          ]
        }
      ]
    },
    {
      "cell_type": "code",
      "source": [
        "a = (0, 0, 0)\n",
        "a[1] = 20"
      ],
      "metadata": {
        "colab": {
          "base_uri": "https://localhost:8080/",
          "height": 203
        },
        "id": "uRbgN058kZ7B",
        "outputId": "392b2bb8-ce4e-4cfd-900a-f635ce2d0616"
      },
      "execution_count": 75,
      "outputs": [
        {
          "output_type": "error",
          "ename": "TypeError",
          "evalue": "'tuple' object does not support item assignment",
          "traceback": [
            "\u001b[0;31m---------------------------------------------------------------------------\u001b[0m",
            "\u001b[0;31mTypeError\u001b[0m                                 Traceback (most recent call last)",
            "\u001b[0;32m<ipython-input-75-616a5166d084>\u001b[0m in \u001b[0;36m<cell line: 2>\u001b[0;34m()\u001b[0m\n\u001b[1;32m      1\u001b[0m \u001b[0ma\u001b[0m \u001b[0;34m=\u001b[0m \u001b[0;34m(\u001b[0m\u001b[0;36m0\u001b[0m\u001b[0;34m,\u001b[0m \u001b[0;36m0\u001b[0m\u001b[0;34m,\u001b[0m \u001b[0;36m0\u001b[0m\u001b[0;34m)\u001b[0m\u001b[0;34m\u001b[0m\u001b[0;34m\u001b[0m\u001b[0m\n\u001b[0;32m----> 2\u001b[0;31m \u001b[0ma\u001b[0m\u001b[0;34m[\u001b[0m\u001b[0;36m1\u001b[0m\u001b[0;34m]\u001b[0m \u001b[0;34m=\u001b[0m \u001b[0;36m20\u001b[0m\u001b[0;34m\u001b[0m\u001b[0;34m\u001b[0m\u001b[0m\n\u001b[0m",
            "\u001b[0;31mTypeError\u001b[0m: 'tuple' object does not support item assignment"
          ]
        }
      ]
    },
    {
      "cell_type": "code",
      "source": [
        "a = range(20)\n",
        "a[1] = 20"
      ],
      "metadata": {
        "colab": {
          "base_uri": "https://localhost:8080/",
          "height": 203
        },
        "id": "dLU6wI3pkvlZ",
        "outputId": "fa1ea827-cbd1-42cc-8f00-e40016f6c40e"
      },
      "execution_count": 77,
      "outputs": [
        {
          "output_type": "error",
          "ename": "TypeError",
          "evalue": "'range' object does not support item assignment",
          "traceback": [
            "\u001b[0;31m---------------------------------------------------------------------------\u001b[0m",
            "\u001b[0;31mTypeError\u001b[0m                                 Traceback (most recent call last)",
            "\u001b[0;32m<ipython-input-77-2ee568067030>\u001b[0m in \u001b[0;36m<cell line: 2>\u001b[0;34m()\u001b[0m\n\u001b[1;32m      1\u001b[0m \u001b[0ma\u001b[0m \u001b[0;34m=\u001b[0m \u001b[0mrange\u001b[0m\u001b[0;34m(\u001b[0m\u001b[0;36m20\u001b[0m\u001b[0;34m)\u001b[0m\u001b[0;34m\u001b[0m\u001b[0;34m\u001b[0m\u001b[0m\n\u001b[0;32m----> 2\u001b[0;31m \u001b[0ma\u001b[0m\u001b[0;34m[\u001b[0m\u001b[0;36m1\u001b[0m\u001b[0;34m]\u001b[0m \u001b[0;34m=\u001b[0m \u001b[0;36m20\u001b[0m\u001b[0;34m\u001b[0m\u001b[0;34m\u001b[0m\u001b[0m\n\u001b[0m",
            "\u001b[0;31mTypeError\u001b[0m: 'range' object does not support item assignment"
          ]
        }
      ]
    },
    {
      "cell_type": "code",
      "source": [
        "a = (10, 21, 30)\n",
        "a = list(a) #[10. 21, 30]\n",
        "a[1] = 20 #[10, 20, 30]\n",
        "a = tuple(a)\n",
        "print(a)"
      ],
      "metadata": {
        "colab": {
          "base_uri": "https://localhost:8080/"
        },
        "id": "ftf53LrhlCvp",
        "outputId": "39594962-4779-463f-a45d-0cab8f3cec15"
      },
      "execution_count": 78,
      "outputs": [
        {
          "output_type": "stream",
          "name": "stdout",
          "text": [
            "(10, 20, 30)\n"
          ]
        }
      ]
    },
    {
      "cell_type": "code",
      "source": [
        "a = \"Hillo\"\n",
        "a = list(a) #['H', 'i', 'l', 'l', 'o']\n",
        "a[1] = 'e' #['H', 'e', 'l', 'l', 'o']\n",
        "a = ''.join(a)\n",
        "print(a)"
      ],
      "metadata": {
        "colab": {
          "base_uri": "https://localhost:8080/"
        },
        "id": "VSppPwArlkvB",
        "outputId": "c6e6a5ac-a108-4b6a-db4d-a2a53978aabe"
      },
      "execution_count": 80,
      "outputs": [
        {
          "output_type": "stream",
          "name": "stdout",
          "text": [
            "Hello\n"
          ]
        }
      ]
    },
    {
      "cell_type": "code",
      "source": [
        "a = [10, 20, 30, 31, 40]\n",
        "del a[3]\n",
        "print(a)\n"
      ],
      "metadata": {
        "colab": {
          "base_uri": "https://localhost:8080/"
        },
        "id": "JaHcsvbqmMqa",
        "outputId": "d049e66d-fc09-4505-90dd-08fefd958f77"
      },
      "execution_count": 81,
      "outputs": [
        {
          "output_type": "stream",
          "name": "stdout",
          "text": [
            "[10, 20, 30, 50]\n"
          ]
        }
      ]
    },
    {
      "cell_type": "code",
      "source": [
        "#튜플은 삭제가 안된다\n",
        "a = (1, 2, 3)\n",
        "del a[2]"
      ],
      "metadata": {
        "colab": {
          "base_uri": "https://localhost:8080/",
          "height": 203
        },
        "id": "-1frWENwmVrJ",
        "outputId": "20bdbc80-7d5e-4979-a336-7ec084935061"
      },
      "execution_count": 82,
      "outputs": [
        {
          "output_type": "error",
          "ename": "TypeError",
          "evalue": "'tuple' object doesn't support item deletion",
          "traceback": [
            "\u001b[0;31m---------------------------------------------------------------------------\u001b[0m",
            "\u001b[0;31mTypeError\u001b[0m                                 Traceback (most recent call last)",
            "\u001b[0;32m<ipython-input-82-70a51c39d426>\u001b[0m in \u001b[0;36m<cell line: 2>\u001b[0;34m()\u001b[0m\n\u001b[1;32m      1\u001b[0m \u001b[0ma\u001b[0m \u001b[0;34m=\u001b[0m \u001b[0;34m(\u001b[0m\u001b[0;36m1\u001b[0m\u001b[0;34m,\u001b[0m \u001b[0;36m2\u001b[0m\u001b[0;34m,\u001b[0m \u001b[0;36m3\u001b[0m\u001b[0;34m)\u001b[0m\u001b[0;34m\u001b[0m\u001b[0;34m\u001b[0m\u001b[0m\n\u001b[0;32m----> 2\u001b[0;31m \u001b[0;32mdel\u001b[0m \u001b[0ma\u001b[0m\u001b[0;34m[\u001b[0m\u001b[0;36m2\u001b[0m\u001b[0;34m]\u001b[0m\u001b[0;34m\u001b[0m\u001b[0;34m\u001b[0m\u001b[0m\n\u001b[0m",
            "\u001b[0;31mTypeError\u001b[0m: 'tuple' object doesn't support item deletion"
          ]
        }
      ]
    },
    {
      "cell_type": "code",
      "source": [
        "#문자열도 삭제는 안된다\n",
        "a = 'Helplo'\n",
        "del a[3]"
      ],
      "metadata": {
        "colab": {
          "base_uri": "https://localhost:8080/",
          "height": 203
        },
        "id": "MavB1V2JmdE6",
        "outputId": "3d22f621-f375-4a39-ccd6-0fdf8d2d6d17"
      },
      "execution_count": 83,
      "outputs": [
        {
          "output_type": "error",
          "ename": "TypeError",
          "evalue": "'str' object doesn't support item deletion",
          "traceback": [
            "\u001b[0;31m---------------------------------------------------------------------------\u001b[0m",
            "\u001b[0;31mTypeError\u001b[0m                                 Traceback (most recent call last)",
            "\u001b[0;32m<ipython-input-83-1b858c9d9671>\u001b[0m in \u001b[0;36m<cell line: 2>\u001b[0;34m()\u001b[0m\n\u001b[1;32m      1\u001b[0m \u001b[0ma\u001b[0m \u001b[0;34m=\u001b[0m \u001b[0;34m'Helplo'\u001b[0m\u001b[0;34m\u001b[0m\u001b[0;34m\u001b[0m\u001b[0m\n\u001b[0;32m----> 2\u001b[0;31m \u001b[0;32mdel\u001b[0m \u001b[0ma\u001b[0m\u001b[0;34m[\u001b[0m\u001b[0;36m3\u001b[0m\u001b[0;34m]\u001b[0m\u001b[0;34m\u001b[0m\u001b[0;34m\u001b[0m\u001b[0m\n\u001b[0m",
            "\u001b[0;31mTypeError\u001b[0m: 'str' object doesn't support item deletion"
          ]
        }
      ]
    },
    {
      "cell_type": "code",
      "source": [
        "a = \"Helplo\"\n",
        "a = list(a) # ['H', 'e', 'l', 'p', 'l', 'o']\n",
        "del a[3] # ['H', 'e', 'l', 'l', 'o']\n",
        "a = ''.join(a)\n",
        "print(a)"
      ],
      "metadata": {
        "colab": {
          "base_uri": "https://localhost:8080/"
        },
        "id": "DemDOmSCmlth",
        "outputId": "9e45d497-9ff9-4851-8df2-6fd4bd3d3bde"
      },
      "execution_count": 84,
      "outputs": [
        {
          "output_type": "stream",
          "name": "stdout",
          "text": [
            "Hello\n"
          ]
        }
      ]
    },
    {
      "cell_type": "code",
      "source": [
        "a = list(range(0, 100, 10))\n",
        "print(a)\n",
        "a[2:5] = ['a', 'b', 'c']\n",
        "print(a)\n",
        "a[2:5] = [30]\n",
        "print(a)\n",
        "a[2:5] = 'abc'\n",
        "print(a)\n",
        "a[2:5] = (50,)\n",
        "print(a)\n",
        "a[1:3] = 'abcde'\n",
        "print(a)\n",
        "a[1:6:2] = ['가', '나', '다']\n",
        "print(a)"
      ],
      "metadata": {
        "colab": {
          "base_uri": "https://localhost:8080/"
        },
        "id": "56gaT7NnnHZq",
        "outputId": "d475e27d-b2bc-4b80-bca8-26a29d4baadd"
      },
      "execution_count": 89,
      "outputs": [
        {
          "output_type": "stream",
          "name": "stdout",
          "text": [
            "[0, 10, 20, 30, 40, 50, 60, 70, 80, 90]\n",
            "[0, 10, 'a', 'b', 'c', 50, 60, 70, 80, 90]\n",
            "[0, 10, 30, 50, 60, 70, 80, 90]\n",
            "[0, 10, 'a', 'b', 'c', 70, 80, 90]\n",
            "[0, 10, 50, 70, 80, 90]\n",
            "[0, 'a', 'b', 'c', 'd', 'e', 70, 80, 90]\n",
            "[0, '가', 'b', '나', 'd', '다', 70, 80, 90]\n"
          ]
        }
      ]
    },
    {
      "cell_type": "code",
      "source": [
        "a = list(range(0, 100, 10))\n",
        "print(a)\n",
        "del a[5:8]\n",
        "print(a)\n",
        "del a[1:6:2]\n",
        "print(a)"
      ],
      "metadata": {
        "colab": {
          "base_uri": "https://localhost:8080/"
        },
        "id": "aZZbAZgcnPDh",
        "outputId": "c26dbd7b-9154-4a37-da22-ada664f572c7"
      },
      "execution_count": 90,
      "outputs": [
        {
          "output_type": "stream",
          "name": "stdout",
          "text": [
            "[0, 10, 20, 30, 40, 50, 60, 70, 80, 90]\n",
            "[0, 10, 20, 30, 40, 80, 90]\n",
            "[0, 20, 40, 90]\n"
          ]
        }
      ]
    },
    {
      "cell_type": "code",
      "source": [
        "a = input()\n",
        "b = input()\n",
        "c = list(a[0::2])\n",
        "d = list(b[1::2])\n",
        "print(c)\n",
        "print(d)\n",
        "e = ''.join(c) +''.join(d)\n",
        "print(e)"
      ],
      "metadata": {
        "colab": {
          "base_uri": "https://localhost:8080/"
        },
        "id": "34Q5vnYSpG8J",
        "outputId": "56e71a65-9d6b-4621-c727-e45e2777aa4f"
      },
      "execution_count": 97,
      "outputs": [
        {
          "output_type": "stream",
          "name": "stdout",
          "text": [
            "apple\n",
            "python\n",
            "['a', 'p', 'e']\n",
            "['y', 'h', 'n']\n",
            "apeyhn\n"
          ]
        }
      ]
    },
    {
      "cell_type": "code",
      "source": [
        "a = input()\n",
        "b = input()\n",
        "c = list(a[0::2])\n",
        "d = list(b[1::2])\n",
        "print(c)\n",
        "print(d)\n",
        "e = ''.join(c[0]) +''.join(d[0]) + ''.join(c[1]) +''.join(d[1]) + ''.join(c[2]) +''.join(d[2])\n",
        "print(e)"
      ],
      "metadata": {
        "colab": {
          "base_uri": "https://localhost:8080/"
        },
        "id": "VamxzQQSqAJd",
        "outputId": "afea202c-f645-46ec-9e8d-2d2571041258"
      },
      "execution_count": 98,
      "outputs": [
        {
          "output_type": "stream",
          "name": "stdout",
          "text": [
            "apple\n",
            "python\n",
            "['a', 'p', 'e']\n",
            "['y', 'h', 'n']\n",
            "ayphen\n"
          ]
        }
      ]
    },
    {
      "cell_type": "code",
      "source": [
        "# 49페이지 1번\n",
        "# '31025' -> 3학년 10반 25번\n",
        "# '30505' -> 3학년 5반 5번\n",
        "# int로 형변환 해주면 05 는 5가 된다.\n",
        "a = input(\"학년, 반 번호를 5자리 숫자로 입력하세요 >>>\")\n",
        "b = int(a[0])\n",
        "c = int(a[1:3])\n",
        "d = int(a[3:5])\n",
        "print(f\"{b}학년 {c}반 {d}번\")"
      ],
      "metadata": {
        "colab": {
          "base_uri": "https://localhost:8080/"
        },
        "id": "J0IG0cWnql8B",
        "outputId": "2b6b96d5-399c-41cb-e14f-1e2dada54ab4"
      },
      "execution_count": 105,
      "outputs": [
        {
          "output_type": "stream",
          "name": "stdout",
          "text": [
            "학년, 반 번호를 5자리 숫자로 입력하세요 >>>30505\n",
            "3학년 5반 5번\n"
          ]
        }
      ]
    },
    {
      "cell_type": "code",
      "source": [
        "# 49페이지 1번\n",
        "# '31025' -> 3학년 10반 25번\n",
        "# '30505' -> 3학년 5반 5번\n",
        "a = input(\"학년, 반 번호를 5자리 숫자로 입력하세요 >>>\")\n",
        "b = a[0]\n",
        "c = a[1:3].lstrip('0')\n",
        "d = a[3:5].lstrip('0')\n",
        "print(f\"{b}학년 {c}반 {d}번\")"
      ],
      "metadata": {
        "colab": {
          "base_uri": "https://localhost:8080/"
        },
        "id": "irJ2ZsLivhax",
        "outputId": "d0db8a89-2af7-4f88-f430-2d7f9f4c6fde"
      },
      "execution_count": 107,
      "outputs": [
        {
          "output_type": "stream",
          "name": "stdout",
          "text": [
            "학년, 반 번호를 5자리 숫자로 입력하세요 >>>30505\n",
            "3학년 5반 5번\n"
          ]
        }
      ]
    },
    {
      "cell_type": "code",
      "source": [
        "# 49페이지 2번\n",
        "# 288가1234 -> 1234\n",
        "# 10가1234 -> 1234\n",
        "a = input(\"차량 번호 >>>\")\n",
        "print(a[-4:])\n",
        "\n",
        "# 288가1234 -> 288\n",
        "# 10가1234 -> 10\n",
        "# 서울2가1234 -> 서울2\n",
        "print(a[:a.find('가')])\n",
        "print(a[:-5])"
      ],
      "metadata": {
        "colab": {
          "base_uri": "https://localhost:8080/"
        },
        "id": "THj3Cy1wvvOb",
        "outputId": "21de8505-a659-4d50-9338-eb5ebf72e4d5"
      },
      "execution_count": 112,
      "outputs": [
        {
          "output_type": "stream",
          "name": "stdout",
          "text": [
            "차량 번호 >>>서울2가1234\n",
            "1234\n",
            "서울2\n",
            "서울2\n"
          ]
        }
      ]
    },
    {
      "cell_type": "code",
      "source": [
        "# 49페이지 3번\n",
        "s = 'maple'\n",
        "# 글자 수가 홀수 = 가운데 1개\n",
        "# 글자 수가 짝수 = 가운데 2개\n",
        "t = len(s)-1\n",
        "print(s[t//2])\n",
        "\n",
        "a = input(\"글자 입력 >> \")\n",
        "b = len(a)-1\n",
        "print(b)\n",
        "print(a[b//2 : b//2+2])\n",
        "print(a[b//2 : -(b//2)])"
      ],
      "metadata": {
        "colab": {
          "base_uri": "https://localhost:8080/"
        },
        "id": "AzGO0cT3wd4r",
        "outputId": "29775b03-d1be-4fa2-d55f-8bc014a3a441"
      },
      "execution_count": 119,
      "outputs": [
        {
          "output_type": "stream",
          "name": "stdout",
          "text": [
            "p\n",
            "글자 입력 >> orange\n",
            "5\n",
            "an\n"
          ]
        }
      ]
    },
    {
      "cell_type": "code",
      "source": [
        "# 49페이지 4번\n",
        "# range 이용해서 a 리스트 만들기\n",
        "\n",
        "# 시작 번호와 끝 번호를 입력받아서\n",
        "# 입력 받은 영역의 요소를 추출\n",
        "\n",
        "# 추출한 리스트에서 몇 번째를 받을지도 입력받아서 추출\n",
        "a = int(input(\"시작 번호 >>> \"))\n",
        "b = int(input(\"끝 번호 >>>\"))+1\n",
        "c = list(range(a, b))\n",
        "print(c)\n",
        "\n",
        "d = int(input(\"리스트의 몇 번째 숫자를 출력 하시겠습니까? >>>\"))-1\n",
        "e = c[d]\n",
        "print(e)"
      ],
      "metadata": {
        "colab": {
          "base_uri": "https://localhost:8080/"
        },
        "id": "rVj_KfA70w1h",
        "outputId": "293f3d27-5aab-4067-f5d1-13c84ff2fc40"
      },
      "execution_count": 124,
      "outputs": [
        {
          "output_type": "stream",
          "name": "stdout",
          "text": [
            "시작 번호 >>> 50\n",
            "끝 번호 >>>80\n",
            "range(50, 81)\n",
            "리스트의 몇 번째 숫자를 출력 하시겠습니까? >>>17\n",
            "66\n"
          ]
        }
      ]
    },
    {
      "cell_type": "code",
      "source": [
        "# 66페이지 2번\n",
        "\n",
        "# 월을 입력하면 그 달이 몇일까지 있는지를 출력하는 프로그램\n",
        "# 내가한거 a = list['31', '28', '31', '30', '31', '30', '31', '31', '30', '31', '30', '31']\n",
        "month = [31, 28, 31, 30, 31, 30, 31, 31, 30, 31, 30, 31]\n",
        "b = int(input(\"몇 월의 날짜를 확인하시겠습니까? >>>\")) - 1\n",
        "\n",
        "print(month[b])"
      ],
      "metadata": {
        "colab": {
          "base_uri": "https://localhost:8080/"
        },
        "id": "vlg3qNED2Tp5",
        "outputId": "22788881-53f3-4bca-d081-67f57e538366"
      },
      "execution_count": 129,
      "outputs": [
        {
          "output_type": "stream",
          "name": "stdout",
          "text": [
            "몇 월의 날짜를 확인하시겠습니까? >>>2\n",
            "28\n"
          ]
        }
      ]
    },
    {
      "cell_type": "code",
      "source": [],
      "metadata": {
        "id": "32lc6oX-3_TZ"
      },
      "execution_count": null,
      "outputs": []
    }
  ]
}
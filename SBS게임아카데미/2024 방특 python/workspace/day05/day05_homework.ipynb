{
  "nbformat": 4,
  "nbformat_minor": 0,
  "metadata": {
    "colab": {
      "provenance": []
    },
    "kernelspec": {
      "name": "python3",
      "display_name": "Python 3"
    },
    "language_info": {
      "name": "python"
    }
  },
  "cells": [
    {
      "cell_type": "code",
      "execution_count": 5,
      "metadata": {
        "colab": {
          "base_uri": "https://localhost:8080/"
        },
        "id": "msnmox2khXof",
        "outputId": "80423d2f-73e7-4ee0-aa7d-27d27b07f050"
      },
      "outputs": [
        {
          "output_type": "stream",
          "name": "stdout",
          "text": [
            "{3, 6, 9, 12, 15, 18, 21, 24, 27, 30}\n",
            "{5, 10, 15, 20, 25, 30}\n",
            "{30, 15}\n"
          ]
        }
      ],
      "source": [
        "a = set(range(3, 31, 3))\n",
        "print(a)\n",
        "\n",
        "b = set(range(5, 31, 5))\n",
        "print(b)\n",
        "\n",
        "c = set.intersection(a,b)\n",
        "print(c)"
      ]
    },
    {
      "cell_type": "code",
      "source": [
        "a, b = map(int , input(\"정수 두 개를 입력하세요 >>> \").split())\n",
        "if a > 0 and b > 0:\n",
        "  print(\"1사분면\")\n",
        "elif a > 0 and b < 0:\n",
        "  print(\"4사분면\")\n",
        "elif a < 0 and b > 0:\n",
        "  print(\"2사분면\")\n",
        "elif a < 0 and b < 0:\n",
        "  print(\"3사분면\")\n",
        "else:\n",
        "  print(\"축 위\")"
      ],
      "metadata": {
        "colab": {
          "base_uri": "https://localhost:8080/"
        },
        "id": "wFi1vlNrjAkc",
        "outputId": "1876d0bb-ae87-4a19-ef12-79637454e807"
      },
      "execution_count": 6,
      "outputs": [
        {
          "output_type": "stream",
          "name": "stdout",
          "text": [
            "정수 두 개를 입력하세요 >>> 5 -1\n",
            "4사분면\n"
          ]
        }
      ]
    },
    {
      "cell_type": "code",
      "source": [],
      "metadata": {
        "id": "WtfgcoYnkjUp"
      },
      "execution_count": null,
      "outputs": []
    }
  ]
}
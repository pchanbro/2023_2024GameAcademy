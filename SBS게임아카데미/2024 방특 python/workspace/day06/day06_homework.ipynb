{
  "nbformat": 4,
  "nbformat_minor": 0,
  "metadata": {
    "colab": {
      "provenance": []
    },
    "kernelspec": {
      "name": "python3",
      "display_name": "Python 3"
    },
    "language_info": {
      "name": "python"
    }
  },
  "cells": [
    {
      "cell_type": "code",
      "execution_count": 4,
      "metadata": {
        "colab": {
          "base_uri": "https://localhost:8080/"
        },
        "id": "PC-MKlVMVD2x",
        "outputId": "1560818f-fe08-45e6-91f5-0e8325610407"
      },
      "outputs": [
        {
          "output_type": "stream",
          "name": "stdout",
          "text": [
            " *\n",
            "  **\n",
            "   ***\n",
            "    ****\n",
            "     *****\n"
          ]
        }
      ],
      "source": [
        "for i in range(1, 6):\n",
        "  j = 0\n",
        "  while j < i:\n",
        "    print(\" \", end = '')\n",
        "    j += 1\n",
        "  k = 0\n",
        "  while k < i:\n",
        "    print(\"*\", end = '')\n",
        "    k += 1\n",
        "  print()"
      ]
    },
    {
      "cell_type": "code",
      "source": [
        "a = input(\"문자열을 입력하세요 >>> \")\n",
        "b = int(input(\"정수를 입력하세요 >>> \"))\n",
        "\n",
        "for i in range(len(a)):\n",
        "  for j in range(b):\n",
        "    print(a[i], end ='')"
      ],
      "metadata": {
        "colab": {
          "base_uri": "https://localhost:8080/"
        },
        "id": "CYbv4_b4fMRx",
        "outputId": "b23938ed-2b0b-46de-a22a-12584191c409"
      },
      "execution_count": 9,
      "outputs": [
        {
          "output_type": "stream",
          "name": "stdout",
          "text": [
            "문자열을 입력하세요 >>> python\n",
            "정수를 입력하세요 >>> 3\n",
            "pppyyyttthhhooonnn"
          ]
        }
      ]
    }
  ]
}
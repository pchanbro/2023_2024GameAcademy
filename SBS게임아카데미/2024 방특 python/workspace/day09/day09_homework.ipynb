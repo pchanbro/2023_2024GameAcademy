{
  "nbformat": 4,
  "nbformat_minor": 0,
  "metadata": {
    "colab": {
      "provenance": []
    },
    "kernelspec": {
      "name": "python3",
      "display_name": "Python 3"
    },
    "language_info": {
      "name": "python"
    }
  },
  "cells": [
    {
      "cell_type": "code",
      "execution_count": 24,
      "metadata": {
        "colab": {
          "base_uri": "https://localhost:8080/"
        },
        "id": "y6ksURwpqXW5",
        "outputId": "643ab5e1-8b21-4fc6-b933-6328d830ff4c"
      },
      "outputs": [
        {
          "output_type": "stream",
          "name": "stdout",
          "text": [
            "4과목 점수 입력 >>> 89 92 73 83\n",
            "낮은 점수 : 73 (C++)\n",
            "높은 점수 : 92 (Java)\n",
            "평균 점수 : 84.25\n"
          ]
        }
      ],
      "source": [
        "def findMax(**kwargs):\n",
        "  a = {}\n",
        "  b = ''\n",
        "  c = -1\n",
        "  for k, v in kwargs.items():\n",
        "    if c < v:\n",
        "      b = ''.join(k)\n",
        "      c = v\n",
        "\n",
        "  a[b] = c\n",
        "  return a\n",
        "\n",
        "def findMin(**kwargs):\n",
        "  a = {}\n",
        "  b = ''\n",
        "  c = 101\n",
        "  for k, v in kwargs.items():\n",
        "    if c > v:\n",
        "      b = ''.join(k)\n",
        "      c = v\n",
        "\n",
        "  a[b] = c\n",
        "  return a\n",
        "\n",
        "def findAvg(**kwargs):\n",
        "  a = 0\n",
        "  for i in kwargs.values():\n",
        "    a += i\n",
        "\n",
        "  return a / 4\n",
        "\n",
        "subject = ['Python', 'Java', 'C++', 'AI']\n",
        "score = list(map(int, input(\"4과목 점수 입력 >>> \").split()))\n",
        "\n",
        "grade = dict(zip(subject,score))\n",
        "\n",
        "max = findMax(**grade)\n",
        "min = findMin(**grade)\n",
        "avg = findAvg(**grade)\n",
        "\n",
        "for k, v in min.items():\n",
        "  print(f\"낮은 점수 : {v} ({k})\")\n",
        "for k, v in max.items():\n",
        "  print(f\"높은 점수 : {v} ({k})\")\n",
        "print(\"평균 점수 : {}\".format(avg))"
      ]
    },
    {
      "cell_type": "code",
      "source": [
        "with open('letter.txt', 'r') as f:\n",
        "  with open('letter_R.txt', 'w') as g:\n",
        "    a = list(f.read().split())\n",
        "    print(a)\n",
        "    for i in a:\n",
        "      if 'r' in i:\n",
        "        g.write(i + '\\n')"
      ],
      "metadata": {
        "colab": {
          "base_uri": "https://localhost:8080/"
        },
        "id": "lRQbsqMc5KoS",
        "outputId": "aa994909-9e1a-48e4-ebe3-978a7015f83d"
      },
      "execution_count": 30,
      "outputs": [
        {
          "output_type": "stream",
          "name": "stdout",
          "text": [
            "['Lorem', 'Ipsum', 'is', 'simply', 'dummy', 'text', 'of', 'the', 'printing', 'and', 'typesetting', 'industry.', 'Lorem', 'Ipsum', 'has', 'been', 'the', 'industrys', 'standard', 'dummy', 'text', 'ever', 'since', 'the', '1500s,', 'when', 'an', 'unknown', 'printer', 'took', 'a', 'galley', 'of', 'type', 'and', 'scrambled', 'it', 'to', 'make', 'a', 'type', 'specimen', 'book.', 'It', 'has', 'survived', 'not', 'only', 'five', 'centuries,', 'but', 'also', 'the', 'leap', 'into', 'electronic', 'typesetting,', 'remaining', 'essentially', 'unchanged.', 'It', 'was', 'popularised', 'in', 'the', '1960s', 'with', 'the', 'release', 'of', 'Letraset', 'sheets', 'containing', 'Lorem', 'Ipsum', 'passages,', 'and', 'more', 'recently', 'with', 'desktop', 'publishing', 'software', 'like', 'Aldus', 'PageMaker', 'including', 'versions', 'of', 'Lorem', 'Ipsum.']\n"
          ]
        }
      ]
    }
  ]
}
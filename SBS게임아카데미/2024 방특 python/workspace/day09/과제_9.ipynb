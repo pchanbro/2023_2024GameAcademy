{
  "nbformat": 4,
  "nbformat_minor": 0,
  "metadata": {
    "colab": {
      "provenance": []
    },
    "kernelspec": {
      "name": "python3",
      "display_name": "Python 3"
    },
    "language_info": {
      "name": "python"
    }
  },
  "cells": [
    {
      "cell_type": "markdown",
      "source": [
        "1. 입력으로 Python, Java, C++, AI 과목의 점수가 정수로 주어질 때, 가장 높은 점수, 가장 낮은 점수, 평균 점수를 반환하는 함수를 만들어주세요.\n",
        "```\n",
        "<예시>\n",
        "4과목 점수 입력 >>> 76 82 89 84\n",
        "낮은 점수: 76 (Python)\n",
        "높은 점수: 89 (C++)\n",
        "평균 점수: 82.75\n",
        "```\n",
        "\n",
        "```\n",
        "4과목 점수 입력 >>> 89 92 73 83\n",
        "낮은 점수: 73 (C++)\n",
        "높은 점수: 92 (Java)\n",
        "평균 점수: 84.25\n",
        "```"
      ],
      "metadata": {
        "id": "ztd31m7jomUL"
      }
    },
    {
      "cell_type": "code",
      "execution_count": null,
      "metadata": {
        "colab": {
          "base_uri": "https://localhost:8080/"
        },
        "id": "JUnDlTG8naRd",
        "outputId": "916ebb81-11d6-438d-e311-ad068dd90bab"
      },
      "outputs": [
        {
          "output_type": "stream",
          "name": "stdout",
          "text": [
            "4과목 점수 입력 >>> 89 92 73 83\n",
            "낮은 점수: 73 (C++)\n",
            "높은 점수: 92 (Java)\n",
            "평균 점수: 84.25\n"
          ]
        }
      ],
      "source": [
        "def scoreAnalysis(**kwargs):\n",
        "  score = list(kwargs.values())\n",
        "  min_score = min(score)\n",
        "  max_score = max(score)\n",
        "  avg_score = sum(score) / len(score)\n",
        "  min_subj = ''\n",
        "  max_subj = ''\n",
        "\n",
        "  for k, v in kwargs.items():\n",
        "    if v == min_score:\n",
        "      min_subj = k\n",
        "    if v == max_score:\n",
        "      max_subj = k\n",
        "\n",
        "  d = {'낮은 점수': f'{min_score} ({min_subj})',\n",
        "       '높은 점수': f'{max_score} ({max_subj})',\n",
        "       '평균 점수': avg_score}\n",
        "  return d\n",
        "\n",
        "score = list(map(int, input(\"4과목 점수 입력 >>> \").split()))\n",
        "subj = ['Python', 'Java', 'C++', 'AI']\n",
        "dic = dict(zip(subj, score))\n",
        "a = scoreAnalysis(**dic)\n",
        "for k, v in a.items():\n",
        "  print(f'{k}: {v}')"
      ]
    },
    {
      "cell_type": "markdown",
      "source": [
        "2. letter.txt 파일에 문장이 들어있습니다. 이 때 letter.txt 파일의 각 단어들 중 문자 r이 포함된 단어를 letter_R.txt 파일에 저장하는 코드를 작성해주세요."
      ],
      "metadata": {
        "id": "d4d0bNd5rHcf"
      }
    },
    {
      "cell_type": "code",
      "source": [
        "rword = []\n",
        "\n",
        "with open('letter.txt', 'r') as f:\n",
        "  a = f.read()\n",
        "  b = a.split()\n",
        "  for word in b:\n",
        "    if 'r' in word:\n",
        "      rword.append(word + '\\n')\n",
        "\n",
        "with open('letter_R.txt', 'w') as f:\n",
        "  f.writelines(rword)"
      ],
      "metadata": {
        "id": "iKR4FDLGpfq1"
      },
      "execution_count": null,
      "outputs": []
    },
    {
      "cell_type": "code",
      "source": [],
      "metadata": {
        "id": "zix54E3urT_6"
      },
      "execution_count": null,
      "outputs": []
    }
  ]
}